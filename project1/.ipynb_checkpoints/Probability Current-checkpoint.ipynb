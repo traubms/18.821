{
 "cells": [
  {
   "cell_type": "code",
   "execution_count": 6,
   "metadata": {
    "collapsed": false
   },
   "outputs": [],
   "source": [
    "%matplotlib inline"
   ]
  },
  {
   "cell_type": "code",
   "execution_count": 196,
   "metadata": {
    "collapsed": false
   },
   "outputs": [
    {
     "data": {
      "text/plain": [
       "<module 'asymmetric_processes' from 'asymmetric_processes.py'>"
      ]
     },
     "execution_count": 196,
     "metadata": {},
     "output_type": "execute_result"
    }
   ],
   "source": [
    "reload(asymmetric_processes)"
   ]
  },
  {
   "cell_type": "code",
   "execution_count": 197,
   "metadata": {
    "collapsed": false
   },
   "outputs": [],
   "source": [
    "import numpy as np\n",
    "import pandas as pd\n",
    "import asymmetric_processes\n",
    "from asymmetric_processes import CircleProcess, BoundaryProcess, State\n",
    "import matplotlib.pyplot as plt\n",
    "import seaborn as sns # comment out if you don't have installed"
   ]
  },
  {
   "cell_type": "code",
   "execution_count": 198,
   "metadata": {
    "collapsed": true
   },
   "outputs": [],
   "source": [
    "import scipy.sparse as sparse"
   ]
  },
  {
   "cell_type": "markdown",
   "metadata": {},
   "source": [
    "# Intro to `State` and `CircleProcess`\n",
    "\n",
    "The `State` class helps find \"open spots to right\" and other information about a state. \n",
    "\n",
    "The `CircleProcess` class enumerates the possible states, and determines the state transitions"
   ]
  },
  {
   "cell_type": "code",
   "execution_count": 240,
   "metadata": {
    "collapsed": false
   },
   "outputs": [],
   "source": [
    "# New process object\n",
    "N = 8\n",
    "k = 4\n",
    "q = 0.2\n",
    "p = CircleProcess(N, k, q)\n",
    "S, T, V = p.matrices()\n",
    "l, v = np.linalg.eig(T.todense())\n",
    "i_eq = np.argmax(np.abs(l))\n",
    "M = T.shape[0]"
   ]
  },
  {
   "cell_type": "code",
   "execution_count": 241,
   "metadata": {
    "collapsed": false
   },
   "outputs": [
    {
     "data": {
      "text/plain": [
       "matrix([[ 0.11952286+0.j],\n",
       "        [ 0.11952286+0.j],\n",
       "        [ 0.11952286+0.j],\n",
       "        [ 0.11952286+0.j],\n",
       "        [ 0.11952286+0.j],\n",
       "        [ 0.11952286+0.j],\n",
       "        [ 0.11952286+0.j],\n",
       "        [ 0.11952286+0.j],\n",
       "        [ 0.11952286+0.j],\n",
       "        [ 0.11952286+0.j],\n",
       "        [ 0.11952286+0.j],\n",
       "        [ 0.11952286+0.j],\n",
       "        [ 0.11952286+0.j],\n",
       "        [ 0.11952286+0.j],\n",
       "        [ 0.11952286+0.j],\n",
       "        [ 0.11952286+0.j],\n",
       "        [ 0.11952286+0.j],\n",
       "        [ 0.11952286+0.j],\n",
       "        [ 0.11952286+0.j],\n",
       "        [ 0.11952286+0.j],\n",
       "        [ 0.11952286+0.j],\n",
       "        [ 0.11952286+0.j],\n",
       "        [ 0.11952286+0.j],\n",
       "        [ 0.11952286+0.j],\n",
       "        [ 0.11952286+0.j],\n",
       "        [ 0.11952286+0.j],\n",
       "        [ 0.11952286+0.j],\n",
       "        [ 0.11952286+0.j],\n",
       "        [ 0.11952286+0.j],\n",
       "        [ 0.11952286+0.j],\n",
       "        [ 0.11952286+0.j],\n",
       "        [ 0.11952286+0.j],\n",
       "        [ 0.11952286+0.j],\n",
       "        [ 0.11952286+0.j],\n",
       "        [ 0.11952286+0.j],\n",
       "        [ 0.11952286+0.j],\n",
       "        [ 0.11952286+0.j],\n",
       "        [ 0.11952286+0.j],\n",
       "        [ 0.11952286+0.j],\n",
       "        [ 0.11952286+0.j],\n",
       "        [ 0.11952286+0.j],\n",
       "        [ 0.11952286+0.j],\n",
       "        [ 0.11952286+0.j],\n",
       "        [ 0.11952286+0.j],\n",
       "        [ 0.11952286+0.j],\n",
       "        [ 0.11952286+0.j],\n",
       "        [ 0.11952286+0.j],\n",
       "        [ 0.11952286+0.j],\n",
       "        [ 0.11952286+0.j],\n",
       "        [ 0.11952286+0.j],\n",
       "        [ 0.11952286+0.j],\n",
       "        [ 0.11952286+0.j],\n",
       "        [ 0.11952286+0.j],\n",
       "        [ 0.11952286+0.j],\n",
       "        [ 0.11952286+0.j],\n",
       "        [ 0.11952286+0.j],\n",
       "        [ 0.11952286+0.j],\n",
       "        [ 0.11952286+0.j],\n",
       "        [ 0.11952286+0.j],\n",
       "        [ 0.11952286+0.j],\n",
       "        [ 0.11952286+0.j],\n",
       "        [ 0.11952286+0.j],\n",
       "        [ 0.11952286+0.j],\n",
       "        [ 0.11952286+0.j],\n",
       "        [ 0.11952286+0.j],\n",
       "        [ 0.11952286+0.j],\n",
       "        [ 0.11952286+0.j],\n",
       "        [ 0.11952286+0.j],\n",
       "        [ 0.11952286+0.j],\n",
       "        [ 0.11952286+0.j]])"
      ]
     },
     "execution_count": 241,
     "metadata": {},
     "output_type": "execute_result"
    }
   ],
   "source": [
    "v[:, i_eq]"
   ]
  },
  {
   "cell_type": "code",
   "execution_count": 1629,
   "metadata": {
    "collapsed": false
   },
   "outputs": [],
   "source": [
    "results = dict()\n",
    "states = p.enum_states()\n",
    "for i in range(len(states)):\n",
    "    s = states[i]\n",
    "    r = State(s).num_open_to_right()\n",
    "    x = np.zeros(M)\n",
    "    x[i] = 1\n",
    "    speed = np.sum(V.dot(x))\n",
    "    results[i] = {\n",
    "        \"state\" : s,\n",
    "        \"R\" : r,\n",
    "        'speed' : speed\n",
    "    }\n",
    "results = pd.DataFrame(results).transpose()"
   ]
  },
  {
   "cell_type": "code",
   "execution_count": 1630,
   "metadata": {
    "collapsed": false
   },
   "outputs": [],
   "source": [
    "results['speed^2'] = results['speed']**2"
   ]
  },
  {
   "cell_type": "code",
   "execution_count": 1631,
   "metadata": {
    "collapsed": false
   },
   "outputs": [
    {
     "data": {
      "text/plain": [
       "0.015656565656565671"
      ]
     },
     "execution_count": 1631,
     "metadata": {},
     "output_type": "execute_result"
    }
   ],
   "source": [
    "results['speed^2'].mean()"
   ]
  },
  {
   "cell_type": "code",
   "execution_count": 1632,
   "metadata": {
    "collapsed": false
   },
   "outputs": [
    {
     "data": {
      "text/plain": [
       "<matplotlib.axes.AxesSubplot at 0x122c1d390>"
      ]
     },
     "execution_count": 1632,
     "metadata": {},
     "output_type": "execute_result"
    },
    {
     "data": {
      "image/png": "[encoded data removed]",
      "text/plain": [
       "<matplotlib.figure.Figure at 0x120a7c950>"
      ]
     },
     "metadata": {},
     "output_type": "display_data"
    }
   ],
   "source": [
    "pd.DataFrame(alll).transpose()['speed'].plot()"
   ]
  },
  {
   "cell_type": "code",
   "execution_count": 224,
   "metadata": {
    "collapsed": false
   },
   "outputs": [],
   "source": [
    "# New process object\n",
    "N = 8\n",
    "q = 0\n",
    "a = .01\n",
    "b = .9\n",
    "p = BoundaryProcess(N, q, a, b)\n",
    "S, T, V = p.matrices()\n",
    "l, v = np.linalg.eig(T.todense())\n",
    "M = T.shape[0]"
   ]
  },
  {
   "cell_type": "code",
   "execution_count": 225,
   "metadata": {
    "collapsed": false
   },
   "outputs": [
    {
     "name": "stdout",
     "output_type": "stream",
     "text": [
      "EIGENVALUES\n",
      "IDX  MAG       ANGLE\n",
      "9    1.0000    +0.000°\n",
      "12    0.9909    +0.000°\n",
      "13    0.9829    +0.000°\n",
      "30    0.9763    +0.000°\n",
      "33    0.9690    +0.000°\n",
      "28    0.9600    +4.575°\n",
      "29    0.9600    -4.575°\n",
      "45    0.9588    +0.000°\n",
      "43    0.9474    +3.040°\n",
      "44    0.9474    -3.040°\n",
      "67    0.9417    +0.000°\n",
      "58    0.9359    +1.343°\n",
      "59    0.9359    -1.343°\n",
      "76    0.9330    +0.000°\n",
      "31    0.9229    +8.373°\n",
      "32    0.9229    -8.373°\n",
      "95    0.9203    +0.000°\n",
      "96    0.9140    +0.000°\n",
      "93    0.9107    +1.687°\n",
      "94    0.9107    -1.687°\n",
      "79    0.8990    +5.845°\n",
      "80    0.8990    -5.845°\n",
      "108    0.8989    +3.133°\n",
      "109    0.8989    -3.133°\n",
      "128    0.8989    +0.000°\n",
      "110    0.8964    +0.000°\n",
      "34    0.8956    +10.712°\n",
      "35    0.8956    -10.712°\n",
      "113    0.8845    +4.677°\n",
      "114    0.8845    -4.677°\n",
      "77    0.8835    +6.974°\n",
      "78    0.8835    -6.974°\n",
      "126    0.8767    +3.069°\n",
      "127    0.8767    -3.069°\n",
      "46    0.8759    +11.199°\n",
      "47    0.8759    -11.199°\n",
      "124    0.8755    +3.324°\n",
      "125    0.8755    -3.324°\n",
      "140    0.8735    +0.167°\n",
      "141    0.8735    -0.167°\n",
      "105    0.8719    +6.194°\n",
      "106    0.8719    -6.194°\n",
      "81    0.8703    +8.485°\n",
      "82    0.8703    -8.485°\n",
      "138    0.8664    +3.032°\n",
      "139    0.8664    -3.032°\n",
      "56    0.8628    +10.773°\n",
      "57    0.8628    -10.773°\n",
      "156    0.8628    +0.000°\n",
      "91    0.8550    +8.036°\n",
      "92    0.8550    -8.036°\n",
      "165    0.8544    +0.000°\n",
      "89    0.8538    +8.369°\n",
      "90    0.8538    -8.369°\n",
      "188    0.8511    +0.223°\n",
      "189    0.8511    -0.223°\n",
      "97    0.8495    +7.884°\n",
      "98    0.8495    -7.884°\n",
      "210    0.8384    +0.000°\n",
      "103    0.8379    +8.568°\n",
      "104    0.8379    -8.568°\n",
      "209    0.8373    +0.000°\n",
      "161    0.8365    +4.244°\n",
      "162    0.8365    -4.244°\n",
      "159    0.8339    +4.884°\n",
      "160    0.8339    -4.884°\n",
      "190    0.8273    +3.928°\n",
      "191    0.8273    -3.928°\n",
      "166    0.8258    +4.241°\n",
      "167    0.8258    -4.241°\n",
      "215    0.8248    +0.000°\n",
      "115    0.8218    +8.747°\n",
      "116    0.8218    -8.747°\n",
      "232    0.8168    +0.000°\n",
      "192    0.8146    +4.669°\n",
      "193    0.8146    -4.669°\n",
      "220    0.8120    +0.000°\n",
      "235    0.8086    +0.000°\n",
      "144    0.8064    +7.649°\n",
      "145    0.8064    -7.649°\n",
      "198    0.8059    +4.413°\n",
      "199    0.8059    -4.413°\n",
      "194    0.8056    +5.087°\n",
      "195    0.8056    -5.087°\n",
      "233    0.8052    +0.131°\n",
      "234    0.8052    -0.131°\n",
      "203    0.8051    +4.030°\n",
      "204    0.8051    -4.030°\n",
      "236    0.8020    +0.000°\n",
      "133    0.8011    +8.879°\n",
      "134    0.8011    -8.879°\n",
      "184    0.7987    +5.138°\n",
      "185    0.7987    -5.138°\n",
      "196    0.7972    +4.840°\n",
      "197    0.7972    -4.840°\n",
      "211    0.7923    +3.867°\n",
      "212    0.7923    -3.867°\n",
      "230    0.7890    +2.061°\n",
      "231    0.7890    -2.061°\n",
      "218    0.7887    +3.361°\n",
      "219    0.7887    -3.361°\n",
      "48    0.7849    +14.266°\n",
      "49    0.7849    -14.266°\n",
      "242    0.7846    +0.000°\n",
      "135    0.7759    +9.319°\n",
      "136    0.7759    -9.319°\n",
      "142    0.7741    +8.746°\n",
      "143    0.7741    -8.746°\n",
      "83    0.7649    +12.131°\n",
      "84    0.7649    -12.131°\n",
      "243    0.7639    +1.796°\n",
      "244    0.7639    -1.796°\n",
      "252    0.7625    +0.387°\n",
      "253    0.7625    -0.387°\n",
      "221    0.7558    +4.997°\n",
      "222    0.7558    -4.997°\n",
      "245    0.7549    +0.000°\n",
      "254    0.7530    +0.259°\n",
      "255    0.7530    -0.259°\n",
      "228    0.7518    +2.944°\n",
      "229    0.7518    -2.944°\n",
      "178    0.7504    +7.341°\n",
      "179    0.7504    -7.341°\n",
      "87    0.7417    +12.835°\n",
      "88    0.7417    -12.835°\n",
      "170    0.7415    +7.691°\n",
      "171    0.7415    -7.691°\n",
      "182    0.7411    +7.184°\n",
      "183    0.7411    -7.184°\n",
      "249    0.7353    +0.000°\n",
      "60    0.7318    +15.360°\n",
      "61    0.7318    -15.360°\n",
      "213    0.7290    +4.199°\n",
      "214    0.7290    -4.199°\n",
      "251    0.7283    +0.000°\n",
      "250    0.7277    +0.000°\n",
      "247    0.7273    +0.684°\n",
      "248    0.7273    -0.684°\n",
      "207    0.7242    +5.521°\n",
      "208    0.7242    -5.521°\n",
      "223    0.7230    +6.088°\n",
      "224    0.7230    -6.088°\n",
      "239    0.7225    +3.103°\n",
      "240    0.7225    -3.103°\n",
      "172    0.7219    +8.035°\n",
      "173    0.7219    -8.035°\n",
      "186    0.7201    +7.354°\n",
      "187    0.7201    -7.354°\n",
      "117    0.7198    +10.444°\n",
      "118    0.7198    -10.444°\n",
      "168    0.7188    +8.116°\n",
      "169    0.7188    -8.116°\n",
      "246    0.7184    +0.000°\n",
      "205    0.7183    +5.724°\n",
      "206    0.7183    -5.724°\n",
      "226    0.7129    +2.298°\n",
      "227    0.7129    -2.298°\n",
      "16    0.7116    +19.947°\n",
      "17    0.7116    -19.947°\n",
      "180    0.7106    +7.558°\n",
      "181    0.7106    -7.558°\n",
      "238    0.7035    +0.000°\n",
      "68    0.7000    +14.728°\n",
      "69    0.7000    -14.728°\n",
      "237    0.7000    +0.000°\n",
      "70    0.6967    +14.715°\n",
      "71    0.6967    -14.715°\n",
      "216    0.6890    +2.752°\n",
      "217    0.6890    -2.752°\n",
      "74    0.6877    +14.134°\n",
      "75    0.6877    -14.134°\n",
      "241    0.6860    +0.000°\n",
      "14    0.6859    +20.964°\n",
      "15    0.6859    -20.964°\n",
      "225    0.6793    +0.000°\n",
      "201    0.6787    +4.009°\n",
      "202    0.6787    -4.009°\n",
      "10    0.6779    +22.339°\n",
      "11    0.6779    -22.339°\n",
      "111    0.6727    +11.268°\n",
      "112    0.6727    -11.268°\n",
      "72    0.6629    +14.277°\n",
      "73    0.6629    -14.277°\n",
      "163    0.6543    +5.515°\n",
      "164    0.6543    -5.515°\n",
      "152    0.6536    +6.356°\n",
      "153    0.6536    -6.356°\n",
      "157    0.6526    +5.997°\n",
      "158    0.6526    -5.997°\n",
      "174    0.6517    +4.672°\n",
      "175    0.6517    -4.672°\n",
      "176    0.6508    +4.330°\n",
      "177    0.6508    -4.330°\n",
      "200    0.6476    +0.000°\n",
      "101    0.6436    +11.031°\n",
      "102    0.6436    -11.031°\n",
      "85    0.6389    +11.464°\n",
      "86    0.6389    -11.464°\n",
      "148    0.6369    +6.101°\n",
      "149    0.6369    -6.101°\n",
      "146    0.6255    +5.958°\n",
      "147    0.6255    -5.958°\n",
      "131    0.6249    +6.880°\n",
      "132    0.6249    -6.880°\n",
      "129    0.6231    +5.290°\n",
      "130    0.6231    -5.290°\n",
      "154    0.6212    +0.214°\n",
      "155    0.6212    -0.214°\n",
      "64    0.6205    +12.557°\n",
      "65    0.6205    -12.557°\n",
      "120    0.6159    +6.878°\n",
      "121    0.6159    -6.878°\n",
      "150    0.6148    +0.093°\n",
      "151    0.6148    -0.093°\n",
      "137    0.6073    +0.000°\n",
      "52    0.6005    +13.059°\n",
      "53    0.6005    -13.059°\n",
      "122    0.5924    +0.802°\n",
      "123    0.5924    -0.802°\n",
      "119    0.5829    +0.000°\n",
      "50    0.5801    +13.700°\n",
      "51    0.5801    -13.700°\n",
      "107    0.5757    +0.000°\n",
      "41    0.5738    +14.025°\n",
      "42    0.5738    -14.025°\n",
      "99    0.5730    +5.569°\n",
      "100    0.5730    -5.569°\n",
      "39    0.5444    +10.667°\n",
      "40    0.5444    -10.667°\n",
      "66    0.5397    +0.000°\n",
      "62    0.5389    +5.840°\n",
      "63    0.5389    -5.840°\n",
      "54    0.5345    +5.444°\n",
      "55    0.5345    -5.444°\n",
      "22    0.5322    +14.278°\n",
      "23    0.5322    -14.278°\n",
      "24    0.5295    +13.878°\n",
      "25    0.5295    -13.878°\n",
      "26    0.5160    +11.289°\n",
      "27    0.5160    -11.289°\n",
      "36    0.4989    +3.225°\n",
      "37    0.4989    -3.225°\n",
      "7    0.4961    +20.605°\n",
      "8    0.4961    -20.605°\n",
      "38    0.4952    +0.000°\n",
      "20    0.4749    +2.957°\n",
      "21    0.4749    -2.957°\n",
      "5    0.4747    +21.931°\n",
      "6    0.4747    -21.931°\n",
      "19    0.4533    +0.000°\n",
      "18    0.4476    +0.000°\n",
      "1    0.4464    +24.647°\n",
      "2    0.4464    -24.647°\n",
      "4    0.3812    +0.000°\n",
      "3    0.3587    +0.000°\n",
      "0    0.3145    +0.000°\n"
     ]
    }
   ],
   "source": [
    "zzz = sorted(zip(range(len(l)), np.abs(l), np.angle(l, deg=True)), key=lambda x: -x[1])\n",
    "print \"EIGENVALUES\"\n",
    "print \"IDX  MAG       ANGLE\"\n",
    "for i, m, a in zzz:\n",
    "    print \"%s\" % i, \"   %.4f    %+.3f°\" % (m, a)"
   ]
  },
  {
   "cell_type": "code",
   "execution_count": 230,
   "metadata": {
    "collapsed": false
   },
   "outputs": [
    {
     "data": {
      "text/plain": [
       "<matplotlib.axes.AxesSubplot at 0x118f14910>"
      ]
     },
     "execution_count": 230,
     "metadata": {},
     "output_type": "execute_result"
    },
    {
     "data": {
      "image/png": "[encoded data removed]",
      "text/plain": [
       "<matplotlib.figure.Figure at 0x118f1f9d0>"
      ]
     },
     "metadata": {},
     "output_type": "display_data"
    }
   ],
   "source": [
    "proj_eig_v = pd.DataFrame(S.dot(v))\n",
    "proj_eig_v = proj_eig_v / proj_eig_v.sum()\n",
    "proj_eig_v[33].plot.bar()"
   ]
  },
  {
   "cell_type": "code",
   "execution_count": 216,
   "metadata": {
    "collapsed": false
   },
   "outputs": [
    {
     "name": "stdout",
     "output_type": "stream",
     "text": [
      "EIG: \t0.9860\t+0.0000°\n",
      "\n",
      "STATE       MAG       ANGLE\n",
      "00000000    0.0005\t+0.0000°\n",
      "00000001    0.0008\t+0.0000°\n",
      "00000010    0.0019\t+0.0000°\n",
      "00000011    0.0011\t+0.0000°\n",
      "00000100    0.0031\t+0.0000°\n",
      "00000101    0.0025\t+0.0000°\n",
      "00000110    0.0044\t+0.0000°\n",
      "00000111    0.0011\t+0.0000°\n",
      "00001000    0.0044\t+0.0000°\n",
      "00001001    0.0042\t+0.0000°\n",
      "00001010    0.0077\t+0.0000°\n",
      "00001011    0.0027\t+0.0000°\n",
      "00001100    0.0089\t+0.0000°\n",
      "00001101    0.0043\t+0.0000°\n",
      "00001110    0.0066\t+0.0000°\n",
      "00001111    0.0009\t+0.0000°\n",
      "00010000    0.0063\t+0.0000°\n",
      "00010001    0.0063\t+0.0000°\n",
      "00010010    0.0120\t+0.0000°\n",
      "00010011    0.0047\t+0.0000°\n",
      "00010100    0.0146\t+0.0000°\n",
      "00010101    0.0078\t+0.0000°\n",
      "00010110    0.0120\t+0.0000°\n",
      "00010111    0.0022\t+0.0000°\n",
      "00011000    0.0162\t+0.0000°\n",
      "00011001    0.0090\t+0.0000°\n",
      "00011010    0.0141\t+0.0000°\n",
      "00011011    0.0026\t+0.0000°\n",
      "00011100    0.0145\t+0.0000°\n",
      "00011101    0.0026\t+0.0000°\n",
      "00011110    0.0030\t+0.0000°\n",
      "00100000    0.0086\t+0.0000°\n",
      "00100001    0.0093\t+0.0000°\n",
      "00100010    0.0174\t+0.0000°\n",
      "00100011    0.0082\t+0.0000°\n",
      "00100100    0.0219\t+0.0000°\n",
      "00100101    0.0130\t+0.0000°\n",
      "00100110    0.0192\t+0.0000°\n",
      "00100111    0.0049\t+0.0000°\n",
      "00101000    0.0258\t+0.0000°\n",
      "00101001    0.0164\t+0.0000°\n",
      "00101010    0.0248\t+0.0000°\n",
      "00101011    0.0061\t+0.0000°\n",
      "00101100    0.0258\t+0.0000°\n",
      "00101101    0.0059\t+0.0000°\n",
      "00101110    0.0060\t+0.0000°\n",
      "00110000    0.0283\t+0.0000°\n",
      "00110001    0.0188\t+0.0000°\n",
      "00110010    0.0289\t+0.0000°\n",
      "00110011    0.0075\t+0.0000°\n",
      "00110100    0.0309\t+0.0000°\n",
      "00110101    0.0072\t+0.0000°\n",
      "00110110    0.0069\t+0.0000°\n",
      "00111000    0.0319\t+0.0000°\n",
      "00111001    0.0070\t+0.0000°\n",
      "00111010    0.0053\t+0.0000°\n",
      "00111100    0.0037\t+0.0000°\n",
      "01000000    0.0114\t+0.0000°\n",
      "01000001    0.0138\t+0.0000°\n",
      "01000010    0.0239\t+0.0000°\n",
      "01000011    0.0148\t+0.0000°\n",
      "01000100    0.0308\t+0.0000°\n",
      "01000101    0.0215\t+0.0000°\n",
      "01000110    0.0279\t+0.0000°\n",
      "01000111    0.0104\t+0.0000°\n",
      "01001000    0.0376\t+0.0000°\n",
      "01001001    0.0282\t+0.0000°\n",
      "01001010    0.0382\t+0.0000°\n",
      "01001011    0.0135\t+0.0000°\n",
      "01001100    0.0402\t+0.0000°\n",
      "01001101    0.0125\t+0.0000°\n",
      "01001110    0.0113\t+0.0000°\n",
      "01010000    0.0436\t+0.0000°\n",
      "01010001    0.0344\t+0.0000°\n",
      "01010010    0.0485\t+0.0000°\n",
      "01010011    0.0180\t+0.0000°\n",
      "01010100    0.0533\t+0.0000°\n",
      "01010101    0.0178\t+0.0000°\n",
      "01010110    0.0160\t+0.0000°\n",
      "01011000    0.0562\t+0.0000°\n",
      "01011001    0.0184\t+0.0000°\n",
      "01011010    0.0146\t+0.0000°\n",
      "01011100    0.0121\t+0.0000°\n",
      "01100000    0.0473\t+0.0000°\n",
      "01100001    0.0385\t+0.0000°\n",
      "01100010    0.0555\t+0.0000°\n",
      "01100011    0.0215\t+0.0000°\n",
      "01100100    0.0625\t+0.0000°\n",
      "01100101    0.0227\t+0.0000°\n",
      "01100110    0.0216\t+0.0000°\n",
      "01101000    0.0679\t+0.0000°\n",
      "01101001    0.0246\t+0.0000°\n",
      "01101010    0.0214\t+0.0000°\n",
      "01101100    0.0181\t+0.0000°\n",
      "01110000    0.0706\t+0.0000°\n",
      "01110001    0.0262\t+0.0000°\n",
      "01110010    0.0229\t+0.0000°\n",
      "01110100    0.0190\t+0.0000°\n",
      "01111000    0.0183\t+0.0000°\n",
      "10000000    0.0145\t+0.0000°\n",
      "10000001    0.0228\t+0.0000°\n",
      "10000010    0.0305\t+0.0000°\n",
      "10000011    0.0283\t+0.0000°\n",
      "10000100    0.0400\t+0.0000°\n",
      "10000101    0.0378\t+0.0000°\n",
      "10000110    0.0367\t+0.0000°\n",
      "10000111    0.0215\t+0.0000°\n",
      "10001000    0.0505\t+0.0000°\n",
      "10001001    0.0506\t+0.0000°\n",
      "10001010    0.0524\t+0.0000°\n",
      "10001011    0.0284\t+0.0000°\n",
      "10001100    0.0560\t+0.0000°\n",
      "10001101    0.0256\t+0.0000°\n",
      "10001110    0.0179\t+0.0000°\n",
      "10010000    0.0607\t+0.0000°\n",
      "10010001    0.0635\t+0.0000°\n",
      "10010010    0.0701\t+0.0000°\n",
      "10010011    0.0392\t+0.0000°\n",
      "10010100    0.0788\t+0.0000°\n",
      "10010101    0.0386\t+0.0000°\n",
      "10010110    0.0284\t+0.0000°\n",
      "10011000    0.0843\t+0.0000°\n",
      "10011001    0.0411\t+0.0000°\n",
      "10011010    0.0283\t+0.0000°\n",
      "10011100    0.0254\t+0.0000°\n",
      "10100000    0.0694\t+0.0000°\n",
      "10100001    0.0742\t+0.0000°\n",
      "10100010    0.0863\t+0.0000°\n",
      "10100011    0.0497\t+0.0000°\n",
      "10100100    0.1004\t+0.0000°\n",
      "10100101    0.0531\t+0.0000°\n",
      "10100110    0.0430\t+0.0000°\n",
      "10101000    0.1123\t+0.0000°\n",
      "10101001    0.0602\t+0.0000°\n",
      "10101010    0.0473\t+0.0000°\n",
      "10101100    0.0436\t+0.0000°\n",
      "10110000    0.1191\t+0.0000°\n",
      "10110001    0.0655\t+0.0000°\n",
      "10110010    0.0531\t+0.0000°\n",
      "10110100    0.0490\t+0.0000°\n",
      "10111000    0.0484\t+0.0000°\n",
      "11000000    0.0751\t+0.0000°\n",
      "11000001    0.0807\t+0.0000°\n",
      "11000010    0.0970\t+0.0000°\n",
      "11000011    0.0566\t+0.0000°\n",
      "11000100    0.1148\t+0.0000°\n",
      "11000101    0.0630\t+0.0000°\n",
      "11000110    0.0543\t+0.0000°\n",
      "11000111    0.0003\t+0.0000°\n",
      "11001000    0.1313\t+0.0000°\n",
      "11001001    0.0738\t+0.0000°\n",
      "11001010    0.0634\t+0.0000°\n",
      "11001100    0.0599\t+0.0000°\n",
      "11010000    0.1433\t+0.0000°\n",
      "11010001    0.0836\t+0.0000°\n",
      "11010010    0.0757\t+0.0000°\n",
      "11010100    0.0732\t+0.0000°\n",
      "11011000    0.0739\t+0.0000°\n",
      "11100000    0.1488\t+0.0000°\n",
      "11100001    0.0884\t+0.0000°\n",
      "11100010    0.0829\t+0.0000°\n",
      "11100100    0.0822\t+0.0000°\n",
      "11101000    0.0847\t+0.0000°\n",
      "11110000    0.0867\t+0.0000°\n",
      "00011111    0.0008\t+180.0000°\n",
      "00101111    0.0019\t+180.0000°\n",
      "00110111    0.0033\t+180.0000°\n",
      "00111011    0.0061\t+180.0000°\n",
      "00111101    0.0103\t+180.0000°\n",
      "00111110    0.0174\t+180.0000°\n",
      "00111111    0.0091\t+180.0000°\n",
      "01001111    0.0030\t+180.0000°\n",
      "01010111    0.0052\t+180.0000°\n",
      "01011011    0.0102\t+180.0000°\n",
      "01011101    0.0172\t+180.0000°\n",
      "01011110    0.0281\t+180.0000°\n",
      "01011111    0.0217\t+180.0000°\n",
      "01100111    0.0046\t+180.0000°\n",
      "01101011    0.0111\t+180.0000°\n",
      "01101101    0.0209\t+180.0000°\n",
      "01101110    0.0356\t+180.0000°\n",
      "01101111    0.0285\t+180.0000°\n",
      "01110011    0.0125\t+180.0000°\n",
      "01110101    0.0252\t+180.0000°\n",
      "01110110    0.0439\t+180.0000°\n",
      "01110111    0.0356\t+180.0000°\n",
      "01111001    0.0284\t+180.0000°\n",
      "01111010    0.0515\t+180.0000°\n",
      "01111011    0.0429\t+180.0000°\n",
      "01111100    0.0560\t+180.0000°\n",
      "01111101    0.0518\t+180.0000°\n",
      "01111110    0.0688\t+180.0000°\n",
      "01111111    0.0341\t+180.0000°\n",
      "10001111    0.0050\t+180.0000°\n",
      "10010111    0.0078\t+180.0000°\n",
      "10011011    0.0164\t+180.0000°\n",
      "10011101    0.0263\t+180.0000°\n",
      "10011110    0.0343\t+180.0000°\n",
      "10011111    0.0447\t+180.0000°\n",
      "10100111    0.0043\t+180.0000°\n",
      "10101011    0.0153\t+180.0000°\n",
      "10101101    0.0307\t+180.0000°\n",
      "10101110    0.0441\t+180.0000°\n",
      "10101111    0.0606\t+180.0000°\n",
      "10110011    0.0169\t+180.0000°\n",
      "10110101    0.0378\t+180.0000°\n",
      "10110110    0.0568\t+180.0000°\n",
      "10110111    0.0770\t+180.0000°\n",
      "10111001    0.0443\t+180.0000°\n",
      "10111010    0.0705\t+180.0000°\n",
      "10111011    0.0931\t+180.0000°\n",
      "10111100    0.0790\t+180.0000°\n",
      "10111101    0.1058\t+180.0000°\n",
      "10111110    0.1118\t+180.0000°\n",
      "10111111    0.0809\t+180.0000°\n",
      "11001011    0.0100\t+180.0000°\n",
      "11001101    0.0274\t+180.0000°\n",
      "11001110    0.0438\t+180.0000°\n",
      "11001111    0.0650\t+180.0000°\n",
      "11010011    0.0099\t+180.0000°\n",
      "11010101    0.0337\t+180.0000°\n",
      "11010110    0.0578\t+180.0000°\n",
      "11010111    0.0863\t+180.0000°\n",
      "11011001    0.0416\t+180.0000°\n",
      "11011010    0.0761\t+180.0000°\n",
      "11011011    0.1092\t+180.0000°\n",
      "11011100    0.0886\t+180.0000°\n",
      "11011101    0.1291\t+180.0000°\n",
      "11011110    0.1424\t+180.0000°\n",
      "11011111    0.1020\t+180.0000°\n",
      "11100011    0.0077\t+180.0000°\n",
      "11100101    0.0321\t+180.0000°\n",
      "11100110    0.0578\t+180.0000°\n",
      "11100111    0.0906\t+180.0000°\n",
      "11101001    0.0410\t+180.0000°\n",
      "11101010    0.0800\t+180.0000°\n",
      "11101011    0.1198\t+180.0000°\n",
      "11101100    0.0964\t+180.0000°\n",
      "11101101    0.1467\t+180.0000°\n",
      "11101110    0.1660\t+180.0000°\n",
      "11101111    0.1185\t+180.0000°\n",
      "11110001    0.0420\t+180.0000°\n",
      "11110010    0.0839\t+180.0000°\n",
      "11110011    0.1266\t+180.0000°\n",
      "11110100    0.1045\t+180.0000°\n",
      "11110101    0.1614\t+180.0000°\n",
      "11110110    0.1878\t+180.0000°\n",
      "11110111    0.1342\t+180.0000°\n",
      "11111000    0.1089\t+180.0000°\n",
      "11111001    0.1701\t+180.0000°\n",
      "11111010    0.2052\t+180.0000°\n",
      "11111011    0.1488\t+180.0000°\n",
      "11111100    0.2157\t+180.0000°\n",
      "11111101    0.1614\t+180.0000°\n",
      "11111110    0.1700\t+180.0000°\n",
      "11111111    0.0913\t+180.0000°\n"
     ]
    }
   ],
   "source": [
    "i = 15\n",
    "print \"EIG:\", \"\\t%.4f\\t%+.4f°\" % (np.abs(l[i]), np.angle(l[i], deg=True))\n",
    "print\n",
    "print \"STATE       MAG       ANGLE\"\n",
    "zzz = zip(p.enum_states(), np.array(v[:, i].transpose())[0].transpose())\n",
    "zzz = sorted(zzz, key=lambda x: np.angle(x[1]))\n",
    "for s, val in zzz:\n",
    "    if np.abs(val) > 1e-10:\n",
    "        print s, \"  \", \"%.4f\\t%+.4f°\" % (np.abs(val), np.angle(val, deg=True))"
   ]
  },
  {
   "cell_type": "code",
   "execution_count": 219,
   "metadata": {
    "collapsed": false
   },
   "outputs": [
    {
     "data": {
      "text/plain": [
       "matrix([[  1.10192078e-04+0.j],\n",
       "        [  2.20384157e-04+0.j],\n",
       "        [  5.50960392e-04+0.j],\n",
       "        [  3.75795167e-04+0.j],\n",
       "        [  9.14023201e-04+0.j],\n",
       "        [  9.39487918e-04+0.j],\n",
       "        [  1.71349983e-03+0.j],\n",
       "        [  6.08389007e-04+0.j],\n",
       "        [  1.35830244e-03+0.j],\n",
       "        [  1.57470788e-03+0.j],\n",
       "        [  3.12280516e-03+0.j],\n",
       "        [  1.52097252e-03+0.j],\n",
       "        [  3.75024287e-03+0.j],\n",
       "        [  2.65226021e-03+0.j],\n",
       "        [  4.40256930e-03+0.j],\n",
       "        [  1.13898666e-03+0.j],\n",
       "        [  1.92925094e-03+0.j],\n",
       "        [  2.38867243e-03+0.j],\n",
       "        [  4.85768634e-03+0.j],\n",
       "        [  2.67114361e-03+0.j],\n",
       "        [  6.17435563e-03+0.j],\n",
       "        [  4.88034143e-03+0.j],\n",
       "        [  8.23564526e-03+0.j],\n",
       "        [  2.84746666e-03+0.j],\n",
       "        [  6.86390898e-03+0.j],\n",
       "        [  5.81950201e-03+0.j],\n",
       "        [  1.03095885e-02+0.j],\n",
       "        [  4.30468968e-03+0.j],\n",
       "        [  1.12865516e-02+0.j],\n",
       "        [  6.33328172e-03+0.j],\n",
       "        [  9.91430854e-03+0.j],\n",
       "        [  2.62235485e-03+0.j],\n",
       "        [  2.66416567e-03+0.j],\n",
       "        [  3.50266716e-03+0.j],\n",
       "        [  7.06313160e-03+0.j],\n",
       "        [  4.46866119e-03+0.j],\n",
       "        [  9.21898719e-03+0.j],\n",
       "        [  7.90638918e-03+0.j],\n",
       "        [  1.29736140e-02+0.j],\n",
       "        [  5.66144361e-03+0.j],\n",
       "        [  1.08180670e-02+0.j],\n",
       "        [  1.00586686e-02+0.j],\n",
       "        [  1.74898689e-02+0.j],\n",
       "        [  8.73313216e-03+0.j],\n",
       "        [  1.94064624e-02+0.j],\n",
       "        [  1.22521775e-02+0.j],\n",
       "        [  1.85174397e-02+0.j],\n",
       "        [  6.55588713e-03+0.j],\n",
       "        [  1.17642480e-02+0.j],\n",
       "        [  1.13228894e-02+0.j],\n",
       "        [  2.00973732e-02+0.j],\n",
       "        [  1.04108233e-02+0.j],\n",
       "        [  2.30429967e-02+0.j],\n",
       "        [  1.54051853e-02+0.j],\n",
       "        [  2.36665225e-02+0.j],\n",
       "        [  8.86670221e-03+0.j],\n",
       "        [  2.40497295e-02+0.j],\n",
       "        [  1.67253100e-02+0.j],\n",
       "        [  2.64623344e-02+0.j],\n",
       "        [  1.08759778e-02+0.j],\n",
       "        [  2.77982455e-02+0.j],\n",
       "        [  1.37271164e-02+0.j],\n",
       "        [  1.96828515e-02+0.j],\n",
       "        [  6.09298606e-03+0.j],\n",
       "        [  3.57699777e-03+0.j],\n",
       "        [  5.19620347e-03+0.j],\n",
       "        [  9.73607702e-03+0.j],\n",
       "        [  7.73392498e-03+0.j],\n",
       "        [  1.28857000e-02+0.j],\n",
       "        [  1.25464687e-02+0.j],\n",
       "        [  1.86002513e-02+0.j],\n",
       "        [  1.10819205e-02+0.j],\n",
       "        [  1.56606186e-02+0.j],\n",
       "        [  1.64512502e-02+0.j],\n",
       "        [  2.60890740e-02+0.j],\n",
       "        [  1.66360939e-02+0.j],\n",
       "        [  2.90503016e-02+0.j],\n",
       "        [  2.12121736e-02+0.j],\n",
       "        [  2.86078529e-02+0.j],\n",
       "        [  1.40789028e-02+0.j],\n",
       "        [  1.78670513e-02+0.j],\n",
       "        [  1.95327397e-02+0.j],\n",
       "        [  3.20437111e-02+0.j],\n",
       "        [  2.10326964e-02+0.j],\n",
       "        [  3.73766680e-02+0.j],\n",
       "        [  2.89315015e-02+0.j],\n",
       "        [  4.01038820e-02+0.j],\n",
       "        [  2.01574799e-02+0.j],\n",
       "        [  3.97368040e-02+0.j],\n",
       "        [  3.20762507e-02+0.j],\n",
       "        [  4.61507689e-02+0.j],\n",
       "        [  2.43388061e-02+0.j],\n",
       "        [  4.87329329e-02+0.j],\n",
       "        [  2.83620557e-02+0.j],\n",
       "        [  3.63192100e-02+0.j],\n",
       "        [  1.52324651e-02+0.j],\n",
       "        [  1.91938419e-02+0.j],\n",
       "        [  2.13505316e-02+0.j],\n",
       "        [  3.55698231e-02+0.j],\n",
       "        [  2.36081499e-02+0.j],\n",
       "        [  4.23280337e-02+0.j],\n",
       "        [  3.34870440e-02+0.j],\n",
       "        [  4.69264640e-02+0.j],\n",
       "        [  2.38308206e-02+0.j],\n",
       "        [  4.61336763e-02+0.j],\n",
       "        [  3.85006022e-02+0.j],\n",
       "        [  5.65693424e-02+0.j],\n",
       "        [  3.05351640e-02+0.j],\n",
       "        [  6.06639303e-02+0.j],\n",
       "        [  3.67050412e-02+0.j],\n",
       "        [  4.75680697e-02+0.j],\n",
       "        [  2.01434133e-02+0.j],\n",
       "        [  4.76027963e-02+0.j],\n",
       "        [  4.04048745e-02+0.j],\n",
       "        [  6.02334880e-02+0.j],\n",
       "        [  3.30443671e-02+0.j],\n",
       "        [  6.58539223e-02+0.j],\n",
       "        [  4.11987266e-02+0.j],\n",
       "        [  5.42076173e-02+0.j],\n",
       "        [  2.33689794e-02+0.j],\n",
       "        [  6.73627413e-02+0.j],\n",
       "        [  4.31444499e-02+0.j],\n",
       "        [  5.80153757e-02+0.j],\n",
       "        [  2.59053271e-02+0.j],\n",
       "        [  5.98425239e-02+0.j],\n",
       "        [  2.88268367e-02+0.j],\n",
       "        [  3.56204741e-02+0.j],\n",
       "        [  1.31154674e-02+0.j],\n",
       "        [  4.55589380e-03+0.j],\n",
       "        [  8.45063513e-03+0.j],\n",
       "        [  1.24555685e-02+0.j],\n",
       "        [  1.45222687e-02+0.j],\n",
       "        [  1.67232472e-02+0.j],\n",
       "        [  2.14076079e-02+0.j],\n",
       "        [  2.41707196e-02+0.j],\n",
       "        [  2.21506278e-02+0.j],\n",
       "        [  2.08891793e-02+0.j],\n",
       "        [  2.84088121e-02+0.j],\n",
       "        [  3.49442364e-02+0.j],\n",
       "        [  3.26175527e-02+0.j],\n",
       "        [  3.91681501e-02+0.j],\n",
       "        [  3.79154268e-02+0.j],\n",
       "        [  3.86802254e-02+0.j],\n",
       "        [  2.91186797e-02+0.j],\n",
       "        [  2.46409422e-02+0.j],\n",
       "        [  3.45030861e-02+0.j],\n",
       "        [  4.47120051e-02+0.j],\n",
       "        [  4.21074823e-02+0.j],\n",
       "        [  5.29760837e-02+0.j],\n",
       "        [  5.34560814e-02+0.j],\n",
       "        [  5.72595550e-02+0.j],\n",
       "        [  4.25390329e-02+0.j],\n",
       "        [  5.70386105e-02+0.j],\n",
       "        [  5.96917570e-02+0.j],\n",
       "        [  6.71313972e-02+0.j],\n",
       "        [  5.06274076e-02+0.j],\n",
       "        [  7.13538406e-02+0.j],\n",
       "        [  5.46049995e-02+0.j],\n",
       "        [  5.37733278e-02+0.j],\n",
       "        [  3.31702147e-02+0.j],\n",
       "        [  2.77124180e-02+0.j],\n",
       "        [  3.91570376e-02+0.j],\n",
       "        [  5.25773606e-02+0.j],\n",
       "        [  4.91414808e-02+0.j],\n",
       "        [  6.41069029e-02+0.j],\n",
       "        [  6.52646316e-02+0.j],\n",
       "        [  7.22946394e-02+0.j],\n",
       "        [  5.28727081e-02+0.j],\n",
       "        [  7.15479315e-02+0.j],\n",
       "        [  7.62784932e-02+0.j],\n",
       "        [  9.01123692e-02+0.j],\n",
       "        [  6.76588298e-02+0.j],\n",
       "        [  9.77853480e-02+0.j],\n",
       "        [  7.64058892e-02+0.j],\n",
       "        [  7.84248850e-02+0.j],\n",
       "        [  4.71329672e-02+0.j],\n",
       "        [  7.50031554e-02+0.j],\n",
       "        [  8.11835727e-02+0.j],\n",
       "        [  9.83243581e-02+0.j],\n",
       "        [  7.44565583e-02+0.j],\n",
       "        [  1.09599662e-01+0.j],\n",
       "        [  8.80422023e-02+0.j],\n",
       "        [  9.29229866e-02+0.j],\n",
       "        [  5.58861010e-02+0.j],\n",
       "        [  1.13153258e-01+0.j],\n",
       "        [  9.29901988e-02+0.j],\n",
       "        [  1.01250940e-01+0.j],\n",
       "        [  6.18418082e-02+0.j],\n",
       "        [  1.05271629e-01+0.j],\n",
       "        [  6.52734543e-02+0.j],\n",
       "        [  6.46832146e-02+0.j],\n",
       "        [  3.27886686e-02+0.j],\n",
       "        [  2.96794843e-02+0.j],\n",
       "        [  4.18125662e-02+0.j],\n",
       "        [  5.75226458e-02+0.j],\n",
       "        [  5.31204091e-02+0.j],\n",
       "        [  7.10150850e-02+0.j],\n",
       "        [  7.19466887e-02+0.j],\n",
       "        [  8.17001374e-02+0.j],\n",
       "        [  5.88614967e-02+0.j],\n",
       "        [  8.06246569e-02+0.j],\n",
       "        [  8.56201157e-02+0.j],\n",
       "        [  1.04287355e-01+0.j],\n",
       "        [  7.72103246e-02+0.j],\n",
       "        [  1.13894797e-01+0.j],\n",
       "        [  8.87013475e-02+0.j],\n",
       "        [  9.37118578e-02+0.j],\n",
       "        [  5.53904299e-02+0.j],\n",
       "        [  8.63273871e-02+0.j],\n",
       "        [  9.33116844e-02+0.j],\n",
       "        [  1.17636936e-01+0.j],\n",
       "        [  8.76883700e-02+0.j],\n",
       "        [  1.33176446e-01+0.j],\n",
       "        [  1.06829337e-01+0.j],\n",
       "        [  1.17041745e-01+0.j],\n",
       "        [  6.90067420e-02+0.j],\n",
       "        [  1.39036376e-01+0.j],\n",
       "        [  1.14499247e-01+0.j],\n",
       "        [  1.30221973e-01+0.j],\n",
       "        [  7.84550883e-02+0.j],\n",
       "        [  1.36381170e-01+0.j],\n",
       "        [  8.47733048e-02+0.j],\n",
       "        [  8.71962573e-02+0.j],\n",
       "        [  4.30900168e-02+0.j],\n",
       "        [  8.85991410e-02+0.j],\n",
       "        [  9.61095349e-02+0.j],\n",
       "        [  1.22813771e-01+0.j],\n",
       "        [  9.13588913e-02+0.j],\n",
       "        [  1.40770123e-01+0.j],\n",
       "        [  1.13430187e-01+0.j],\n",
       "        [  1.26138529e-01+0.j],\n",
       "        [  7.39042869e-02+0.j],\n",
       "        [  1.49010074e-01+0.j],\n",
       "        [  1.23949895e-01+0.j],\n",
       "        [  1.44567630e-01+0.j],\n",
       "        [  8.70256098e-02+0.j],\n",
       "        [  1.53280699e-01+0.j],\n",
       "        [  9.63749490e-02+0.j],\n",
       "        [  1.01295831e-01+0.j],\n",
       "        [  4.94025600e-02+0.j],\n",
       "        [  1.51410923e-01+0.j],\n",
       "        [  1.26806504e-01+0.j],\n",
       "        [  1.49804881e-01+0.j],\n",
       "        [  9.06539116e-02+0.j],\n",
       "        [  1.61004951e-01+0.j],\n",
       "        [  1.02936500e-01+0.j],\n",
       "        [  1.10178899e-01+0.j],\n",
       "        [  5.39604267e-02+0.j],\n",
       "        [  1.63489004e-01+0.j],\n",
       "        [  1.05963625e-01+0.j],\n",
       "        [  1.15800988e-01+0.j],\n",
       "        [  5.75716606e-02+0.j],\n",
       "        [  1.18895442e-01+0.j],\n",
       "        [  6.04521638e-02+0.j],\n",
       "        [  6.18514090e-02+0.j],\n",
       "        [  2.62309348e-02+0.j]])"
      ]
     },
     "execution_count": 219,
     "metadata": {},
     "output_type": "execute_result"
    }
   ],
   "source": [
    "v[:, 12]"
   ]
  },
  {
   "cell_type": "code",
   "execution_count": 91,
   "metadata": {
    "collapsed": false
   },
   "outputs": [
    {
     "data": {
      "text/plain": [
       "0    (0.125-0j)\n",
       "1    (0.125-0j)\n",
       "2    (0.125-0j)\n",
       "3    (0.125-0j)\n",
       "4    (0.125-0j)\n",
       "5    (0.125-0j)\n",
       "6    (0.125-0j)\n",
       "7    (0.125-0j)\n",
       "Name: 255, dtype: complex128"
      ]
     },
     "execution_count": 91,
     "metadata": {},
     "output_type": "execute_result"
    }
   ],
   "source": [
    "proj_eig_v[255]"
   ]
  },
  {
   "cell_type": "code",
   "execution_count": 1670,
   "metadata": {
    "collapsed": false
   },
   "outputs": [],
   "source": [
    "eq_parts_of_eigvec = proj_to_simplex(proj_to_eq, v)"
   ]
  },
  {
   "cell_type": "code",
   "execution_count": 1674,
   "metadata": {
    "collapsed": false
   },
   "outputs": [
    {
     "data": {
      "text/plain": [
       "matrix([[-0.00226216 +0.00000000e+00j, -0.00206898 -1.39728702e-04j,\n",
       "         -0.00206898 +1.39728702e-04j, ..., -0.03938800 +2.00429352e-02j,\n",
       "         -0.03938800 -2.00429352e-02j,  0.00404985 +0.00000000e+00j],\n",
       "        [-0.00102868 +0.00000000e+00j, -0.00266092 +7.35267282e-04j,\n",
       "         -0.00266092 -7.35267282e-04j, ...,  0.01753295 -3.69347806e-03j,\n",
       "          0.01753295 +3.69347806e-03j,  0.00372398 +0.00000000e+00j],\n",
       "        [-0.00486786 +0.00000000e+00j,  0.00027966 -6.64797919e-04j,\n",
       "          0.00027966 +6.64797919e-04j, ..., -0.04090788 +1.62739316e-02j,\n",
       "         -0.04090788 -1.62739316e-02j, -0.02108196 +0.00000000e+00j],\n",
       "        ..., \n",
       "        [-0.00390310 +0.00000000e+00j, -0.00272661 +1.50283631e-03j,\n",
       "         -0.00272661 -1.50283631e-03j, ...,  0.03511639 +3.08990770e-02j,\n",
       "          0.03511639 -3.08990770e-02j,  0.02649866 +0.00000000e+00j],\n",
       "        [-0.00114331 +0.00000000e+00j, -0.00144587 -5.43408856e-04j,\n",
       "         -0.00144587 +5.43408856e-04j, ..., -0.09540985 -5.38733293e-02j,\n",
       "         -0.09540985 +5.38733293e-02j, -0.02152823 +0.00000000e+00j],\n",
       "        [-0.00226216 +0.00000000e+00j, -0.00223428 +4.42907508e-05j,\n",
       "         -0.00223428 -4.42907508e-05j, ...,  0.03390393 +2.22721835e-02j,\n",
       "          0.03390393 -2.22721835e-02j,  0.00404985 +0.00000000e+00j]])"
      ]
     },
     "execution_count": 1674,
     "metadata": {},
     "output_type": "execute_result"
    }
   ],
   "source": [
    "v - proj_to_simplex(proj_to_eq, v)"
   ]
  },
  {
   "cell_type": "code",
   "execution_count": 1755,
   "metadata": {
    "collapsed": false
   },
   "outputs": [
    {
     "data": {
      "text/plain": [
       "matrix([[-7.41668087 -1.10154612e-09j],\n",
       "        [-7.41668087 -1.10154612e-09j],\n",
       "        [-7.41668087 -1.10154612e-09j],\n",
       "        [-7.41668087 -1.10154612e-09j],\n",
       "        [-7.41668087 -1.10154612e-09j],\n",
       "        [-7.41668087 -1.10154612e-09j],\n",
       "        [-7.41668087 -1.10154612e-09j],\n",
       "        [-7.41668087 -1.10154612e-09j],\n",
       "        [-7.41668087 -1.10154612e-09j],\n",
       "        [-7.41668087 -1.10154612e-09j],\n",
       "        [-7.41668087 -1.10154612e-09j],\n",
       "        [-7.41668087 -1.10154612e-09j]])"
      ]
     },
     "execution_count": 1755,
     "metadata": {},
     "output_type": "execute_result"
    }
   ],
   "source": [
    "S.dot(v_sans_eq[:, 28]) "
   ]
  },
  {
   "cell_type": "code",
   "execution_count": 1829,
   "metadata": {
    "collapsed": false
   },
   "outputs": [
    {
     "data": {
      "text/plain": [
       "array([ 0.        ,  0.08333333,  0.16666667,  0.25      ,  0.33333333,\n",
       "        0.41666667, -0.5       , -0.41666667, -0.33333333, -0.25      ,\n",
       "       -0.16666667, -0.08333333])"
      ]
     },
     "execution_count": 1829,
     "metadata": {},
     "output_type": "execute_result"
    }
   ],
   "source": [
    "np.fft.fftfreq(S.dot(v_sans_ns).shape[0])"
   ]
  },
  {
   "cell_type": "code",
   "execution_count": 1838,
   "metadata": {
    "collapsed": false
   },
   "outputs": [],
   "source": [
    "np.fft.fft?"
   ]
  },
  {
   "cell_type": "code",
   "execution_count": 1870,
   "metadata": {
    "collapsed": false
   },
   "outputs": [],
   "source": [
    "\n",
    "mat = np.real(np.fft.fft(S.dot(v_sans_ns), axis=0))\n",
    "fr = np.fft.fftfreq(S.dot(v_sans_ns).shape[0])\n",
    "dff = pd.DataFrame(np.round(mat, 12))\n",
    "dff.index = np.fft.fftfreq(S.dot(v_sans_ns).shape[0])\n",
    "dff = dff.sort_index()\n",
    "dff = np.round(dff, 12)\n",
    "\n",
    "mat = np.real(S.dot(v_sans_ns))\n",
    "df = pd.DataFrame(np.round(mat, 12))\n",
    "df = np.round(df, 12)\n"
   ]
  },
  {
   "cell_type": "code",
   "execution_count": 1884,
   "metadata": {
    "collapsed": true
   },
   "outputs": [],
   "source": [
    "sims = np.fft.ifft(np.eye(N)).dot(S.dot(v_sans_ns))"
   ]
  },
  {
   "cell_type": "code",
   "execution_count": 1938,
   "metadata": {
    "collapsed": false
   },
   "outputs": [
    {
     "data": {
      "text/plain": [
       "[41, 33, 44, 107, 189, 62, 106, 61, 190, 108, 45, 34]"
      ]
     },
     "execution_count": 1938,
     "metadata": {},
     "output_type": "execute_result"
    }
   ],
   "source": [
    "keep_these = np.argmax(sims, axis=1).transpose().tolist()[0]\n",
    "keep_these"
   ]
  },
  {
   "cell_type": "code",
   "execution_count": 1941,
   "metadata": {
    "collapsed": false
   },
   "outputs": [
    {
     "data": {
      "text/plain": [
       "array([ 0.95829558+0.j        ,  0.98268465+0.00836107j,\n",
       "        0.93978230+0.01378443j,  0.88108585+0.01590356j,\n",
       "        0.82233230+0.01377183j,  0.90401143-0.00774639j,\n",
       "        0.88579688+0.j        ,  0.90401143+0.00774639j,\n",
       "        0.82233230-0.01377183j,  0.88108585-0.01590356j,\n",
       "        0.93978230-0.01378443j,  0.98268465-0.00836107j])"
      ]
     },
     "execution_count": 1941,
     "metadata": {},
     "output_type": "execute_result"
    }
   ],
   "source": [
    "l[keep_these]"
   ]
  },
  {
   "cell_type": "code",
   "execution_count": 1940,
   "metadata": {
    "collapsed": false
   },
   "outputs": [
    {
     "data": {
      "text/plain": [
       "<matplotlib.axes.AxesSubplot at 0x12e488190>"
      ]
     },
     "execution_count": 1940,
     "metadata": {},
     "output_type": "execute_result"
    },
    {
     "data": {
      "image/png": "[encoded data removed]",
      "text/plain": [
       "<matplotlib.figure.Figure at 0x12cd46310>"
      ]
     },
     "metadata": {},
     "output_type": "display_data"
    },
    {
     "data": {
      "image/png": "[encoded data removed]",
      "text/plain": [
       "<matplotlib.figure.Figure at 0x12d8b3510>"
      ]
     },
     "metadata": {},
     "output_type": "display_data"
    }
   ],
   "source": [
    "k = 33\n",
    "df[k].plot.bar(title=\"AMP: %.3f  PERIOD: %.2f\" % (np.abs(l[k]), 360./np.angle(l[k], deg=True)))\n",
    "plt.figure()\n",
    "dff[k].plot.bar(title=\"AMP: %.3f  PERIOD: %.2f\" % (np.abs(l[k]), 360./np.angle(l[k], deg=True)))"
   ]
  },
  {
   "cell_type": "code",
   "execution_count": 1763,
   "metadata": {
    "collapsed": false
   },
   "outputs": [
    {
     "data": {
      "text/plain": [
       "matrix([[-0.00067670 +1.30310000e-06j],\n",
       "        [-0.00067470 -3.29530000e-06j],\n",
       "        [-0.00067011 -1.30310000e-06j],\n",
       "        [-0.00067210 +3.29530000e-06j],\n",
       "        [-0.00067670 +1.30310000e-06j],\n",
       "        [-0.00067470 -3.29530000e-06j],\n",
       "        [-0.00067011 -1.30310000e-06j],\n",
       "        [-0.00067210 +3.29530000e-06j],\n",
       "        [-0.00067670 +1.30310000e-06j],\n",
       "        [-0.00067470 -3.29530000e-06j],\n",
       "        [-0.00067011 -1.30310000e-06j],\n",
       "        [-0.00067210 +3.29530000e-06j]])"
      ]
     },
     "execution_count": 1763,
     "metadata": {},
     "output_type": "execute_result"
    }
   ],
   "source": [
    "np.round(S.dot(v_sans_ns)[:, 5], 10)"
   ]
  },
  {
   "cell_type": "code",
   "execution_count": 1942,
   "metadata": {
    "collapsed": true
   },
   "outputs": [],
   "source": [
    "i1, i2 = (0, 1)\n",
    "f = np.real(v[:, i1] + v[:, i2])\n",
    "f = f - np.min(f)\n",
    "f = f / np.sum(f) \n",
    "x = f\n",
    "x0 = np.array(x.transpose())[0]"
   ]
  },
  {
   "cell_type": "code",
   "execution_count": 43,
   "metadata": {
    "collapsed": true
   },
   "outputs": [],
   "source": [
    "def proj_to_simplex(P, x):\n",
    "    px0 = P.dot(x)\n",
    "    if np.min(px0) < 0:\n",
    "        px0 = px0 - np.min(px0)\n",
    "    px0 = px0 / np.sum(px0)\n",
    "    return px0\n",
    "\n",
    "def eigs(v, x0, eps=1e-12):\n",
    "    eigs = sorted([(np.log(r), c) for r, c in zip(np.abs(l), np.abs(np.linalg.solve(v, x0))) if c > eps and np.log(r) < -eps], key=lambda x: -x[0])\n",
    "    return eigs\n",
    "\n",
    "def smallest_eig(v, x0, eps=1e-12):\n",
    "    eigs = sorted([(np.log(r), c) for r, c in zip(np.abs(l), np.abs(np.linalg.solve(v, x0))) if c > eps and np.log(r) < -eps], key=lambda x: -x[0])\n",
    "    smallest_eig = eigs[0][0]\n",
    "    return smallest_eig\n",
    "\n",
    "def biggest_eig(v, x0, eps=1e-12):\n",
    "    return sorted(eigs(v, x0), key=lambda x:-x[1])[0][0]"
   ]
  },
  {
   "cell_type": "code",
   "execution_count": 231,
   "metadata": {
    "collapsed": false
   },
   "outputs": [
    {
     "name": "stdout",
     "output_type": "stream",
     "text": [
      "Pick just one state: 1\n",
      "Corresponding to sequence: 00000001\n"
     ]
    }
   ],
   "source": [
    "M = T.shape[0]\n",
    "x0 = np.zeros(M)\n",
    "x0[1] = 1 # 25 is good\n",
    "print \"Pick just one state:\", np.argmax(x0)\n",
    "print \"Corresponding to sequence:\", State(S.dot(x0))"
   ]
  },
  {
   "cell_type": "code",
   "execution_count": 232,
   "metadata": {
    "collapsed": false
   },
   "outputs": [],
   "source": [
    "vv = np.sum(V.todense(), axis=1)\n",
    "vv = np.matrix(vv)\n",
    "vv2 = np.diag(vv.dot(vv.transpose()))\n",
    "vv2 = np.matrix(vv2).transpose()\n",
    "\n",
    "ns = null(S)\n",
    "eq_space = np.hstack((ns, 1. * np.ones((M, 1)) / M))\n",
    "proj_to_eq = eq_space.dot(np.linalg.inv(eq_space.transpose().dot(eq_space))).dot(eq_space.transpose())\n",
    "proj_to_ns = ns.dot(np.linalg.inv(ns.transpose().dot(ns))).dot(ns.transpose())\n",
    "\n",
    "v_sans_eq = v - proj_to_simplex(proj_to_eq, v)\n",
    "v_sans_ns = v - proj_to_simplex(proj_to_ns, v)\n",
    "\n",
    "iters = 800\n",
    "R = np.zeros((iters, N))\n",
    "resids = np.zeros((iters, N))\n",
    "exp_v = np.zeros(iters)\n",
    "var_v = np.zeros(iters)\n",
    "tv_S = np.zeros(iters)\n",
    "tv_X = np.zeros(iters)\n",
    "pred_tv = np.zeros(iters)\n",
    "dist_to_eq = np.zeros(iters)\n",
    "min_resid_eig = np.zeros(iters)\n",
    "x = x0\n",
    "for i in range(iters):\n",
    "#     print \" \".join([\"%.4f\" % s for s in S.dot(x)])\n",
    "    resid = x - proj_to_simplex(proj_to_eq, x)\n",
    "    dist_to_eq[i] = np.linalg.norm(resid)\n",
    "    min_resid_eig[i] = biggest_eig(v_sans_eq, resid)\n",
    "    exp_v[i] = vv.transpose().dot(x)\n",
    "    var_v[i] = np.sqrt(max(vv2.transpose().dot(x) - exp_v[i]**2, 0))\n",
    "    R[i] = S.dot(x)\n",
    "    resids[i] = S.dot(resid)\n",
    "    tv_S[i] = np.sum(np.abs(x - 1./M))\n",
    "    tv_X[i] = np.sum(np.abs(1. * R[i] - 1.*k/N))\n",
    "    pred_tv[i] = np.exp(-exp_v[i] / k)\n",
    "    x = T.dot(x)"
   ]
  },
  {
   "cell_type": "code",
   "execution_count": 233,
   "metadata": {
    "collapsed": false
   },
   "outputs": [
    {
     "data": {
      "image/png": "[encoded data removed]",
      "text/plain": [
       "<matplotlib.figure.Figure at 0x1197d8d90>"
      ]
     },
     "metadata": {},
     "output_type": "display_data"
    }
   ],
   "source": [
    "sns.heatmap(R);"
   ]
  },
  {
   "cell_type": "code",
   "execution_count": 234,
   "metadata": {
    "collapsed": false
   },
   "outputs": [
    {
     "data": {
      "text/plain": [
       "[<matplotlib.lines.Line2D at 0x11a5a4690>]"
      ]
     },
     "execution_count": 234,
     "metadata": {},
     "output_type": "execute_result"
    },
    {
     "data": {
      "image/png": "[encoded data removed]",
      "text/plain": [
       "<matplotlib.figure.Figure at 0x11ade3310>"
      ]
     },
     "metadata": {},
     "output_type": "display_data"
    }
   ],
   "source": [
    "plt.plot(R[-1])"
   ]
  },
  {
   "cell_type": "code",
   "execution_count": 172,
   "metadata": {
    "collapsed": false
   },
   "outputs": [
    {
     "ename": "LinAlgError",
     "evalue": "Last 2 dimensions of the array must be square",
     "output_type": "error",
     "traceback": [
      "\u001b[0;31m---------------------------------------------------------------------------\u001b[0m",
      "\u001b[0;31mLinAlgError\u001b[0m                               Traceback (most recent call last)",
      "\u001b[0;32m<ipython-input-172-a68aef1482b2>\u001b[0m in \u001b[0;36m<module>\u001b[0;34m()\u001b[0m\n\u001b[0;32m----> 1\u001b[0;31m \u001b[0mnp\u001b[0m\u001b[0;34m.\u001b[0m\u001b[0mlinalg\u001b[0m\u001b[0;34m.\u001b[0m\u001b[0msolve\u001b[0m\u001b[0;34m(\u001b[0m\u001b[0mS\u001b[0m\u001b[0;34m,\u001b[0m \u001b[0mv\u001b[0m\u001b[0;34m)\u001b[0m\u001b[0;34m\u001b[0m\u001b[0m\n\u001b[0m",
      "\u001b[0;32m/Library/Python/2.7/site-packages/numpy-1.11.0-py2.7-macosx-10.11-intel.egg/numpy/linalg/linalg.pyc\u001b[0m in \u001b[0;36msolve\u001b[0;34m(a, b)\u001b[0m\n\u001b[1;32m    356\u001b[0m     \u001b[0ma\u001b[0m\u001b[0;34m,\u001b[0m \u001b[0m_\u001b[0m \u001b[0;34m=\u001b[0m \u001b[0m_makearray\u001b[0m\u001b[0;34m(\u001b[0m\u001b[0ma\u001b[0m\u001b[0;34m)\u001b[0m\u001b[0;34m\u001b[0m\u001b[0m\n\u001b[1;32m    357\u001b[0m     \u001b[0m_assertRankAtLeast2\u001b[0m\u001b[0;34m(\u001b[0m\u001b[0ma\u001b[0m\u001b[0;34m)\u001b[0m\u001b[0;34m\u001b[0m\u001b[0m\n\u001b[0;32m--> 358\u001b[0;31m     \u001b[0m_assertNdSquareness\u001b[0m\u001b[0;34m(\u001b[0m\u001b[0ma\u001b[0m\u001b[0;34m)\u001b[0m\u001b[0;34m\u001b[0m\u001b[0m\n\u001b[0m\u001b[1;32m    359\u001b[0m     \u001b[0mb\u001b[0m\u001b[0;34m,\u001b[0m \u001b[0mwrap\u001b[0m \u001b[0;34m=\u001b[0m \u001b[0m_makearray\u001b[0m\u001b[0;34m(\u001b[0m\u001b[0mb\u001b[0m\u001b[0;34m)\u001b[0m\u001b[0;34m\u001b[0m\u001b[0m\n\u001b[1;32m    360\u001b[0m     \u001b[0mt\u001b[0m\u001b[0;34m,\u001b[0m \u001b[0mresult_t\u001b[0m \u001b[0;34m=\u001b[0m \u001b[0m_commonType\u001b[0m\u001b[0;34m(\u001b[0m\u001b[0ma\u001b[0m\u001b[0;34m,\u001b[0m \u001b[0mb\u001b[0m\u001b[0;34m)\u001b[0m\u001b[0;34m\u001b[0m\u001b[0m\n",
      "\u001b[0;32m/Library/Python/2.7/site-packages/numpy-1.11.0-py2.7-macosx-10.11-intel.egg/numpy/linalg/linalg.pyc\u001b[0m in \u001b[0;36m_assertNdSquareness\u001b[0;34m(*arrays)\u001b[0m\n\u001b[1;32m    210\u001b[0m     \u001b[0;32mfor\u001b[0m \u001b[0ma\u001b[0m \u001b[0;32min\u001b[0m \u001b[0marrays\u001b[0m\u001b[0;34m:\u001b[0m\u001b[0;34m\u001b[0m\u001b[0m\n\u001b[1;32m    211\u001b[0m         \u001b[0;32mif\u001b[0m \u001b[0mmax\u001b[0m\u001b[0;34m(\u001b[0m\u001b[0ma\u001b[0m\u001b[0;34m.\u001b[0m\u001b[0mshape\u001b[0m\u001b[0;34m[\u001b[0m\u001b[0;34m-\u001b[0m\u001b[0;36m2\u001b[0m\u001b[0;34m:\u001b[0m\u001b[0;34m]\u001b[0m\u001b[0;34m)\u001b[0m \u001b[0;34m!=\u001b[0m \u001b[0mmin\u001b[0m\u001b[0;34m(\u001b[0m\u001b[0ma\u001b[0m\u001b[0;34m.\u001b[0m\u001b[0mshape\u001b[0m\u001b[0;34m[\u001b[0m\u001b[0;34m-\u001b[0m\u001b[0;36m2\u001b[0m\u001b[0;34m:\u001b[0m\u001b[0;34m]\u001b[0m\u001b[0;34m)\u001b[0m\u001b[0;34m:\u001b[0m\u001b[0;34m\u001b[0m\u001b[0m\n\u001b[0;32m--> 212\u001b[0;31m             \u001b[0;32mraise\u001b[0m \u001b[0mLinAlgError\u001b[0m\u001b[0;34m(\u001b[0m\u001b[0;34m'Last 2 dimensions of the array must be square'\u001b[0m\u001b[0;34m)\u001b[0m\u001b[0;34m\u001b[0m\u001b[0m\n\u001b[0m\u001b[1;32m    213\u001b[0m \u001b[0;34m\u001b[0m\u001b[0m\n\u001b[1;32m    214\u001b[0m \u001b[0;32mdef\u001b[0m \u001b[0m_assertFinite\u001b[0m\u001b[0;34m(\u001b[0m\u001b[0;34m*\u001b[0m\u001b[0marrays\u001b[0m\u001b[0;34m)\u001b[0m\u001b[0;34m:\u001b[0m\u001b[0;34m\u001b[0m\u001b[0m\n",
      "\u001b[0;31mLinAlgError\u001b[0m: Last 2 dimensions of the array must be square"
     ]
    }
   ],
   "source": []
  },
  {
   "cell_type": "code",
   "execution_count": 137,
   "metadata": {
    "collapsed": false
   },
   "outputs": [
    {
     "data": {
      "image/png": "[encoded data removed]",
      "text/plain": [
       "<matplotlib.figure.Figure at 0x117140a50>"
      ]
     },
     "metadata": {},
     "output_type": "display_data"
    }
   ],
   "source": [
    "sns.heatmap(resids);"
   ]
  },
  {
   "cell_type": "code",
   "execution_count": 138,
   "metadata": {
    "collapsed": false
   },
   "outputs": [
    {
     "name": "stdout",
     "output_type": "stream",
     "text": [
      "TV_X: 0.05531178256\n"
     ]
    }
   ],
   "source": [
    "X = np.zeros((iters, 2))\n",
    "X[:, 0] = 1\n",
    "X[:, 1] = range(iters)\n",
    "eta_x = np.linalg.lstsq(X, np.log(tv_X))[0][1]\n",
    "print \"TV_X:\", eta_x"
   ]
  },
  {
   "cell_type": "code",
   "execution_count": 139,
   "metadata": {
    "collapsed": false
   },
   "outputs": [
    {
     "data": {
      "image/png": "[encoded data removed]",
      "text/plain": [
       "<matplotlib.figure.Figure at 0x1175f77d0>"
      ]
     },
     "metadata": {},
     "output_type": "display_data"
    }
   ],
   "source": [
    "plt.plot(np.log(tv_S), label=\"State TV (Dim M)\")\n",
    "plt.plot(np.log(tv_X), label=\"Position TV (Dim N)\")\n",
    "# plt.plot(np.log(tv_X[0] * np.cumprod(pred_tv) / pred_tv[0]), label=\"exp(speed / k)\")\n",
    "\n",
    "\n",
    "xs = np.array(range(iters))\n",
    "ys = np.exp(smallest_eig(v, x0) * xs) * tv_S[0]\n",
    "plt.plot(xs, np.log(ys), label=\"Slowest EigVal in T\")\n",
    "ys = np.cumprod(np.exp(min_resid_eig)) * tv_X[0] / np.exp(min_resid_eig[0])\n",
    "plt.plot(xs, np.log(ys), label=\"Slowest EigVal in Resid\")\n",
    "plt.plot(np.log(dist_to_eq), label=\"Distance to Eq-Space\")\n",
    "plt.legend();"
   ]
  },
  {
   "cell_type": "code",
   "execution_count": 140,
   "metadata": {
    "collapsed": false
   },
   "outputs": [
    {
     "data": {
      "image/png": "[encoded data removed]",
      "text/plain": [
       "<matplotlib.figure.Figure at 0x11768a7d0>"
      ]
     },
     "metadata": {},
     "output_type": "display_data"
    }
   ],
   "source": [
    "plt.plot(tv_S, label=\"State TV (Dim M)\")\n",
    "plt.plot(tv_X, label=\"Position TV (Dim N)\")\n",
    "# plt.plot(np.log(tv_X[0] * np.cumprod(pred_tv) / pred_tv[0]), label=\"exp(speed / k)\")\n",
    "\n",
    "\n",
    "xs = np.array(range(iters))\n",
    "ys = np.exp(smallest_eig(v, x0) * xs) * tv_S[0]\n",
    "plt.plot(xs, ys, label=\"Slowest EigVal in T\")\n",
    "ys = np.cumprod(np.exp(min_resid_eig)) * tv_X[0] / np.exp(min_resid_eig[0])\n",
    "plt.plot(xs, ys, label=\"Slowest EigVal in Resid\")\n",
    "plt.plot(dist_to_eq, label=\"Distance to Eq-Space\")\n",
    "plt.legend();"
   ]
  },
  {
   "cell_type": "code",
   "execution_count": 235,
   "metadata": {
    "collapsed": false
   },
   "outputs": [
    {
     "data": {
      "text/plain": [
       "[<matplotlib.lines.Line2D at 0x11a5a4bd0>]"
      ]
     },
     "execution_count": 235,
     "metadata": {},
     "output_type": "execute_result"
    },
    {
     "data": {
      "image/png": "[encoded data removed]",
      "text/plain": [
       "<matplotlib.figure.Figure at 0x11a0627d0>"
      ]
     },
     "metadata": {},
     "output_type": "display_data"
    }
   ],
   "source": [
    "plt.plot(exp_v)\n",
    "plt.plot(exp_v + var_v)\n",
    "plt.plot(exp_v - var_v)"
   ]
  },
  {
   "cell_type": "code",
   "execution_count": 44,
   "metadata": {
    "collapsed": false
   },
   "outputs": [],
   "source": [
    "import scipy\n",
    "import numpy as np\n",
    "from scipy import linalg, matrix\n",
    "def null(A, eps=1e-12):\n",
    "    u, s, vh = scipy.linalg.svd(A)\n",
    "    padding = max(0,np.shape(A)[1]-np.shape(s)[0])\n",
    "    null_mask = np.concatenate(((s <= eps), np.ones((padding,),dtype=bool)),axis=0)\n",
    "    null_space = scipy.compress(null_mask, vh, axis=0)\n",
    "    return scipy.transpose(null_space)"
   ]
  },
  {
   "cell_type": "code",
   "execution_count": 1555,
   "metadata": {
    "collapsed": false
   },
   "outputs": [],
   "source": [
    "\n",
    "proj_to_ns = ns.dot(np.linalg.inv(ns.transpose().dot(ns))).dot(ns.transpose())\n",
    "px0 = proj_to_ns.dot(x0)\n",
    "px0 = px0 - np.min(px0)\n",
    "px0 = px0 / np.sum(px0)\n",
    "# [(s, c) for s, c in zip(p.enum_states(), np.round(px0, 12)) if c > 0]"
   ]
  },
  {
   "cell_type": "code",
   "execution_count": 1560,
   "metadata": {
    "collapsed": true
   },
   "outputs": [],
   "source": []
  },
  {
   "cell_type": "code",
   "execution_count": 1558,
   "metadata": {
    "collapsed": false
   },
   "outputs": [
    {
     "data": {
      "text/plain": [
       "0.87515850584157329"
      ]
     },
     "execution_count": 1558,
     "metadata": {},
     "output_type": "execute_result"
    }
   ],
   "source": [
    "np.linalg.norm(x0 - px0)"
   ]
  },
  {
   "cell_type": "code",
   "execution_count": 940,
   "metadata": {
    "collapsed": false
   },
   "outputs": [
    {
     "data": {
      "text/plain": [
       "(2.9442578065703171+0j)"
      ]
     },
     "execution_count": 940,
     "metadata": {},
     "output_type": "execute_result"
    }
   ],
   "source": [
    "np.square(l[i1] + l[i2] )"
   ]
  },
  {
   "cell_type": "code",
   "execution_count": 806,
   "metadata": {
    "collapsed": false
   },
   "outputs": [
    {
     "data": {
      "text/plain": [
       "2.0"
      ]
     },
     "execution_count": 806,
     "metadata": {},
     "output_type": "execute_result"
    }
   ],
   "source": [
    "S.dot(f).sum()"
   ]
  },
  {
   "cell_type": "code",
   "execution_count": 827,
   "metadata": {
    "collapsed": false
   },
   "outputs": [
    {
     "data": {
      "text/plain": [
       "1.1622103041692016"
      ]
     },
     "execution_count": 827,
     "metadata": {},
     "output_type": "execute_result"
    }
   ],
   "source": [
    "1./np.abs(l[i1])"
   ]
  },
  {
   "cell_type": "code",
   "execution_count": 834,
   "metadata": {
    "collapsed": false
   },
   "outputs": [
    {
     "data": {
      "text/plain": [
       "0.00098150402466486153"
      ]
     },
     "execution_count": 834,
     "metadata": {},
     "output_type": "execute_result"
    }
   ],
   "source": [
    "np.sum(np.abs(x - .1))"
   ]
  },
  {
   "cell_type": "code",
   "execution_count": 905,
   "metadata": {
    "collapsed": false
   },
   "outputs": [
    {
     "data": {
      "text/plain": [
       "(0.17805920829032421+0j)"
      ]
     },
     "execution_count": 905,
     "metadata": {},
     "output_type": "execute_result"
    }
   ],
   "source": [
    "l[i1] * l[i2]"
   ]
  },
  {
   "cell_type": "code",
   "execution_count": 895,
   "metadata": {
    "collapsed": false
   },
   "outputs": [],
   "source": [
    "i1 = 0\n",
    "i2 = 1"
   ]
  },
  {
   "cell_type": "code",
   "execution_count": 963,
   "metadata": {
    "collapsed": false
   },
   "outputs": [
    {
     "data": {
      "text/plain": [
       "matrix([[ 0.3]])"
      ]
     },
     "execution_count": 963,
     "metadata": {},
     "output_type": "execute_result"
    }
   ],
   "source": [
    "vv.transpose().dot(f)"
   ]
  },
  {
   "cell_type": "code",
   "execution_count": 961,
   "metadata": {
    "collapsed": false
   },
   "outputs": [
    {
     "data": {
      "text/plain": [
       "0.4484043367265933"
      ]
     },
     "execution_count": 961,
     "metadata": {},
     "output_type": "execute_result"
    }
   ],
   "source": [
    "np.angle(l[0], deg=False)"
   ]
  },
  {
   "cell_type": "code",
   "execution_count": 975,
   "metadata": {
    "collapsed": false
   },
   "outputs": [
    {
     "data": {
      "text/plain": [
       "3.2189251264469476e-12"
      ]
     },
     "execution_count": 975,
     "metadata": {},
     "output_type": "execute_result"
    }
   ],
   "source": [
    "tv[0]"
   ]
  },
  {
   "cell_type": "code",
   "execution_count": 982,
   "metadata": {
    "collapsed": false
   },
   "outputs": [
    {
     "data": {
      "text/plain": [
       "array([ 0.57060985,  0.49112845,  0.42271817,  0.3638369 ,  0.31315732,\n",
       "        0.26953701,  0.23199265,  0.19967793,  0.17186438,  0.14792505,\n",
       "        0.12732027,  0.10958557,  0.09432117,  0.08118299,  0.06987484,\n",
       "        0.06014184,  0.05176456,  0.04455417,  0.03834813,  0.03300654,\n",
       "        0.02840899,  0.02445185,  0.0210459 ,  0.01811437,  0.01559119,\n",
       "        0.01341946,  0.01155023,  0.00994138,  0.00855662,  0.00736475])"
      ]
     },
     "execution_count": 982,
     "metadata": {},
     "output_type": "execute_result"
    }
   ],
   "source": [
    "tv[0] * np.cumprod(pred_tv) / pred_tv[0]"
   ]
  },
  {
   "cell_type": "code",
   "execution_count": 263,
   "metadata": {
    "collapsed": false
   },
   "outputs": [
    {
     "data": {
      "text/plain": [
       "R        2.777778\n",
       "speed    0.277778\n",
       "state         inf\n",
       "dtype: float64"
      ]
     },
     "execution_count": 263,
     "metadata": {},
     "output_type": "execute_result"
    }
   ],
   "source": [
    "results = dict()\n",
    "states = p.enum_states()\n",
    "for i in range(len(states)):\n",
    "    s = states[i]\n",
    "    r = State(s).num_open_to_right()\n",
    "    x = np.zeros(M)\n",
    "    x[i] = 1\n",
    "    speed = np.sum(V.dot(x))\n",
    "    results[i] = {\n",
    "        \"state\" : s,\n",
    "        \"R\" : r,\n",
    "        'speed' : speed\n",
    "    }\n",
    "pd.DataFrame(results).transpose().mean()"
   ]
  },
  {
   "cell_type": "code",
   "execution_count": 257,
   "metadata": {
    "collapsed": false,
    "scrolled": true
   },
   "outputs": [
    {
     "data": {
      "text/plain": [
       "R        2.666667\n",
       "speed    0.133333\n",
       "state         inf\n",
       "dtype: float64"
      ]
     },
     "execution_count": 257,
     "metadata": {},
     "output_type": "execute_result"
    }
   ],
   "source": [
    "pd.DataFrame(results).transpose().mean()"
   ]
  },
  {
   "cell_type": "code",
   "execution_count": null,
   "metadata": {
    "collapsed": true
   },
   "outputs": [],
   "source": [
    "zzz.num_open_to_right"
   ]
  },
  {
   "cell_type": "code",
   "execution_count": 178,
   "metadata": {
    "collapsed": false
   },
   "outputs": [
    {
     "data": {
      "text/plain": [
       "[(0, 0.25),\n",
       " (1, 79807285886358.594),\n",
       " (2, 79807285886358.594),\n",
       " (3, 0.22265625),\n",
       " (4, 0.22265625),\n",
       " (5, 0.29999999999999982),\n",
       " (6, 81679996157050.203),\n",
       " (7, -9.8115234375),\n",
       " (8, 0.34765625),\n",
       " (9, 0.34765625),\n",
       " (10, -0.3671875),\n",
       " (11, nan),\n",
       " (12, 0.1875),\n",
       " (13, 0.1875),\n",
       " (14, 0.275390625),\n",
       " (15, 0.431640625),\n",
       " (16, 0.431640625),\n",
       " (17, 0.40234375),\n",
       " (18, 0.40234375),\n",
       " (19, 0.25)]"
      ]
     },
     "execution_count": 178,
     "metadata": {},
     "output_type": "execute_result"
    }
   ],
   "source": [
    "zip(range(M), eigen_speeds)"
   ]
  },
  {
   "cell_type": "code",
   "execution_count": 176,
   "metadata": {
    "collapsed": false
   },
   "outputs": [
    {
     "data": {
      "text/plain": [
       "array([ 0.28470189+0.j        ,  0.46016940+0.27127819j,\n",
       "        0.46016940-0.27127819j,  0.81390286+0.26585094j,\n",
       "        0.81390286-0.26585094j,  1.00000000+0.j        ,\n",
       "        0.74632787+0.j        ,  0.75415905+0.j        ,\n",
       "        0.62786906+0.132092j  ,  0.62786906-0.132092j  ,\n",
       "        0.54085372+0.j        ,  0.54085372+0.j        ,\n",
       "        0.62786906+0.132092j  ,  0.62786906-0.132092j  ,\n",
       "        0.91092854+0.j        ,  0.81290647+0.12414363j,\n",
       "        0.81290647-0.12414363j,  0.81290647+0.12414363j,\n",
       "        0.81290647-0.12414363j,  0.91092854+0.j        ])"
      ]
     },
     "execution_count": 176,
     "metadata": {},
     "output_type": "execute_result"
    }
   ],
   "source": [
    "def expected_time_until(p, x0,  end_states):\n",
    "    S, T, _ = p.matrices()\n",
    "    end_indices = [p.state_index(s) for s in end_states]\n",
    "    \n",
    "    "
   ]
  },
  {
   "cell_type": "code",
   "execution_count": 307,
   "metadata": {
    "collapsed": false
   },
   "outputs": [
    {
     "data": {
      "text/plain": [
       "array([ 0.,  0.,  0.,  0.,  0.,  1.,  1.,  1.,  1.,  1.])"
      ]
     },
     "execution_count": 307,
     "metadata": {},
     "output_type": "execute_result"
    }
   ],
   "source": [
    "S.dot(x)"
   ]
  },
  {
   "cell_type": "code",
   "execution_count": 315,
   "metadata": {
    "collapsed": false
   },
   "outputs": [
    {
     "data": {
      "text/plain": [
       "matrix([[ 0.1]])"
      ]
     },
     "execution_count": 315,
     "metadata": {},
     "output_type": "execute_result"
    }
   ],
   "source": [
    "np.sum(V.todense(), axis=1).transpose().dot(x[:, None])"
   ]
  },
  {
   "cell_type": "code",
   "execution_count": 318,
   "metadata": {
    "collapsed": false
   },
   "outputs": [
    {
     "data": {
      "text/plain": [
       "array([ 0. ,  0. ,  0. ,  0. ,  0. ,  0. ,  0. ,  0. ,  0. ,  0. ,  0. ,\n",
       "        0. ,  0. ,  0. ,  0. ,  0. ,  0. ,  0. ,  0. ,  0. ,  0. ,  0. ,\n",
       "        0. ,  0. ,  0. ,  0. ,  0. ,  0. ,  0. ,  0. ,  0. ,  0. ,  0. ,\n",
       "        0. ,  0. ,  0. ,  0. ,  0. ,  0. ,  0. ,  0. ,  0. ,  0. ,  0. ,\n",
       "        0. ,  0. ,  0. ,  0. ,  0. ,  0. ,  0. ,  0. ,  0. ,  0. ,  0. ,\n",
       "        0. ,  0. ,  0. ,  0. ,  0. ,  0. ,  0. ,  0. ,  0. ,  0. ,  0. ,\n",
       "        0. ,  0. ,  0. ,  0. ,  0. ,  0. ,  0. ,  0. ,  0. ,  0. ,  0. ,\n",
       "        0. ,  0. ,  0. ,  0. ,  0. ,  0. ,  0. ,  0. ,  0. ,  0. ,  0. ,\n",
       "        0. ,  0. ,  0. ,  0. ,  0. ,  0. ,  0. ,  0. ,  0. ,  0. ,  0. ,\n",
       "        0. ,  0. ,  0. ,  0. ,  0. ,  0. ,  0. ,  0. ,  0. ,  0. ,  0. ,\n",
       "        0. ,  0. ,  0. ,  0. ,  0. ,  0. ,  0. ,  0. ,  0. ,  0. ,  0. ,\n",
       "        0.1,  0. ,  0. ,  0. ,  0. ,  0. ,  0. ,  0. ,  0. ,  0. ,  0. ,\n",
       "        0. ,  0. ,  0. ,  0. ,  0. ,  0. ,  0. ,  0. ,  0. ,  0. ,  0. ,\n",
       "        0. ,  0. ,  0. ,  0. ,  0. ,  0. ,  0. ,  0. ,  0. ,  0. ,  0. ,\n",
       "        0. ,  0. ,  0. ,  0. ,  0. ,  0. ,  0. ,  0. ,  0. ,  0. ,  0. ,\n",
       "        0. ,  0. ,  0. ,  0. ,  0. ,  0. ,  0. ,  0. ,  0. ,  0. ,  0. ,\n",
       "        0. ,  0. ,  0. ,  0. ,  0. ,  0. ,  0. ,  0. ,  0. ,  0. ,  0. ,\n",
       "        0. ,  0. ,  0. ,  0. ,  0. ,  0. ,  0. ,  0. ,  0. ,  0. ,  0. ,\n",
       "        0. ,  0. ,  0. ,  0. ,  0. ,  0. ,  0. ,  0. ,  0. ,  0. ,  0. ,\n",
       "        0. ,  0. ,  0. ,  0. ,  0. ,  0. ,  0. ,  0. ,  0. ,  0. ,  0. ,\n",
       "        0. ,  0. ,  0. ,  0. ,  0. ,  0. ,  0. ,  0. ,  0. ,  0. ,  0. ,\n",
       "        0. ,  0. ,  0. ,  0. ,  0. ,  0. ,  0. ,  0. ,  0. ,  0. ,  0. ,\n",
       "        0. ,  0. ,  0. ,  0. ,  0. ,  0. ,  0. ,  0. ,  0. ,  0. ])"
      ]
     },
     "execution_count": 318,
     "metadata": {},
     "output_type": "execute_result"
    }
   ],
   "source": [
    "V.dot(x)"
   ]
  },
  {
   "cell_type": "code",
   "execution_count": 379,
   "metadata": {
    "collapsed": false
   },
   "outputs": [],
   "source": [
    "A = S.dot(T.todense())"
   ]
  },
  {
   "cell_type": "code",
   "execution_count": 380,
   "metadata": {
    "collapsed": false
   },
   "outputs": [],
   "source": [
    "u, s, v = np.linalg.svd(A)"
   ]
  },
  {
   "cell_type": "code",
   "execution_count": 381,
   "metadata": {
    "collapsed": false
   },
   "outputs": [
    {
     "data": {
      "text/plain": [
       "<matplotlib.axes.AxesSubplot at 0x10c1a20d0>"
      ]
     },
     "execution_count": 381,
     "metadata": {},
     "output_type": "execute_result"
    },
    {
     "data": {
      "image/png": "[encoded data removed]",
      "text/plain": [
       "<matplotlib.figure.Figure at 0x10c1bc9d0>"
      ]
     },
     "metadata": {},
     "output_type": "display_data"
    }
   ],
   "source": [
    "pd.DataFrame(u)[9].plot.bar()"
   ]
  },
  {
   "cell_type": "code",
   "execution_count": 384,
   "metadata": {
    "collapsed": false
   },
   "outputs": [
    {
     "data": {
      "text/plain": [
       "array([ 1.        ,  0.57189928,  0.57189928,  0.55747268,  0.55747268,\n",
       "        0.53933633,  0.53933633,  0.52443152,  0.52443152,  0.51868785])"
      ]
     },
     "execution_count": 384,
     "metadata": {},
     "output_type": "execute_result"
    }
   ],
   "source": [
    "np.sqrt(s / np.max(s)) "
   ]
  },
  {
   "cell_type": "code",
   "execution_count": 378,
   "metadata": {
    "collapsed": false
   },
   "outputs": [
    {
     "data": {
      "text/plain": [
       "matrix([[ 0.03968254,  0.03968254,  0.03968254,  0.03968254,  0.03968254,\n",
       "          0.03968254,  0.03968254,  0.03968254,  0.03968254,  0.03968254,\n",
       "          0.03968254,  0.03968254,  0.03968254,  0.03968254,  0.03968254,\n",
       "          0.03968254,  0.03968254,  0.03968254,  0.03968254,  0.03968254,\n",
       "          0.03968254,  0.03968254,  0.03968254,  0.03968254,  0.03968254,\n",
       "          0.03968254,  0.03968254,  0.03968254,  0.03968254,  0.03968254,\n",
       "          0.03968254,  0.03968254,  0.03968254,  0.03968254,  0.03968254,\n",
       "          0.03968254,  0.03968254,  0.03968254,  0.03968254,  0.03968254,\n",
       "          0.03968254,  0.03968254,  0.03968254,  0.03968254,  0.03968254,\n",
       "          0.03968254,  0.03968254,  0.03968254,  0.03968254,  0.03968254,\n",
       "          0.03968254,  0.03968254,  0.03968254,  0.03968254,  0.03968254,\n",
       "          0.03968254,  0.03968254,  0.03968254,  0.03968254,  0.03968254,\n",
       "          0.03968254,  0.03968254,  0.03968254,  0.03968254,  0.03968254,\n",
       "          0.03968254,  0.03968254,  0.03968254,  0.03968254,  0.03968254,\n",
       "          0.03968254,  0.03968254,  0.03968254,  0.03968254,  0.03968254,\n",
       "          0.03968254,  0.03968254,  0.03968254,  0.03968254,  0.03968254,\n",
       "          0.03968254,  0.03968254,  0.03968254,  0.03968254,  0.03968254,\n",
       "          0.03968254,  0.03968254,  0.03968254,  0.03968254,  0.03968254,\n",
       "          0.03968254,  0.03968254,  0.03968254,  0.03968254,  0.03968254,\n",
       "          0.03968254,  0.03968254,  0.03968254,  0.03968254,  0.03968254,\n",
       "          0.03968254,  0.03968254,  0.03968254,  0.03968254,  0.03968254,\n",
       "          0.03968254,  0.03968254,  0.03968254,  0.03968254,  0.03968254,\n",
       "          0.03968254,  0.03968254,  0.03968254,  0.03968254,  0.03968254,\n",
       "          0.03968254,  0.03968254,  0.03968254,  0.03968254,  0.03968254,\n",
       "          0.03968254,  0.03968254,  0.03968254,  0.03968254,  0.03968254,\n",
       "          0.03968254,  0.03968254,  0.03968254,  0.03968254,  0.03968254,\n",
       "          0.03968254,  0.03968254,  0.03968254,  0.03968254,  0.03968254,\n",
       "          0.03968254,  0.03968254,  0.03968254,  0.03968254,  0.03968254,\n",
       "          0.03968254,  0.03968254,  0.03968254,  0.03968254,  0.03968254,\n",
       "          0.03968254,  0.03968254,  0.03968254,  0.03968254,  0.03968254,\n",
       "          0.03968254,  0.03968254,  0.03968254,  0.03968254,  0.03968254,\n",
       "          0.03968254,  0.03968254,  0.03968254,  0.03968254,  0.03968254,\n",
       "          0.03968254,  0.03968254,  0.03968254,  0.03968254,  0.03968254,\n",
       "          0.03968254,  0.03968254,  0.03968254,  0.03968254,  0.03968254,\n",
       "          0.03968254,  0.03968254,  0.03968254,  0.03968254,  0.03968254,\n",
       "          0.03968254,  0.03968254,  0.03968254,  0.03968254,  0.03968254,\n",
       "          0.03968254,  0.03968254,  0.03968254,  0.03968254,  0.03968254,\n",
       "          0.03968254,  0.03968254,  0.03968254,  0.03968254,  0.03968254,\n",
       "          0.03968254,  0.03968254,  0.03968254,  0.03968254,  0.03968254,\n",
       "          0.03968254,  0.03968254,  0.03968254,  0.03968254,  0.03968254,\n",
       "          0.03968254,  0.03968254,  0.03968254,  0.03968254,  0.03968254,\n",
       "          0.03968254,  0.03968254,  0.03968254,  0.03968254,  0.03968254,\n",
       "          0.03968254,  0.03968254,  0.03968254,  0.03968254,  0.03968254,\n",
       "          0.03968254,  0.03968254,  0.03968254,  0.03968254,  0.03968254,\n",
       "          0.03968254,  0.03968254,  0.03968254,  0.03968254,  0.03968254,\n",
       "          0.03968254,  0.03968254,  0.03968254,  0.03968254,  0.03968254,\n",
       "          0.03968254,  0.03968254,  0.03968254,  0.03968254,  0.03968254,\n",
       "          0.03968254,  0.03968254,  0.03968254,  0.03968254,  0.03968254,\n",
       "          0.03968254,  0.03968254,  0.03968254,  0.03968254,  0.03968254,\n",
       "          0.03968254,  0.03968254,  0.03968254,  0.03968254,  0.03968254,\n",
       "          0.03968254,  0.03968254]])"
      ]
     },
     "execution_count": 378,
     "metadata": {},
     "output_type": "execute_result"
    }
   ],
   "source": [
    "np.sum(A, axis=0)"
   ]
  },
  {
   "cell_type": "code",
   "execution_count": 372,
   "metadata": {
    "collapsed": false
   },
   "outputs": [
    {
     "data": {
      "text/plain": [
       "array([ 126.,  126.,  126.,  126.,  126.,  126.,  126.,  126.,  126.,  126.])"
      ]
     },
     "execution_count": 372,
     "metadata": {},
     "output_type": "execute_result"
    }
   ],
   "source": [
    "np.sum(S, axis=1)"
   ]
  },
  {
   "cell_type": "code",
   "execution_count": 386,
   "metadata": {
    "collapsed": false
   },
   "outputs": [
    {
     "data": {
      "text/plain": [
       "{'1111010000': 1.0, '1111100000': 0}"
      ]
     },
     "execution_count": 386,
     "metadata": {},
     "output_type": "execute_result"
    }
   ],
   "source": [
    "p.speeds('1111100000')"
   ]
  },
  {
   "cell_type": "code",
   "execution_count": 389,
   "metadata": {
    "collapsed": false
   },
   "outputs": [],
   "source": [
    "x = np.zeros(252)\n",
    "x[0] = 1"
   ]
  },
  {
   "cell_type": "code",
   "execution_count": 392,
   "metadata": {
    "collapsed": false
   },
   "outputs": [],
   "source": [
    "l, v = np.linalg.eig(T.todense())"
   ]
  },
  {
   "cell_type": "code",
   "execution_count": 441,
   "metadata": {
    "collapsed": false
   },
   "outputs": [
    {
     "data": {
      "text/plain": [
       "(1.6514567491299204e-15+0j)"
      ]
     },
     "execution_count": 441,
     "metadata": {},
     "output_type": "execute_result"
    }
   ],
   "source": [
    "np.sum(V.dot(v[:, 0]))"
   ]
  },
  {
   "cell_type": "code",
   "execution_count": 482,
   "metadata": {
    "collapsed": false
   },
   "outputs": [
    {
     "data": {
      "text/plain": [
       "(-0.004578528072534518-0.00866252426270433j)"
      ]
     },
     "execution_count": 482,
     "metadata": {},
     "output_type": "execute_result"
    },
    {
     "data": {
      "image/png": "[encoded data removed]",
      "text/plain": [
       "<matplotlib.figure.Figure at 0x10dc281d0>"
      ]
     },
     "metadata": {},
     "output_type": "display_data"
    }
   ],
   "source": [
    "k = 26\n",
    "pd.DataFrame(np.real(S.dot(v)))[k].plot.bar(title=l[k])\n",
    "np.sum(V.todense(), axis=1).transpose().dot(v).tolist()[0][k]"
   ]
  },
  {
   "cell_type": "code",
   "execution_count": 492,
   "metadata": {
    "collapsed": false
   },
   "outputs": [
    {
     "data": {
      "text/plain": [
       "array([[ 1.,  1.,  1.],\n",
       "       [ 1.,  1.,  1.],\n",
       "       [ 1.,  1.,  1.],\n",
       "       [ 1.,  1.,  1.],\n",
       "       [ 1.,  0.,  0.],\n",
       "       [ 0.,  1.,  0.],\n",
       "       [ 0.,  0.,  1.],\n",
       "       [ 0.,  0.,  0.],\n",
       "       [ 0.,  0.,  0.],\n",
       "       [ 0.,  0.,  0.]])"
      ]
     },
     "execution_count": 492,
     "metadata": {},
     "output_type": "execute_result"
    }
   ],
   "source": [
    "S[:, :3]"
   ]
  },
  {
   "cell_type": "code",
   "execution_count": 491,
   "metadata": {
    "collapsed": false
   },
   "outputs": [
    {
     "data": {
      "text/plain": [
       "matrix([[ 0.1,  0.2,  0.2],\n",
       "        [ 0.1,  0.2,  0.2],\n",
       "        [ 0.1,  0.2,  0.2],\n",
       "        [ 0.1,  0.1,  0.1],\n",
       "        [ 0. ,  0.1,  0.1],\n",
       "        [ 0.1,  0.1,  0. ],\n",
       "        [ 0. ,  0.1,  0.1],\n",
       "        [ 0. ,  0. ,  0.1],\n",
       "        [ 0. ,  0. ,  0. ],\n",
       "        [ 0. ,  0. ,  0. ]])"
      ]
     },
     "execution_count": 491,
     "metadata": {},
     "output_type": "execute_result"
    }
   ],
   "source": [
    "S.dot(V.todense())[:, :3]"
   ]
  },
  {
   "cell_type": "code",
   "execution_count": null,
   "metadata": {
    "collapsed": true
   },
   "outputs": [],
   "source": []
  },
  {
   "cell_type": "code",
   "execution_count": 477,
   "metadata": {
    "collapsed": false
   },
   "outputs": [
    {
     "data": {
      "text/plain": [
       "matrix([[ 0.06299408+0.j],\n",
       "        [ 0.06299408+0.j],\n",
       "        [ 0.06299408+0.j],\n",
       "        [ 0.06299408+0.j],\n",
       "        [ 0.06299408+0.j],\n",
       "        [ 0.06299408+0.j],\n",
       "        [ 0.06299408+0.j],\n",
       "        [ 0.06299408+0.j],\n",
       "        [ 0.06299408+0.j],\n",
       "        [ 0.06299408+0.j],\n",
       "        [ 0.06299408+0.j],\n",
       "        [ 0.06299408+0.j],\n",
       "        [ 0.06299408+0.j],\n",
       "        [ 0.06299408+0.j],\n",
       "        [ 0.06299408+0.j],\n",
       "        [ 0.06299408+0.j],\n",
       "        [ 0.06299408+0.j],\n",
       "        [ 0.06299408+0.j],\n",
       "        [ 0.06299408+0.j],\n",
       "        [ 0.06299408+0.j],\n",
       "        [ 0.06299408+0.j],\n",
       "        [ 0.06299408+0.j],\n",
       "        [ 0.06299408+0.j],\n",
       "        [ 0.06299408+0.j],\n",
       "        [ 0.06299408+0.j],\n",
       "        [ 0.06299408+0.j],\n",
       "        [ 0.06299408+0.j],\n",
       "        [ 0.06299408+0.j],\n",
       "        [ 0.06299408+0.j],\n",
       "        [ 0.06299408+0.j],\n",
       "        [ 0.06299408+0.j],\n",
       "        [ 0.06299408+0.j],\n",
       "        [ 0.06299408+0.j],\n",
       "        [ 0.06299408+0.j],\n",
       "        [ 0.06299408+0.j],\n",
       "        [ 0.06299408+0.j],\n",
       "        [ 0.06299408+0.j],\n",
       "        [ 0.06299408+0.j],\n",
       "        [ 0.06299408+0.j],\n",
       "        [ 0.06299408+0.j],\n",
       "        [ 0.06299408+0.j],\n",
       "        [ 0.06299408+0.j],\n",
       "        [ 0.06299408+0.j],\n",
       "        [ 0.06299408+0.j],\n",
       "        [ 0.06299408+0.j],\n",
       "        [ 0.06299408+0.j],\n",
       "        [ 0.06299408+0.j],\n",
       "        [ 0.06299408+0.j],\n",
       "        [ 0.06299408+0.j],\n",
       "        [ 0.06299408+0.j],\n",
       "        [ 0.06299408+0.j],\n",
       "        [ 0.06299408+0.j],\n",
       "        [ 0.06299408+0.j],\n",
       "        [ 0.06299408+0.j],\n",
       "        [ 0.06299408+0.j],\n",
       "        [ 0.06299408+0.j],\n",
       "        [ 0.06299408+0.j],\n",
       "        [ 0.06299408+0.j],\n",
       "        [ 0.06299408+0.j],\n",
       "        [ 0.06299408+0.j],\n",
       "        [ 0.06299408+0.j],\n",
       "        [ 0.06299408+0.j],\n",
       "        [ 0.06299408+0.j],\n",
       "        [ 0.06299408+0.j],\n",
       "        [ 0.06299408+0.j],\n",
       "        [ 0.06299408+0.j],\n",
       "        [ 0.06299408+0.j],\n",
       "        [ 0.06299408+0.j],\n",
       "        [ 0.06299408+0.j],\n",
       "        [ 0.06299408+0.j],\n",
       "        [ 0.06299408+0.j],\n",
       "        [ 0.06299408+0.j],\n",
       "        [ 0.06299408+0.j],\n",
       "        [ 0.06299408+0.j],\n",
       "        [ 0.06299408+0.j],\n",
       "        [ 0.06299408+0.j],\n",
       "        [ 0.06299408+0.j],\n",
       "        [ 0.06299408+0.j],\n",
       "        [ 0.06299408+0.j],\n",
       "        [ 0.06299408+0.j],\n",
       "        [ 0.06299408+0.j],\n",
       "        [ 0.06299408+0.j],\n",
       "        [ 0.06299408+0.j],\n",
       "        [ 0.06299408+0.j],\n",
       "        [ 0.06299408+0.j],\n",
       "        [ 0.06299408+0.j],\n",
       "        [ 0.06299408+0.j],\n",
       "        [ 0.06299408+0.j],\n",
       "        [ 0.06299408+0.j],\n",
       "        [ 0.06299408+0.j],\n",
       "        [ 0.06299408+0.j],\n",
       "        [ 0.06299408+0.j],\n",
       "        [ 0.06299408+0.j],\n",
       "        [ 0.06299408+0.j],\n",
       "        [ 0.06299408+0.j],\n",
       "        [ 0.06299408+0.j],\n",
       "        [ 0.06299408+0.j],\n",
       "        [ 0.06299408+0.j],\n",
       "        [ 0.06299408+0.j],\n",
       "        [ 0.06299408+0.j],\n",
       "        [ 0.06299408+0.j],\n",
       "        [ 0.06299408+0.j],\n",
       "        [ 0.06299408+0.j],\n",
       "        [ 0.06299408+0.j],\n",
       "        [ 0.06299408+0.j],\n",
       "        [ 0.06299408+0.j],\n",
       "        [ 0.06299408+0.j],\n",
       "        [ 0.06299408+0.j],\n",
       "        [ 0.06299408+0.j],\n",
       "        [ 0.06299408+0.j],\n",
       "        [ 0.06299408+0.j],\n",
       "        [ 0.06299408+0.j],\n",
       "        [ 0.06299408+0.j],\n",
       "        [ 0.06299408+0.j],\n",
       "        [ 0.06299408+0.j],\n",
       "        [ 0.06299408+0.j],\n",
       "        [ 0.06299408+0.j],\n",
       "        [ 0.06299408+0.j],\n",
       "        [ 0.06299408+0.j],\n",
       "        [ 0.06299408+0.j],\n",
       "        [ 0.06299408+0.j],\n",
       "        [ 0.06299408+0.j],\n",
       "        [ 0.06299408+0.j],\n",
       "        [ 0.06299408+0.j],\n",
       "        [ 0.06299408+0.j],\n",
       "        [ 0.06299408+0.j],\n",
       "        [ 0.06299408+0.j],\n",
       "        [ 0.06299408+0.j],\n",
       "        [ 0.06299408+0.j],\n",
       "        [ 0.06299408+0.j],\n",
       "        [ 0.06299408+0.j],\n",
       "        [ 0.06299408+0.j],\n",
       "        [ 0.06299408+0.j],\n",
       "        [ 0.06299408+0.j],\n",
       "        [ 0.06299408+0.j],\n",
       "        [ 0.06299408+0.j],\n",
       "        [ 0.06299408+0.j],\n",
       "        [ 0.06299408+0.j],\n",
       "        [ 0.06299408+0.j],\n",
       "        [ 0.06299408+0.j],\n",
       "        [ 0.06299408+0.j],\n",
       "        [ 0.06299408+0.j],\n",
       "        [ 0.06299408+0.j],\n",
       "        [ 0.06299408+0.j],\n",
       "        [ 0.06299408+0.j],\n",
       "        [ 0.06299408+0.j],\n",
       "        [ 0.06299408+0.j],\n",
       "        [ 0.06299408+0.j],\n",
       "        [ 0.06299408+0.j],\n",
       "        [ 0.06299408+0.j],\n",
       "        [ 0.06299408+0.j],\n",
       "        [ 0.06299408+0.j],\n",
       "        [ 0.06299408+0.j],\n",
       "        [ 0.06299408+0.j],\n",
       "        [ 0.06299408+0.j],\n",
       "        [ 0.06299408+0.j],\n",
       "        [ 0.06299408+0.j],\n",
       "        [ 0.06299408+0.j],\n",
       "        [ 0.06299408+0.j],\n",
       "        [ 0.06299408+0.j],\n",
       "        [ 0.06299408+0.j],\n",
       "        [ 0.06299408+0.j],\n",
       "        [ 0.06299408+0.j],\n",
       "        [ 0.06299408+0.j],\n",
       "        [ 0.06299408+0.j],\n",
       "        [ 0.06299408+0.j],\n",
       "        [ 0.06299408+0.j],\n",
       "        [ 0.06299408+0.j],\n",
       "        [ 0.06299408+0.j],\n",
       "        [ 0.06299408+0.j],\n",
       "        [ 0.06299408+0.j],\n",
       "        [ 0.06299408+0.j],\n",
       "        [ 0.06299408+0.j],\n",
       "        [ 0.06299408+0.j],\n",
       "        [ 0.06299408+0.j],\n",
       "        [ 0.06299408+0.j],\n",
       "        [ 0.06299408+0.j],\n",
       "        [ 0.06299408+0.j],\n",
       "        [ 0.06299408+0.j],\n",
       "        [ 0.06299408+0.j],\n",
       "        [ 0.06299408+0.j],\n",
       "        [ 0.06299408+0.j],\n",
       "        [ 0.06299408+0.j],\n",
       "        [ 0.06299408+0.j],\n",
       "        [ 0.06299408+0.j],\n",
       "        [ 0.06299408+0.j],\n",
       "        [ 0.06299408+0.j],\n",
       "        [ 0.06299408+0.j],\n",
       "        [ 0.06299408+0.j],\n",
       "        [ 0.06299408+0.j],\n",
       "        [ 0.06299408+0.j],\n",
       "        [ 0.06299408+0.j],\n",
       "        [ 0.06299408+0.j],\n",
       "        [ 0.06299408+0.j],\n",
       "        [ 0.06299408+0.j],\n",
       "        [ 0.06299408+0.j],\n",
       "        [ 0.06299408+0.j],\n",
       "        [ 0.06299408+0.j],\n",
       "        [ 0.06299408+0.j],\n",
       "        [ 0.06299408+0.j],\n",
       "        [ 0.06299408+0.j],\n",
       "        [ 0.06299408+0.j],\n",
       "        [ 0.06299408+0.j],\n",
       "        [ 0.06299408+0.j],\n",
       "        [ 0.06299408+0.j],\n",
       "        [ 0.06299408+0.j],\n",
       "        [ 0.06299408+0.j],\n",
       "        [ 0.06299408+0.j],\n",
       "        [ 0.06299408+0.j],\n",
       "        [ 0.06299408+0.j],\n",
       "        [ 0.06299408+0.j],\n",
       "        [ 0.06299408+0.j],\n",
       "        [ 0.06299408+0.j],\n",
       "        [ 0.06299408+0.j],\n",
       "        [ 0.06299408+0.j],\n",
       "        [ 0.06299408+0.j],\n",
       "        [ 0.06299408+0.j],\n",
       "        [ 0.06299408+0.j],\n",
       "        [ 0.06299408+0.j],\n",
       "        [ 0.06299408+0.j],\n",
       "        [ 0.06299408+0.j],\n",
       "        [ 0.06299408+0.j],\n",
       "        [ 0.06299408+0.j],\n",
       "        [ 0.06299408+0.j],\n",
       "        [ 0.06299408+0.j],\n",
       "        [ 0.06299408+0.j],\n",
       "        [ 0.06299408+0.j],\n",
       "        [ 0.06299408+0.j],\n",
       "        [ 0.06299408+0.j],\n",
       "        [ 0.06299408+0.j],\n",
       "        [ 0.06299408+0.j],\n",
       "        [ 0.06299408+0.j],\n",
       "        [ 0.06299408+0.j],\n",
       "        [ 0.06299408+0.j],\n",
       "        [ 0.06299408+0.j],\n",
       "        [ 0.06299408+0.j],\n",
       "        [ 0.06299408+0.j],\n",
       "        [ 0.06299408+0.j],\n",
       "        [ 0.06299408+0.j],\n",
       "        [ 0.06299408+0.j],\n",
       "        [ 0.06299408+0.j],\n",
       "        [ 0.06299408+0.j],\n",
       "        [ 0.06299408+0.j],\n",
       "        [ 0.06299408+0.j],\n",
       "        [ 0.06299408+0.j],\n",
       "        [ 0.06299408+0.j],\n",
       "        [ 0.06299408+0.j],\n",
       "        [ 0.06299408+0.j],\n",
       "        [ 0.06299408+0.j],\n",
       "        [ 0.06299408+0.j],\n",
       "        [ 0.06299408+0.j],\n",
       "        [ 0.06299408+0.j]])"
      ]
     },
     "execution_count": 477,
     "metadata": {},
     "output_type": "execute_result"
    }
   ],
   "source": [
    "v[:, 13]"
   ]
  },
  {
   "cell_type": "code",
   "execution_count": 481,
   "metadata": {
    "collapsed": false
   },
   "outputs": [
    {
     "data": {
      "text/plain": [
       "[(0, (1.6073297207097603e-15+0j)),\n",
       " (1, (0.0003294516185382085-1.0322328715515149e-05j)),\n",
       " (2, (0.0003294516185382085+1.0322328715515149e-05j)),\n",
       " (3, (-2.5110122314764283e-16-6.884683795282953e-16j)),\n",
       " (4, (-2.5110122314764283e-16+6.884683795282953e-16j)),\n",
       " (5, (-2.3850279390336127e-15+0j)),\n",
       " (6, (1.5766467992284205e-15-3.861386037307124e-16j)),\n",
       " (7, (1.5766467992284205e-15+3.861386037307124e-16j)),\n",
       " (8, (2.4697041287047306e-15-2.854866950480206e-15j)),\n",
       " (9, (2.4697041287047306e-15+2.854866950480206e-15j)),\n",
       " (10, (-0.013011183199160344+0.01774509307598287j)),\n",
       " (11, (-0.013011183199160344-0.01774509307598287j)),\n",
       " (12, (-1.840511114825291e-15+0j)),\n",
       " (13, (4.4095855184409825+0j)),\n",
       " (14, (-2.05911676598447e-15+1.4597698050344832e-15j)),\n",
       " (15, (-2.05911676598447e-15-1.4597698050344832e-15j)),\n",
       " (16, (-6.18186057899095e-14+0j)),\n",
       " (17, (-4.3279182321276366e-15+1.7579254024679969e-15j)),\n",
       " (18, (-4.3279182321276366e-15-1.7579254024679969e-15j)),\n",
       " (19, (9.874913386997974e-16-4.2934406030425976e-17j)),\n",
       " (20, (9.874913386997974e-16+4.2934406030425976e-17j)),\n",
       " (21, (3.934688268562511e-16+3.854270960550188e-16j)),\n",
       " (22, (3.934688268562511e-16-3.854270960550188e-16j)),\n",
       " (23, (3.2612801348363973e-16+0j)),\n",
       " (24, (1.6002824065886045e-16-2.607506224827638e-15j)),\n",
       " (25, (1.6002824065886045e-16+2.607506224827638e-15j)),\n",
       " (26, (-0.004578528072534505-0.008662524262704302j)),\n",
       " (27, (-0.004578528072534505+0.008662524262704302j)),\n",
       " (28, (9.125892316136364e-15-2.680147770384167e-16j)),\n",
       " (29, (9.125892316136364e-15+2.680147770384167e-16j)),\n",
       " (30, (1.2702106077025488e-16+1.4369744543579754e-16j)),\n",
       " (31, (1.2702106077025488e-16-1.4369744543579754e-16j)),\n",
       " (32, (-4.3237982638721917e-16-3.714070067120656e-16j)),\n",
       " (33, (-4.3237982638721917e-16+3.714070067120656e-16j)),\n",
       " (34, (-8.12501108060637e-16-4.939625097843958e-16j)),\n",
       " (35, (-8.12501108060637e-16+4.939625097843958e-16j)),\n",
       " (36, (2.2724877535296173e-16-1.8539857149502126e-16j)),\n",
       " (37, (2.2724877535296173e-16+1.8539857149502126e-16j)),\n",
       " (38, (-1.0260347259316571e-15-6.457779189866786e-16j)),\n",
       " (39, (-1.0260347259316571e-15+6.457779189866786e-16j)),\n",
       " (40, (-2.677383054844329e-15+0j)),\n",
       " (41, (-1.115427195053087e-15-7.593752016088473e-16j)),\n",
       " (42, (-1.115427195053087e-15+7.593752016088473e-16j)),\n",
       " (43, (-1.141448047192739e-15-4.457371971522406e-15j)),\n",
       " (44, (-1.141448047192739e-15+4.457371971522406e-15j)),\n",
       " (45, (-2.494640778671897e-15+2.4904123901992037e-16j)),\n",
       " (46, (-2.494640778671897e-15-2.4904123901992037e-16j)),\n",
       " (47, (3.7404974950749903e-16+6.396792817664476e-16j)),\n",
       " (48, (3.7404974950749903e-16-6.396792817664476e-16j)),\n",
       " (49, (2.5560066216345767e-16-8.809413701987845e-16j)),\n",
       " (50, (2.5560066216345767e-16+8.809413701987845e-16j)),\n",
       " (51, (4.961309141293668e-16+1.457167719820518e-15j)),\n",
       " (52, (4.961309141293668e-16-1.457167719820518e-15j)),\n",
       " (53, (0.9103273179233362+0j)),\n",
       " (54, (1.9671764217576992e-15-1.2420620087993939e-14j)),\n",
       " (55, (1.9671764217576992e-15+1.2420620087993939e-14j)),\n",
       " (56, (5.4643789493269423e-17-9.653736143810931e-16j)),\n",
       " (57, (5.4643789493269423e-17+9.653736143810931e-16j)),\n",
       " (58, (-8.916478666520788e-16+5.707240235963695e-16j)),\n",
       " (59, (-8.916478666520788e-16-5.707240235963695e-16j)),\n",
       " (60, (-5.648693318649478e-16-5.4643789493269423e-17j)),\n",
       " (61, (-5.648693318649478e-16+5.4643789493269423e-17j)),\n",
       " (62, (-2.4643915380595516e-16+7.684824998577255e-16j)),\n",
       " (63, (-2.4643915380595516e-16-7.684824998577255e-16j)),\n",
       " (64, (2.2265609495031313e-14+0j)),\n",
       " (65, (-8.200905232680356e-16+1.654926196081874e-15j)),\n",
       " (66, (-8.200905232680356e-16-1.654926196081874e-15j)),\n",
       " (67, (7.7021722333370235e-16+5.165139149720943e-16j)),\n",
       " (68, (7.7021722333370235e-16-5.165139149720943e-16j)),\n",
       " (69, (0.011304339009473155+0.14656458495070387j)),\n",
       " (70, (0.011304339009473155-0.14656458495070387j)),\n",
       " (71, (2.9498972708985605e-15+2.2256502196782435e-15j)),\n",
       " (72, (2.9498972708985605e-15-2.2256502196782435e-15j)),\n",
       " (73, (-3.7279207498741584e-15+0j)),\n",
       " (74, (8.875617797145241e-16+0j)),\n",
       " (75, (-1.8544193958192068e-15-2.3652954594943765e-15j)),\n",
       " (76, (-1.8544193958192068e-15+2.3652954594943765e-15j)),\n",
       " (77, (-2.909998630951094e-16+6.50347831143705e-15j)),\n",
       " (78, (-2.909998630951094e-16-6.50347831143705e-15j)),\n",
       " (79, (-3.181266014506967e-15+2.2902686691583796e-15j)),\n",
       " (80, (-3.181266014506967e-15-2.2902686691583796e-15j)),\n",
       " (81, (1.4753823163182744e-15+1.1310397063368782e-15j)),\n",
       " (82, (1.4753823163182744e-15-1.1310397063368782e-15j)),\n",
       " (83, (-1.2614692276868844e-15-2.4704630702254704e-15j)),\n",
       " (84, (-1.2614692276868844e-15+2.4704630702254704e-15j)),\n",
       " (85, (-3.78766028957811e-15-1.2169871230552354e-14j)),\n",
       " (86, (-3.78766028957811e-15+1.2169871230552354e-14j)),\n",
       " (87, (-1.925092013289843e-16-1.9527243456116464e-15j)),\n",
       " (88, (-1.925092013289843e-16+1.9527243456116464e-15j)),\n",
       " (89, (-0.0257361622904003+0j)),\n",
       " (90, (-1.3381114819068627e-15+6.3883902508277135e-16j)),\n",
       " (91, (-1.3381114819068627e-15-6.3883902508277135e-16j)),\n",
       " (92, (8.640142637808546e-16-1.72740511131253e-16j)),\n",
       " (93, (8.640142637808546e-16+1.72740511131253e-16j)),\n",
       " (94, (-2.862293735361732e-17-3.0878077872387166e-16j)),\n",
       " (95, (-2.862293735361732e-17+3.0878077872387166e-16j)),\n",
       " (96, (-1.6974269212433057e-15+1.5092094240998222e-16j)),\n",
       " (97, (-1.6974269212433057e-15-1.5092094240998222e-16j)),\n",
       " (98, (2.073102974009533e-14+0j)),\n",
       " (99, (-8.430756093247282e-16-1.041376186672327e-16j)),\n",
       " (100, (-8.430756093247282e-16+1.041376186672327e-16j)),\n",
       " (101, (-4.794342006730901e-16+8.220420871785095e-16j)),\n",
       " (102, (-4.794342006730901e-16-8.220420871785095e-16j)),\n",
       " (103, (5.8262314243939795e-15+4.3265087693034054e-15j)),\n",
       " (104, (5.8262314243939795e-15-4.3265087693034054e-15j)),\n",
       " (105, (-5.681219383824043e-16+2.8189256484623115e-16j)),\n",
       " (106, (-5.681219383824043e-16-2.8189256484623115e-16j)),\n",
       " (107, (1.816255479347717e-15+0j)),\n",
       " (108, (-1.6436504934880247e-15+1.2750217548429532e-15j)),\n",
       " (109, (-1.6436504934880247e-15-1.2750217548429532e-15j)),\n",
       " (110, (-3.41740524767431e-16-1.6132928326584306e-16j)),\n",
       " (111, (-3.41740524767431e-16+1.6132928326584306e-16j)),\n",
       " (112, (3.712308238590367e-16+6.106226635438361e-16j)),\n",
       " (113, (3.712308238590367e-16-6.106226635438361e-16j)),\n",
       " (114, (-3.880142734891123e-15+2.3678975447083417e-15j)),\n",
       " (115, (-3.880142734891123e-15-2.3678975447083417e-15j)),\n",
       " (116, (-4.1665889488617935e-16+2.373318555570769e-16j)),\n",
       " (117, (-4.1665889488617935e-16-2.373318555570769e-16j)),\n",
       " (118, (-5.976556055609095e-15-2.179159969335244e-15j)),\n",
       " (119, (-5.976556055609095e-15+2.179159969335244e-15j)),\n",
       " (120, (-4.611762360884342e-15+9.853229343548264e-16j)),\n",
       " (121, (-4.611762360884342e-15-9.853229343548264e-16j)),\n",
       " (122, (9.120308674948063e-15-4.3414707592837054e-15j)),\n",
       " (123, (9.120308674948063e-15+4.3414707592837054e-15j)),\n",
       " (124, (6.1257422745431e-16+5.286129335906747e-16j)),\n",
       " (125, (6.1257422745431e-16-5.286129335906747e-16j)),\n",
       " (126, (2.6706067912662945e-15-2.1892210266827306e-15j)),\n",
       " (127, (2.6706067912662945e-15+2.1892210266827306e-15j)),\n",
       " (128, (2.5847379792054426e-16-8.517492267046123e-16j)),\n",
       " (129, (2.5847379792054426e-16+8.517492267046123e-16j)),\n",
       " (130, (-3.9497485143646927e-16-3.29922721087339e-16j)),\n",
       " (131, (-3.9497485143646927e-16+3.29922721087339e-16j)),\n",
       " (132, (-1.8431436932253575e-15+4.371503159461554e-16j)),\n",
       " (133, (-1.8431436932253575e-15-4.371503159461554e-16j)),\n",
       " (134, (3.648828201391341e-15+2.6086988472173722e-15j)),\n",
       " (135, (3.648828201391341e-15-2.6086988472173722e-15j)),\n",
       " (136, (2.3436114160446664e-15+3.1016855750465313e-16j)),\n",
       " (137, (2.3436114160446664e-15-3.1016855750465313e-16j)),\n",
       " (138, (-9.925870889104793e-16+6.5749272346038445e-15j)),\n",
       " (139, (-9.925870889104793e-16-6.5749272346038445e-15j)),\n",
       " (140, (5.178149575790769e-16-1.9506965487359196e-15j)),\n",
       " (141, (5.178149575790769e-16+1.9506965487359196e-15j)),\n",
       " (142, (-1.1301723445988898e-15+6.331740687315346e-16j)),\n",
       " (143, (-1.1301723445988898e-15-6.331740687315346e-16j)),\n",
       " (144, (-0.07689735634235793-0.06017593091522486j)),\n",
       " (145, (-0.07689735634235793+0.06017593091522486j)),\n",
       " (146, (0.3186058741934511+0.3185828408028361j)),\n",
       " (147, (0.3186058741934511-0.3185828408028361j)),\n",
       " (148, (-4.3781438977680276e-16+1.0643612727290197e-15j)),\n",
       " (149, (-4.3781438977680276e-16-1.0643612727290197e-15j)),\n",
       " (150, (-6.245004513516506e-17+2.175343238874916e-15j)),\n",
       " (151, (-6.245004513516506e-17-2.175343238874916e-15j)),\n",
       " (152, (0.31504141637630423+0j)),\n",
       " (153, (-6.485090242591696e-13+0j)),\n",
       " (154, (0.3058405763155368+0j)),\n",
       " (155, (0.042199057873346754+0j)),\n",
       " (156, (7.528699885739343e-16+0j)),\n",
       " (157, (-1.4091158795359604e-14+0j)),\n",
       " (158, (-3.1988300897012323e-15+0j)),\n",
       " (159, (-1.8677415300136224e-16+0j)),\n",
       " (160, (-3.7365943672540425e-15-2.5255839086746336e-15j)),\n",
       " (161, (-3.7365943672540425e-15+2.5255839086746336e-15j)),\n",
       " (162, (-1.6540588343438856e-15+3.3350058825654116e-16j)),\n",
       " (163, (-1.6540588343438856e-15-3.3350058825654116e-16j)),\n",
       " (164, (2.0122792321330962e-16-3.814656923672999e-15j)),\n",
       " (165, (2.0122792321330962e-16+3.814656923672999e-15j)),\n",
       " (166, (5.056827352689641e-15-1.2479167005308156e-15j)),\n",
       " (167, (5.056827352689641e-15+1.2479167005308156e-15j)),\n",
       " (168, (-2.213507155346406e-15+2.903927098785175e-16j)),\n",
       " (169, (-2.213507155346406e-15-2.903927098785175e-16j)),\n",
       " (170, (-5.675798372961616e-16+1.0564465968698755e-15j)),\n",
       " (171, (-5.675798372961616e-16-1.0564465968698755e-15j)),\n",
       " (172, (-5.527262675331102e-16-9.913944665207453e-16j)),\n",
       " (173, (-5.527262675331102e-16+9.913944665207453e-16j)),\n",
       " (174, (-1.141448047192739e-15+4.833806965809373e-15j)),\n",
       " (175, (-1.141448047192739e-15-4.833806965809373e-15j)),\n",
       " (176, (3.0097452308197603e-15-2.4346843985334488e-15j)),\n",
       " (177, (3.0097452308197603e-15+2.4346843985334488e-15j)),\n",
       " (178, (-4.5363018896793506e-15+2.159730727591125e-15j)),\n",
       " (179, (-4.5363018896793506e-15-2.159730727591125e-15j)),\n",
       " (180, (-3.3369574464758855e-15-1.4338573731120796e-15j)),\n",
       " (181, (-3.3369574464758855e-15+1.4338573731120796e-15j)),\n",
       " (182, (2.8102520310824275e-15+0j)),\n",
       " (183, (-7.533687215732776e-15+0j)),\n",
       " (184, (-1.278924882663901e-15-4.8747677850726964e-15j)),\n",
       " (185, (-1.278924882663901e-15+4.8747677850726964e-15j)),\n",
       " (186, (-2.5431046157819992e-15+0j)),\n",
       " (187, (-2.3960868011929648e-15+0j)),\n",
       " (188, (-3.120767533282276e-15+5.7141791298676026e-15j)),\n",
       " (189, (-3.120767533282276e-15-5.7141791298676026e-15j)),\n",
       " (190, (1.797173521111972e-15+5.810713780800281e-16j)),\n",
       " (191, (1.797173521111972e-15-5.810713780800281e-16j)),\n",
       " (192, (6.938893903907228e-16+0j)),\n",
       " (193, (-2.0643209364124004e-16+0j)),\n",
       " (194, (3.38824020923445e-15+6.89200215994723e-16j)),\n",
       " (195, (3.38824020923445e-15-6.89200215994723e-16j)),\n",
       " (196, (2.230854390106174e-15+1.1587952819525071e-15j)),\n",
       " (197, (2.230854390106174e-15-1.1587952819525071e-15j)),\n",
       " (198, (-5.731092683758376e-16-2.4762288234974304e-15j)),\n",
       " (199, (-5.731092683758376e-16+2.4762288234974304e-15j)),\n",
       " (200, (0.026840264807567484-0.013902544481356416j)),\n",
       " (201, (0.026840264807567484+0.013902544481356416j)),\n",
       " (202, (0.03090047952988941+0.012393449838662715j)),\n",
       " (203, (0.03090047952988941-0.012393449838662715j)),\n",
       " (204, (-0.02550800603244192-0.0029264209982141805j)),\n",
       " (205, (-0.02550800603244192+0.0029264209982141805j)),\n",
       " (206, (-0.3932272956952612+0j)),\n",
       " (207, (1.1352985879956728e-15+0j)),\n",
       " (208, (-3.3219954564955856e-16-4.702184822069633e-16j)),\n",
       " (209, (-3.3219954564955856e-16+4.702184822069633e-16j)),\n",
       " (210, (0.08877888005621123-0.09741234134362103j)),\n",
       " (211, (0.08877888005621123+0.09741234134362103j)),\n",
       " (212, (0.03709163558000741-0.04467040783946659j)),\n",
       " (213, (0.03709163558000741+0.04467040783946659j)),\n",
       " (214, (0.08841826307227736+0.06126552086679635j)),\n",
       " (215, (0.08841826307227736-0.06126552086679635j)),\n",
       " (216, (0.14900600272462822-0.06821220019383767j)),\n",
       " (217, (0.14900600272462822+0.06821220019383767j)),\n",
       " (218, (9.867107131356079e-15+1.960237527853792e-16j)),\n",
       " (219, (9.867107131356079e-15-1.960237527853792e-16j)),\n",
       " (220, (-7.424616477180734e-15+3.932618120039422e-15j)),\n",
       " (221, (-7.424616477180734e-15-3.932618120039422e-15j)),\n",
       " (222, (3.197962727963244e-15+8.943366880398429e-15j)),\n",
       " (223, (3.197962727963244e-15-8.943366880398429e-15j)),\n",
       " (224, (7.762453874127218e-15+4.8541899666521005e-15j)),\n",
       " (225, (7.762453874127218e-15-4.8541899666521005e-15j)),\n",
       " (226, (-0.004576745424700263+0.030344817880284737j)),\n",
       " (227, (-0.004576745424700263-0.030344817880284737j)),\n",
       " (228, (-0.02226012013774965+0j)),\n",
       " (229, (-1.3058130965415415e-15-9.867323971790576e-16j)),\n",
       " (230, (-1.3058130965415415e-15+9.867323971790576e-16j)),\n",
       " (231, (-1.614160194396419e-15+0j)),\n",
       " (232, (-7.194765616613807e-16+0j)),\n",
       " (233, (9.329342853803269e-15+5.0862092315639984e-15j)),\n",
       " (234, (9.329342853803269e-15-5.0862092315639984e-15j)),\n",
       " (235, (-2.174909558005922e-16+0j)),\n",
       " (236, (0.04222381675475098-0.0005857026927047121j)),\n",
       " (237, (0.04222381675475098+0.0005857026927047121j)),\n",
       " (238, (-0.014569694111386233-0.0014251723208711584j)),\n",
       " (239, (-0.014569694111386233+0.0014251723208711584j)),\n",
       " (240, (0.25998155922671384+0j)),\n",
       " (241, (-0.23349987301529815+0j)),\n",
       " (242, (1.3314002678121994e-14+2.806782584130474e-15j)),\n",
       " (243, (1.3314002678121994e-14-2.806782584130474e-15j)),\n",
       " (244, (-1.175708835843281e-15-2.231288070975168e-16j)),\n",
       " (245, (-1.175708835843281e-15+2.231288070975168e-16j)),\n",
       " (246, (-1.2235221516498918e-15-1.7343982153250614e-15j)),\n",
       " (247, (-1.2235221516498918e-15+1.7343982153250614e-15j)),\n",
       " (248, (-0.055970650642780034+0.09736943964408808j)),\n",
       " (249, (-0.055970650642780034-0.09736943964408808j)),\n",
       " (250, (-0.03402107377581401-0.0838036606204704j)),\n",
       " (251, (-0.03402107377581401+0.0838036606204704j))]"
      ]
     },
     "execution_count": 481,
     "metadata": {},
     "output_type": "execute_result"
    }
   ],
   "source": [
    "zip(range(252), np.sum(V.dot(v), axis=0).tolist()[0])"
   ]
  },
  {
   "cell_type": "code",
   "execution_count": 460,
   "metadata": {
    "collapsed": false
   },
   "outputs": [
    {
     "data": {
      "text/plain": [
       "array([  1.65254095e-15,   3.29613288e-04,   3.29613288e-04,\n",
       "         7.55573459e-16,   7.55573459e-16,   2.35242056e-15,\n",
       "         1.60723277e-15,   1.60723277e-15,   3.74940683e-15,\n",
       "         3.74940683e-15,   2.20040727e-02,   2.20040727e-02,\n",
       "         1.84453579e-15,   4.40958552e+00,   2.32125842e-15,\n",
       "         2.32125842e-15,   6.17145224e-14,   4.64948698e-15,\n",
       "         4.64948698e-15,   1.00204223e-15,   1.00204223e-15,\n",
       "         5.38753542e-16,   5.38753542e-16,   3.51606765e-16,\n",
       "         2.61321120e-15,   2.61321120e-15,   9.79807358e-03,\n",
       "         9.79807358e-03,   9.15553578e-15,   9.15553578e-15,\n",
       "         1.94838277e-16,   1.94838277e-16,   5.53677234e-16,\n",
       "         5.53677234e-16,   9.45710808e-16,   9.45710808e-16,\n",
       "         3.18400644e-16,   3.18400644e-16,   1.19911023e-15,\n",
       "         1.19911023e-15,   2.09711805e-15,   1.35569024e-15,\n",
       "         1.35569024e-15,   4.38128413e-15,   4.38128413e-15,\n",
       "         2.66252649e-15,   2.66252649e-15,   7.36379548e-16,\n",
       "         7.36379548e-16,   9.38786021e-16,   9.38786021e-16,\n",
       "         1.52245879e-15,   1.52245879e-15,   9.10327318e-01,\n",
       "         1.25485413e-14,   1.25485413e-14,   9.89924344e-16,\n",
       "         9.89924344e-16,   1.06691990e-15,   1.06691990e-15,\n",
       "         5.72366747e-16,   5.72366747e-16,   7.52097060e-16,\n",
       "         7.52097060e-16,   2.25618135e-14,   1.71743156e-15,\n",
       "         1.71743156e-15,   9.08622647e-16,   9.08622647e-16,\n",
       "         1.46999883e-01,   1.46999883e-01,   3.65840475e-15,\n",
       "         3.65840475e-15,   3.73008915e-15,   8.73428188e-16,\n",
       "         3.04713509e-15,   3.04713509e-15,   6.70972838e-15,\n",
       "         6.70972838e-15,   3.95349297e-15,   3.95349297e-15,\n",
       "         1.86149329e-15,   1.86149329e-15,   2.75506781e-15,\n",
       "         2.75506781e-15,   1.24749892e-14,   1.24749892e-14,\n",
       "         1.92814102e-15,   1.92814102e-15,   2.57361623e-02,\n",
       "         1.50667000e-15,   1.50667000e-15,   8.36857788e-16,\n",
       "         8.36857788e-16,   2.99433401e-16,   2.99433401e-16,\n",
       "         1.77913294e-15,   1.77913294e-15,   2.11185236e-14,\n",
       "         7.97042767e-16,   7.97042767e-16,   9.50748974e-16,\n",
       "         9.50748974e-16,   7.20524143e-15,   7.20524143e-15,\n",
       "         5.90238308e-16,   5.90238308e-16,   1.68615122e-15,\n",
       "         2.14742551e-15,   2.14742551e-15,   3.76585045e-16,\n",
       "         3.76585045e-16,   7.18568836e-16,   7.18568836e-16,\n",
       "         4.25205097e-15,   4.25205097e-15,   4.47825395e-16,\n",
       "         4.47825395e-16,   6.42688501e-15,   6.42688501e-15,\n",
       "         4.81349570e-15,   4.81349570e-15,   9.93134629e-15,\n",
       "         9.93134629e-15,   8.01199909e-16,   8.01199909e-16,\n",
       "         3.34362125e-15,   3.34362125e-15,   8.63062848e-16,\n",
       "         8.63062848e-16,   5.60176784e-16,   5.60176784e-16,\n",
       "         1.86038301e-15,   1.86038301e-15,   4.44907648e-15,\n",
       "         4.44907648e-15,   2.51171486e-15,   2.51171486e-15,\n",
       "         6.57695935e-15,   6.57695935e-15,   1.99940728e-15,\n",
       "         1.99940728e-15,   1.27167928e-15,   1.27167928e-15,\n",
       "         9.76439761e-02,   9.76439761e-02,   4.50560462e-01,\n",
       "         4.50560462e-01,   1.16386009e-15,   1.16386009e-15,\n",
       "         2.18706982e-15,   2.18706982e-15,   3.15041416e-01,\n",
       "         6.48585352e-13,   3.05840576e-01,   4.21990579e-02,\n",
       "         8.04911693e-16,   1.41605477e-14,   3.24393290e-15,\n",
       "         1.98273472e-16,   4.48624152e-15,   4.48624152e-15,\n",
       "         1.65963271e-15,   1.65963271e-15,   3.85484480e-15,\n",
       "         3.85484480e-15,   5.27643758e-15,   5.27643758e-15,\n",
       "         2.27797993e-15,   2.27797993e-15,   1.20237771e-15,\n",
       "         1.20237771e-15,   1.10164256e-15,   1.10164256e-15,\n",
       "         4.92748501e-15,   4.92748501e-15,   3.85418364e-15,\n",
       "         3.85418364e-15,   4.97028067e-15,   4.97028067e-15,\n",
       "         3.67147036e-15,   3.67147036e-15,   2.75647560e-15,\n",
       "         7.56451244e-15,   5.04305751e-15,   5.04305751e-15,\n",
       "         2.53443100e-15,   2.36014550e-15,   6.39400842e-15,\n",
       "         6.39400842e-15,   1.85083000e-15,   1.85083000e-15,\n",
       "         6.86083135e-16,   2.01661604e-16,   3.46701362e-15,\n",
       "         3.46701362e-15,   2.46408234e-15,   2.46408234e-15,\n",
       "         2.55006045e-15,   2.55006045e-15,   3.02271494e-02,\n",
       "         3.02271494e-02,   3.32932010e-02,   3.32932010e-02,\n",
       "         2.56753250e-02,   2.56753250e-02,   3.93227296e-01,\n",
       "         1.11295894e-15,   5.62701189e-16,   5.62701189e-16,\n",
       "         1.31798535e-01,   1.31798535e-01,   5.80623352e-02,\n",
       "         5.80623352e-02,   1.07569760e-01,   1.07569760e-01,\n",
       "         1.63877067e-01,   1.63877067e-01,   9.90672981e-15,\n",
       "         9.90672981e-15,   8.42626960e-15,   8.42626960e-15,\n",
       "         9.50759985e-15,   9.50759985e-15,   9.23733707e-15,\n",
       "         9.23733707e-15,   3.06880200e-02,   3.06880200e-02,\n",
       "         2.22601201e-02,   1.58919984e-15,   1.58919984e-15,\n",
       "         1.57973678e-15,   7.24680732e-16,   1.05765338e-14,\n",
       "         1.05765338e-14,   1.52005145e-16,   4.22278788e-02,\n",
       "         4.22278788e-02,   1.46392316e-02,   1.46392316e-02,\n",
       "         2.59981559e-01,   2.33499873e-01,   1.36078140e-14,\n",
       "         1.36078140e-14,   1.22141485e-15,   1.22141485e-15,\n",
       "         2.11228223e-15,   2.11228223e-15,   1.12309935e-01,\n",
       "         1.12309935e-01,   9.04460447e-02,   9.04460447e-02])"
      ]
     },
     "execution_count": 460,
     "metadata": {},
     "output_type": "execute_result"
    }
   ],
   "source": [
    "np.abs(np.sum(V.todense(), axis=1).transpose().dot(v).tolist()[0])"
   ]
  },
  {
   "cell_type": "code",
   "execution_count": 426,
   "metadata": {
    "collapsed": false
   },
   "outputs": [
    {
     "data": {
      "text/plain": [
       "array([  1.00001698e+00,   9.99830625e-01,   1.00152366e+00,\n",
       "         9.86270593e-01,   1.12312659e+00,  -1.23126587e-01,\n",
       "         1.37294069e-02,  -1.52365884e-03,   1.69375020e-04,\n",
       "        -1.69783158e-05])"
      ]
     },
     "execution_count": 426,
     "metadata": {},
     "output_type": "execute_result"
    }
   ],
   "source": [
    "S.dot(np.linalg.solve(T.todense(), x))"
   ]
  },
  {
   "cell_type": "code",
   "execution_count": 1224,
   "metadata": {
    "collapsed": true
   },
   "outputs": [],
   "source": [
    "s = State(s)"
   ]
  },
  {
   "cell_type": "code",
   "execution_count": null,
   "metadata": {
    "collapsed": true
   },
   "outputs": [],
   "source": [
    "s.num_open_to_right"
   ]
  },
  {
   "cell_type": "code",
   "execution_count": 1258,
   "metadata": {
    "collapsed": false
   },
   "outputs": [],
   "source": [
    "NN = 8\n",
    "res = dict()\n",
    "for kk in range(1, NN):\n",
    "    proc = CircleProcess(NN, kk, .0)\n",
    "    res[kk] = pd.DataFrame([(s, State(s).num_open_to_right(), 1) for s in proc.enum_states()], columns=[\"State\",\"R\", \"Count\"]).groupby('R').count()['Count']"
   ]
  },
  {
   "cell_type": "code",
   "execution_count": 1259,
   "metadata": {
    "collapsed": false
   },
   "outputs": [
    {
     "data": {
      "text/html": [
       "<div>\n",
       "<table border=\"1\" class=\"dataframe\">\n",
       "  <thead>\n",
       "    <tr style=\"text-align: right;\">\n",
       "      <th>R</th>\n",
       "      <th>1</th>\n",
       "      <th>2</th>\n",
       "      <th>3</th>\n",
       "      <th>4</th>\n",
       "    </tr>\n",
       "    <tr>\n",
       "      <th>K</th>\n",
       "      <th></th>\n",
       "      <th></th>\n",
       "      <th></th>\n",
       "      <th></th>\n",
       "    </tr>\n",
       "  </thead>\n",
       "  <tbody>\n",
       "    <tr>\n",
       "      <th>1</th>\n",
       "      <td>8</td>\n",
       "      <td>0</td>\n",
       "      <td>0</td>\n",
       "      <td>0</td>\n",
       "    </tr>\n",
       "    <tr>\n",
       "      <th>2</th>\n",
       "      <td>8</td>\n",
       "      <td>20</td>\n",
       "      <td>0</td>\n",
       "      <td>0</td>\n",
       "    </tr>\n",
       "    <tr>\n",
       "      <th>3</th>\n",
       "      <td>8</td>\n",
       "      <td>32</td>\n",
       "      <td>16</td>\n",
       "      <td>0</td>\n",
       "    </tr>\n",
       "    <tr>\n",
       "      <th>4</th>\n",
       "      <td>8</td>\n",
       "      <td>36</td>\n",
       "      <td>24</td>\n",
       "      <td>2</td>\n",
       "    </tr>\n",
       "    <tr>\n",
       "      <th>5</th>\n",
       "      <td>8</td>\n",
       "      <td>32</td>\n",
       "      <td>16</td>\n",
       "      <td>0</td>\n",
       "    </tr>\n",
       "    <tr>\n",
       "      <th>6</th>\n",
       "      <td>8</td>\n",
       "      <td>20</td>\n",
       "      <td>0</td>\n",
       "      <td>0</td>\n",
       "    </tr>\n",
       "    <tr>\n",
       "      <th>7</th>\n",
       "      <td>8</td>\n",
       "      <td>0</td>\n",
       "      <td>0</td>\n",
       "      <td>0</td>\n",
       "    </tr>\n",
       "  </tbody>\n",
       "</table>\n",
       "</div>"
      ],
      "text/plain": [
       "R  1   2   3  4\n",
       "K              \n",
       "1  8   0   0  0\n",
       "2  8  20   0  0\n",
       "3  8  32  16  0\n",
       "4  8  36  24  2\n",
       "5  8  32  16  0\n",
       "6  8  20   0  0\n",
       "7  8   0   0  0"
      ]
     },
     "execution_count": 1259,
     "metadata": {},
     "output_type": "execute_result"
    }
   ],
   "source": [
    "df = pd.DataFrame(res).fillna(0).transpose()\n",
    "df.index.name = \"K\"\n",
    "df"
   ]
  },
  {
   "cell_type": "code",
   "execution_count": null,
   "metadata": {
    "collapsed": true
   },
   "outputs": [],
   "source": []
  }
 ],
 "metadata": {
  "kernelspec": {
   "display_name": "Python 2",
   "language": "python",
   "name": "python2"
  },
  "language_info": {
   "codemirror_mode": {
    "name": "ipython",
    "version": 2
   },
   "file_extension": ".py",
   "mimetype": "text/x-python",
   "name": "python",
   "nbconvert_exporter": "python",
   "pygments_lexer": "ipython2",
   "version": "2.7.10"
  }
 },
 "nbformat": 4,
 "nbformat_minor": 1
}
