{
 "cells": [
  {
   "cell_type": "code",
   "execution_count": 1,
   "metadata": {
    "collapsed": false
   },
   "outputs": [],
   "source": [
    "%matplotlib inline"
   ]
  },
  {
   "cell_type": "code",
   "execution_count": 1544,
   "metadata": {
    "collapsed": false
   },
   "outputs": [
    {
     "data": {
      "text/plain": [
       "<module 'asymmetric_processes' from 'asymmetric_processes.py'>"
      ]
     },
     "execution_count": 1544,
     "metadata": {},
     "output_type": "execute_result"
    }
   ],
   "source": [
    "reload(asymmetric_processes)"
   ]
  },
  {
   "cell_type": "code",
   "execution_count": 166,
   "metadata": {
    "collapsed": false
   },
   "outputs": [],
   "source": [
    "import numpy as np\n",
    "import pandas as pd\n",
    "import asymmetric_processes\n",
    "from asymmetric_processes import CircleProcess, BoundaryProcess, State, ncr\n",
    "import matplotlib.pyplot as plt\n",
    "import seaborn as sns # comment out if you don't have installed\n",
    "import sympy\n",
    "from speeds import count"
   ]
  },
  {
   "cell_type": "code",
   "execution_count": 3,
   "metadata": {
    "collapsed": true
   },
   "outputs": [],
   "source": [
    "import scipy.sparse as sparse"
   ]
  },
  {
   "cell_type": "markdown",
   "metadata": {},
   "source": [
    "# Intro to `State` and `CircleProcess`\n",
    "\n",
    "The `State` class helps find \"open spots to right\" and other information about a state. \n",
    "\n",
    "The `CircleProcess` class enumerates the possible states, and determines the state transitions"
   ]
  },
  {
   "cell_type": "code",
   "execution_count": 1293,
   "metadata": {
    "collapsed": false
   },
   "outputs": [
    {
     "data": {
      "text/plain": [
       "True"
      ]
     },
     "execution_count": 1293,
     "metadata": {},
     "output_type": "execute_result"
    }
   ],
   "source": [
    "p.is_symbolic()"
   ]
  },
  {
   "cell_type": "code",
   "execution_count": null,
   "metadata": {
    "collapsed": true
   },
   "outputs": [],
   "source": [
    "def new_count(N, k, R):\n",
    "    return 1.*N / (R * (k-R) * (N - k - R)) * np.math.factorial(k-1) * np.math.factorial(N-k-1) / np.math.factorial(R-1)**2 / np.math.factorial(k-R-1) / np.math.factorial(N-k-R-1)"
   ]
  },
  {
   "cell_type": "markdown",
   "metadata": {},
   "source": [
    "$n! \\sim \\sqrt{2\\pi n} \\left(\\frac{n}{e}\\right)^n$"
   ]
  },
  {
   "cell_type": "code",
   "execution_count": 201,
   "metadata": {
    "collapsed": true
   },
   "outputs": [],
   "source": [
    "def new_count(N, k, R):\n",
    "    return 1. * N / R * ncr(k-1, R-1) * ncr(N - k - 1, R-1)"
   ]
  },
  {
   "cell_type": "markdown",
   "metadata": {},
   "source": [
    "$\\begin{align*}\n",
    "\\mathbb{P}[R/N] &= \\frac{N}{R} \\frac{{k-1 \\choose R-1} {N - k - 1 \\choose R-1}}{N \\choose k} \\\\\n",
    "&= \\frac{N}{R} \\frac{(k-1)!(N-k-1)!k!(N-k)!}{(R-1)!(k-R)!(R-1)!(N-k-r)!N!} \\\\\n",
    "&= \\frac{1}{r} \\frac{(N\\alpha-1)!(N-N\\alpha-1)!(N\\alpha)!(N-N\\alpha)!}{(Nr-1)!(N\\alpha-Nr)!(Nr-1)!(N-N\\alpha-Nr)!N!} \\\\\n",
    "&\\propto_r \\left[r(Nr-1)!(N\\alpha-Nr)!(Nr-1)!(N-N\\alpha-Nr)!\\right]^{-1}\\\\\n",
    "&\\propto_r \\left[r(Nr-1)^{2Nr-1}(N\\alpha-Nr)^{N\\alpha-Nr + 1/2} (N-N\\alpha-Nr)^{N-N\\alpha-Nr + 1/2}\\right]^{-1} \\\\\n",
    "&\\propto_r \\left[\\frac{r\\sqrt{(\\alpha-r)(1-\\alpha-r)}}{Nr-1} (Nr-1)^{2Nr}(\\alpha-r)^{N\\alpha-Nr } (1-\\alpha-r)^{N-N\\alpha-Nr}\\right]^{-1}\n",
    "\\end{align*}$"
   ]
  },
  {
   "cell_type": "markdown",
   "metadata": {},
   "source": [
    "$\\begin{align*}\n",
    "&\\sim \\frac{1}{r} \\frac{\\sqrt{2\\pi(N\\alpha-1)} \\left(\\frac{N\\alpha -1}{e}\\right)^{N\\alpha-1}\\sqrt{2\\pi(N-N\\alpha-1)} \\left(\\frac{N-N\\alpha -1}{e}\\right)^{N-N\\alpha-1}\\sqrt{2\\pi N\\alpha} \\left(\\frac{N\\alpha}{e}\\right)^{N\\alpha}\\sqrt{2\\pi(N-N\\alpha)} \\left(\\frac{N-N\\alpha}{e}\\right)^{N-N\\alpha}}{\\sqrt{2\\pi(Nr-1)} \\left(\\frac{Nr -1}{e}\\right)^{Nr-1}\\sqrt{2\\pi(N\\alpha-Nr)} \\left(\\frac{N\\alpha - Nr}{e}\\right)^{N\\alpha - Nr}\\sqrt{2\\pi(Nr-1)} \\left(\\frac{Nr -1}{e}\\right)^{Nr-1}\\sqrt{2\\pi(N-N\\alpha-Nr)} \\left(\\frac{N-N\\alpha - Nr}{e}\\right)^{N-N\\alpha - Nr}!\\sqrt{2\\pi N} \\left(\\frac{N}{e}\\right)^{N}} \\\\\n",
    "&= \\frac{e^{Nr-1 + N\\alpha - Nr + Nr-1 + N-N\\alpha-Nr + N - N\\alpha + 1 - N + N\\alpha + 1 - N\\alpha - N + N\\alpha}}{\\sqrt{2\\pi r^2}} \\frac{(N\\alpha - 1)^{N\\alpha - 1/2}(N - N\\alpha - 1)^{N - N\\alpha - 1/2}(N\\alpha)^{N\\alpha + 1/2}(N-N\\alpha)^{N-N\\alpha+1/2}}{(Nr-1)^{Nr-1/2}(N\\alpha-Nr)^{N\\alpha-Nr+1/2}(Nr-1)^{Nr-1/2}(N-N\\alpha-Nr)^{N-N\\alpha-Nr+1/2}N^{N+1/2}} \\\\\n",
    "&= \\frac{1}{\\sqrt{2\\pi r^2}} \\frac{(N\\alpha - 1)^{N\\alpha - 1/2}(N - N\\alpha - 1)^{N - N\\alpha - 1/2}(N\\alpha)^{N\\alpha + 1/2}(N-N\\alpha)^{N-N\\alpha+1/2}}{(Nr-1)^{Nr-1/2}(N\\alpha-Nr)^{N\\alpha-Nr+1/2}(Nr-1)^{Nr-1/2}(N-N\\alpha-Nr)^{N-N\\alpha-Nr+1/2}N^{N+1/2}}\n",
    "\\end{align*}$"
   ]
  },
  {
   "cell_type": "markdown",
   "metadata": {},
   "source": [
    "$\\begin{align*}\n",
    "\\mathbb{P}[r=\\alpha] &= (1-\\alpha) \\left(\\frac{(N-N\\alpha-1)!}{(N-1)!} \\right)^2\\\\\n",
    "\\end{align*}$"
   ]
  },
  {
   "cell_type": "markdown",
   "metadata": {},
   "source": [
    "$\\begin{align*}\n",
    "\\epsilon &> (N\\alpha+1/2)\\log(N\\alpha) - (N\\alpha - 1/2)\\log(N\\alpha - 1) \\\\\n",
    "&> (N\\alpha)\\log(\\frac{N\\alpha}{N\\alpha - 1}) - \\frac{1}{2}\\log(\\frac{1}{(N\\alpha - 1)(N\\alpha)})\\\\\n",
    "\\frac{1}{2}\\log(\\frac{e^{2\\epsilon}}{(N\\alpha - 1)(N\\alpha)}) &> -\\log\\left(\\left(1 - \\frac{1}{N\\alpha}\\right)^{N\\alpha}\\right) > 1\n",
    "\\end{align*}$"
   ]
  },
  {
   "cell_type": "markdown",
   "metadata": {},
   "source": [
    "$$\\frac{e^{2\\epsilon}}{(N\\alpha - 1)(N\\alpha)} > e^2$$\n",
    "$$e^{2\\epsilon - 2} > (N\\alpha - 1)(N\\alpha) = N^2\\alpha^2 - N\\alpha$$\n",
    "$$ N^2\\alpha^2 - N\\alpha - e^{2\\epsilon-2} < 0$$"
   ]
  },
  {
   "cell_type": "markdown",
   "metadata": {},
   "source": [
    "$ 1/2 - \\sqrt{e^{2\\epsilon} + \\frac{1}{4}} < N\\alpha < 1/2 + \\sqrt{e^{2\\epsilon} + \\frac{1}{4}} $$"
   ]
  },
  {
   "cell_type": "markdown",
   "metadata": {},
   "source": [
    "$ x^x(x+a)^{x+a} \\approx \\exp\\left(-2\\log(1/x)x + (a - a\\log(1/x)) + a^2 / (2x) - a^3/(6x^2) + O(1/x^3) \\right)$\n",
    "$ = \\exp\\left( a + \\log{(x^{2x} x^a)} + a^2 / (2x) \\right)$\n",
    "$ = x^{2x}x^a e^a e^{\\frac{a^2}{2x}}$"
   ]
  },
  {
   "cell_type": "markdown",
   "metadata": {},
   "source": [
    "$$x^{(x+.5)}(x-1)^{(x-.5)} \\approx \\frac{x^{2x}}{e} e^{-\\frac{1}{12x^2}}$$\n",
    "$$(xa)^{(xa+.5)}(x(1-a))^{x(1-a)+.5} = x^{x+1} (1-a)^{x(1-a)}a^{xa} \\sqrt{a(1-a)}$$"
   ]
  },
  {
   "cell_type": "code",
   "execution_count": 209,
   "metadata": {
    "collapsed": false
   },
   "outputs": [
    {
     "data": {
      "text/plain": [
       "1.0"
      ]
     },
     "execution_count": 209,
     "metadata": {},
     "output_type": "execute_result"
    }
   ],
   "source": [
    "N = 100\n",
    "k = 60\n",
    "R = 30\n",
    "1. * count(N, k, R) / new_count(N, k, R)"
   ]
  },
  {
   "cell_type": "code",
   "execution_count": 1546,
   "metadata": {
    "collapsed": true
   },
   "outputs": [],
   "source": [
    "p = CircleProcess(4, 2, None)"
   ]
  },
  {
   "cell_type": "code",
   "execution_count": 1547,
   "metadata": {
    "collapsed": false
   },
   "outputs": [],
   "source": [
    "S, T, V = p.matrices()"
   ]
  },
  {
   "cell_type": "code",
   "execution_count": 174,
   "metadata": {
    "collapsed": false
   },
   "outputs": [
    {
     "ename": "AttributeError",
     "evalue": "'module' object has no attribute 'fa'",
     "output_type": "error",
     "traceback": [
      "\u001b[0;31m---------------------------------------------------------------------------\u001b[0m",
      "\u001b[0;31mAttributeError\u001b[0m                            Traceback (most recent call last)",
      "\u001b[0;32m<ipython-input-174-d7db82e9d389>\u001b[0m in \u001b[0;36m<module>\u001b[0;34m()\u001b[0m\n\u001b[0;32m----> 1\u001b[0;31m \u001b[0mnp\u001b[0m\u001b[0;34m.\u001b[0m\u001b[0mmath\u001b[0m\u001b[0;34m.\u001b[0m\u001b[0mfa\u001b[0m\u001b[0;34m\u001b[0m\u001b[0m\n\u001b[0m",
      "\u001b[0;31mAttributeError\u001b[0m: 'module' object has no attribute 'fa'"
     ]
    }
   ],
   "source": [
    "np.math.fa"
   ]
  },
  {
   "cell_type": "code",
   "execution_count": 115,
   "metadata": {
    "collapsed": true
   },
   "outputs": [],
   "source": [
    "r = a**5*b**4 + a**5*b**3 + a**4*b**5 + a**4*b**4 + a**3*b**5"
   ]
  },
  {
   "cell_type": "code",
   "execution_count": 72,
   "metadata": {
    "collapsed": false
   },
   "outputs": [],
   "source": [
    "z = r.as_expr()"
   ]
  },
  {
   "cell_type": "code",
   "execution_count": 89,
   "metadata": {
    "collapsed": false
   },
   "outputs": [],
   "source": [
    "terms, syms = z.as_terms()"
   ]
  },
  {
   "cell_type": "code",
   "execution_count": 88,
   "metadata": {
    "collapsed": false
   },
   "outputs": [
    {
     "data": {
      "text/plain": [
       "0"
      ]
     },
     "execution_count": 88,
     "metadata": {},
     "output_type": "execute_result"
    }
   ],
   "source": [
    "syms.index(a)"
   ]
  },
  {
   "cell_type": "code",
   "execution_count": 80,
   "metadata": {
    "collapsed": false
   },
   "outputs": [
    {
     "data": {
      "text/plain": [
       "b**5"
      ]
     },
     "execution_count": 80,
     "metadata": {},
     "output_type": "execute_result"
    }
   ],
   "source": [
    "z.leadterm(a)[0]"
   ]
  },
  {
   "cell_type": "code",
   "execution_count": 234,
   "metadata": {
    "collapsed": false
   },
   "outputs": [
    {
     "data": {
      "text/plain": [
       "({4: [(1.0, 4, 4)], 5: [(1.0, 5, 3), (1.0, 5, 4)]},\n",
       " {5: [(1.0, 3, 5), (1.0, 4, 5)]})"
      ]
     },
     "execution_count": 234,
     "metadata": {},
     "output_type": "execute_result"
    }
   ],
   "source": [
    "\n",
    "def extract_a_b_terms(exp):\n",
    "    a, b = sympy.Symbol('a'), sympy.Symbol('b')\n",
    "    terms, syms = exp.as_terms()\n",
    "    if a in syms:\n",
    "        ia = syms.index(a)\n",
    "    else:\n",
    "        ia = -1\n",
    "    if b in syms:\n",
    "        ib = syms.index(b)\n",
    "    else:\n",
    "        ib = -1\n",
    "    results = []\n",
    "    for term in terms:\n",
    "        coef = term[1][0][0]\n",
    "        pows = term[1][1]\n",
    "        if ia > -1:\n",
    "            ac = pows[ia]\n",
    "        else:\n",
    "            ac = 0\n",
    "        if ib > -1:\n",
    "            bc = pows[ib]\n",
    "        else:\n",
    "            bc = 0\n",
    "        results += [(coef, ac, bc)]\n",
    "    return results\n",
    "def pop_max_terms(terms, isA):\n",
    "    c, a, b = zip(*terms)\n",
    "    if isA:\n",
    "        m = max(a)\n",
    "        popped = [terms[i] for i in range(len(terms)) if a[i] == m]\n",
    "        remaining = [terms[i] for i in range(len(terms)) if a[i] != m]\n",
    "    else:\n",
    "        m = max(b)\n",
    "        popped = [terms[i] for i in range(len(terms)) if b[i] == m]\n",
    "        remaining = [terms[i] for i in range(len(terms)) if b[i] != m]\n",
    "    return m, popped, remaining\n",
    "def get_groups(exp):\n",
    "    terms = extract_a_b_terms(exp)\n",
    "    As = dict()\n",
    "    Bs = dict()\n",
    "    c = 0\n",
    "    isA = True\n",
    "    while len(terms) > 0:\n",
    "        isA = c % 2 == 0\n",
    "        m, group, terms = pop_max_terms(terms, isA)\n",
    "        if isA:\n",
    "            As[m] = group\n",
    "        else:\n",
    "            Bs[m] = group\n",
    "        c += 1\n",
    "    return As, Bs\n",
    "get_groups(a**5*b**4 + a**5*b**3 + a**4*b**5 + a**4*b**4 + a**3*b**5)"
   ]
  },
  {
   "cell_type": "code",
   "execution_count": 261,
   "metadata": {
    "collapsed": true
   },
   "outputs": [],
   "source": [
    "def map_groups_to_transitions(N, As, Bs):\n",
    "    a_idx = sorted(As.keys(), reverse=True)\n",
    "    b_idx = sorted(Bs.keys())\n",
    "    result = []\n",
    "    for a in a_idx:\n",
    "        result += [As[a]]\n",
    "    for b in b_idx:\n",
    "        result += [Bs[b]]\n",
    "    count = list(range(len(result)))\n",
    "    if N in a_idx:\n",
    "        count = count[1:]\n",
    "    if N in b_idx:\n",
    "        count = count[:-1]\n",
    "    idx = dict(zip(range(len(count)), count))\n",
    "    return result, idx"
   ]
  },
  {
   "cell_type": "code",
   "execution_count": 257,
   "metadata": {
    "collapsed": true
   },
   "outputs": [],
   "source": [
    "def apply_transition(s, partition, mapping, transitions, i):\n",
    "    a, b = sympy.Symbol('a'), sympy.Symbol('b')\n",
    "    s_new = s.move_left(transitions[i])\n",
    "    poly = 0\n",
    "    for j in range(len(partition)):\n",
    "        terms = partition[j]\n",
    "        for term in terms:\n",
    "            c, a_pow, b_pow = term\n",
    "            if mapping[i] == j:\n",
    "                poly += c * a**(a_pow+1) * b**b_pow\n",
    "                poly += c * a**a_pow * b**(b_pow+1)\n",
    "            else:\n",
    "                poly += c * a**a_pow * b**b_pow\n",
    "    return s_new, poly"
   ]
  },
  {
   "cell_type": "code",
   "execution_count": 297,
   "metadata": {
    "collapsed": false
   },
   "outputs": [
    {
     "name": "stdout",
     "output_type": "stream",
     "text": [
      "10100 2.0*a**5*b**4 + 1.0*a**5*b**3 + 2.0*a**4*b**5 + 1.0*a**3*b**5 + 1.0*a**3*b**4 + 1.0*a**2*b**5\n"
     ]
    }
   ],
   "source": [
    "s = State(\"10010\", cycle=False)\n",
    "As, Bs = get_groups(memo[str(s)])\n",
    "partition, mapping = map_groups_to_transitions(N, As, Bs)\n",
    "transitions = sorted(s.open_spots_to_left())\n",
    "for i in range(len(transitions)):\n",
    "    s_new, poly = apply_transition(s, partition, mapping, transitions, i)\n",
    "    print s_new, poly\n"
   ]
  },
  {
   "cell_type": "code",
   "execution_count": 281,
   "metadata": {
    "collapsed": false
   },
   "outputs": [
    {
     "data": {
      "text/plain": [
       "(10100,\n",
       " 2.0*a**5*b**4 + 1.0*a**5*b**3 + 2.0*a**4*b**5 + 1.0*a**4*b**4 + 2.0*a**3*b**5 + 1.0*a**2*b**5)"
      ]
     },
     "execution_count": 281,
     "metadata": {},
     "output_type": "execute_result"
    }
   ],
   "source": [
    "apply_transition(s, partition, mapping, transitions, 0)"
   ]
  },
  {
   "cell_type": "code",
   "execution_count": 300,
   "metadata": {
    "collapsed": false
   },
   "outputs": [
    {
     "data": {
      "text/plain": [
       "1.0*a**5*b**4 + 1.0*a**5*b**3 + 1.0*a**4*b**5 + 1.0*a**4*b**4 + 1.0*a**3*b**5 + 1.0*a**3*b**4 + 1.0*a**2*b**5"
      ]
     },
     "execution_count": 300,
     "metadata": {},
     "output_type": "execute_result"
    }
   ],
   "source": [
    "memo[str(s)]"
   ]
  },
  {
   "cell_type": "code",
   "execution_count": 299,
   "metadata": {
    "collapsed": false
   },
   "outputs": [
    {
     "data": {
      "text/plain": [
       "({4: [(1.0, 4, 4)], 5: [(1.0, 5, 3), (1.0, 5, 4)]},\n",
       " {4: [(1.0, 3, 4)], 5: [(1.0, 2, 5), (1.0, 3, 5), (1.0, 4, 5)]})"
      ]
     },
     "execution_count": 299,
     "metadata": {},
     "output_type": "execute_result"
    }
   ],
   "source": [
    "As, Bs"
   ]
  },
  {
   "cell_type": "code",
   "execution_count": 298,
   "metadata": {
    "collapsed": false
   },
   "outputs": [
    {
     "data": {
      "text/plain": [
       "([[(1.0, 5, 3), (1.0, 5, 4)],\n",
       "  [(1.0, 4, 4)],\n",
       "  [(1.0, 3, 4)],\n",
       "  [(1.0, 2, 5), (1.0, 3, 5), (1.0, 4, 5)]],\n",
       " {0: 1, 1: 2})"
      ]
     },
     "execution_count": 298,
     "metadata": {},
     "output_type": "execute_result"
    }
   ],
   "source": [
    "partition, mapping"
   ]
  },
  {
   "cell_type": "code",
   "execution_count": 321,
   "metadata": {
    "collapsed": true
   },
   "outputs": [],
   "source": [
    "N = 6\n",
    "a = sympy.Symbol('a')\n",
    "b = sympy.Symbol('b')\n",
    "memo = dict([('0'*i + '1'*(N-i), b**i * a**(N-i))  for i in range(N+1)])\n",
    "queue = []\n",
    "queue = [State(s, cycle=False) for s in memo]"
   ]
  },
  {
   "cell_type": "code",
   "execution_count": 322,
   "metadata": {
    "collapsed": false
   },
   "outputs": [
    {
     "name": "stdout",
     "output_type": "stream",
     "text": [
      "101000\n",
      "\t3.0*a**6*b**5 + 1.0*a**6*b**4 + 3.0*a**5*b**6 + 1.0*a**5*b**5 + 3.0*a**4*b**6 + 2.0*a**3*b**6 + 1.0*a**2*b**6\n",
      "\t3.0*a**6*b**5 + 1.0*a**6*b**4 + 3.0*a**5*b**6 + 2.0*a**4*b**6 + 1.0*a**4*b**5 + 2.0*a**3*b**6 + 1.0*a**2*b**6\n",
      "010100\n",
      "\t2.0*a**5*b**5 + 1.0*a**5*b**4 + 2.0*a**4*b**6 + 1.0*a**4*b**5 + 2.0*a**3*b**6 + 1.0*a**2*b**6\n",
      "\t2.0*a**5*b**5 + 1.0*a**5*b**4 + 2.0*a**4*b**6 + 1.0*a**3*b**6 + 1.0*a**3*b**5 + 1.0*a**2*b**6\n",
      "100100\n",
      "\t2.0*a**6*b**5 + 1.0*a**6*b**4 + 2.0*a**5*b**6 + 1.0*a**5*b**5 + 2.0*a**4*b**6 + 1.0*a**4*b**5 + 2.0*a**3*b**6 + 1.0*a**2*b**6\n",
      "\t2.0*a**6*b**5 + 1.0*a**6*b**4 + 2.0*a**5*b**6 + 1.0*a**4*b**6 + 1.0*a**4*b**5 + 1.0*a**3*b**6 + 1.0*a**3*b**5 + 1.0*a**2*b**6\n",
      "101100\n",
      "\t3.0*a**6*b**5 + 2.0*a**6*b**4 + 1.0*a**6*b**3 + 3.0*a**5*b**6 + 2.0*a**5*b**5 + 1.0*a**5*b**4 + 3.0*a**4*b**6 + 1.0*a**3*b**6\n",
      "\t2.0*a**6*b**5 + 2.0*a**6*b**4 + 1.0*a**6*b**3 + 2.0*a**5*b**6 + 3.0*a**5*b**5 + 1.0*a**5*b**4 + 3.0*a**4*b**6 + 1.0*a**3*b**6\n",
      "110100\n",
      "\t5.0*a**6*b**5 + 3.0*a**6*b**4 + 1.0*a**6*b**3 + 5.0*a**5*b**6 + 1.0*a**5*b**5 + 3.0*a**4*b**6 + 1.0*a**3*b**6\n",
      "\t5.0*a**6*b**5 + 3.0*a**6*b**4 + 1.0*a**6*b**3 + 5.0*a**5*b**6 + 2.0*a**4*b**6 + 1.0*a**4*b**5 + 1.0*a**3*b**6\n",
      "101010\n",
      "\t2.0*a**6*b**5 + 2.0*a**6*b**4 + 1.0*a**6*b**3 + 2.0*a**5*b**6 + 2.0*a**5*b**5 + 1.0*a**5*b**4 + 2.0*a**4*b**6 + 1.0*a**4*b**5 + 1.0*a**3*b**6\n",
      "\t2.0*a**6*b**5 + 2.0*a**6*b**4 + 1.0*a**6*b**3 + 2.0*a**5*b**6 + 1.0*a**5*b**5 + 1.0*a**4*b**6 + 1.0*a**4*b**5 + 1.0*a**4*b**4 + 1.0*a**3*b**6\n",
      "110010\n",
      "\t4.0*a**6*b**5 + 3.0*a**6*b**4 + 1.0*a**6*b**3 + 4.0*a**5*b**6 + 1.0*a**5*b**5 + 2.0*a**4*b**6 + 1.0*a**4*b**5 + 1.0*a**3*b**6\n",
      "\t3.0*a**6*b**5 + 3.0*a**6*b**4 + 1.0*a**6*b**3 + 3.0*a**5*b**6 + 2.0*a**5*b**5 + 2.0*a**4*b**6 + 1.0*a**4*b**5 + 1.0*a**3*b**6\n",
      "101001\n",
      "\t2.0*a**6*b**4 + 1.0*a**6*b**3 + 2.0*a**5*b**5 + 1.0*a**5*b**4 + 2.0*a**4*b**5 + 1.0*a**3*b**5\n",
      "\t2.0*a**6*b**4 + 1.0*a**6*b**3 + 2.0*a**5*b**5 + 1.0*a**4*b**5 + 1.0*a**4*b**4 + 1.0*a**3*b**5\n",
      "100110\n",
      "\t1.0*a**6*b**5 + 1.0*a**6*b**4 + 1.0*a**6*b**3 + 1.0*a**5*b**6 + 1.0*a**5*b**5 + 1.0*a**5*b**4 + 1.0*a**4*b**6 + 1.0*a**4*b**5 + 1.0*a**4*b**4 + 1.0*a**3*b**6\n",
      "\t1.0*a**6*b**4 + 1.0*a**6*b**3 + 1.0*a**5*b**5 + 2.0*a**5*b**4 + 2.0*a**4*b**5 + 1.0*a**3*b**5\n"
     ]
    }
   ],
   "source": [
    "while len(queue) > 0:\n",
    "    s = queue.pop()\n",
    "    As, Bs = get_groups(memo[str(s)])\n",
    "    partition, mapping = map_groups_to_transitions(N, As, Bs)\n",
    "    transitions = sorted(s.open_spots_to_left())\n",
    "    for i in range(len(transitions)):\n",
    "        s_new, poly = apply_transition(s, partition, mapping, transitions, i)\n",
    "        if str(s_new) not in memo:\n",
    "            memo[str(s_new)] = poly\n",
    "            queue += [s_new]\n",
    "        elif memo[str(s_new)] != poly:\n",
    "            print s_new\n",
    "            print \"\\t\", memo[str(s_new)]\n",
    "            print \"\\t\", poly\n",
    "            "
   ]
  },
  {
   "cell_type": "code",
   "execution_count": 308,
   "metadata": {
    "collapsed": false
   },
   "outputs": [
    {
     "data": {
      "text/plain": [
       "{'0000': 'b^4',\n",
       " '0001': 'a*b^3',\n",
       " '0010': 'a^2*b^3 + a*b^4',\n",
       " '0011': 'a^2*b^2',\n",
       " '0100': 'a^3*b^3 + a^2*b^4 + a*b^4',\n",
       " '0101': 'a^3*b^2 + a^2*b^3',\n",
       " '0110': 'a^3*b^3 + a^3*b^2 + a^2*b^4',\n",
       " '0111': 'a^3*b',\n",
       " '1000': 'a^4*b^3 + a^3*b^4 + a^2*b^4 + a*b^4',\n",
       " '1001': 'a^4*b^2 + a^3*b^3 + a^2*b^3',\n",
       " '1010': 'a^4*b^3 + a^4*b^2 + a^3*b^4 + a^3*b^3 + a^2*b^4',\n",
       " '1011': 'a^4*b + a^3*b^2',\n",
       " '1100': '2*a^4*b^3 + a^4*b^2 + 2*a^3*b^4 + a^2*b^4',\n",
       " '1101': 'a^4*b^2 + a^4*b + a^3*b^3',\n",
       " '1110': 'a^4*b^3 + a^4*b^2 + a^4*b + a^3*b^4',\n",
       " '1111': 'a^4'}"
      ]
     },
     "execution_count": 308,
     "metadata": {},
     "output_type": "execute_result"
    }
   ],
   "source": [
    "dict([(k, str(memo[k]).replace(\"**\", \"^\").replace(\"1.0*\", \"\").replace(\".0\", \"\")) for k in memo])"
   ]
  },
  {
   "cell_type": "code",
   "execution_count": 285,
   "metadata": {
    "collapsed": false
   },
   "outputs": [
    {
     "data": {
      "text/plain": [
       "'2.0*a**5*b**4 + 1.0*a**5*b**3 + 2.0*a**4*b**5 + 1.0*a**4*b**4 + 2.0*a**3*b**5 + 1.0*a**2*b**5'"
      ]
     },
     "execution_count": 285,
     "metadata": {},
     "output_type": "execute_result"
    }
   ],
   "source": [
    "str(memo['11000'] )"
   ]
  },
  {
   "cell_type": "code",
   "execution_count": 233,
   "metadata": {
    "collapsed": false
   },
   "outputs": [
    {
     "data": {
      "text/plain": [
       "[[(1.0, 5, 3), (1.0, 5, 4)], [(1.0, 4, 5), (1.0, 5, 5)]]"
      ]
     },
     "execution_count": 233,
     "metadata": {},
     "output_type": "execute_result"
    }
   ],
   "source": [
    "map_groups_to_transitions(6, As, Bs)"
   ]
  },
  {
   "cell_type": "code",
   "execution_count": 214,
   "metadata": {
    "collapsed": false
   },
   "outputs": [
    {
     "data": {
      "text/plain": [
       "[(1.0, 3, 5), (1.0, 4, 4), (1.0, 4, 5), (1.0, 5, 3), (1.0, 5, 4)]"
      ]
     },
     "execution_count": 214,
     "metadata": {},
     "output_type": "execute_result"
    }
   ],
   "source": [
    "extract_a_b_terms(a**5*b**4 + a**5*b**3 + a**4*b**5 + a**4*b**4 + a**3*b**5)"
   ]
  },
  {
   "cell_type": "code",
   "execution_count": 142,
   "metadata": {
    "collapsed": false
   },
   "outputs": [
    {
     "ename": "TypeError",
     "evalue": "'int' object has no attribute '__getitem__'",
     "output_type": "error",
     "traceback": [
      "\u001b[0;31m---------------------------------------------------------------------------\u001b[0m",
      "\u001b[0;31mTypeError\u001b[0m                                 Traceback (most recent call last)",
      "\u001b[0;32m<ipython-input-142-073ba9131462>\u001b[0m in \u001b[0;36m<module>\u001b[0;34m()\u001b[0m\n\u001b[0;32m----> 1\u001b[0;31m \u001b[0mterms\u001b[0m\u001b[0;34m[\u001b[0m\u001b[0;36m0\u001b[0m\u001b[0;34m]\u001b[0m\u001b[0;34m[\u001b[0m\u001b[0;36m1\u001b[0m\u001b[0;34m]\u001b[0m\u001b[0;34m[\u001b[0m\u001b[0;36m0\u001b[0m\u001b[0;34m]\u001b[0m\u001b[0;34m[\u001b[0m\u001b[0;36m0\u001b[0m\u001b[0;34m]\u001b[0m\u001b[0;34m\u001b[0m\u001b[0m\n\u001b[0m",
      "\u001b[0;31mTypeError\u001b[0m: 'int' object has no attribute '__getitem__'"
     ]
    }
   ],
   "source": [
    "terms[0][1][0][0]"
   ]
  },
  {
   "cell_type": "code",
   "execution_count": null,
   "metadata": {
    "collapsed": true
   },
   "outputs": [],
   "source": [
    "s.open_spots_to_left()"
   ]
  },
  {
   "cell_type": "code",
   "execution_count": 156,
   "metadata": {
    "collapsed": false
   },
   "outputs": [],
   "source": [
    "z=sympy.expr.Expr(\"a**6*b**4 + a**6*b**3 + a**4*b**4 + a**5*b**4 + a**5*b**5 + a**4*b**5 + a**3*b**5\")"
   ]
  },
  {
   "cell_type": "code",
   "execution_count": 157,
   "metadata": {
    "collapsed": false
   },
   "outputs": [
    {
     "ename": "AttributeError",
     "evalue": "'str' object has no attribute 'is_number'",
     "output_type": "error",
     "traceback": [
      "\u001b[0;31m---------------------------------------------------------------------------\u001b[0m",
      "\u001b[0;31mAttributeError\u001b[0m                            Traceback (most recent call last)",
      "\u001b[0;32m<ipython-input-157-4d5c4bb08a3a>\u001b[0m in \u001b[0;36m<module>\u001b[0;34m()\u001b[0m\n\u001b[0;32m----> 1\u001b[0;31m \u001b[0mz\u001b[0m\u001b[0;34m.\u001b[0m\u001b[0mas_terms\u001b[0m\u001b[0;34m(\u001b[0m\u001b[0;34m)\u001b[0m\u001b[0;34m\u001b[0m\u001b[0m\n\u001b[0m",
      "\u001b[0;32m/Library/Python/2.7/site-packages/sympy/core/expr.pyc\u001b[0m in \u001b[0;36mas_terms\u001b[0;34m(self)\u001b[0m\n\u001b[1;32m    923\u001b[0m             \u001b[0;32mif\u001b[0m \u001b[0m_term\u001b[0m \u001b[0;32mis\u001b[0m \u001b[0;32mnot\u001b[0m \u001b[0mS\u001b[0m\u001b[0;34m.\u001b[0m\u001b[0mOne\u001b[0m\u001b[0;34m:\u001b[0m\u001b[0;34m\u001b[0m\u001b[0m\n\u001b[1;32m    924\u001b[0m                 \u001b[0;32mfor\u001b[0m \u001b[0mfactor\u001b[0m \u001b[0;32min\u001b[0m \u001b[0mMul\u001b[0m\u001b[0;34m.\u001b[0m\u001b[0mmake_args\u001b[0m\u001b[0;34m(\u001b[0m\u001b[0m_term\u001b[0m\u001b[0;34m)\u001b[0m\u001b[0;34m:\u001b[0m\u001b[0;34m\u001b[0m\u001b[0m\n\u001b[0;32m--> 925\u001b[0;31m                     \u001b[0;32mif\u001b[0m \u001b[0mfactor\u001b[0m\u001b[0;34m.\u001b[0m\u001b[0mis_number\u001b[0m\u001b[0;34m:\u001b[0m\u001b[0;34m\u001b[0m\u001b[0m\n\u001b[0m\u001b[1;32m    926\u001b[0m                         \u001b[0;32mtry\u001b[0m\u001b[0;34m:\u001b[0m\u001b[0;34m\u001b[0m\u001b[0m\n\u001b[1;32m    927\u001b[0m                             \u001b[0mcoeff\u001b[0m \u001b[0;34m*=\u001b[0m \u001b[0mcomplex\u001b[0m\u001b[0;34m(\u001b[0m\u001b[0mfactor\u001b[0m\u001b[0;34m)\u001b[0m\u001b[0;34m\u001b[0m\u001b[0m\n",
      "\u001b[0;32m/Library/Python/2.7/site-packages/sympy/core/expr.pyc\u001b[0m in \u001b[0;36mis_number\u001b[0;34m(self)\u001b[0m\n\u001b[1;32m    344\u001b[0m \u001b[0;34m\u001b[0m\u001b[0m\n\u001b[1;32m    345\u001b[0m         \"\"\"\n\u001b[0;32m--> 346\u001b[0;31m         \u001b[0;32mreturn\u001b[0m \u001b[0mall\u001b[0m\u001b[0;34m(\u001b[0m\u001b[0mobj\u001b[0m\u001b[0;34m.\u001b[0m\u001b[0mis_number\u001b[0m \u001b[0;32mfor\u001b[0m \u001b[0mobj\u001b[0m \u001b[0;32min\u001b[0m \u001b[0mself\u001b[0m\u001b[0;34m.\u001b[0m\u001b[0margs\u001b[0m\u001b[0;34m)\u001b[0m\u001b[0;34m\u001b[0m\u001b[0m\n\u001b[0m\u001b[1;32m    347\u001b[0m \u001b[0;34m\u001b[0m\u001b[0m\n\u001b[1;32m    348\u001b[0m     \u001b[0;32mdef\u001b[0m \u001b[0m_random\u001b[0m\u001b[0;34m(\u001b[0m\u001b[0mself\u001b[0m\u001b[0;34m,\u001b[0m \u001b[0mn\u001b[0m\u001b[0;34m=\u001b[0m\u001b[0mNone\u001b[0m\u001b[0;34m,\u001b[0m \u001b[0mre_min\u001b[0m\u001b[0;34m=\u001b[0m\u001b[0;34m-\u001b[0m\u001b[0;36m1\u001b[0m\u001b[0;34m,\u001b[0m \u001b[0mim_min\u001b[0m\u001b[0;34m=\u001b[0m\u001b[0;34m-\u001b[0m\u001b[0;36m1\u001b[0m\u001b[0;34m,\u001b[0m \u001b[0mre_max\u001b[0m\u001b[0;34m=\u001b[0m\u001b[0;36m1\u001b[0m\u001b[0;34m,\u001b[0m \u001b[0mim_max\u001b[0m\u001b[0;34m=\u001b[0m\u001b[0;36m1\u001b[0m\u001b[0;34m)\u001b[0m\u001b[0;34m:\u001b[0m\u001b[0;34m\u001b[0m\u001b[0m\n",
      "\u001b[0;32m/Library/Python/2.7/site-packages/sympy/core/expr.pyc\u001b[0m in \u001b[0;36m<genexpr>\u001b[0;34m((obj,))\u001b[0m\n\u001b[1;32m    344\u001b[0m \u001b[0;34m\u001b[0m\u001b[0m\n\u001b[1;32m    345\u001b[0m         \"\"\"\n\u001b[0;32m--> 346\u001b[0;31m         \u001b[0;32mreturn\u001b[0m \u001b[0mall\u001b[0m\u001b[0;34m(\u001b[0m\u001b[0mobj\u001b[0m\u001b[0;34m.\u001b[0m\u001b[0mis_number\u001b[0m \u001b[0;32mfor\u001b[0m \u001b[0mobj\u001b[0m \u001b[0;32min\u001b[0m \u001b[0mself\u001b[0m\u001b[0;34m.\u001b[0m\u001b[0margs\u001b[0m\u001b[0;34m)\u001b[0m\u001b[0;34m\u001b[0m\u001b[0m\n\u001b[0m\u001b[1;32m    347\u001b[0m \u001b[0;34m\u001b[0m\u001b[0m\n\u001b[1;32m    348\u001b[0m     \u001b[0;32mdef\u001b[0m \u001b[0m_random\u001b[0m\u001b[0;34m(\u001b[0m\u001b[0mself\u001b[0m\u001b[0;34m,\u001b[0m \u001b[0mn\u001b[0m\u001b[0;34m=\u001b[0m\u001b[0mNone\u001b[0m\u001b[0;34m,\u001b[0m \u001b[0mre_min\u001b[0m\u001b[0;34m=\u001b[0m\u001b[0;34m-\u001b[0m\u001b[0;36m1\u001b[0m\u001b[0;34m,\u001b[0m \u001b[0mim_min\u001b[0m\u001b[0;34m=\u001b[0m\u001b[0;34m-\u001b[0m\u001b[0;36m1\u001b[0m\u001b[0;34m,\u001b[0m \u001b[0mre_max\u001b[0m\u001b[0;34m=\u001b[0m\u001b[0;36m1\u001b[0m\u001b[0;34m,\u001b[0m \u001b[0mim_max\u001b[0m\u001b[0;34m=\u001b[0m\u001b[0;36m1\u001b[0m\u001b[0;34m)\u001b[0m\u001b[0;34m:\u001b[0m\u001b[0;34m\u001b[0m\u001b[0m\n",
      "\u001b[0;31mAttributeError\u001b[0m: 'str' object has no attribute 'is_number'"
     ]
    }
   ],
   "source": [
    "z.as_terms()"
   ]
  },
  {
   "cell_type": "code",
   "execution_count": 226,
   "metadata": {
    "collapsed": false
   },
   "outputs": [],
   "source": [
    "As, Bs = get_groups(eval(\"a^6*b^4 + a^6*b^3 + a^6*b^2 + a^5*b^5 + a^5*b^4 + a^5*b^3 + a^4*b^5\".replace(\"^\", \"**\")))"
   ]
  },
  {
   "cell_type": "code",
   "execution_count": 225,
   "metadata": {
    "collapsed": false
   },
   "outputs": [
    {
     "data": {
      "text/plain": [
       "({4: [(1.0, 4, 4)], 5: [(1.0, 5, 3), (1.0, 5, 4)]},\n",
       " {5: [(1.0, 3, 5), (1.0, 4, 5)]})"
      ]
     },
     "execution_count": 225,
     "metadata": {},
     "output_type": "execute_result"
    }
   ],
   "source": [
    "get_groups(a**5*b**4 + a**5*b**3 + a**4*b**5 + a**4*b**4 + a**3*b**5)"
   ]
  },
  {
   "cell_type": "code",
   "execution_count": 231,
   "metadata": {
    "collapsed": false
   },
   "outputs": [],
   "source": [
    "sorted(As.keys(), reverse=True)"
   ]
  },
  {
   "cell_type": "code",
   "execution_count": 143,
   "metadata": {
    "collapsed": false
   },
   "outputs": [
    {
     "name": "stdout",
     "output_type": "stream",
     "text": [
      "[(1.0, 2, 3)]\n",
      "[(1.0, 0, 5)]\n",
      "[(1.0, 1, 4)]\n",
      "[(1.0, 3, 2)]\n",
      "[(1.0, 5, 0)]\n",
      "[(1.0, 4, 1)]\n"
     ]
    }
   ],
   "source": [
    "while len(queue) > 0:\n",
    "    s = queue.pop()\n",
    "    exp = memo[str(s)]\n",
    "    terms = extract_a_b_terms(exp)\n",
    "    L = s.open_spots_to_left()\n",
    "#     c, a, b = zip(*terms)\n",
    "\n",
    "    As = dict()\n",
    "    Bs = dict()\n",
    "    isA = True\n",
    "    while len(terms) > 0:\n",
    "        m, group, terms = pop_max_terms(terms, isA)\n",
    "        if isA:\n",
    "            As[m] = group\n",
    "        else:\n",
    "            Bs[m] = group\n",
    "        isA = not isA"
   ]
  },
  {
   "cell_type": "code",
   "execution_count": 60,
   "metadata": {
    "collapsed": false
   },
   "outputs": [
    {
     "data": {
      "text/plain": [
       "[1, 3]"
      ]
     },
     "execution_count": 60,
     "metadata": {},
     "output_type": "execute_result"
    }
   ],
   "source": [
    "sorted(s.open_spots_to_left())"
   ]
  },
  {
   "cell_type": "code",
   "execution_count": 57,
   "metadata": {
    "collapsed": false
   },
   "outputs": [],
   "source": [
    "s = State('00101', cycle=False)"
   ]
  },
  {
   "cell_type": "code",
   "execution_count": 29,
   "metadata": {
    "collapsed": true
   },
   "outputs": [],
   "source": [
    "def transitions_to_left(s):\n",
    "    spots = s.open_spots_to_left()\n",
    "    return [s.move_left(new) for new in spots]"
   ]
  },
  {
   "cell_type": "code",
   "execution_count": 41,
   "metadata": {
    "collapsed": false
   },
   "outputs": [
    {
     "data": {
      "text/plain": [
       "[[10111], [], [01011], [00010], [], [00101]]"
      ]
     },
     "execution_count": 41,
     "metadata": {},
     "output_type": "execute_result"
    }
   ],
   "source": [
    "[transitions_to_left(State(s, cycle=False)) for s in memo]"
   ]
  },
  {
   "cell_type": "code",
   "execution_count": 1528,
   "metadata": {
    "collapsed": false
   },
   "outputs": [
    {
     "data": {
      "text/plain": [
       "['1111000000',\n",
       " '1110100000',\n",
       " '1110010000',\n",
       " '1110001000',\n",
       " '1110000100',\n",
       " '1110000010',\n",
       " '1110000001',\n",
       " '1101100000',\n",
       " '1101010000',\n",
       " '1101001000',\n",
       " '1101000100',\n",
       " '1101000010',\n",
       " '1101000001',\n",
       " '1100110000',\n",
       " '1100101000',\n",
       " '1100100100',\n",
       " '1100100010',\n",
       " '1100100001',\n",
       " '1100011000',\n",
       " '1100010100',\n",
       " '1100010010',\n",
       " '1100010001',\n",
       " '1100001100',\n",
       " '1100001010',\n",
       " '1100001001',\n",
       " '1100000110',\n",
       " '1100000101',\n",
       " '1100000011',\n",
       " '1011100000',\n",
       " '1011010000',\n",
       " '1011001000',\n",
       " '1011000100',\n",
       " '1011000010',\n",
       " '1011000001',\n",
       " '1010110000',\n",
       " '1010101000',\n",
       " '1010100100',\n",
       " '1010100010',\n",
       " '1010100001',\n",
       " '1010011000',\n",
       " '1010010100',\n",
       " '1010010010',\n",
       " '1010010001',\n",
       " '1010001100',\n",
       " '1010001010',\n",
       " '1010001001',\n",
       " '1010000110',\n",
       " '1010000101',\n",
       " '1010000011',\n",
       " '1001110000',\n",
       " '1001101000',\n",
       " '1001100100',\n",
       " '1001100010',\n",
       " '1001100001',\n",
       " '1001011000',\n",
       " '1001010100',\n",
       " '1001010010',\n",
       " '1001010001',\n",
       " '1001001100',\n",
       " '1001001010',\n",
       " '1001001001',\n",
       " '1001000110',\n",
       " '1001000101',\n",
       " '1001000011',\n",
       " '1000111000',\n",
       " '1000110100',\n",
       " '1000110010',\n",
       " '1000110001',\n",
       " '1000101100',\n",
       " '1000101010',\n",
       " '1000101001',\n",
       " '1000100110',\n",
       " '1000100101',\n",
       " '1000100011',\n",
       " '1000011100',\n",
       " '1000011010',\n",
       " '1000011001',\n",
       " '1000010110',\n",
       " '1000010101',\n",
       " '1000010011',\n",
       " '1000001110',\n",
       " '1000001101',\n",
       " '1000001011',\n",
       " '1000000111',\n",
       " '0111100000',\n",
       " '0111010000',\n",
       " '0111001000',\n",
       " '0111000100',\n",
       " '0111000010',\n",
       " '0111000001',\n",
       " '0110110000',\n",
       " '0110101000',\n",
       " '0110100100',\n",
       " '0110100010',\n",
       " '0110100001',\n",
       " '0110011000',\n",
       " '0110010100',\n",
       " '0110010010',\n",
       " '0110010001',\n",
       " '0110001100',\n",
       " '0110001010',\n",
       " '0110001001',\n",
       " '0110000110',\n",
       " '0110000101',\n",
       " '0110000011',\n",
       " '0101110000',\n",
       " '0101101000',\n",
       " '0101100100',\n",
       " '0101100010',\n",
       " '0101100001',\n",
       " '0101011000',\n",
       " '0101010100',\n",
       " '0101010010',\n",
       " '0101010001',\n",
       " '0101001100',\n",
       " '0101001010',\n",
       " '0101001001',\n",
       " '0101000110',\n",
       " '0101000101',\n",
       " '0101000011',\n",
       " '0100111000',\n",
       " '0100110100',\n",
       " '0100110010',\n",
       " '0100110001',\n",
       " '0100101100',\n",
       " '0100101010',\n",
       " '0100101001',\n",
       " '0100100110',\n",
       " '0100100101',\n",
       " '0100100011',\n",
       " '0100011100',\n",
       " '0100011010',\n",
       " '0100011001',\n",
       " '0100010110',\n",
       " '0100010101',\n",
       " '0100010011',\n",
       " '0100001110',\n",
       " '0100001101',\n",
       " '0100001011',\n",
       " '0100000111',\n",
       " '0011110000',\n",
       " '0011101000',\n",
       " '0011100100',\n",
       " '0011100010',\n",
       " '0011100001',\n",
       " '0011011000',\n",
       " '0011010100',\n",
       " '0011010010',\n",
       " '0011010001',\n",
       " '0011001100',\n",
       " '0011001010',\n",
       " '0011001001',\n",
       " '0011000110',\n",
       " '0011000101',\n",
       " '0011000011',\n",
       " '0010111000',\n",
       " '0010110100',\n",
       " '0010110010',\n",
       " '0010110001',\n",
       " '0010101100',\n",
       " '0010101010',\n",
       " '0010101001',\n",
       " '0010100110',\n",
       " '0010100101',\n",
       " '0010100011',\n",
       " '0010011100',\n",
       " '0010011010',\n",
       " '0010011001',\n",
       " '0010010110',\n",
       " '0010010101',\n",
       " '0010010011',\n",
       " '0010001110',\n",
       " '0010001101',\n",
       " '0010001011',\n",
       " '0010000111',\n",
       " '0001111000',\n",
       " '0001110100',\n",
       " '0001110010',\n",
       " '0001110001',\n",
       " '0001101100',\n",
       " '0001101010',\n",
       " '0001101001',\n",
       " '0001100110',\n",
       " '0001100101',\n",
       " '0001100011',\n",
       " '0001011100',\n",
       " '0001011010',\n",
       " '0001011001',\n",
       " '0001010110',\n",
       " '0001010101',\n",
       " '0001010011',\n",
       " '0001001110',\n",
       " '0001001101',\n",
       " '0001001011',\n",
       " '0001000111',\n",
       " '0000111100',\n",
       " '0000111010',\n",
       " '0000111001',\n",
       " '0000110110',\n",
       " '0000110101',\n",
       " '0000110011',\n",
       " '0000101110',\n",
       " '0000101101',\n",
       " '0000101011',\n",
       " '0000100111',\n",
       " '0000011110',\n",
       " '0000011101',\n",
       " '0000011011',\n",
       " '0000010111',\n",
       " '0000001111']"
      ]
     },
     "execution_count": 1528,
     "metadata": {},
     "output_type": "execute_result"
    }
   ],
   "source": [
    "p.enum_states()"
   ]
  },
  {
   "cell_type": "code",
   "execution_count": 1526,
   "metadata": {
    "collapsed": false
   },
   "outputs": [
    {
     "data": {
      "text/plain": [
       "{(1, 7): ['1'], (2, 8): ['11'], (3, 9): ['111'], (4, 10): ['1111']}"
      ]
     },
     "execution_count": 1526,
     "metadata": {},
     "output_type": "execute_result"
    }
   ],
   "source": [
    "p.memo"
   ]
  },
  {
   "cell_type": "code",
   "execution_count": 309,
   "metadata": {
    "collapsed": true
   },
   "outputs": [],
   "source": [
    "# New process object\n",
    "N = 5\n",
    "q = 0.\n",
    "a = sympy.Symbol('a')\n",
    "b = sympy.Symbol('b')\n",
    "p = BoundaryProcess(N, q, a, b)\n",
    "S, T, V = p.matrices()\n",
    "M = T.shape[0]"
   ]
  },
  {
   "cell_type": "code",
   "execution_count": 310,
   "metadata": {
    "collapsed": true
   },
   "outputs": [],
   "source": [
    "with open('tmat.txt', 'wb') as f:\n",
    "    f.write(\"[\"+ \"; \".join([\", \".join([str(sympy.nsimplify(x)) for x in T.row(j)]) for j in range(T.shape[0])]) + \"]\")"
   ]
  },
  {
   "cell_type": "code",
   "execution_count": 12,
   "metadata": {
    "collapsed": true
   },
   "outputs": [],
   "source": [
    "S_sym = sympy.Matrix(S)\n",
    "with open('smat.txt', 'wb') as f:\n",
    "    f.write(\"[\"+ \"; \".join([\", \".join([str(x) for x in S_sym.row(j)]) for j in range(S_sym.shape[0])]) + \"]\")"
   ]
  },
  {
   "cell_type": "code",
   "execution_count": 1471,
   "metadata": {
    "collapsed": false
   },
   "outputs": [
    {
     "data": {
      "text/plain": [
       "1/9"
      ]
     },
     "execution_count": 1471,
     "metadata": {},
     "output_type": "execute_result"
    }
   ],
   "source": [
    "sympy.nsimplify(0.111111111111111)"
   ]
  },
  {
   "cell_type": "code",
   "execution_count": 219,
   "metadata": {
    "collapsed": false
   },
   "outputs": [
    {
     "data": {
      "text/plain": [
       "(16, 16)"
      ]
     },
     "execution_count": 219,
     "metadata": {},
     "output_type": "execute_result"
    }
   ],
   "source": [
    "T.shape"
   ]
  },
  {
   "cell_type": "code",
   "execution_count": 1477,
   "metadata": {
    "collapsed": false,
    "scrolled": true
   },
   "outputs": [
    {
     "name": "stdout",
     "output_type": "stream",
     "text": [
      "[-a/5 + 1, b/5, 0, 0, 0, 0, 0, 0, 0, 0, 0, 0, 0, 0, 0, 0; 0, -a/5 - b/5 + 1, 1/5, 0, 0, 0, 0, 0, 0, 0, 0, 0, 0, 0, 0, 0; 0, 0, -a/5 + 4/5, b/5, 1/5, 0, 0, 0, 0, 0, 0, 0, 0, 0, 0, 0; 0, 0, 0, -a/5 - b/5 + 1, 0, 1/5, 0, 0, 0, 0, 0, 0, 0, 0, 0, 0; 0, 0, 0, 0, -a/5 + 4/5, b/5, 0, 0, 1/5, 0, 0, 0, 0, 0, 0, 0; 0, 0, 0, 0, 0, -a/5 - b/5 + 4/5, 1/5, 0, 0, 1/5, 0, 0, 0, 0, 0, 0; 0, 0, 0, 0, 0, 0, -a/5 + 4/5, b/5, 0, 0, 1/5, 0, 0, 0, 0, 0; 0, 0, 0, 0, 0, 0, 0, -a/5 - b/5 + 1, 0, 0, 0, 1/5, 0, 0, 0, 0; a/5, 0, 0, 0, 0, 0, 0, 0, 4/5, b/5, 0, 0, 0, 0, 0, 0; 0, a/5, 0, 0, 0, 0, 0, 0, 0, -b/5 + 4/5, 1/5, 0, 0, 0, 0, 0; 0, 0, a/5, 0, 0, 0, 0, 0, 0, 0, 3/5, b/5, 1/5, 0, 0, 0; 0, 0, 0, a/5, 0, 0, 0, 0, 0, 0, 0, -b/5 + 4/5, 0, 1/5, 0, 0; 0, 0, 0, 0, a/5, 0, 0, 0, 0, 0, 0, 0, 4/5, b/5, 0, 0; 0, 0, 0, 0, 0, a/5, 0, 0, 0, 0, 0, 0, 0, -b/5 + 4/5, 1/5, 0; 0, 0, 0, 0, 0, 0, a/5, 0, 0, 0, 0, 0, 0, 0, 4/5, b/5; 0, 0, 0, 0, 0, 0, 0, a/5, 0, 0, 0, 0, 0, 0, 0, -b/5 + 1]\n"
     ]
    }
   ],
   "source": [
    "print \"[\"+ \"; \".join([\", \".join([str(sympy.nsimplify(x)) for x in T.row(j)]) for j in range(T.shape[1])]) + \"]\""
   ]
  },
  {
   "cell_type": "code",
   "execution_count": 1481,
   "metadata": {
    "collapsed": true
   },
   "outputs": [],
   "source": [
    "S_sym = sympy.Matrix(S)"
   ]
  },
  {
   "cell_type": "code",
   "execution_count": 1489,
   "metadata": {
    "collapsed": false
   },
   "outputs": [
    {
     "data": {
      "text/plain": [
       "array([[ 0.,  0.,  0.,  0.,  0.,  0.,  0.,  0.,  1.,  1.,  1.,  1.,  1.,\n",
       "         1.,  1.,  1.],\n",
       "       [ 0.,  0.,  0.,  0.,  1.,  1.,  1.,  1.,  0.,  0.,  0.,  0.,  1.,\n",
       "         1.,  1.,  1.],\n",
       "       [ 0.,  0.,  1.,  1.,  0.,  0.,  1.,  1.,  0.,  0.,  1.,  1.,  0.,\n",
       "         0.,  1.,  1.],\n",
       "       [ 0.,  1.,  0.,  1.,  0.,  1.,  0.,  1.,  0.,  1.,  0.,  1.,  0.,\n",
       "         1.,  0.,  1.]])"
      ]
     },
     "execution_count": 1489,
     "metadata": {},
     "output_type": "execute_result"
    }
   ],
   "source": [
    "S"
   ]
  },
  {
   "cell_type": "code",
   "execution_count": 1488,
   "metadata": {
    "collapsed": false
   },
   "outputs": [
    {
     "data": {
      "text/plain": [
       "'[0.0, 0.0, 0.0, 0.0, 0.0, 0.0, 0.0, 0.0, 1.00000000000000, 1.00000000000000, 1.00000000000000, 1.00000000000000, 1.00000000000000, 1.00000000000000, 1.00000000000000, 1.00000000000000; 0.0, 0.0, 0.0, 0.0, 1.00000000000000, 1.00000000000000, 1.00000000000000, 1.00000000000000, 0.0, 0.0, 0.0, 0.0, 1.00000000000000, 1.00000000000000, 1.00000000000000, 1.00000000000000; 0.0, 0.0, 1.00000000000000, 1.00000000000000, 0.0, 0.0, 1.00000000000000, 1.00000000000000, 0.0, 0.0, 1.00000000000000, 1.00000000000000, 0.0, 0.0, 1.00000000000000, 1.00000000000000; 0.0, 1.00000000000000, 0.0, 1.00000000000000, 0.0, 1.00000000000000, 0.0, 1.00000000000000, 0.0, 1.00000000000000, 0.0, 1.00000000000000, 0.0, 1.00000000000000, 0.0, 1.00000000000000]'"
      ]
     },
     "execution_count": 1488,
     "metadata": {},
     "output_type": "execute_result"
    }
   ],
   "source": [
    "\"[\"+ \"; \".join([\", \".join([str(x) for x in S_sym.row(j)]) for j in range(S_sym.shape[0])]) + \"]\""
   ]
  },
  {
   "cell_type": "code",
   "execution_count": 1494,
   "metadata": {
    "collapsed": true
   },
   "outputs": [],
   "source": [
    "from sympy.parsing.sympy_parser import parse_expr"
   ]
  },
  {
   "cell_type": "code",
   "execution_count": 1498,
   "metadata": {
    "collapsed": false
   },
   "outputs": [
    {
     "data": {
      "text/plain": [
       "5*a**3*b**3 + 5*a**3*b**2 + 3*a**3*b + a**3 + 5*a**2*b**4 + 3*a**2*b**3 + a**2*b**2 + 3*a*b**4 + a*b**3 + b**4"
      ]
     },
     "execution_count": 1498,
     "metadata": {},
     "output_type": "execute_result"
    }
   ],
   "source": [
    "parse_expr(\"5*a^3*b^3 + 5*a^3*b^2 + 3*a^3*b + a^3 + 5*a^2*b^4 + 3*a^2*b^3 + a^2*b^2 + 3*a*b^4 + a*b^3 + b^4\".replace(\"^\", \"**\"))"
   ]
  },
  {
   "cell_type": "code",
   "execution_count": 1480,
   "metadata": {
    "collapsed": false
   },
   "outputs": [
    {
     "data": {
      "text/plain": [
       "['0000',\n",
       " '0001',\n",
       " '0010',\n",
       " '0011',\n",
       " '0100',\n",
       " '0101',\n",
       " '0110',\n",
       " '0111',\n",
       " '1000',\n",
       " '1001',\n",
       " '1010',\n",
       " '1011',\n",
       " '1100',\n",
       " '1101',\n",
       " '1110',\n",
       " '1111']"
      ]
     },
     "execution_count": 1480,
     "metadata": {},
     "output_type": "execute_result"
    }
   ],
   "source": [
    "p.enum_states()"
   ]
  },
  {
   "cell_type": "code",
   "execution_count": 1430,
   "metadata": {
    "collapsed": false
   },
   "outputs": [
    {
     "ename": "KeyboardInterrupt",
     "evalue": "",
     "output_type": "error",
     "traceback": [
      "\u001b[0;31m---------------------------------------------------------------------------\u001b[0m",
      "\u001b[0;31mKeyboardInterrupt\u001b[0m                         Traceback (most recent call last)",
      "\u001b[0;32m<ipython-input-1430-f697083e2796>\u001b[0m in \u001b[0;36m<module>\u001b[0;34m()\u001b[0m\n\u001b[0;32m----> 1\u001b[0;31m \u001b[0ml\u001b[0m \u001b[0;34m=\u001b[0m \u001b[0mT\u001b[0m\u001b[0;34m.\u001b[0m\u001b[0meigenvals\u001b[0m\u001b[0;34m(\u001b[0m\u001b[0;34m)\u001b[0m\u001b[0;34m\u001b[0m\u001b[0m\n\u001b[0m",
      "\u001b[0;32m/Library/Python/2.7/site-packages/sympy/matrices/matrices.pyc\u001b[0m in \u001b[0;36meigenvals\u001b[0;34m(self, **flags)\u001b[0m\n\u001b[1;32m   3044\u001b[0m \u001b[0;34m\u001b[0m\u001b[0m\n\u001b[1;32m   3045\u001b[0m         \u001b[0mflags\u001b[0m\u001b[0;34m.\u001b[0m\u001b[0mpop\u001b[0m\u001b[0;34m(\u001b[0m\u001b[0;34m'simplify'\u001b[0m\u001b[0;34m,\u001b[0m \u001b[0mNone\u001b[0m\u001b[0;34m)\u001b[0m  \u001b[0;31m# pop unsupported flag\u001b[0m\u001b[0;34m\u001b[0m\u001b[0m\n\u001b[0;32m-> 3046\u001b[0;31m         \u001b[0;32mreturn\u001b[0m \u001b[0mmat\u001b[0m\u001b[0;34m.\u001b[0m\u001b[0mberkowitz_eigenvals\u001b[0m\u001b[0;34m(\u001b[0m\u001b[0;34m**\u001b[0m\u001b[0mflags\u001b[0m\u001b[0;34m)\u001b[0m\u001b[0;34m\u001b[0m\u001b[0m\n\u001b[0m\u001b[1;32m   3047\u001b[0m \u001b[0;34m\u001b[0m\u001b[0m\n\u001b[1;32m   3048\u001b[0m     \u001b[0;32mdef\u001b[0m \u001b[0meigenvects\u001b[0m\u001b[0;34m(\u001b[0m\u001b[0mself\u001b[0m\u001b[0;34m,\u001b[0m \u001b[0;34m**\u001b[0m\u001b[0mflags\u001b[0m\u001b[0;34m)\u001b[0m\u001b[0;34m:\u001b[0m\u001b[0;34m\u001b[0m\u001b[0m\n",
      "\u001b[0;32m/Library/Python/2.7/site-packages/sympy/matrices/matrices.pyc\u001b[0m in \u001b[0;36mberkowitz_eigenvals\u001b[0;34m(self, **flags)\u001b[0m\n\u001b[1;32m   3025\u001b[0m         \u001b[0mberkowitz\u001b[0m\u001b[0;34m\u001b[0m\u001b[0m\n\u001b[1;32m   3026\u001b[0m         \"\"\"\n\u001b[0;32m-> 3027\u001b[0;31m         \u001b[0;32mreturn\u001b[0m \u001b[0mroots\u001b[0m\u001b[0;34m(\u001b[0m\u001b[0mself\u001b[0m\u001b[0;34m.\u001b[0m\u001b[0mberkowitz_charpoly\u001b[0m\u001b[0;34m(\u001b[0m\u001b[0mDummy\u001b[0m\u001b[0;34m(\u001b[0m\u001b[0;34m'x'\u001b[0m\u001b[0;34m)\u001b[0m\u001b[0;34m)\u001b[0m\u001b[0;34m,\u001b[0m \u001b[0;34m**\u001b[0m\u001b[0mflags\u001b[0m\u001b[0;34m)\u001b[0m\u001b[0;34m\u001b[0m\u001b[0m\n\u001b[0m\u001b[1;32m   3028\u001b[0m \u001b[0;34m\u001b[0m\u001b[0m\n\u001b[1;32m   3029\u001b[0m     \u001b[0;32mdef\u001b[0m \u001b[0meigenvals\u001b[0m\u001b[0;34m(\u001b[0m\u001b[0mself\u001b[0m\u001b[0;34m,\u001b[0m \u001b[0;34m**\u001b[0m\u001b[0mflags\u001b[0m\u001b[0;34m)\u001b[0m\u001b[0;34m:\u001b[0m\u001b[0;34m\u001b[0m\u001b[0m\n",
      "\u001b[0;32m/Library/Python/2.7/site-packages/sympy/matrices/matrices.pyc\u001b[0m in \u001b[0;36mberkowitz_charpoly\u001b[0;34m(self, x, simplify)\u001b[0m\n\u001b[1;32m   3013\u001b[0m         \u001b[0mberkowitz\u001b[0m\u001b[0;34m\u001b[0m\u001b[0m\n\u001b[1;32m   3014\u001b[0m         \"\"\"\n\u001b[0;32m-> 3015\u001b[0;31m         \u001b[0;32mreturn\u001b[0m \u001b[0mPurePoly\u001b[0m\u001b[0;34m(\u001b[0m\u001b[0mlist\u001b[0m\u001b[0;34m(\u001b[0m\u001b[0mmap\u001b[0m\u001b[0;34m(\u001b[0m\u001b[0msimplify\u001b[0m\u001b[0;34m,\u001b[0m \u001b[0mself\u001b[0m\u001b[0;34m.\u001b[0m\u001b[0mberkowitz\u001b[0m\u001b[0;34m(\u001b[0m\u001b[0;34m)\u001b[0m\u001b[0;34m[\u001b[0m\u001b[0;34m-\u001b[0m\u001b[0;36m1\u001b[0m\u001b[0;34m]\u001b[0m\u001b[0;34m)\u001b[0m\u001b[0;34m)\u001b[0m\u001b[0;34m,\u001b[0m \u001b[0mx\u001b[0m\u001b[0;34m)\u001b[0m\u001b[0;34m\u001b[0m\u001b[0m\n\u001b[0m\u001b[1;32m   3016\u001b[0m \u001b[0;34m\u001b[0m\u001b[0m\n\u001b[1;32m   3017\u001b[0m     \u001b[0mcharpoly\u001b[0m \u001b[0;34m=\u001b[0m \u001b[0mberkowitz_charpoly\u001b[0m\u001b[0;34m\u001b[0m\u001b[0m\n",
      "\u001b[0;32m/Library/Python/2.7/site-packages/sympy/simplify/simplify.pyc\u001b[0m in \u001b[0;36msimplify\u001b[0;34m(expr, ratio, measure, fu)\u001b[0m\n\u001b[1;32m    543\u001b[0m     \u001b[0mexpr\u001b[0m \u001b[0;34m=\u001b[0m \u001b[0mbottom_up\u001b[0m\u001b[0;34m(\u001b[0m\u001b[0mexpr\u001b[0m\u001b[0;34m,\u001b[0m \u001b[0;32mlambda\u001b[0m \u001b[0mw\u001b[0m\u001b[0;34m:\u001b[0m \u001b[0mw\u001b[0m\u001b[0;34m.\u001b[0m\u001b[0mnormal\u001b[0m\u001b[0;34m(\u001b[0m\u001b[0;34m)\u001b[0m\u001b[0;34m)\u001b[0m\u001b[0;34m\u001b[0m\u001b[0m\n\u001b[1;32m    544\u001b[0m     \u001b[0mexpr\u001b[0m \u001b[0;34m=\u001b[0m \u001b[0mMul\u001b[0m\u001b[0;34m(\u001b[0m\u001b[0;34m*\u001b[0m\u001b[0mpowsimp\u001b[0m\u001b[0;34m(\u001b[0m\u001b[0mexpr\u001b[0m\u001b[0;34m)\u001b[0m\u001b[0;34m.\u001b[0m\u001b[0mas_content_primitive\u001b[0m\u001b[0;34m(\u001b[0m\u001b[0;34m)\u001b[0m\u001b[0;34m)\u001b[0m\u001b[0;34m\u001b[0m\u001b[0m\n\u001b[0;32m--> 545\u001b[0;31m     \u001b[0m_e\u001b[0m \u001b[0;34m=\u001b[0m \u001b[0mcancel\u001b[0m\u001b[0;34m(\u001b[0m\u001b[0mexpr\u001b[0m\u001b[0;34m)\u001b[0m\u001b[0;34m\u001b[0m\u001b[0m\n\u001b[0m\u001b[1;32m    546\u001b[0m     \u001b[0mexpr1\u001b[0m \u001b[0;34m=\u001b[0m \u001b[0mshorter\u001b[0m\u001b[0;34m(\u001b[0m\u001b[0m_e\u001b[0m\u001b[0;34m,\u001b[0m \u001b[0m_mexpand\u001b[0m\u001b[0;34m(\u001b[0m\u001b[0m_e\u001b[0m\u001b[0;34m)\u001b[0m\u001b[0;34m.\u001b[0m\u001b[0mcancel\u001b[0m\u001b[0;34m(\u001b[0m\u001b[0;34m)\u001b[0m\u001b[0;34m)\u001b[0m  \u001b[0;31m# issue 6829\u001b[0m\u001b[0;34m\u001b[0m\u001b[0m\n\u001b[1;32m    547\u001b[0m     \u001b[0mexpr2\u001b[0m \u001b[0;34m=\u001b[0m \u001b[0mshorter\u001b[0m\u001b[0;34m(\u001b[0m\u001b[0mtogether\u001b[0m\u001b[0;34m(\u001b[0m\u001b[0mexpr\u001b[0m\u001b[0;34m,\u001b[0m \u001b[0mdeep\u001b[0m\u001b[0;34m=\u001b[0m\u001b[0mTrue\u001b[0m\u001b[0;34m)\u001b[0m\u001b[0;34m,\u001b[0m \u001b[0mtogether\u001b[0m\u001b[0;34m(\u001b[0m\u001b[0mexpr1\u001b[0m\u001b[0;34m,\u001b[0m \u001b[0mdeep\u001b[0m\u001b[0;34m=\u001b[0m\u001b[0mTrue\u001b[0m\u001b[0;34m)\u001b[0m\u001b[0;34m)\u001b[0m\u001b[0;34m\u001b[0m\u001b[0m\n",
      "\u001b[0;32m/Library/Python/2.7/site-packages/sympy/polys/polytools.pyc\u001b[0m in \u001b[0;36mcancel\u001b[0;34m(f, *gens, **args)\u001b[0m\n\u001b[1;32m   6318\u001b[0m         \u001b[0;32mif\u001b[0m \u001b[0mf\u001b[0m\u001b[0;34m.\u001b[0m\u001b[0mis_Number\u001b[0m \u001b[0;32mor\u001b[0m \u001b[0misinstance\u001b[0m\u001b[0;34m(\u001b[0m\u001b[0mf\u001b[0m\u001b[0;34m,\u001b[0m \u001b[0mRelational\u001b[0m\u001b[0;34m)\u001b[0m \u001b[0;32mor\u001b[0m \u001b[0;32mnot\u001b[0m \u001b[0misinstance\u001b[0m\u001b[0;34m(\u001b[0m\u001b[0mf\u001b[0m\u001b[0;34m,\u001b[0m \u001b[0mExpr\u001b[0m\u001b[0;34m)\u001b[0m\u001b[0;34m:\u001b[0m\u001b[0;34m\u001b[0m\u001b[0m\n\u001b[1;32m   6319\u001b[0m             \u001b[0;32mreturn\u001b[0m \u001b[0mf\u001b[0m\u001b[0;34m\u001b[0m\u001b[0m\n\u001b[0;32m-> 6320\u001b[0;31m         \u001b[0mf\u001b[0m \u001b[0;34m=\u001b[0m \u001b[0mfactor_terms\u001b[0m\u001b[0;34m(\u001b[0m\u001b[0mf\u001b[0m\u001b[0;34m,\u001b[0m \u001b[0mradical\u001b[0m\u001b[0;34m=\u001b[0m\u001b[0mTrue\u001b[0m\u001b[0;34m)\u001b[0m\u001b[0;34m\u001b[0m\u001b[0m\n\u001b[0m\u001b[1;32m   6321\u001b[0m         \u001b[0mp\u001b[0m\u001b[0;34m,\u001b[0m \u001b[0mq\u001b[0m \u001b[0;34m=\u001b[0m \u001b[0mf\u001b[0m\u001b[0;34m.\u001b[0m\u001b[0mas_numer_denom\u001b[0m\u001b[0;34m(\u001b[0m\u001b[0;34m)\u001b[0m\u001b[0;34m\u001b[0m\u001b[0m\n\u001b[1;32m   6322\u001b[0m \u001b[0;34m\u001b[0m\u001b[0m\n",
      "\u001b[0;32m/Library/Python/2.7/site-packages/sympy/core/exprtools.pyc\u001b[0m in \u001b[0;36mfactor_terms\u001b[0;34m(expr, radical, clear, fraction, sign)\u001b[0m\n\u001b[1;32m   1186\u001b[0m         \u001b[0;32mreturn\u001b[0m \u001b[0mrv\u001b[0m\u001b[0;34m\u001b[0m\u001b[0m\n\u001b[1;32m   1187\u001b[0m     \u001b[0mexpr\u001b[0m \u001b[0;34m=\u001b[0m \u001b[0msympify\u001b[0m\u001b[0;34m(\u001b[0m\u001b[0mexpr\u001b[0m\u001b[0;34m)\u001b[0m\u001b[0;34m\u001b[0m\u001b[0m\n\u001b[0;32m-> 1188\u001b[0;31m     \u001b[0;32mreturn\u001b[0m \u001b[0mdo\u001b[0m\u001b[0;34m(\u001b[0m\u001b[0mexpr\u001b[0m\u001b[0;34m)\u001b[0m\u001b[0;34m\u001b[0m\u001b[0m\n\u001b[0m\u001b[1;32m   1189\u001b[0m \u001b[0;34m\u001b[0m\u001b[0m\n\u001b[1;32m   1190\u001b[0m \u001b[0;34m\u001b[0m\u001b[0m\n",
      "\u001b[0;32m/Library/Python/2.7/site-packages/sympy/core/exprtools.pyc\u001b[0m in \u001b[0;36mdo\u001b[0;34m(expr)\u001b[0m\n\u001b[1;32m   1162\u001b[0m         \u001b[0mcont\u001b[0m\u001b[0;34m,\u001b[0m \u001b[0mp\u001b[0m \u001b[0;34m=\u001b[0m \u001b[0mexpr\u001b[0m\u001b[0;34m.\u001b[0m\u001b[0mas_content_primitive\u001b[0m\u001b[0;34m(\u001b[0m\u001b[0mradical\u001b[0m\u001b[0;34m=\u001b[0m\u001b[0mradical\u001b[0m\u001b[0;34m,\u001b[0m \u001b[0mclear\u001b[0m\u001b[0;34m=\u001b[0m\u001b[0mclear\u001b[0m\u001b[0;34m)\u001b[0m\u001b[0;34m\u001b[0m\u001b[0m\n\u001b[1;32m   1163\u001b[0m         \u001b[0;32mif\u001b[0m \u001b[0mp\u001b[0m\u001b[0;34m.\u001b[0m\u001b[0mis_Add\u001b[0m\u001b[0;34m:\u001b[0m\u001b[0;34m\u001b[0m\u001b[0m\n\u001b[0;32m-> 1164\u001b[0;31m             \u001b[0mlist_args\u001b[0m \u001b[0;34m=\u001b[0m \u001b[0;34m[\u001b[0m\u001b[0mdo\u001b[0m\u001b[0;34m(\u001b[0m\u001b[0ma\u001b[0m\u001b[0;34m)\u001b[0m \u001b[0;32mfor\u001b[0m \u001b[0ma\u001b[0m \u001b[0;32min\u001b[0m \u001b[0mAdd\u001b[0m\u001b[0;34m.\u001b[0m\u001b[0mmake_args\u001b[0m\u001b[0;34m(\u001b[0m\u001b[0mp\u001b[0m\u001b[0;34m)\u001b[0m\u001b[0;34m]\u001b[0m\u001b[0;34m\u001b[0m\u001b[0m\n\u001b[0m\u001b[1;32m   1165\u001b[0m             \u001b[0;31m# get a common negative (if there) which gcd_terms does not remove\u001b[0m\u001b[0;34m\u001b[0m\u001b[0;34m\u001b[0m\u001b[0m\n\u001b[1;32m   1166\u001b[0m             \u001b[0;32mif\u001b[0m \u001b[0mall\u001b[0m\u001b[0;34m(\u001b[0m\u001b[0ma\u001b[0m\u001b[0;34m.\u001b[0m\u001b[0mas_coeff_Mul\u001b[0m\u001b[0;34m(\u001b[0m\u001b[0;34m)\u001b[0m\u001b[0;34m[\u001b[0m\u001b[0;36m0\u001b[0m\u001b[0;34m]\u001b[0m \u001b[0;34m<\u001b[0m \u001b[0;36m0\u001b[0m \u001b[0;32mfor\u001b[0m \u001b[0ma\u001b[0m \u001b[0;32min\u001b[0m \u001b[0mlist_args\u001b[0m\u001b[0;34m)\u001b[0m\u001b[0;34m:\u001b[0m\u001b[0;34m\u001b[0m\u001b[0m\n",
      "\u001b[0;32m/Library/Python/2.7/site-packages/sympy/core/exprtools.pyc\u001b[0m in \u001b[0;36mdo\u001b[0;34m(expr)\u001b[0m\n\u001b[1;32m   1160\u001b[0m             \u001b[0;32mreturn\u001b[0m \u001b[0mexpr\u001b[0m\u001b[0;34m.\u001b[0m\u001b[0mfunc\u001b[0m\u001b[0;34m(\u001b[0m\u001b[0;34m*\u001b[0m\u001b[0mnewargs\u001b[0m\u001b[0;34m)\u001b[0m\u001b[0;34m\u001b[0m\u001b[0m\n\u001b[1;32m   1161\u001b[0m \u001b[0;34m\u001b[0m\u001b[0m\n\u001b[0;32m-> 1162\u001b[0;31m         \u001b[0mcont\u001b[0m\u001b[0;34m,\u001b[0m \u001b[0mp\u001b[0m \u001b[0;34m=\u001b[0m \u001b[0mexpr\u001b[0m\u001b[0;34m.\u001b[0m\u001b[0mas_content_primitive\u001b[0m\u001b[0;34m(\u001b[0m\u001b[0mradical\u001b[0m\u001b[0;34m=\u001b[0m\u001b[0mradical\u001b[0m\u001b[0;34m,\u001b[0m \u001b[0mclear\u001b[0m\u001b[0;34m=\u001b[0m\u001b[0mclear\u001b[0m\u001b[0;34m)\u001b[0m\u001b[0;34m\u001b[0m\u001b[0m\n\u001b[0m\u001b[1;32m   1163\u001b[0m         \u001b[0;32mif\u001b[0m \u001b[0mp\u001b[0m\u001b[0;34m.\u001b[0m\u001b[0mis_Add\u001b[0m\u001b[0;34m:\u001b[0m\u001b[0;34m\u001b[0m\u001b[0m\n\u001b[1;32m   1164\u001b[0m             \u001b[0mlist_args\u001b[0m \u001b[0;34m=\u001b[0m \u001b[0;34m[\u001b[0m\u001b[0mdo\u001b[0m\u001b[0;34m(\u001b[0m\u001b[0ma\u001b[0m\u001b[0;34m)\u001b[0m \u001b[0;32mfor\u001b[0m \u001b[0ma\u001b[0m \u001b[0;32min\u001b[0m \u001b[0mAdd\u001b[0m\u001b[0;34m.\u001b[0m\u001b[0mmake_args\u001b[0m\u001b[0;34m(\u001b[0m\u001b[0mp\u001b[0m\u001b[0;34m)\u001b[0m\u001b[0;34m]\u001b[0m\u001b[0;34m\u001b[0m\u001b[0m\n",
      "\u001b[0;32m/Library/Python/2.7/site-packages/sympy/core/mul.pyc\u001b[0m in \u001b[0;36mas_content_primitive\u001b[0;34m(self, radical, clear)\u001b[0m\n\u001b[1;32m   1590\u001b[0m         \u001b[0margs\u001b[0m \u001b[0;34m=\u001b[0m \u001b[0;34m[\u001b[0m\u001b[0;34m]\u001b[0m\u001b[0;34m\u001b[0m\u001b[0m\n\u001b[1;32m   1591\u001b[0m         \u001b[0;32mfor\u001b[0m \u001b[0mi\u001b[0m\u001b[0;34m,\u001b[0m \u001b[0ma\u001b[0m \u001b[0;32min\u001b[0m \u001b[0menumerate\u001b[0m\u001b[0;34m(\u001b[0m\u001b[0mself\u001b[0m\u001b[0;34m.\u001b[0m\u001b[0margs\u001b[0m\u001b[0;34m)\u001b[0m\u001b[0;34m:\u001b[0m\u001b[0;34m\u001b[0m\u001b[0m\n\u001b[0;32m-> 1592\u001b[0;31m             \u001b[0mc\u001b[0m\u001b[0;34m,\u001b[0m \u001b[0mp\u001b[0m \u001b[0;34m=\u001b[0m \u001b[0ma\u001b[0m\u001b[0;34m.\u001b[0m\u001b[0mas_content_primitive\u001b[0m\u001b[0;34m(\u001b[0m\u001b[0mradical\u001b[0m\u001b[0;34m=\u001b[0m\u001b[0mradical\u001b[0m\u001b[0;34m,\u001b[0m \u001b[0mclear\u001b[0m\u001b[0;34m=\u001b[0m\u001b[0mclear\u001b[0m\u001b[0;34m)\u001b[0m\u001b[0;34m\u001b[0m\u001b[0m\n\u001b[0m\u001b[1;32m   1593\u001b[0m             \u001b[0mcoef\u001b[0m \u001b[0;34m*=\u001b[0m \u001b[0mc\u001b[0m\u001b[0;34m\u001b[0m\u001b[0m\n\u001b[1;32m   1594\u001b[0m             \u001b[0;32mif\u001b[0m \u001b[0mp\u001b[0m \u001b[0;32mis\u001b[0m \u001b[0;32mnot\u001b[0m \u001b[0mS\u001b[0m\u001b[0;34m.\u001b[0m\u001b[0mOne\u001b[0m\u001b[0;34m:\u001b[0m\u001b[0;34m\u001b[0m\u001b[0m\n",
      "\u001b[0;32m/Library/Python/2.7/site-packages/sympy/core/add.pyc\u001b[0m in \u001b[0;36mas_content_primitive\u001b[0;34m(self, radical, clear)\u001b[0m\n\u001b[1;32m    931\u001b[0m         \"\"\"\n\u001b[1;32m    932\u001b[0m         con, prim = self.func(*[_keep_coeff(*a.as_content_primitive(\n\u001b[0;32m--> 933\u001b[0;31m             radical=radical, clear=clear)) for a in self.args]).primitive()\n\u001b[0m\u001b[1;32m    934\u001b[0m         \u001b[0;32mif\u001b[0m \u001b[0;32mnot\u001b[0m \u001b[0mclear\u001b[0m \u001b[0;32mand\u001b[0m \u001b[0;32mnot\u001b[0m \u001b[0mcon\u001b[0m\u001b[0;34m.\u001b[0m\u001b[0mis_Integer\u001b[0m \u001b[0;32mand\u001b[0m \u001b[0mprim\u001b[0m\u001b[0;34m.\u001b[0m\u001b[0mis_Add\u001b[0m\u001b[0;34m:\u001b[0m\u001b[0;34m\u001b[0m\u001b[0m\n\u001b[1;32m    935\u001b[0m             \u001b[0mcon\u001b[0m\u001b[0;34m,\u001b[0m \u001b[0md\u001b[0m \u001b[0;34m=\u001b[0m \u001b[0mcon\u001b[0m\u001b[0;34m.\u001b[0m\u001b[0mas_numer_denom\u001b[0m\u001b[0;34m(\u001b[0m\u001b[0;34m)\u001b[0m\u001b[0;34m\u001b[0m\u001b[0m\n",
      "\u001b[0;32m/Library/Python/2.7/site-packages/sympy/core/mul.pyc\u001b[0m in \u001b[0;36mas_content_primitive\u001b[0;34m(self, radical, clear)\u001b[0m\n\u001b[1;32m   1590\u001b[0m         \u001b[0margs\u001b[0m \u001b[0;34m=\u001b[0m \u001b[0;34m[\u001b[0m\u001b[0;34m]\u001b[0m\u001b[0;34m\u001b[0m\u001b[0m\n\u001b[1;32m   1591\u001b[0m         \u001b[0;32mfor\u001b[0m \u001b[0mi\u001b[0m\u001b[0;34m,\u001b[0m \u001b[0ma\u001b[0m \u001b[0;32min\u001b[0m \u001b[0menumerate\u001b[0m\u001b[0;34m(\u001b[0m\u001b[0mself\u001b[0m\u001b[0;34m.\u001b[0m\u001b[0margs\u001b[0m\u001b[0;34m)\u001b[0m\u001b[0;34m:\u001b[0m\u001b[0;34m\u001b[0m\u001b[0m\n\u001b[0;32m-> 1592\u001b[0;31m             \u001b[0mc\u001b[0m\u001b[0;34m,\u001b[0m \u001b[0mp\u001b[0m \u001b[0;34m=\u001b[0m \u001b[0ma\u001b[0m\u001b[0;34m.\u001b[0m\u001b[0mas_content_primitive\u001b[0m\u001b[0;34m(\u001b[0m\u001b[0mradical\u001b[0m\u001b[0;34m=\u001b[0m\u001b[0mradical\u001b[0m\u001b[0;34m,\u001b[0m \u001b[0mclear\u001b[0m\u001b[0;34m=\u001b[0m\u001b[0mclear\u001b[0m\u001b[0;34m)\u001b[0m\u001b[0;34m\u001b[0m\u001b[0m\n\u001b[0m\u001b[1;32m   1593\u001b[0m             \u001b[0mcoef\u001b[0m \u001b[0;34m*=\u001b[0m \u001b[0mc\u001b[0m\u001b[0;34m\u001b[0m\u001b[0m\n\u001b[1;32m   1594\u001b[0m             \u001b[0;32mif\u001b[0m \u001b[0mp\u001b[0m \u001b[0;32mis\u001b[0m \u001b[0;32mnot\u001b[0m \u001b[0mS\u001b[0m\u001b[0;34m.\u001b[0m\u001b[0mOne\u001b[0m\u001b[0;34m:\u001b[0m\u001b[0;34m\u001b[0m\u001b[0m\n",
      "\u001b[0;32m/Library/Python/2.7/site-packages/sympy/core/add.pyc\u001b[0m in \u001b[0;36mas_content_primitive\u001b[0;34m(self, radical, clear)\u001b[0m\n\u001b[1;32m    931\u001b[0m         \"\"\"\n\u001b[1;32m    932\u001b[0m         con, prim = self.func(*[_keep_coeff(*a.as_content_primitive(\n\u001b[0;32m--> 933\u001b[0;31m             radical=radical, clear=clear)) for a in self.args]).primitive()\n\u001b[0m\u001b[1;32m    934\u001b[0m         \u001b[0;32mif\u001b[0m \u001b[0;32mnot\u001b[0m \u001b[0mclear\u001b[0m \u001b[0;32mand\u001b[0m \u001b[0;32mnot\u001b[0m \u001b[0mcon\u001b[0m\u001b[0;34m.\u001b[0m\u001b[0mis_Integer\u001b[0m \u001b[0;32mand\u001b[0m \u001b[0mprim\u001b[0m\u001b[0;34m.\u001b[0m\u001b[0mis_Add\u001b[0m\u001b[0;34m:\u001b[0m\u001b[0;34m\u001b[0m\u001b[0m\n\u001b[1;32m    935\u001b[0m             \u001b[0mcon\u001b[0m\u001b[0;34m,\u001b[0m \u001b[0md\u001b[0m \u001b[0;34m=\u001b[0m \u001b[0mcon\u001b[0m\u001b[0;34m.\u001b[0m\u001b[0mas_numer_denom\u001b[0m\u001b[0;34m(\u001b[0m\u001b[0;34m)\u001b[0m\u001b[0;34m\u001b[0m\u001b[0m\n",
      "\u001b[0;32m/Library/Python/2.7/site-packages/sympy/core/mul.pyc\u001b[0m in \u001b[0;36mas_content_primitive\u001b[0;34m(self, radical, clear)\u001b[0m\n\u001b[1;32m   1590\u001b[0m         \u001b[0margs\u001b[0m \u001b[0;34m=\u001b[0m \u001b[0;34m[\u001b[0m\u001b[0;34m]\u001b[0m\u001b[0;34m\u001b[0m\u001b[0m\n\u001b[1;32m   1591\u001b[0m         \u001b[0;32mfor\u001b[0m \u001b[0mi\u001b[0m\u001b[0;34m,\u001b[0m \u001b[0ma\u001b[0m \u001b[0;32min\u001b[0m \u001b[0menumerate\u001b[0m\u001b[0;34m(\u001b[0m\u001b[0mself\u001b[0m\u001b[0;34m.\u001b[0m\u001b[0margs\u001b[0m\u001b[0;34m)\u001b[0m\u001b[0;34m:\u001b[0m\u001b[0;34m\u001b[0m\u001b[0m\n\u001b[0;32m-> 1592\u001b[0;31m             \u001b[0mc\u001b[0m\u001b[0;34m,\u001b[0m \u001b[0mp\u001b[0m \u001b[0;34m=\u001b[0m \u001b[0ma\u001b[0m\u001b[0;34m.\u001b[0m\u001b[0mas_content_primitive\u001b[0m\u001b[0;34m(\u001b[0m\u001b[0mradical\u001b[0m\u001b[0;34m=\u001b[0m\u001b[0mradical\u001b[0m\u001b[0;34m,\u001b[0m \u001b[0mclear\u001b[0m\u001b[0;34m=\u001b[0m\u001b[0mclear\u001b[0m\u001b[0;34m)\u001b[0m\u001b[0;34m\u001b[0m\u001b[0m\n\u001b[0m\u001b[1;32m   1593\u001b[0m             \u001b[0mcoef\u001b[0m \u001b[0;34m*=\u001b[0m \u001b[0mc\u001b[0m\u001b[0;34m\u001b[0m\u001b[0m\n\u001b[1;32m   1594\u001b[0m             \u001b[0;32mif\u001b[0m \u001b[0mp\u001b[0m \u001b[0;32mis\u001b[0m \u001b[0;32mnot\u001b[0m \u001b[0mS\u001b[0m\u001b[0;34m.\u001b[0m\u001b[0mOne\u001b[0m\u001b[0;34m:\u001b[0m\u001b[0;34m\u001b[0m\u001b[0m\n",
      "\u001b[0;32m/Library/Python/2.7/site-packages/sympy/core/add.pyc\u001b[0m in \u001b[0;36mas_content_primitive\u001b[0;34m(self, radical, clear)\u001b[0m\n\u001b[1;32m    931\u001b[0m         \"\"\"\n\u001b[1;32m    932\u001b[0m         con, prim = self.func(*[_keep_coeff(*a.as_content_primitive(\n\u001b[0;32m--> 933\u001b[0;31m             radical=radical, clear=clear)) for a in self.args]).primitive()\n\u001b[0m\u001b[1;32m    934\u001b[0m         \u001b[0;32mif\u001b[0m \u001b[0;32mnot\u001b[0m \u001b[0mclear\u001b[0m \u001b[0;32mand\u001b[0m \u001b[0;32mnot\u001b[0m \u001b[0mcon\u001b[0m\u001b[0;34m.\u001b[0m\u001b[0mis_Integer\u001b[0m \u001b[0;32mand\u001b[0m \u001b[0mprim\u001b[0m\u001b[0;34m.\u001b[0m\u001b[0mis_Add\u001b[0m\u001b[0;34m:\u001b[0m\u001b[0;34m\u001b[0m\u001b[0m\n\u001b[1;32m    935\u001b[0m             \u001b[0mcon\u001b[0m\u001b[0;34m,\u001b[0m \u001b[0md\u001b[0m \u001b[0;34m=\u001b[0m \u001b[0mcon\u001b[0m\u001b[0;34m.\u001b[0m\u001b[0mas_numer_denom\u001b[0m\u001b[0;34m(\u001b[0m\u001b[0;34m)\u001b[0m\u001b[0;34m\u001b[0m\u001b[0m\n",
      "\u001b[0;32m/Library/Python/2.7/site-packages/sympy/core/mul.pyc\u001b[0m in \u001b[0;36mas_content_primitive\u001b[0;34m(self, radical, clear)\u001b[0m\n\u001b[1;32m   1590\u001b[0m         \u001b[0margs\u001b[0m \u001b[0;34m=\u001b[0m \u001b[0;34m[\u001b[0m\u001b[0;34m]\u001b[0m\u001b[0;34m\u001b[0m\u001b[0m\n\u001b[1;32m   1591\u001b[0m         \u001b[0;32mfor\u001b[0m \u001b[0mi\u001b[0m\u001b[0;34m,\u001b[0m \u001b[0ma\u001b[0m \u001b[0;32min\u001b[0m \u001b[0menumerate\u001b[0m\u001b[0;34m(\u001b[0m\u001b[0mself\u001b[0m\u001b[0;34m.\u001b[0m\u001b[0margs\u001b[0m\u001b[0;34m)\u001b[0m\u001b[0;34m:\u001b[0m\u001b[0;34m\u001b[0m\u001b[0m\n\u001b[0;32m-> 1592\u001b[0;31m             \u001b[0mc\u001b[0m\u001b[0;34m,\u001b[0m \u001b[0mp\u001b[0m \u001b[0;34m=\u001b[0m \u001b[0ma\u001b[0m\u001b[0;34m.\u001b[0m\u001b[0mas_content_primitive\u001b[0m\u001b[0;34m(\u001b[0m\u001b[0mradical\u001b[0m\u001b[0;34m=\u001b[0m\u001b[0mradical\u001b[0m\u001b[0;34m,\u001b[0m \u001b[0mclear\u001b[0m\u001b[0;34m=\u001b[0m\u001b[0mclear\u001b[0m\u001b[0;34m)\u001b[0m\u001b[0;34m\u001b[0m\u001b[0m\n\u001b[0m\u001b[1;32m   1593\u001b[0m             \u001b[0mcoef\u001b[0m \u001b[0;34m*=\u001b[0m \u001b[0mc\u001b[0m\u001b[0;34m\u001b[0m\u001b[0m\n\u001b[1;32m   1594\u001b[0m             \u001b[0;32mif\u001b[0m \u001b[0mp\u001b[0m \u001b[0;32mis\u001b[0m \u001b[0;32mnot\u001b[0m \u001b[0mS\u001b[0m\u001b[0;34m.\u001b[0m\u001b[0mOne\u001b[0m\u001b[0;34m:\u001b[0m\u001b[0;34m\u001b[0m\u001b[0m\n",
      "\u001b[0;32m/Library/Python/2.7/site-packages/sympy/core/add.pyc\u001b[0m in \u001b[0;36mas_content_primitive\u001b[0;34m(self, radical, clear)\u001b[0m\n\u001b[1;32m    931\u001b[0m         \"\"\"\n\u001b[1;32m    932\u001b[0m         con, prim = self.func(*[_keep_coeff(*a.as_content_primitive(\n\u001b[0;32m--> 933\u001b[0;31m             radical=radical, clear=clear)) for a in self.args]).primitive()\n\u001b[0m\u001b[1;32m    934\u001b[0m         \u001b[0;32mif\u001b[0m \u001b[0;32mnot\u001b[0m \u001b[0mclear\u001b[0m \u001b[0;32mand\u001b[0m \u001b[0;32mnot\u001b[0m \u001b[0mcon\u001b[0m\u001b[0;34m.\u001b[0m\u001b[0mis_Integer\u001b[0m \u001b[0;32mand\u001b[0m \u001b[0mprim\u001b[0m\u001b[0;34m.\u001b[0m\u001b[0mis_Add\u001b[0m\u001b[0;34m:\u001b[0m\u001b[0;34m\u001b[0m\u001b[0m\n\u001b[1;32m    935\u001b[0m             \u001b[0mcon\u001b[0m\u001b[0;34m,\u001b[0m \u001b[0md\u001b[0m \u001b[0;34m=\u001b[0m \u001b[0mcon\u001b[0m\u001b[0;34m.\u001b[0m\u001b[0mas_numer_denom\u001b[0m\u001b[0;34m(\u001b[0m\u001b[0;34m)\u001b[0m\u001b[0;34m\u001b[0m\u001b[0m\n",
      "\u001b[0;32m/Library/Python/2.7/site-packages/sympy/core/mul.pyc\u001b[0m in \u001b[0;36mas_content_primitive\u001b[0;34m(self, radical, clear)\u001b[0m\n\u001b[1;32m   1590\u001b[0m         \u001b[0margs\u001b[0m \u001b[0;34m=\u001b[0m \u001b[0;34m[\u001b[0m\u001b[0;34m]\u001b[0m\u001b[0;34m\u001b[0m\u001b[0m\n\u001b[1;32m   1591\u001b[0m         \u001b[0;32mfor\u001b[0m \u001b[0mi\u001b[0m\u001b[0;34m,\u001b[0m \u001b[0ma\u001b[0m \u001b[0;32min\u001b[0m \u001b[0menumerate\u001b[0m\u001b[0;34m(\u001b[0m\u001b[0mself\u001b[0m\u001b[0;34m.\u001b[0m\u001b[0margs\u001b[0m\u001b[0;34m)\u001b[0m\u001b[0;34m:\u001b[0m\u001b[0;34m\u001b[0m\u001b[0m\n\u001b[0;32m-> 1592\u001b[0;31m             \u001b[0mc\u001b[0m\u001b[0;34m,\u001b[0m \u001b[0mp\u001b[0m \u001b[0;34m=\u001b[0m \u001b[0ma\u001b[0m\u001b[0;34m.\u001b[0m\u001b[0mas_content_primitive\u001b[0m\u001b[0;34m(\u001b[0m\u001b[0mradical\u001b[0m\u001b[0;34m=\u001b[0m\u001b[0mradical\u001b[0m\u001b[0;34m,\u001b[0m \u001b[0mclear\u001b[0m\u001b[0;34m=\u001b[0m\u001b[0mclear\u001b[0m\u001b[0;34m)\u001b[0m\u001b[0;34m\u001b[0m\u001b[0m\n\u001b[0m\u001b[1;32m   1593\u001b[0m             \u001b[0mcoef\u001b[0m \u001b[0;34m*=\u001b[0m \u001b[0mc\u001b[0m\u001b[0;34m\u001b[0m\u001b[0m\n\u001b[1;32m   1594\u001b[0m             \u001b[0;32mif\u001b[0m \u001b[0mp\u001b[0m \u001b[0;32mis\u001b[0m \u001b[0;32mnot\u001b[0m \u001b[0mS\u001b[0m\u001b[0;34m.\u001b[0m\u001b[0mOne\u001b[0m\u001b[0;34m:\u001b[0m\u001b[0;34m\u001b[0m\u001b[0m\n",
      "\u001b[0;32m/Library/Python/2.7/site-packages/sympy/core/add.pyc\u001b[0m in \u001b[0;36mas_content_primitive\u001b[0;34m(self, radical, clear)\u001b[0m\n\u001b[1;32m    931\u001b[0m         \"\"\"\n\u001b[1;32m    932\u001b[0m         con, prim = self.func(*[_keep_coeff(*a.as_content_primitive(\n\u001b[0;32m--> 933\u001b[0;31m             radical=radical, clear=clear)) for a in self.args]).primitive()\n\u001b[0m\u001b[1;32m    934\u001b[0m         \u001b[0;32mif\u001b[0m \u001b[0;32mnot\u001b[0m \u001b[0mclear\u001b[0m \u001b[0;32mand\u001b[0m \u001b[0;32mnot\u001b[0m \u001b[0mcon\u001b[0m\u001b[0;34m.\u001b[0m\u001b[0mis_Integer\u001b[0m \u001b[0;32mand\u001b[0m \u001b[0mprim\u001b[0m\u001b[0;34m.\u001b[0m\u001b[0mis_Add\u001b[0m\u001b[0;34m:\u001b[0m\u001b[0;34m\u001b[0m\u001b[0m\n\u001b[1;32m    935\u001b[0m             \u001b[0mcon\u001b[0m\u001b[0;34m,\u001b[0m \u001b[0md\u001b[0m \u001b[0;34m=\u001b[0m \u001b[0mcon\u001b[0m\u001b[0;34m.\u001b[0m\u001b[0mas_numer_denom\u001b[0m\u001b[0;34m(\u001b[0m\u001b[0;34m)\u001b[0m\u001b[0;34m\u001b[0m\u001b[0m\n",
      "\u001b[0;32m/Library/Python/2.7/site-packages/sympy/core/add.pyc\u001b[0m in \u001b[0;36mprimitive\u001b[0;34m(self)\u001b[0m\n\u001b[1;32m    873\u001b[0m                 \u001b[0mm\u001b[0m \u001b[0;34m=\u001b[0m \u001b[0ma\u001b[0m\u001b[0;34m\u001b[0m\u001b[0m\n\u001b[1;32m    874\u001b[0m             \u001b[0minf\u001b[0m \u001b[0;34m=\u001b[0m \u001b[0minf\u001b[0m \u001b[0;32mor\u001b[0m \u001b[0mm\u001b[0m \u001b[0;32mis\u001b[0m \u001b[0mS\u001b[0m\u001b[0;34m.\u001b[0m\u001b[0mComplexInfinity\u001b[0m\u001b[0;34m\u001b[0m\u001b[0m\n\u001b[0;32m--> 875\u001b[0;31m             \u001b[0mterms\u001b[0m\u001b[0;34m.\u001b[0m\u001b[0mappend\u001b[0m\u001b[0;34m(\u001b[0m\u001b[0;34m(\u001b[0m\u001b[0mc\u001b[0m\u001b[0;34m.\u001b[0m\u001b[0mp\u001b[0m\u001b[0;34m,\u001b[0m \u001b[0mc\u001b[0m\u001b[0;34m.\u001b[0m\u001b[0mq\u001b[0m\u001b[0;34m,\u001b[0m \u001b[0mm\u001b[0m\u001b[0;34m)\u001b[0m\u001b[0;34m)\u001b[0m\u001b[0;34m\u001b[0m\u001b[0m\n\u001b[0m\u001b[1;32m    876\u001b[0m \u001b[0;34m\u001b[0m\u001b[0m\n\u001b[1;32m    877\u001b[0m         \u001b[0;32mif\u001b[0m \u001b[0;32mnot\u001b[0m \u001b[0minf\u001b[0m\u001b[0;34m:\u001b[0m\u001b[0;34m\u001b[0m\u001b[0m\n",
      "\u001b[0;31mKeyboardInterrupt\u001b[0m: "
     ]
    }
   ],
   "source": [
    "l = T.eigenvals()"
   ]
  },
  {
   "cell_type": "code",
   "execution_count": 1431,
   "metadata": {
    "collapsed": false
   },
   "outputs": [
    {
     "data": {
      "text/plain": [
       "{-2*a/9 - 2*b/9 - (-a**2/3 - a*b + 10*a/3 - b**2/3 + 10*b/3 + (2*a/3 + 2*b/3 - 8/3)**2 - 7)/(3*(-1/2 + sqrt(3)*I/2)*(a**2*b/2 - a**2 + a*b**2/2 - 4*a*b + 6*a - b**2 + 6*b + sqrt(-4*(-a**2/3 - a*b + 10*a/3 - b**2/3 + 10*b/3 + (2*a/3 + 2*b/3 - 8/3)**2 - 7)**3 + (a**2*b - 2*a**2 + a*b**2 - 8*a*b + 12*a - 2*b**2 + 12*b + 2*(2*a/3 + 2*b/3 - 8/3)**3 - (6*a + 6*b - 24)*(a**2/9 + a*b/3 - 10*a/9 + b**2/9 - 10*b/9 + 7/3) - 18)**2)/2 + (2*a/3 + 2*b/3 - 8/3)**3 - (6*a + 6*b - 24)*(a**2/9 + a*b/3 - 10*a/9 + b**2/9 - 10*b/9 + 7/3)/2 - 9)**(1/3)) - (-1/2 + sqrt(3)*I/2)*(a**2*b/2 - a**2 + a*b**2/2 - 4*a*b + 6*a - b**2 + 6*b + sqrt(-4*(-a**2/3 - a*b + 10*a/3 - b**2/3 + 10*b/3 + (2*a/3 + 2*b/3 - 8/3)**2 - 7)**3 + (a**2*b - 2*a**2 + a*b**2 - 8*a*b + 12*a - 2*b**2 + 12*b + 2*(2*a/3 + 2*b/3 - 8/3)**3 - (6*a + 6*b - 24)*(a**2/9 + a*b/3 - 10*a/9 + b**2/9 - 10*b/9 + 7/3) - 18)**2)/2 + (2*a/3 + 2*b/3 - 8/3)**3 - (6*a + 6*b - 24)*(a**2/9 + a*b/3 - 10*a/9 + b**2/9 - 10*b/9 + 7/3)/2 - 9)**(1/3)/3 + 8/9: 1,\n",
       " 1: 1,\n",
       " -2*a/9 - 2*b/9 - (-a**2/3 - a*b + 10*a/3 - b**2/3 + 10*b/3 + (2*a/3 + 2*b/3 - 8/3)**2 - 7)/(3*(-1/2 - sqrt(3)*I/2)*(a**2*b/2 - a**2 + a*b**2/2 - 4*a*b + 6*a - b**2 + 6*b + sqrt(-4*(-a**2/3 - a*b + 10*a/3 - b**2/3 + 10*b/3 + (2*a/3 + 2*b/3 - 8/3)**2 - 7)**3 + (a**2*b - 2*a**2 + a*b**2 - 8*a*b + 12*a - 2*b**2 + 12*b + 2*(2*a/3 + 2*b/3 - 8/3)**3 - (6*a + 6*b - 24)*(a**2/9 + a*b/3 - 10*a/9 + b**2/9 - 10*b/9 + 7/3) - 18)**2)/2 + (2*a/3 + 2*b/3 - 8/3)**3 - (6*a + 6*b - 24)*(a**2/9 + a*b/3 - 10*a/9 + b**2/9 - 10*b/9 + 7/3)/2 - 9)**(1/3)) - (-1/2 - sqrt(3)*I/2)*(a**2*b/2 - a**2 + a*b**2/2 - 4*a*b + 6*a - b**2 + 6*b + sqrt(-4*(-a**2/3 - a*b + 10*a/3 - b**2/3 + 10*b/3 + (2*a/3 + 2*b/3 - 8/3)**2 - 7)**3 + (a**2*b - 2*a**2 + a*b**2 - 8*a*b + 12*a - 2*b**2 + 12*b + 2*(2*a/3 + 2*b/3 - 8/3)**3 - (6*a + 6*b - 24)*(a**2/9 + a*b/3 - 10*a/9 + b**2/9 - 10*b/9 + 7/3) - 18)**2)/2 + (2*a/3 + 2*b/3 - 8/3)**3 - (6*a + 6*b - 24)*(a**2/9 + a*b/3 - 10*a/9 + b**2/9 - 10*b/9 + 7/3)/2 - 9)**(1/3)/3 + 8/9: 1,\n",
       " -2*a/9 - 2*b/9 - (-a**2/3 - a*b + 10*a/3 - b**2/3 + 10*b/3 + (2*a/3 + 2*b/3 - 8/3)**2 - 7)/(3*(a**2*b/2 - a**2 + a*b**2/2 - 4*a*b + 6*a - b**2 + 6*b + sqrt(-4*(-a**2/3 - a*b + 10*a/3 - b**2/3 + 10*b/3 + (2*a/3 + 2*b/3 - 8/3)**2 - 7)**3 + (a**2*b - 2*a**2 + a*b**2 - 8*a*b + 12*a - 2*b**2 + 12*b + 2*(2*a/3 + 2*b/3 - 8/3)**3 - (6*a + 6*b - 24)*(a**2/9 + a*b/3 - 10*a/9 + b**2/9 - 10*b/9 + 7/3) - 18)**2)/2 + (2*a/3 + 2*b/3 - 8/3)**3 - (6*a + 6*b - 24)*(a**2/9 + a*b/3 - 10*a/9 + b**2/9 - 10*b/9 + 7/3)/2 - 9)**(1/3)) - (a**2*b/2 - a**2 + a*b**2/2 - 4*a*b + 6*a - b**2 + 6*b + sqrt(-4*(-a**2/3 - a*b + 10*a/3 - b**2/3 + 10*b/3 + (2*a/3 + 2*b/3 - 8/3)**2 - 7)**3 + (a**2*b - 2*a**2 + a*b**2 - 8*a*b + 12*a - 2*b**2 + 12*b + 2*(2*a/3 + 2*b/3 - 8/3)**3 - (6*a + 6*b - 24)*(a**2/9 + a*b/3 - 10*a/9 + b**2/9 - 10*b/9 + 7/3) - 18)**2)/2 + (2*a/3 + 2*b/3 - 8/3)**3 - (6*a + 6*b - 24)*(a**2/9 + a*b/3 - 10*a/9 + b**2/9 - 10*b/9 + 7/3)/2 - 9)**(1/3)/3 + 8/9: 1}"
      ]
     },
     "execution_count": 1431,
     "metadata": {},
     "output_type": "execute_result"
    }
   ],
   "source": [
    "l"
   ]
  },
  {
   "cell_type": "code",
   "execution_count": 1402,
   "metadata": {
    "collapsed": true
   },
   "outputs": [],
   "source": [
    "v = T.eigenvects()"
   ]
  },
  {
   "cell_type": "code",
   "execution_count": 1427,
   "metadata": {
    "collapsed": false
   },
   "outputs": [
    {
     "data": {
      "text/plain": [
       "[('00', b**2/(1.0*a**2 + 1.0*a*b*(a + b + 1) + b**2)),\n",
       " ('01', 1.0*a*b/(1.0*a**2 + 1.0*a*b*(a + b + 1) + b**2)),\n",
       " ('10', 1.0*a*b*(a + b)/(1.0*a**2 + 1.0*a*b*(a + b + 1) + b**2)),\n",
       " ('11', 1.0*a**2/(1.0*a**2 + 1.0*a*b*(a + b + 1) + b**2))]"
      ]
     },
     "execution_count": 1427,
     "metadata": {},
     "output_type": "execute_result"
    }
   ],
   "source": [
    "zip(p.enum_states(), z)"
   ]
  },
  {
   "cell_type": "code",
   "execution_count": 1420,
   "metadata": {
    "collapsed": false
   },
   "outputs": [],
   "source": [
    "z = (v[0][2][0] / sum(v[0][2][0]))"
   ]
  },
  {
   "cell_type": "code",
   "execution_count": 1423,
   "metadata": {
    "collapsed": false
   },
   "outputs": [
    {
     "data": {
      "text/plain": [
       "[('00', b**2/a**2),\n",
       " ('01', 1.0*b/a),\n",
       " ('10', 1.0*b*(a + b)/a),\n",
       " ('11', 1.00000000000000)]"
      ]
     },
     "execution_count": 1423,
     "metadata": {},
     "output_type": "execute_result"
    }
   ],
   "source": [
    "zip(p.enum_states(), v[0][2][0])"
   ]
  },
  {
   "cell_type": "code",
   "execution_count": 1409,
   "metadata": {
    "collapsed": false
   },
   "outputs": [
    {
     "ename": "AttributeError",
     "evalue": "'list' object has no attribute 'simplify'",
     "output_type": "error",
     "traceback": [
      "\u001b[0;31m---------------------------------------------------------------------------\u001b[0m",
      "\u001b[0;31mAttributeError\u001b[0m                            Traceback (most recent call last)",
      "\u001b[0;32m<ipython-input-1409-bba8c86b37c1>\u001b[0m in \u001b[0;36m<module>\u001b[0;34m()\u001b[0m\n\u001b[0;32m----> 1\u001b[0;31m \u001b[0msympy\u001b[0m\u001b[0;34m.\u001b[0m\u001b[0mMatrix\u001b[0m\u001b[0;34m(\u001b[0m\u001b[0mS\u001b[0m\u001b[0;34m)\u001b[0m\u001b[0;34m.\u001b[0m\u001b[0mdot\u001b[0m\u001b[0;34m(\u001b[0m\u001b[0mv\u001b[0m\u001b[0;34m[\u001b[0m\u001b[0;36m0\u001b[0m\u001b[0;34m]\u001b[0m\u001b[0;34m[\u001b[0m\u001b[0;36m2\u001b[0m\u001b[0;34m]\u001b[0m\u001b[0;34m[\u001b[0m\u001b[0;36m0\u001b[0m\u001b[0;34m]\u001b[0m\u001b[0;34m)\u001b[0m\u001b[0;34m.\u001b[0m\u001b[0msimplify\u001b[0m\u001b[0;34m(\u001b[0m\u001b[0;34m)\u001b[0m\u001b[0;34m\u001b[0m\u001b[0m\n\u001b[0m",
      "\u001b[0;31mAttributeError\u001b[0m: 'list' object has no attribute 'simplify'"
     ]
    }
   ],
   "source": [
    "sympy.Matrix(S).dot(v[0][2][0])"
   ]
  },
  {
   "cell_type": "code",
   "execution_count": 1408,
   "metadata": {
    "collapsed": false
   },
   "outputs": [
    {
     "data": {
      "text/plain": [
       "[1.0*(a + b*(a + b))/a, 1.0 + 1.0*b/a]"
      ]
     },
     "execution_count": 1408,
     "metadata": {},
     "output_type": "execute_result"
    }
   ],
   "source": [
    "[x.simplify() for x in sympy.Matrix(S).dot(v[0][2][0])]"
   ]
  },
  {
   "cell_type": "code",
   "execution_count": null,
   "metadata": {
    "collapsed": true
   },
   "outputs": [],
   "source": []
  },
  {
   "cell_type": "code",
   "execution_count": 1355,
   "metadata": {
    "collapsed": false
   },
   "outputs": [
    {
     "data": {
      "text/plain": [
       "Matrix([\n",
       "[-a/3,        0.0333333333333333,                  0,                   0],\n",
       "[   0, -a/3 - 0.0333333333333333,  0.333333333333333,                   0],\n",
       "[ a/3,                         0, -0.333333333333333,  0.0333333333333333],\n",
       "[   0,                       a/3,                  0, -0.0333333333333333]])"
      ]
     },
     "execution_count": 1355,
     "metadata": {},
     "output_type": "execute_result"
    }
   ],
   "source": [
    "T-sympy.eye(M)"
   ]
  },
  {
   "cell_type": "code",
   "execution_count": null,
   "metadata": {
    "collapsed": true
   },
   "outputs": [],
   "source": []
  },
  {
   "cell_type": "code",
   "execution_count": 1356,
   "metadata": {
    "collapsed": false
   },
   "outputs": [
    {
     "data": {
      "text/plain": [
       "<bound method MutableDenseMatrix.rref of Matrix([\n",
       "[-a/3,        0.0333333333333333,                  0,                   0],\n",
       "[   0, -a/3 - 0.0333333333333333,  0.333333333333333,                   0],\n",
       "[ a/3,                         0, -0.333333333333333,  0.0333333333333333],\n",
       "[   0,                       a/3,                  0, -0.0333333333333333]])>"
      ]
     },
     "execution_count": 1356,
     "metadata": {},
     "output_type": "execute_result"
    }
   ],
   "source": [
    "(T-sympy.eye(M)).rref"
   ]
  },
  {
   "cell_type": "code",
   "execution_count": 1357,
   "metadata": {
    "collapsed": false
   },
   "outputs": [],
   "source": [
    "s = l.keys()[0]"
   ]
  },
  {
   "cell_type": "code",
   "execution_count": 1384,
   "metadata": {
    "collapsed": false
   },
   "outputs": [],
   "source": [
    "T.limit?"
   ]
  },
  {
   "cell_type": "code",
   "execution_count": null,
   "metadata": {
    "collapsed": true
   },
   "outputs": [],
   "source": [
    "T.ei"
   ]
  },
  {
   "cell_type": "code",
   "execution_count": 1439,
   "metadata": {
    "collapsed": false
   },
   "outputs": [
    {
     "data": {
      "text/plain": [
       "Matrix([\n",
       "[-a/3 + 1.0,              b/3,                 0,          0],\n",
       "[         0, -a/3 - b/3 + 1.0, 0.333333333333333,          0],\n",
       "[       a/3,              0.0, 0.666666666666667,        b/3],\n",
       "[         0,              a/3,                 0, -b/3 + 1.0]])"
      ]
     },
     "execution_count": 1439,
     "metadata": {},
     "output_type": "execute_result"
    }
   ],
   "source": [
    "T"
   ]
  },
  {
   "cell_type": "code",
   "execution_count": 1374,
   "metadata": {
    "collapsed": false
   },
   "outputs": [
    {
     "data": {
      "text/plain": [
       "[1.1 + 0.01/a, 1.0 + 0.1/a]"
      ]
     },
     "execution_count": 1374,
     "metadata": {},
     "output_type": "execute_result"
    }
   ],
   "source": [
    "sympy.Matrix(S).dot(v[0][2][0])"
   ]
  },
  {
   "cell_type": "code",
   "execution_count": 1478,
   "metadata": {
    "collapsed": false
   },
   "outputs": [],
   "source": [
    "with open('tmat.txt', 'wb') as f:\n",
    "    f.write(\"[\"+ \"; \".join([\", \".join([str(x) for x in T.row(j)]) for j in range(T.shape[1])]) + \"]\")"
   ]
  },
  {
   "cell_type": "code",
   "execution_count": 1446,
   "metadata": {
    "collapsed": false
   },
   "outputs": [
    {
     "ename": "TypeError",
     "evalue": "'Add' object is not iterable",
     "output_type": "error",
     "traceback": [
      "\u001b[0;31m---------------------------------------------------------------------------\u001b[0m",
      "\u001b[0;31mTypeError\u001b[0m                                 Traceback (most recent call last)",
      "\u001b[0;32m<ipython-input-1446-e760fc29bbca>\u001b[0m in \u001b[0;36m<module>\u001b[0;34m()\u001b[0m\n\u001b[0;32m----> 1\u001b[0;31m \u001b[0;34m[\u001b[0m\u001b[0;34m\", \"\u001b[0m\u001b[0;34m.\u001b[0m\u001b[0mjoin\u001b[0m\u001b[0;34m(\u001b[0m\u001b[0;34m[\u001b[0m\u001b[0mstr\u001b[0m\u001b[0;34m(\u001b[0m\u001b[0my\u001b[0m\u001b[0;34m)\u001b[0m \u001b[0;32mfor\u001b[0m \u001b[0my\u001b[0m \u001b[0;32min\u001b[0m \u001b[0mx\u001b[0m\u001b[0;34m]\u001b[0m\u001b[0;34m)\u001b[0m \u001b[0;32mfor\u001b[0m \u001b[0mx\u001b[0m \u001b[0;32min\u001b[0m \u001b[0mT\u001b[0m\u001b[0;34m]\u001b[0m\u001b[0;34m\u001b[0m\u001b[0m\n\u001b[0m",
      "\u001b[0;31mTypeError\u001b[0m: 'Add' object is not iterable"
     ]
    }
   ],
   "source": [
    "[\", \".join([str(y) for y in x]) for x in T]"
   ]
  },
  {
   "cell_type": "code",
   "execution_count": 1445,
   "metadata": {
    "collapsed": false
   },
   "outputs": [
    {
     "ename": "TypeError",
     "evalue": "'Add' object is not iterable",
     "output_type": "error",
     "traceback": [
      "\u001b[0;31m---------------------------------------------------------------------------\u001b[0m",
      "\u001b[0;31mTypeError\u001b[0m                                 Traceback (most recent call last)",
      "\u001b[0;32m<ipython-input-1445-3019d40f5953>\u001b[0m in \u001b[0;36m<module>\u001b[0;34m()\u001b[0m\n\u001b[0;32m----> 1\u001b[0;31m \u001b[0;34m\"; \"\u001b[0m\u001b[0;34m.\u001b[0m\u001b[0mjoin\u001b[0m\u001b[0;34m(\u001b[0m\u001b[0;34m[\u001b[0m\u001b[0;34m\", \"\u001b[0m\u001b[0;34m.\u001b[0m\u001b[0mjoin\u001b[0m\u001b[0;34m(\u001b[0m\u001b[0;34m[\u001b[0m\u001b[0mstr\u001b[0m\u001b[0;34m(\u001b[0m\u001b[0my\u001b[0m\u001b[0;34m)\u001b[0m \u001b[0;32mfor\u001b[0m \u001b[0my\u001b[0m \u001b[0;32min\u001b[0m \u001b[0mx\u001b[0m\u001b[0;34m]\u001b[0m\u001b[0;34m)\u001b[0m \u001b[0;32mfor\u001b[0m \u001b[0mx\u001b[0m \u001b[0;32min\u001b[0m \u001b[0mT\u001b[0m\u001b[0;34m]\u001b[0m\u001b[0;34m)\u001b[0m\u001b[0;34m\u001b[0m\u001b[0m\n\u001b[0m",
      "\u001b[0;31mTypeError\u001b[0m: 'Add' object is not iterable"
     ]
    }
   ],
   "source": [
    "\"; \".join()"
   ]
  },
  {
   "cell_type": "code",
   "execution_count": 1346,
   "metadata": {
    "collapsed": false
   },
   "outputs": [
    {
     "data": {
      "text/plain": [
       "[Matrix([\n",
       " [2*x/(x + 4)],\n",
       " [ -2/(x + 4)],\n",
       " [          1]])]"
      ]
     },
     "execution_count": 1346,
     "metadata": {},
     "output_type": "execute_result"
    }
   ],
   "source": [
    "sympy.Matrix([[1, -1], [sympy.Symbol('x'), 4], [0, 2]]).T.nullspace()"
   ]
  },
  {
   "cell_type": "code",
   "execution_count": 1301,
   "metadata": {
    "collapsed": false
   },
   "outputs": [
    {
     "ename": "KeyboardInterrupt",
     "evalue": "",
     "output_type": "error",
     "traceback": [
      "\u001b[0;31m---------------------------------------------------------------------------\u001b[0m",
      "\u001b[0;31mKeyboardInterrupt\u001b[0m                         Traceback (most recent call last)",
      "\u001b[0;32m<ipython-input-1301-0a4b00331441>\u001b[0m in \u001b[0;36m<module>\u001b[0;34m()\u001b[0m\n\u001b[0;32m----> 1\u001b[0;31m \u001b[0;34m(\u001b[0m\u001b[0mT\u001b[0m \u001b[0;34m-\u001b[0m \u001b[0msympy\u001b[0m\u001b[0;34m.\u001b[0m\u001b[0meye\u001b[0m\u001b[0;34m(\u001b[0m\u001b[0mM\u001b[0m\u001b[0;34m)\u001b[0m\u001b[0;34m)\u001b[0m\u001b[0;34m.\u001b[0m\u001b[0mnullspace\u001b[0m\u001b[0;34m(\u001b[0m\u001b[0;34m)\u001b[0m\u001b[0;34m\u001b[0m\u001b[0m\n\u001b[0m",
      "\u001b[0;32m/Library/Python/2.7/site-packages/sympy/matrices/matrices.pyc\u001b[0m in \u001b[0;36mnullspace\u001b[0;34m(self, simplify)\u001b[0m\n\u001b[1;32m   2784\u001b[0m         simpfunc = simplify if isinstance(\n\u001b[1;32m   2785\u001b[0m             simplify, FunctionType) else _simplify\n\u001b[0;32m-> 2786\u001b[0;31m         \u001b[0mreduced\u001b[0m\u001b[0;34m,\u001b[0m \u001b[0mpivots\u001b[0m \u001b[0;34m=\u001b[0m \u001b[0mself\u001b[0m\u001b[0;34m.\u001b[0m\u001b[0mrref\u001b[0m\u001b[0;34m(\u001b[0m\u001b[0msimplify\u001b[0m\u001b[0;34m=\u001b[0m\u001b[0msimpfunc\u001b[0m\u001b[0;34m)\u001b[0m\u001b[0;34m\u001b[0m\u001b[0m\n\u001b[0m\u001b[1;32m   2787\u001b[0m \u001b[0;34m\u001b[0m\u001b[0m\n\u001b[1;32m   2788\u001b[0m         \u001b[0mbasis\u001b[0m \u001b[0;34m=\u001b[0m \u001b[0;34m[\u001b[0m\u001b[0;34m]\u001b[0m\u001b[0;34m\u001b[0m\u001b[0m\n",
      "\u001b[0;32m/Library/Python/2.7/site-packages/sympy/matrices/matrices.pyc\u001b[0m in \u001b[0;36mrref\u001b[0;34m(self, iszerofunc, simplify)\u001b[0m\n\u001b[1;32m   2718\u001b[0m                 \u001b[0;32mbreak\u001b[0m\u001b[0;34m\u001b[0m\u001b[0m\n\u001b[1;32m   2719\u001b[0m             \u001b[0;32mif\u001b[0m \u001b[0msimplify\u001b[0m\u001b[0;34m:\u001b[0m\u001b[0;34m\u001b[0m\u001b[0m\n\u001b[0;32m-> 2720\u001b[0;31m                 \u001b[0mr\u001b[0m\u001b[0;34m[\u001b[0m\u001b[0mpivot\u001b[0m\u001b[0;34m,\u001b[0m \u001b[0mi\u001b[0m\u001b[0;34m]\u001b[0m \u001b[0;34m=\u001b[0m \u001b[0msimpfunc\u001b[0m\u001b[0;34m(\u001b[0m\u001b[0mr\u001b[0m\u001b[0;34m[\u001b[0m\u001b[0mpivot\u001b[0m\u001b[0;34m,\u001b[0m \u001b[0mi\u001b[0m\u001b[0;34m]\u001b[0m\u001b[0;34m)\u001b[0m\u001b[0;34m\u001b[0m\u001b[0m\n\u001b[0m\u001b[1;32m   2721\u001b[0m             \u001b[0;32mif\u001b[0m \u001b[0miszerofunc\u001b[0m\u001b[0;34m(\u001b[0m\u001b[0mr\u001b[0m\u001b[0;34m[\u001b[0m\u001b[0mpivot\u001b[0m\u001b[0;34m,\u001b[0m \u001b[0mi\u001b[0m\u001b[0;34m]\u001b[0m\u001b[0;34m)\u001b[0m\u001b[0;34m:\u001b[0m\u001b[0;34m\u001b[0m\u001b[0m\n\u001b[1;32m   2722\u001b[0m                 \u001b[0;32mfor\u001b[0m \u001b[0mk\u001b[0m \u001b[0;32min\u001b[0m \u001b[0mrange\u001b[0m\u001b[0;34m(\u001b[0m\u001b[0mpivot\u001b[0m\u001b[0;34m,\u001b[0m \u001b[0mr\u001b[0m\u001b[0;34m.\u001b[0m\u001b[0mrows\u001b[0m\u001b[0;34m)\u001b[0m\u001b[0;34m:\u001b[0m\u001b[0;34m\u001b[0m\u001b[0m\n",
      "\u001b[0;32m/Library/Python/2.7/site-packages/sympy/simplify/simplify.pyc\u001b[0m in \u001b[0;36msimplify\u001b[0;34m(expr, ratio, measure, fu)\u001b[0m\n\u001b[1;32m    543\u001b[0m     \u001b[0mexpr\u001b[0m \u001b[0;34m=\u001b[0m \u001b[0mbottom_up\u001b[0m\u001b[0;34m(\u001b[0m\u001b[0mexpr\u001b[0m\u001b[0;34m,\u001b[0m \u001b[0;32mlambda\u001b[0m \u001b[0mw\u001b[0m\u001b[0;34m:\u001b[0m \u001b[0mw\u001b[0m\u001b[0;34m.\u001b[0m\u001b[0mnormal\u001b[0m\u001b[0;34m(\u001b[0m\u001b[0;34m)\u001b[0m\u001b[0;34m)\u001b[0m\u001b[0;34m\u001b[0m\u001b[0m\n\u001b[1;32m    544\u001b[0m     \u001b[0mexpr\u001b[0m \u001b[0;34m=\u001b[0m \u001b[0mMul\u001b[0m\u001b[0;34m(\u001b[0m\u001b[0;34m*\u001b[0m\u001b[0mpowsimp\u001b[0m\u001b[0;34m(\u001b[0m\u001b[0mexpr\u001b[0m\u001b[0;34m)\u001b[0m\u001b[0;34m.\u001b[0m\u001b[0mas_content_primitive\u001b[0m\u001b[0;34m(\u001b[0m\u001b[0;34m)\u001b[0m\u001b[0;34m)\u001b[0m\u001b[0;34m\u001b[0m\u001b[0m\n\u001b[0;32m--> 545\u001b[0;31m     \u001b[0m_e\u001b[0m \u001b[0;34m=\u001b[0m \u001b[0mcancel\u001b[0m\u001b[0;34m(\u001b[0m\u001b[0mexpr\u001b[0m\u001b[0;34m)\u001b[0m\u001b[0;34m\u001b[0m\u001b[0m\n\u001b[0m\u001b[1;32m    546\u001b[0m     \u001b[0mexpr1\u001b[0m \u001b[0;34m=\u001b[0m \u001b[0mshorter\u001b[0m\u001b[0;34m(\u001b[0m\u001b[0m_e\u001b[0m\u001b[0;34m,\u001b[0m \u001b[0m_mexpand\u001b[0m\u001b[0;34m(\u001b[0m\u001b[0m_e\u001b[0m\u001b[0;34m)\u001b[0m\u001b[0;34m.\u001b[0m\u001b[0mcancel\u001b[0m\u001b[0;34m(\u001b[0m\u001b[0;34m)\u001b[0m\u001b[0;34m)\u001b[0m  \u001b[0;31m# issue 6829\u001b[0m\u001b[0;34m\u001b[0m\u001b[0m\n\u001b[1;32m    547\u001b[0m     \u001b[0mexpr2\u001b[0m \u001b[0;34m=\u001b[0m \u001b[0mshorter\u001b[0m\u001b[0;34m(\u001b[0m\u001b[0mtogether\u001b[0m\u001b[0;34m(\u001b[0m\u001b[0mexpr\u001b[0m\u001b[0;34m,\u001b[0m \u001b[0mdeep\u001b[0m\u001b[0;34m=\u001b[0m\u001b[0mTrue\u001b[0m\u001b[0;34m)\u001b[0m\u001b[0;34m,\u001b[0m \u001b[0mtogether\u001b[0m\u001b[0;34m(\u001b[0m\u001b[0mexpr1\u001b[0m\u001b[0;34m,\u001b[0m \u001b[0mdeep\u001b[0m\u001b[0;34m=\u001b[0m\u001b[0mTrue\u001b[0m\u001b[0;34m)\u001b[0m\u001b[0;34m)\u001b[0m\u001b[0;34m\u001b[0m\u001b[0m\n",
      "\u001b[0;32m/Library/Python/2.7/site-packages/sympy/polys/polytools.pyc\u001b[0m in \u001b[0;36mcancel\u001b[0;34m(f, *gens, **args)\u001b[0m\n\u001b[1;32m   6329\u001b[0m \u001b[0;34m\u001b[0m\u001b[0m\n\u001b[1;32m   6330\u001b[0m     \u001b[0;32mtry\u001b[0m\u001b[0;34m:\u001b[0m\u001b[0;34m\u001b[0m\u001b[0m\n\u001b[0;32m-> 6331\u001b[0;31m         \u001b[0;34m(\u001b[0m\u001b[0mF\u001b[0m\u001b[0;34m,\u001b[0m \u001b[0mG\u001b[0m\u001b[0;34m)\u001b[0m\u001b[0;34m,\u001b[0m \u001b[0mopt\u001b[0m \u001b[0;34m=\u001b[0m \u001b[0mparallel_poly_from_expr\u001b[0m\u001b[0;34m(\u001b[0m\u001b[0;34m(\u001b[0m\u001b[0mp\u001b[0m\u001b[0;34m,\u001b[0m \u001b[0mq\u001b[0m\u001b[0;34m)\u001b[0m\u001b[0;34m,\u001b[0m \u001b[0;34m*\u001b[0m\u001b[0mgens\u001b[0m\u001b[0;34m,\u001b[0m \u001b[0;34m**\u001b[0m\u001b[0margs\u001b[0m\u001b[0;34m)\u001b[0m\u001b[0;34m\u001b[0m\u001b[0m\n\u001b[0m\u001b[1;32m   6332\u001b[0m     \u001b[0;32mexcept\u001b[0m \u001b[0mPolificationFailed\u001b[0m\u001b[0;34m:\u001b[0m\u001b[0;34m\u001b[0m\u001b[0m\n\u001b[1;32m   6333\u001b[0m         \u001b[0;32mif\u001b[0m \u001b[0;32mnot\u001b[0m \u001b[0misinstance\u001b[0m\u001b[0;34m(\u001b[0m\u001b[0mf\u001b[0m\u001b[0;34m,\u001b[0m \u001b[0;34m(\u001b[0m\u001b[0mtuple\u001b[0m\u001b[0;34m,\u001b[0m \u001b[0mTuple\u001b[0m\u001b[0;34m)\u001b[0m\u001b[0;34m)\u001b[0m\u001b[0;34m:\u001b[0m\u001b[0;34m\u001b[0m\u001b[0m\n",
      "\u001b[0;32m/Library/Python/2.7/site-packages/sympy/polys/polytools.pyc\u001b[0m in \u001b[0;36mparallel_poly_from_expr\u001b[0;34m(exprs, *gens, **args)\u001b[0m\n\u001b[1;32m   4166\u001b[0m     \u001b[0;34m\"\"\"Construct polynomials from expressions. \"\"\"\u001b[0m\u001b[0;34m\u001b[0m\u001b[0m\n\u001b[1;32m   4167\u001b[0m     \u001b[0mopt\u001b[0m \u001b[0;34m=\u001b[0m \u001b[0moptions\u001b[0m\u001b[0;34m.\u001b[0m\u001b[0mbuild_options\u001b[0m\u001b[0;34m(\u001b[0m\u001b[0mgens\u001b[0m\u001b[0;34m,\u001b[0m \u001b[0margs\u001b[0m\u001b[0;34m)\u001b[0m\u001b[0;34m\u001b[0m\u001b[0m\n\u001b[0;32m-> 4168\u001b[0;31m     \u001b[0;32mreturn\u001b[0m \u001b[0m_parallel_poly_from_expr\u001b[0m\u001b[0;34m(\u001b[0m\u001b[0mexprs\u001b[0m\u001b[0;34m,\u001b[0m \u001b[0mopt\u001b[0m\u001b[0;34m)\u001b[0m\u001b[0;34m\u001b[0m\u001b[0m\n\u001b[0m\u001b[1;32m   4169\u001b[0m \u001b[0;34m\u001b[0m\u001b[0m\n\u001b[1;32m   4170\u001b[0m \u001b[0;34m\u001b[0m\u001b[0m\n",
      "\u001b[0;32m/Library/Python/2.7/site-packages/sympy/polys/polytools.pyc\u001b[0m in \u001b[0;36m_parallel_poly_from_expr\u001b[0;34m(exprs, opt)\u001b[0m\n\u001b[1;32m   4205\u001b[0m \u001b[0;34m\u001b[0m\u001b[0m\n\u001b[1;32m   4206\u001b[0m                 \u001b[0;32mif\u001b[0m \u001b[0mopt\u001b[0m\u001b[0;34m.\u001b[0m\u001b[0mexpand\u001b[0m\u001b[0;34m:\u001b[0m\u001b[0;34m\u001b[0m\u001b[0m\n\u001b[0;32m-> 4207\u001b[0;31m                     \u001b[0mexpr\u001b[0m \u001b[0;34m=\u001b[0m \u001b[0mexpr\u001b[0m\u001b[0;34m.\u001b[0m\u001b[0mexpand\u001b[0m\u001b[0;34m(\u001b[0m\u001b[0;34m)\u001b[0m\u001b[0;34m\u001b[0m\u001b[0m\n\u001b[0m\u001b[1;32m   4208\u001b[0m         \u001b[0;32melse\u001b[0m\u001b[0;34m:\u001b[0m\u001b[0;34m\u001b[0m\u001b[0m\n\u001b[1;32m   4209\u001b[0m             \u001b[0mfailed\u001b[0m \u001b[0;34m=\u001b[0m \u001b[0mTrue\u001b[0m\u001b[0;34m\u001b[0m\u001b[0m\n",
      "\u001b[0;32m/Library/Python/2.7/site-packages/sympy/core/cache.pyc\u001b[0m in \u001b[0;36mwrapper\u001b[0;34m(*args, **kwargs)\u001b[0m\n\u001b[1;32m     91\u001b[0m             \u001b[0;32mdef\u001b[0m \u001b[0mwrapper\u001b[0m\u001b[0;34m(\u001b[0m\u001b[0;34m*\u001b[0m\u001b[0margs\u001b[0m\u001b[0;34m,\u001b[0m \u001b[0;34m**\u001b[0m\u001b[0mkwargs\u001b[0m\u001b[0;34m)\u001b[0m\u001b[0;34m:\u001b[0m\u001b[0;34m\u001b[0m\u001b[0m\n\u001b[1;32m     92\u001b[0m                 \u001b[0;32mtry\u001b[0m\u001b[0;34m:\u001b[0m\u001b[0;34m\u001b[0m\u001b[0m\n\u001b[0;32m---> 93\u001b[0;31m                     \u001b[0mretval\u001b[0m \u001b[0;34m=\u001b[0m \u001b[0mcfunc\u001b[0m\u001b[0;34m(\u001b[0m\u001b[0;34m*\u001b[0m\u001b[0margs\u001b[0m\u001b[0;34m,\u001b[0m \u001b[0;34m**\u001b[0m\u001b[0mkwargs\u001b[0m\u001b[0;34m)\u001b[0m\u001b[0;34m\u001b[0m\u001b[0m\n\u001b[0m\u001b[1;32m     94\u001b[0m                 \u001b[0;32mexcept\u001b[0m \u001b[0mTypeError\u001b[0m\u001b[0;34m:\u001b[0m\u001b[0;34m\u001b[0m\u001b[0m\n\u001b[1;32m     95\u001b[0m                     \u001b[0mretval\u001b[0m \u001b[0;34m=\u001b[0m \u001b[0mfunc\u001b[0m\u001b[0;34m(\u001b[0m\u001b[0;34m*\u001b[0m\u001b[0margs\u001b[0m\u001b[0;34m,\u001b[0m \u001b[0;34m**\u001b[0m\u001b[0mkwargs\u001b[0m\u001b[0;34m)\u001b[0m\u001b[0;34m\u001b[0m\u001b[0m\n",
      "\u001b[0;32m/Library/Python/2.7/site-packages/sympy/core/compatibility.pyc\u001b[0m in \u001b[0;36mwrapper\u001b[0;34m(*args, **kwds)\u001b[0m\n\u001b[1;32m    897\u001b[0m                         \u001b[0mstats\u001b[0m\u001b[0;34m[\u001b[0m\u001b[0mHITS\u001b[0m\u001b[0;34m]\u001b[0m \u001b[0;34m+=\u001b[0m \u001b[0;36m1\u001b[0m\u001b[0;34m\u001b[0m\u001b[0m\n\u001b[1;32m    898\u001b[0m                         \u001b[0;32mreturn\u001b[0m \u001b[0mresult\u001b[0m\u001b[0;34m\u001b[0m\u001b[0m\n\u001b[0;32m--> 899\u001b[0;31m                 \u001b[0mresult\u001b[0m \u001b[0;34m=\u001b[0m \u001b[0muser_function\u001b[0m\u001b[0;34m(\u001b[0m\u001b[0;34m*\u001b[0m\u001b[0margs\u001b[0m\u001b[0;34m,\u001b[0m \u001b[0;34m**\u001b[0m\u001b[0mkwds\u001b[0m\u001b[0;34m)\u001b[0m\u001b[0;34m\u001b[0m\u001b[0m\n\u001b[0m\u001b[1;32m    900\u001b[0m                 \u001b[0;32mwith\u001b[0m \u001b[0mlock\u001b[0m\u001b[0;34m:\u001b[0m\u001b[0;34m\u001b[0m\u001b[0m\n\u001b[1;32m    901\u001b[0m                     \u001b[0mroot\u001b[0m\u001b[0;34m,\u001b[0m \u001b[0;34m=\u001b[0m \u001b[0mnonlocal_root\u001b[0m\u001b[0;34m\u001b[0m\u001b[0m\n",
      "\u001b[0;32m/Library/Python/2.7/site-packages/sympy/core/expr.pyc\u001b[0m in \u001b[0;36mexpand\u001b[0;34m(self, deep, modulus, power_base, power_exp, mul, log, multinomial, basic, **hints)\u001b[0m\n\u001b[1;32m   2969\u001b[0m             \u001b[0;32mif\u001b[0m \u001b[0mhints\u001b[0m\u001b[0;34m.\u001b[0m\u001b[0mget\u001b[0m\u001b[0;34m(\u001b[0m\u001b[0;34m'mul'\u001b[0m\u001b[0;34m,\u001b[0m \u001b[0mFalse\u001b[0m\u001b[0;34m)\u001b[0m\u001b[0;34m:\u001b[0m\u001b[0;34m\u001b[0m\u001b[0m\n\u001b[1;32m   2970\u001b[0m                 expr, _ = Expr._expand_hint(\n\u001b[0;32m-> 2971\u001b[0;31m                     expr, '_eval_expand_mul', deep=deep, **hints)\n\u001b[0m\u001b[1;32m   2972\u001b[0m             \u001b[0;32mif\u001b[0m \u001b[0mhints\u001b[0m\u001b[0;34m.\u001b[0m\u001b[0mget\u001b[0m\u001b[0;34m(\u001b[0m\u001b[0;34m'log'\u001b[0m\u001b[0;34m,\u001b[0m \u001b[0mFalse\u001b[0m\u001b[0;34m)\u001b[0m\u001b[0;34m:\u001b[0m\u001b[0;34m\u001b[0m\u001b[0m\n\u001b[1;32m   2973\u001b[0m                 expr, _ = Expr._expand_hint(\n",
      "\u001b[0;32m/Library/Python/2.7/site-packages/sympy/core/expr.pyc\u001b[0m in \u001b[0;36m_expand_hint\u001b[0;34m(expr, hint, deep, **hints)\u001b[0m\n\u001b[1;32m   2893\u001b[0m             \u001b[0msargs\u001b[0m \u001b[0;34m=\u001b[0m \u001b[0;34m[\u001b[0m\u001b[0;34m]\u001b[0m\u001b[0;34m\u001b[0m\u001b[0m\n\u001b[1;32m   2894\u001b[0m             \u001b[0;32mfor\u001b[0m \u001b[0marg\u001b[0m \u001b[0;32min\u001b[0m \u001b[0mexpr\u001b[0m\u001b[0;34m.\u001b[0m\u001b[0margs\u001b[0m\u001b[0;34m:\u001b[0m\u001b[0;34m\u001b[0m\u001b[0m\n\u001b[0;32m-> 2895\u001b[0;31m                 \u001b[0marg\u001b[0m\u001b[0;34m,\u001b[0m \u001b[0marghit\u001b[0m \u001b[0;34m=\u001b[0m \u001b[0mExpr\u001b[0m\u001b[0;34m.\u001b[0m\u001b[0m_expand_hint\u001b[0m\u001b[0;34m(\u001b[0m\u001b[0marg\u001b[0m\u001b[0;34m,\u001b[0m \u001b[0mhint\u001b[0m\u001b[0;34m,\u001b[0m \u001b[0;34m**\u001b[0m\u001b[0mhints\u001b[0m\u001b[0;34m)\u001b[0m\u001b[0;34m\u001b[0m\u001b[0m\n\u001b[0m\u001b[1;32m   2896\u001b[0m                 \u001b[0mhit\u001b[0m \u001b[0;34m|=\u001b[0m \u001b[0marghit\u001b[0m\u001b[0;34m\u001b[0m\u001b[0m\n\u001b[1;32m   2897\u001b[0m                 \u001b[0msargs\u001b[0m\u001b[0;34m.\u001b[0m\u001b[0mappend\u001b[0m\u001b[0;34m(\u001b[0m\u001b[0marg\u001b[0m\u001b[0;34m)\u001b[0m\u001b[0;34m\u001b[0m\u001b[0m\n",
      "\u001b[0;32m/Library/Python/2.7/site-packages/sympy/core/expr.pyc\u001b[0m in \u001b[0;36m_expand_hint\u001b[0;34m(expr, hint, deep, **hints)\u001b[0m\n\u001b[1;32m   2901\u001b[0m \u001b[0;34m\u001b[0m\u001b[0m\n\u001b[1;32m   2902\u001b[0m         \u001b[0;32mif\u001b[0m \u001b[0mhasattr\u001b[0m\u001b[0;34m(\u001b[0m\u001b[0mexpr\u001b[0m\u001b[0;34m,\u001b[0m \u001b[0mhint\u001b[0m\u001b[0;34m)\u001b[0m\u001b[0;34m:\u001b[0m\u001b[0;34m\u001b[0m\u001b[0m\n\u001b[0;32m-> 2903\u001b[0;31m             \u001b[0mnewexpr\u001b[0m \u001b[0;34m=\u001b[0m \u001b[0mgetattr\u001b[0m\u001b[0;34m(\u001b[0m\u001b[0mexpr\u001b[0m\u001b[0;34m,\u001b[0m \u001b[0mhint\u001b[0m\u001b[0;34m)\u001b[0m\u001b[0;34m(\u001b[0m\u001b[0;34m**\u001b[0m\u001b[0mhints\u001b[0m\u001b[0;34m)\u001b[0m\u001b[0;34m\u001b[0m\u001b[0m\n\u001b[0m\u001b[1;32m   2904\u001b[0m             \u001b[0;32mif\u001b[0m \u001b[0mnewexpr\u001b[0m \u001b[0;34m!=\u001b[0m \u001b[0mexpr\u001b[0m\u001b[0;34m:\u001b[0m\u001b[0;34m\u001b[0m\u001b[0m\n\u001b[1;32m   2905\u001b[0m                 \u001b[0;32mreturn\u001b[0m \u001b[0;34m(\u001b[0m\u001b[0mnewexpr\u001b[0m\u001b[0;34m,\u001b[0m \u001b[0mTrue\u001b[0m\u001b[0;34m)\u001b[0m\u001b[0;34m\u001b[0m\u001b[0m\n",
      "\u001b[0;32m/Library/Python/2.7/site-packages/sympy/core/mul.pyc\u001b[0m in \u001b[0;36m_eval_expand_mul\u001b[0;34m(self, **hints)\u001b[0m\n\u001b[1;32m    823\u001b[0m                         \u001b[0mt\u001b[0m \u001b[0;34m=\u001b[0m \u001b[0mt\u001b[0m\u001b[0;34m.\u001b[0m\u001b[0m_eval_expand_mul\u001b[0m\u001b[0;34m(\u001b[0m\u001b[0;34m)\u001b[0m\u001b[0;34m\u001b[0m\u001b[0m\n\u001b[1;32m    824\u001b[0m                     \u001b[0margs\u001b[0m\u001b[0;34m.\u001b[0m\u001b[0mappend\u001b[0m\u001b[0;34m(\u001b[0m\u001b[0mt\u001b[0m\u001b[0;34m)\u001b[0m\u001b[0;34m\u001b[0m\u001b[0m\n\u001b[0;32m--> 825\u001b[0;31m                 \u001b[0;32mreturn\u001b[0m \u001b[0mAdd\u001b[0m\u001b[0;34m(\u001b[0m\u001b[0;34m*\u001b[0m\u001b[0margs\u001b[0m\u001b[0;34m)\u001b[0m\u001b[0;34m\u001b[0m\u001b[0m\n\u001b[0m\u001b[1;32m    826\u001b[0m             \u001b[0;32melse\u001b[0m\u001b[0;34m:\u001b[0m\u001b[0;34m\u001b[0m\u001b[0m\n\u001b[1;32m    827\u001b[0m                 \u001b[0;32mreturn\u001b[0m \u001b[0mplain\u001b[0m\u001b[0;34m\u001b[0m\u001b[0m\n",
      "\u001b[0;32m/Library/Python/2.7/site-packages/sympy/core/cache.pyc\u001b[0m in \u001b[0;36mwrapper\u001b[0;34m(*args, **kwargs)\u001b[0m\n\u001b[1;32m     91\u001b[0m             \u001b[0;32mdef\u001b[0m \u001b[0mwrapper\u001b[0m\u001b[0;34m(\u001b[0m\u001b[0;34m*\u001b[0m\u001b[0margs\u001b[0m\u001b[0;34m,\u001b[0m \u001b[0;34m**\u001b[0m\u001b[0mkwargs\u001b[0m\u001b[0;34m)\u001b[0m\u001b[0;34m:\u001b[0m\u001b[0;34m\u001b[0m\u001b[0m\n\u001b[1;32m     92\u001b[0m                 \u001b[0;32mtry\u001b[0m\u001b[0;34m:\u001b[0m\u001b[0;34m\u001b[0m\u001b[0m\n\u001b[0;32m---> 93\u001b[0;31m                     \u001b[0mretval\u001b[0m \u001b[0;34m=\u001b[0m \u001b[0mcfunc\u001b[0m\u001b[0;34m(\u001b[0m\u001b[0;34m*\u001b[0m\u001b[0margs\u001b[0m\u001b[0;34m,\u001b[0m \u001b[0;34m**\u001b[0m\u001b[0mkwargs\u001b[0m\u001b[0;34m)\u001b[0m\u001b[0;34m\u001b[0m\u001b[0m\n\u001b[0m\u001b[1;32m     94\u001b[0m                 \u001b[0;32mexcept\u001b[0m \u001b[0mTypeError\u001b[0m\u001b[0;34m:\u001b[0m\u001b[0;34m\u001b[0m\u001b[0m\n\u001b[1;32m     95\u001b[0m                     \u001b[0mretval\u001b[0m \u001b[0;34m=\u001b[0m \u001b[0mfunc\u001b[0m\u001b[0;34m(\u001b[0m\u001b[0;34m*\u001b[0m\u001b[0margs\u001b[0m\u001b[0;34m,\u001b[0m \u001b[0;34m**\u001b[0m\u001b[0mkwargs\u001b[0m\u001b[0;34m)\u001b[0m\u001b[0;34m\u001b[0m\u001b[0m\n",
      "\u001b[0;32m/Library/Python/2.7/site-packages/sympy/core/compatibility.pyc\u001b[0m in \u001b[0;36mwrapper\u001b[0;34m(*args, **kwds)\u001b[0m\n\u001b[1;32m    897\u001b[0m                         \u001b[0mstats\u001b[0m\u001b[0;34m[\u001b[0m\u001b[0mHITS\u001b[0m\u001b[0;34m]\u001b[0m \u001b[0;34m+=\u001b[0m \u001b[0;36m1\u001b[0m\u001b[0;34m\u001b[0m\u001b[0m\n\u001b[1;32m    898\u001b[0m                         \u001b[0;32mreturn\u001b[0m \u001b[0mresult\u001b[0m\u001b[0;34m\u001b[0m\u001b[0m\n\u001b[0;32m--> 899\u001b[0;31m                 \u001b[0mresult\u001b[0m \u001b[0;34m=\u001b[0m \u001b[0muser_function\u001b[0m\u001b[0;34m(\u001b[0m\u001b[0;34m*\u001b[0m\u001b[0margs\u001b[0m\u001b[0;34m,\u001b[0m \u001b[0;34m**\u001b[0m\u001b[0mkwds\u001b[0m\u001b[0;34m)\u001b[0m\u001b[0;34m\u001b[0m\u001b[0m\n\u001b[0m\u001b[1;32m    900\u001b[0m                 \u001b[0;32mwith\u001b[0m \u001b[0mlock\u001b[0m\u001b[0;34m:\u001b[0m\u001b[0;34m\u001b[0m\u001b[0m\n\u001b[1;32m    901\u001b[0m                     \u001b[0mroot\u001b[0m\u001b[0;34m,\u001b[0m \u001b[0;34m=\u001b[0m \u001b[0mnonlocal_root\u001b[0m\u001b[0;34m\u001b[0m\u001b[0m\n",
      "\u001b[0;32m/Library/Python/2.7/site-packages/sympy/core/operations.pyc\u001b[0m in \u001b[0;36m__new__\u001b[0;34m(cls, *args, **options)\u001b[0m\n\u001b[1;32m     39\u001b[0m             \u001b[0;32mreturn\u001b[0m \u001b[0margs\u001b[0m\u001b[0;34m[\u001b[0m\u001b[0;36m0\u001b[0m\u001b[0;34m]\u001b[0m\u001b[0;34m\u001b[0m\u001b[0m\n\u001b[1;32m     40\u001b[0m \u001b[0;34m\u001b[0m\u001b[0m\n\u001b[0;32m---> 41\u001b[0;31m         \u001b[0mc_part\u001b[0m\u001b[0;34m,\u001b[0m \u001b[0mnc_part\u001b[0m\u001b[0;34m,\u001b[0m \u001b[0morder_symbols\u001b[0m \u001b[0;34m=\u001b[0m \u001b[0mcls\u001b[0m\u001b[0;34m.\u001b[0m\u001b[0mflatten\u001b[0m\u001b[0;34m(\u001b[0m\u001b[0margs\u001b[0m\u001b[0;34m)\u001b[0m\u001b[0;34m\u001b[0m\u001b[0m\n\u001b[0m\u001b[1;32m     42\u001b[0m         \u001b[0mis_commutative\u001b[0m \u001b[0;34m=\u001b[0m \u001b[0;32mnot\u001b[0m \u001b[0mnc_part\u001b[0m\u001b[0;34m\u001b[0m\u001b[0m\n\u001b[1;32m     43\u001b[0m         \u001b[0mobj\u001b[0m \u001b[0;34m=\u001b[0m \u001b[0mcls\u001b[0m\u001b[0;34m.\u001b[0m\u001b[0m_from_args\u001b[0m\u001b[0;34m(\u001b[0m\u001b[0mc_part\u001b[0m \u001b[0;34m+\u001b[0m \u001b[0mnc_part\u001b[0m\u001b[0;34m,\u001b[0m \u001b[0mis_commutative\u001b[0m\u001b[0;34m)\u001b[0m\u001b[0;34m\u001b[0m\u001b[0m\n",
      "\u001b[0;32m/Library/Python/2.7/site-packages/sympy/core/add.pyc\u001b[0m in \u001b[0;36mflatten\u001b[0;34m(cls, seq)\u001b[0m\n\u001b[1;32m    211\u001b[0m                 \u001b[0;32melse\u001b[0m\u001b[0;34m:\u001b[0m\u001b[0;34m\u001b[0m\u001b[0m\n\u001b[1;32m    212\u001b[0m                     \u001b[0;31m# alternatively we have to call all Mul's machinery (slow)\u001b[0m\u001b[0;34m\u001b[0m\u001b[0;34m\u001b[0m\u001b[0m\n\u001b[0;32m--> 213\u001b[0;31m                     \u001b[0mnewseq\u001b[0m\u001b[0;34m.\u001b[0m\u001b[0mappend\u001b[0m\u001b[0;34m(\u001b[0m\u001b[0mMul\u001b[0m\u001b[0;34m(\u001b[0m\u001b[0mc\u001b[0m\u001b[0;34m,\u001b[0m \u001b[0ms\u001b[0m\u001b[0;34m)\u001b[0m\u001b[0;34m)\u001b[0m\u001b[0;34m\u001b[0m\u001b[0m\n\u001b[0m\u001b[1;32m    214\u001b[0m \u001b[0;34m\u001b[0m\u001b[0m\n\u001b[1;32m    215\u001b[0m             \u001b[0mnoncommutative\u001b[0m \u001b[0;34m=\u001b[0m \u001b[0mnoncommutative\u001b[0m \u001b[0;32mor\u001b[0m \u001b[0;32mnot\u001b[0m \u001b[0ms\u001b[0m\u001b[0;34m.\u001b[0m\u001b[0mis_commutative\u001b[0m\u001b[0;34m\u001b[0m\u001b[0m\n",
      "\u001b[0;32m/Library/Python/2.7/site-packages/sympy/core/cache.pyc\u001b[0m in \u001b[0;36mwrapper\u001b[0;34m(*args, **kwargs)\u001b[0m\n\u001b[1;32m     91\u001b[0m             \u001b[0;32mdef\u001b[0m \u001b[0mwrapper\u001b[0m\u001b[0;34m(\u001b[0m\u001b[0;34m*\u001b[0m\u001b[0margs\u001b[0m\u001b[0;34m,\u001b[0m \u001b[0;34m**\u001b[0m\u001b[0mkwargs\u001b[0m\u001b[0;34m)\u001b[0m\u001b[0;34m:\u001b[0m\u001b[0;34m\u001b[0m\u001b[0m\n\u001b[1;32m     92\u001b[0m                 \u001b[0;32mtry\u001b[0m\u001b[0;34m:\u001b[0m\u001b[0;34m\u001b[0m\u001b[0m\n\u001b[0;32m---> 93\u001b[0;31m                     \u001b[0mretval\u001b[0m \u001b[0;34m=\u001b[0m \u001b[0mcfunc\u001b[0m\u001b[0;34m(\u001b[0m\u001b[0;34m*\u001b[0m\u001b[0margs\u001b[0m\u001b[0;34m,\u001b[0m \u001b[0;34m**\u001b[0m\u001b[0mkwargs\u001b[0m\u001b[0;34m)\u001b[0m\u001b[0;34m\u001b[0m\u001b[0m\n\u001b[0m\u001b[1;32m     94\u001b[0m                 \u001b[0;32mexcept\u001b[0m \u001b[0mTypeError\u001b[0m\u001b[0;34m:\u001b[0m\u001b[0;34m\u001b[0m\u001b[0m\n\u001b[1;32m     95\u001b[0m                     \u001b[0mretval\u001b[0m \u001b[0;34m=\u001b[0m \u001b[0mfunc\u001b[0m\u001b[0;34m(\u001b[0m\u001b[0;34m*\u001b[0m\u001b[0margs\u001b[0m\u001b[0;34m,\u001b[0m \u001b[0;34m**\u001b[0m\u001b[0mkwargs\u001b[0m\u001b[0;34m)\u001b[0m\u001b[0;34m\u001b[0m\u001b[0m\n",
      "\u001b[0;32m/Library/Python/2.7/site-packages/sympy/core/compatibility.pyc\u001b[0m in \u001b[0;36mwrapper\u001b[0;34m(*args, **kwds)\u001b[0m\n\u001b[1;32m    897\u001b[0m                         \u001b[0mstats\u001b[0m\u001b[0;34m[\u001b[0m\u001b[0mHITS\u001b[0m\u001b[0;34m]\u001b[0m \u001b[0;34m+=\u001b[0m \u001b[0;36m1\u001b[0m\u001b[0;34m\u001b[0m\u001b[0m\n\u001b[1;32m    898\u001b[0m                         \u001b[0;32mreturn\u001b[0m \u001b[0mresult\u001b[0m\u001b[0;34m\u001b[0m\u001b[0m\n\u001b[0;32m--> 899\u001b[0;31m                 \u001b[0mresult\u001b[0m \u001b[0;34m=\u001b[0m \u001b[0muser_function\u001b[0m\u001b[0;34m(\u001b[0m\u001b[0;34m*\u001b[0m\u001b[0margs\u001b[0m\u001b[0;34m,\u001b[0m \u001b[0;34m**\u001b[0m\u001b[0mkwds\u001b[0m\u001b[0;34m)\u001b[0m\u001b[0;34m\u001b[0m\u001b[0m\n\u001b[0m\u001b[1;32m    900\u001b[0m                 \u001b[0;32mwith\u001b[0m \u001b[0mlock\u001b[0m\u001b[0;34m:\u001b[0m\u001b[0;34m\u001b[0m\u001b[0m\n\u001b[1;32m    901\u001b[0m                     \u001b[0mroot\u001b[0m\u001b[0;34m,\u001b[0m \u001b[0;34m=\u001b[0m \u001b[0mnonlocal_root\u001b[0m\u001b[0;34m\u001b[0m\u001b[0m\n",
      "\u001b[0;32m/Library/Python/2.7/site-packages/sympy/core/operations.pyc\u001b[0m in \u001b[0;36m__new__\u001b[0;34m(cls, *args, **options)\u001b[0m\n\u001b[1;32m     39\u001b[0m             \u001b[0;32mreturn\u001b[0m \u001b[0margs\u001b[0m\u001b[0;34m[\u001b[0m\u001b[0;36m0\u001b[0m\u001b[0;34m]\u001b[0m\u001b[0;34m\u001b[0m\u001b[0m\n\u001b[1;32m     40\u001b[0m \u001b[0;34m\u001b[0m\u001b[0m\n\u001b[0;32m---> 41\u001b[0;31m         \u001b[0mc_part\u001b[0m\u001b[0;34m,\u001b[0m \u001b[0mnc_part\u001b[0m\u001b[0;34m,\u001b[0m \u001b[0morder_symbols\u001b[0m \u001b[0;34m=\u001b[0m \u001b[0mcls\u001b[0m\u001b[0;34m.\u001b[0m\u001b[0mflatten\u001b[0m\u001b[0;34m(\u001b[0m\u001b[0margs\u001b[0m\u001b[0;34m)\u001b[0m\u001b[0;34m\u001b[0m\u001b[0m\n\u001b[0m\u001b[1;32m     42\u001b[0m         \u001b[0mis_commutative\u001b[0m \u001b[0;34m=\u001b[0m \u001b[0;32mnot\u001b[0m \u001b[0mnc_part\u001b[0m\u001b[0;34m\u001b[0m\u001b[0m\n\u001b[1;32m     43\u001b[0m         \u001b[0mobj\u001b[0m \u001b[0;34m=\u001b[0m \u001b[0mcls\u001b[0m\u001b[0;34m.\u001b[0m\u001b[0m_from_args\u001b[0m\u001b[0;34m(\u001b[0m\u001b[0mc_part\u001b[0m \u001b[0;34m+\u001b[0m \u001b[0mnc_part\u001b[0m\u001b[0;34m,\u001b[0m \u001b[0mis_commutative\u001b[0m\u001b[0;34m)\u001b[0m\u001b[0;34m\u001b[0m\u001b[0m\n",
      "\u001b[0;32m/Library/Python/2.7/site-packages/sympy/core/mul.pyc\u001b[0m in \u001b[0;36mflatten\u001b[0;34m(cls, seq)\u001b[0m\n\u001b[1;32m    179\u001b[0m                 \u001b[0ma\u001b[0m\u001b[0;34m,\u001b[0m \u001b[0mb\u001b[0m \u001b[0;34m=\u001b[0m \u001b[0mb\u001b[0m\u001b[0;34m,\u001b[0m \u001b[0ma\u001b[0m\u001b[0;34m\u001b[0m\u001b[0m\n\u001b[1;32m    180\u001b[0m             \u001b[0;32massert\u001b[0m \u001b[0;32mnot\u001b[0m \u001b[0ma\u001b[0m \u001b[0;32mis\u001b[0m \u001b[0mS\u001b[0m\u001b[0;34m.\u001b[0m\u001b[0mOne\u001b[0m\u001b[0;34m\u001b[0m\u001b[0m\n\u001b[0;32m--> 181\u001b[0;31m             \u001b[0;32mif\u001b[0m \u001b[0;32mnot\u001b[0m \u001b[0ma\u001b[0m\u001b[0;34m.\u001b[0m\u001b[0mis_zero\u001b[0m \u001b[0;32mand\u001b[0m \u001b[0ma\u001b[0m\u001b[0;34m.\u001b[0m\u001b[0mis_Rational\u001b[0m\u001b[0;34m:\u001b[0m\u001b[0;34m\u001b[0m\u001b[0m\n\u001b[0m\u001b[1;32m    182\u001b[0m                 \u001b[0mr\u001b[0m\u001b[0;34m,\u001b[0m \u001b[0mb\u001b[0m \u001b[0;34m=\u001b[0m \u001b[0mb\u001b[0m\u001b[0;34m.\u001b[0m\u001b[0mas_coeff_Mul\u001b[0m\u001b[0;34m(\u001b[0m\u001b[0;34m)\u001b[0m\u001b[0;34m\u001b[0m\u001b[0m\n\u001b[1;32m    183\u001b[0m                 \u001b[0;32mif\u001b[0m \u001b[0mb\u001b[0m\u001b[0;34m.\u001b[0m\u001b[0mis_Add\u001b[0m\u001b[0;34m:\u001b[0m\u001b[0;34m\u001b[0m\u001b[0m\n",
      "\u001b[0;32m/Library/Python/2.7/site-packages/sympy/core/assumptions.pyc\u001b[0m in \u001b[0;36mgetit\u001b[0;34m(self)\u001b[0m\n\u001b[1;32m    242\u001b[0m         \u001b[0;32mexcept\u001b[0m \u001b[0mKeyError\u001b[0m\u001b[0;34m:\u001b[0m\u001b[0;34m\u001b[0m\u001b[0m\n\u001b[1;32m    243\u001b[0m             \u001b[0;32mif\u001b[0m \u001b[0mself\u001b[0m\u001b[0;34m.\u001b[0m\u001b[0m_assumptions\u001b[0m \u001b[0;32mis\u001b[0m \u001b[0mself\u001b[0m\u001b[0;34m.\u001b[0m\u001b[0mdefault_assumptions\u001b[0m\u001b[0;34m:\u001b[0m\u001b[0;34m\u001b[0m\u001b[0m\n\u001b[0;32m--> 244\u001b[0;31m                 \u001b[0mself\u001b[0m\u001b[0;34m.\u001b[0m\u001b[0m_assumptions\u001b[0m \u001b[0;34m=\u001b[0m \u001b[0mself\u001b[0m\u001b[0;34m.\u001b[0m\u001b[0mdefault_assumptions\u001b[0m\u001b[0;34m.\u001b[0m\u001b[0mcopy\u001b[0m\u001b[0;34m(\u001b[0m\u001b[0;34m)\u001b[0m\u001b[0;34m\u001b[0m\u001b[0m\n\u001b[0m\u001b[1;32m    245\u001b[0m             \u001b[0;32mreturn\u001b[0m \u001b[0m_ask\u001b[0m\u001b[0;34m(\u001b[0m\u001b[0mfact\u001b[0m\u001b[0;34m,\u001b[0m \u001b[0mself\u001b[0m\u001b[0;34m)\u001b[0m\u001b[0;34m\u001b[0m\u001b[0m\n\u001b[1;32m    246\u001b[0m \u001b[0;34m\u001b[0m\u001b[0m\n",
      "\u001b[0;31mKeyboardInterrupt\u001b[0m: "
     ]
    }
   ],
   "source": [
    "(T - sympy.eye(M)).nullspace()"
   ]
  },
  {
   "cell_type": "code",
   "execution_count": 1292,
   "metadata": {
    "collapsed": false
   },
   "outputs": [
    {
     "ename": "AttributeError",
     "evalue": "MutableDenseMatrix has no attribute todense.",
     "output_type": "error",
     "traceback": [
      "\u001b[0;31m---------------------------------------------------------------------------\u001b[0m",
      "\u001b[0;31mAttributeError\u001b[0m                            Traceback (most recent call last)",
      "\u001b[0;32m<ipython-input-1292-39574e3ce065>\u001b[0m in \u001b[0;36m<module>\u001b[0;34m()\u001b[0m\n\u001b[1;32m      6\u001b[0m \u001b[0mp\u001b[0m \u001b[0;34m=\u001b[0m \u001b[0mBoundaryProcess\u001b[0m\u001b[0;34m(\u001b[0m\u001b[0mN\u001b[0m\u001b[0;34m,\u001b[0m \u001b[0mq\u001b[0m\u001b[0;34m,\u001b[0m \u001b[0ma\u001b[0m\u001b[0;34m,\u001b[0m \u001b[0mb\u001b[0m\u001b[0;34m)\u001b[0m\u001b[0;34m\u001b[0m\u001b[0m\n\u001b[1;32m      7\u001b[0m \u001b[0mS\u001b[0m\u001b[0;34m,\u001b[0m \u001b[0mT\u001b[0m\u001b[0;34m,\u001b[0m \u001b[0mV\u001b[0m \u001b[0;34m=\u001b[0m \u001b[0mp\u001b[0m\u001b[0;34m.\u001b[0m\u001b[0mmatrices\u001b[0m\u001b[0;34m(\u001b[0m\u001b[0;34m)\u001b[0m\u001b[0;34m\u001b[0m\u001b[0m\n\u001b[0;32m----> 8\u001b[0;31m \u001b[0ml\u001b[0m\u001b[0;34m,\u001b[0m \u001b[0mv\u001b[0m \u001b[0;34m=\u001b[0m \u001b[0mnp\u001b[0m\u001b[0;34m.\u001b[0m\u001b[0mlinalg\u001b[0m\u001b[0;34m.\u001b[0m\u001b[0meig\u001b[0m\u001b[0;34m(\u001b[0m\u001b[0mT\u001b[0m\u001b[0;34m.\u001b[0m\u001b[0mtodense\u001b[0m\u001b[0;34m(\u001b[0m\u001b[0;34m)\u001b[0m\u001b[0;34m)\u001b[0m\u001b[0;34m\u001b[0m\u001b[0m\n\u001b[0m\u001b[1;32m      9\u001b[0m \u001b[0mi_eq\u001b[0m \u001b[0;34m=\u001b[0m \u001b[0mnp\u001b[0m\u001b[0;34m.\u001b[0m\u001b[0margmax\u001b[0m\u001b[0;34m(\u001b[0m\u001b[0mnp\u001b[0m\u001b[0;34m.\u001b[0m\u001b[0mabs\u001b[0m\u001b[0;34m(\u001b[0m\u001b[0ml\u001b[0m\u001b[0;34m)\u001b[0m\u001b[0;34m)\u001b[0m\u001b[0;34m\u001b[0m\u001b[0m\n\u001b[1;32m     10\u001b[0m \u001b[0mM\u001b[0m \u001b[0;34m=\u001b[0m \u001b[0mT\u001b[0m\u001b[0;34m.\u001b[0m\u001b[0mshape\u001b[0m\u001b[0;34m[\u001b[0m\u001b[0;36m0\u001b[0m\u001b[0;34m]\u001b[0m\u001b[0;34m\u001b[0m\u001b[0m\n",
      "\u001b[0;32m/Library/Python/2.7/site-packages/sympy/matrices/matrices.pyc\u001b[0m in \u001b[0;36m__getattr__\u001b[0;34m(self, attr)\u001b[0m\n\u001b[1;32m   3214\u001b[0m         \u001b[0;32melse\u001b[0m\u001b[0;34m:\u001b[0m\u001b[0;34m\u001b[0m\u001b[0m\n\u001b[1;32m   3215\u001b[0m             raise AttributeError(\n\u001b[0;32m-> 3216\u001b[0;31m                 \"%s has no attribute %s.\" % (self.__class__.__name__, attr))\n\u001b[0m\u001b[1;32m   3217\u001b[0m \u001b[0;34m\u001b[0m\u001b[0m\n\u001b[1;32m   3218\u001b[0m     \u001b[0;32mdef\u001b[0m \u001b[0mintegrate\u001b[0m\u001b[0;34m(\u001b[0m\u001b[0mself\u001b[0m\u001b[0;34m,\u001b[0m \u001b[0;34m*\u001b[0m\u001b[0margs\u001b[0m\u001b[0;34m)\u001b[0m\u001b[0;34m:\u001b[0m\u001b[0;34m\u001b[0m\u001b[0m\n",
      "\u001b[0;31mAttributeError\u001b[0m: MutableDenseMatrix has no attribute todense."
     ]
    }
   ],
   "source": [
    "l, v = np.linalg.eig(T.todense())\n",
    "i_eq = np.argmax(np.abs(l))\n",
    "M = T.shape[0]"
   ]
  },
  {
   "cell_type": "code",
   "execution_count": 1275,
   "metadata": {
    "collapsed": false
   },
   "outputs": [],
   "source": [
    "x = np.zeros(M)\n",
    "x[0] = 1"
   ]
  },
  {
   "cell_type": "code",
   "execution_count": 1276,
   "metadata": {
    "collapsed": false
   },
   "outputs": [
    {
     "data": {
      "text/plain": [
       "array([ 1.,  0.,  0.,  0.,  0.,  0.,  0.,  0.,  0.,  0.,  0.,  0.,  0.,\n",
       "        0.,  0.,  0.])"
      ]
     },
     "execution_count": 1276,
     "metadata": {},
     "output_type": "execute_result"
    }
   ],
   "source": [
    "x"
   ]
  },
  {
   "cell_type": "code",
   "execution_count": 1277,
   "metadata": {
    "collapsed": false
   },
   "outputs": [
    {
     "name": "stdout",
     "output_type": "stream",
     "text": [
      "[ 0.  0.  0.  0.]\n",
      "[ 0.02  0.    0.    0.  ]\n",
      "[ 0.0356  0.004   0.      0.    ]\n",
      "[ 0.047768  0.01032   0.0008    0.      ]\n",
      "[ 0.05727504  0.0177936   0.002704    0.00016   ]\n",
      "[ 0.06472829  0.02563613  0.00572192  0.0006688 ]\n",
      "[ 0.07060117  0.03334273  0.00970348  0.00167942]\n",
      "[ 0.07525968  0.04060973  0.01442525  0.00328424]\n",
      "[ 0.07898473  0.04727444  0.01964538  0.00551231]\n",
      "[ 0.08199065  0.05326979  0.02513611  0.00833815]\n",
      "[ 0.0844403   0.05859078  0.0307011   0.01169509]\n",
      "[ 0.08645704  0.06327017  0.03618269  0.01548954]\n",
      "[ 0.0881343   0.06736144  0.04146268  0.01961397]\n",
      "[ 0.08954286  0.07092724  0.04645923  0.02395759]\n",
      "[ 0.09073659  0.07403183  0.05112176  0.02841436]\n",
      "[ 0.09175668  0.0767366   0.05542502  0.03288865]\n",
      "[ 0.09263487  0.07909752  0.05936324  0.03729844]\n",
      "[ 0.0933959   0.0811641   0.06294476  0.04157693]\n",
      "[ 0.09405921  0.08297917  0.06618742  0.04567258]\n",
      "[ 0.09464029  0.08457925  0.06911484  0.04954831]\n",
      "[ 0.09515162  0.08599512  0.07175355  0.05317992]\n",
      "[ 0.09560339  0.08725263  0.07413088  0.0565543 ]\n",
      "[ 0.09600397  0.0883734   0.07627347  0.05966744]\n",
      "[ 0.09636033  0.08937553  0.07820636  0.06252248]\n",
      "[ 0.09667833  0.09027425  0.07995246  0.06512796]\n",
      "[ 0.0969629   0.09108238  0.08153236  0.0674962 ]\n",
      "[ 0.09721823  0.09181083  0.08296427  0.06964201]\n",
      "[ 0.09744791  0.0924689   0.08426417  0.07158159]\n",
      "[ 0.097655    0.0930646   0.08544603  0.07333167]\n",
      "[ 0.09784214  0.09360485  0.086522    0.07490888]\n",
      "[ 0.0980116   0.09409566  0.08750267  0.07632932]\n",
      "[ 0.09816537  0.09454228  0.08839732  0.07760819]\n",
      "[ 0.09830515  0.09494931  0.08921408  0.07875967]\n",
      "[ 0.09843245  0.09532078  0.08996018  0.07979677]\n",
      "[ 0.09854856  0.09566026  0.090642    0.08073135]\n",
      "[ 0.09865464  0.09597089  0.09126528  0.08157411]\n",
      "[ 0.0987517   0.09625545  0.09183518  0.08233468]\n",
      "[ 0.09884062  0.09651639  0.09235637  0.08302166]\n",
      "[ 0.0989222   0.09675589  0.0928331   0.08364271]\n",
      "[ 0.09899712  0.09697592  0.09326921  0.08420467]\n",
      "[ 0.09906601  0.09717819  0.09366823  0.08471361]\n",
      "[ 0.09912942  0.09736427  0.09403337  0.08517494]\n",
      "[ 0.09918784  0.09753555  0.09436758  0.08559346]\n",
      "[ 0.0992417   0.09769327  0.09467353  0.08597346]\n",
      "[ 0.09929142  0.09783858  0.09495369  0.08631876]\n",
      "[ 0.09933732  0.09797249  0.09521029  0.08663276]\n",
      "[ 0.09937975  0.09809594  0.09544538  0.0869185 ]\n",
      "[ 0.09941897  0.09820977  0.09566083  0.0871787 ]\n",
      "[ 0.09945525  0.09831475  0.09585833  0.08741581]\n",
      "[ 0.09948883  0.09841159  0.09603944  0.08763202]\n",
      "[ 0.09951991  0.09850093  0.09620557  0.08782929]\n",
      "[ 0.09954869  0.09858337  0.09635801  0.08800938]\n",
      "[ 0.09957535  0.09865944  0.09649792  0.08817389]\n",
      "[ 0.09960004  0.09872965  0.09662638  0.08832424]\n",
      "[ 0.09962292  0.09879444  0.09674436  0.08846174]\n",
      "[ 0.09964411  0.09885426  0.09685275  0.08858754]\n",
      "[ 0.09966374  0.09890947  0.09695235  0.0887027 ]\n",
      "[ 0.09968193  0.09896045  0.0970439   0.08880817]\n",
      "[ 0.09969878  0.09900751  0.09712808  0.0889048 ]\n",
      "[ 0.09971439  0.09905096  0.0972055   0.08899339]\n",
      "[ 0.09972885  0.09909108  0.09727671  0.08907463]\n",
      "[ 0.09974225  0.09912813  0.09734224  0.08914916]\n",
      "[ 0.09975465  0.09916234  0.09740255  0.08921756]\n",
      "[ 0.09976613  0.09919393  0.09745806  0.08928037]\n",
      "[ 0.09977676  0.09922311  0.09750917  0.08933806]\n",
      "[ 0.09978661  0.09925005  0.09755624  0.08939106]\n",
      "[ 0.09979572  0.09927493  0.09759959  0.08943977]\n",
      "[ 0.09980414  0.09929791  0.09763953  0.08948455]\n",
      "[ 0.09981194  0.09931913  0.09767633  0.08952574]\n",
      "[ 0.09981916  0.09933873  0.09771024  0.08956363]\n",
      "[ 0.09982584  0.09935683  0.09774149  0.08959849]\n",
      "[ 0.09983201  0.09937355  0.0977703   0.08963058]\n",
      "[ 0.09983772  0.09938899  0.09779686  0.08966012]\n",
      "[ 0.099843    0.09940324  0.09782135  0.08968731]\n",
      "[ 0.09984788  0.09941641  0.09784393  0.08971236]\n",
      "[ 0.09985239  0.09942857  0.09786475  0.08973544]\n",
      "[ 0.09985656  0.09943979  0.09788396  0.0897567 ]\n",
      "[ 0.09986042  0.09945016  0.09790167  0.08977629]\n",
      "[ 0.09986398  0.09945973  0.09791802  0.08979434]\n",
      "[ 0.09986727  0.09946857  0.09793309  0.08981099]\n",
      "[ 0.09987031  0.09947674  0.097947    0.08982633]\n",
      "[ 0.09987312  0.09948427  0.09795983  0.08984048]\n",
      "[ 0.09987572  0.09949123  0.09797167  0.08985352]\n",
      "[ 0.09987812  0.09949766  0.0979826   0.08986556]\n",
      "[ 0.09988033  0.09950359  0.09799268  0.08987665]\n",
      "[ 0.09988238  0.09950907  0.09800198  0.08988689]\n",
      "[ 0.09988427  0.09951413  0.09801057  0.08989633]\n",
      "[ 0.09988602  0.0995188   0.09801849  0.08990504]\n",
      "[ 0.09988763  0.09952311  0.0980258   0.08991308]\n",
      "[ 0.09988912  0.09952709  0.09803255  0.08992049]\n",
      "[ 0.09989049  0.09953076  0.09803878  0.08992733]\n",
      "[ 0.09989176  0.09953416  0.09804453  0.08993365]\n",
      "[ 0.09989293  0.09953729  0.09804984  0.08993947]\n",
      "[ 0.09989401  0.09954018  0.09805473  0.08994485]\n",
      "[ 0.09989501  0.09954285  0.09805925  0.08994981]\n",
      "[ 0.09989593  0.09954531  0.09806343  0.08995439]\n",
      "[ 0.09989679  0.09954758  0.09806728  0.08995862]\n",
      "[ 0.09989757  0.09954968  0.09807083  0.08996252]\n",
      "[ 0.0998983   0.09955162  0.09807411  0.08996612]\n",
      "[ 0.09989897  0.09955341  0.09807714  0.08996944]\n",
      "[ 0.09989959  0.09955506  0.09807994  0.08997251]\n",
      "[ 0.09990016  0.09955659  0.09808252  0.08997534]\n",
      "[ 0.09990068  0.09955799  0.0980849   0.08997795]\n",
      "[ 0.09990117  0.09955929  0.0980871   0.08998037]\n",
      "[ 0.09990162  0.09956049  0.09808912  0.08998259]\n",
      "[ 0.09990203  0.0995616   0.098091    0.08998465]\n",
      "[ 0.09990242  0.09956262  0.09809273  0.08998654]\n",
      "[ 0.09990277  0.09956356  0.09809432  0.0899883 ]\n",
      "[ 0.09990309  0.09956443  0.0980958   0.08998991]\n",
      "[ 0.0999034   0.09956523  0.09809715  0.0899914 ]\n",
      "[ 0.09990367  0.09956598  0.09809841  0.08999278]\n",
      "[ 0.09990393  0.09956666  0.09809957  0.08999405]\n",
      "[ 0.09990417  0.09956729  0.09810064  0.08999523]\n",
      "[ 0.09990438  0.09956787  0.09810162  0.08999631]\n",
      "[ 0.09990459  0.09956841  0.09810254  0.08999731]\n",
      "[ 0.09990477  0.09956891  0.09810338  0.08999823]\n",
      "[ 0.09990494  0.09956937  0.09810415  0.08999908]\n",
      "[ 0.0999051   0.09956979  0.09810487  0.08999987]\n",
      "[ 0.09990525  0.09957018  0.09810553  0.0900006 ]\n",
      "[ 0.09990538  0.09957054  0.09810614  0.09000127]\n",
      "[ 0.09990551  0.09957088  0.0981067   0.09000188]\n",
      "[ 0.09990562  0.09957118  0.09810722  0.09000246]\n",
      "[ 0.09990573  0.09957147  0.0981077   0.09000298]\n",
      "[ 0.09990583  0.09957173  0.09810815  0.09000347]\n",
      "[ 0.09990592  0.09957197  0.09810856  0.09000392]\n",
      "[ 0.099906    0.09957219  0.09810893  0.09000433]\n",
      "[ 0.09990608  0.0995724   0.09810928  0.09000471]\n",
      "[ 0.09990615  0.09957259  0.0981096   0.09000507]\n",
      "[ 0.09990621  0.09957276  0.0981099   0.09000539]\n",
      "[ 0.09990628  0.09957292  0.09811017  0.09000569]\n",
      "[ 0.09990633  0.09957307  0.09811043  0.09000597]\n",
      "[ 0.09990638  0.09957321  0.09811066  0.09000623]\n",
      "[ 0.09990643  0.09957334  0.09811088  0.09000646]\n",
      "[ 0.09990647  0.09957346  0.09811107  0.09000668]\n",
      "[ 0.09990652  0.09957356  0.09811126  0.09000688]\n",
      "[ 0.09990655  0.09957366  0.09811143  0.09000707]\n",
      "[ 0.09990659  0.09957376  0.09811158  0.09000724]\n",
      "[ 0.09990662  0.09957384  0.09811173  0.0900074 ]\n",
      "[ 0.09990665  0.09957392  0.09811186  0.09000755]\n",
      "[ 0.09990668  0.09957399  0.09811198  0.09000768]\n",
      "[ 0.0999067   0.09957406  0.0981121   0.09000781]\n",
      "[ 0.09990672  0.09957412  0.0981122   0.09000792]\n",
      "[ 0.09990675  0.09957418  0.0981123   0.09000803]\n",
      "[ 0.09990677  0.09957423  0.09811239  0.09000813]\n",
      "[ 0.09990678  0.09957428  0.09811247  0.09000822]\n",
      "[ 0.0999068   0.09957433  0.09811255  0.0900083 ]\n",
      "[ 0.09990682  0.09957437  0.09811262  0.09000838]\n",
      "[ 0.09990683  0.09957441  0.09811268  0.09000845]\n",
      "[ 0.09990684  0.09957444  0.09811274  0.09000851]\n",
      "[ 0.09990686  0.09957447  0.0981128   0.09000857]\n",
      "[ 0.09990687  0.0995745   0.09811285  0.09000863]\n",
      "[ 0.09990688  0.09957453  0.09811289  0.09000868]\n",
      "[ 0.09990689  0.09957456  0.09811294  0.09000873]\n",
      "[ 0.0999069   0.09957458  0.09811298  0.09000877]\n",
      "[ 0.0999069   0.0995746   0.09811302  0.09000881]\n",
      "[ 0.09990691  0.09957462  0.09811305  0.09000885]\n",
      "[ 0.09990692  0.09957464  0.09811308  0.09000889]\n",
      "[ 0.09990692  0.09957466  0.09811311  0.09000892]\n",
      "[ 0.09990693  0.09957467  0.09811314  0.09000895]\n",
      "[ 0.09990694  0.09957469  0.09811316  0.09000897]\n",
      "[ 0.09990694  0.0995747   0.09811318  0.090009  ]\n",
      "[ 0.09990695  0.09957471  0.09811321  0.09000902]\n",
      "[ 0.09990695  0.09957473  0.09811322  0.09000904]\n",
      "[ 0.09990695  0.09957474  0.09811324  0.09000906]\n",
      "[ 0.09990696  0.09957475  0.09811326  0.09000908]\n",
      "[ 0.09990696  0.09957476  0.09811327  0.0900091 ]\n",
      "[ 0.09990696  0.09957476  0.09811329  0.09000911]\n",
      "[ 0.09990697  0.09957477  0.0981133   0.09000913]\n",
      "[ 0.09990697  0.09957478  0.09811331  0.09000914]\n",
      "[ 0.09990697  0.09957479  0.09811333  0.09000915]\n",
      "[ 0.09990697  0.09957479  0.09811334  0.09000916]\n",
      "[ 0.09990698  0.0995748   0.09811334  0.09000918]\n",
      "[ 0.09990698  0.0995748   0.09811335  0.09000918]\n",
      "[ 0.09990698  0.09957481  0.09811336  0.09000919]\n",
      "[ 0.09990698  0.09957481  0.09811337  0.0900092 ]\n",
      "[ 0.09990698  0.09957482  0.09811338  0.09000921]\n",
      "[ 0.09990698  0.09957482  0.09811338  0.09000922]\n",
      "[ 0.09990699  0.09957482  0.09811339  0.09000922]\n",
      "[ 0.09990699  0.09957483  0.09811339  0.09000923]\n",
      "[ 0.09990699  0.09957483  0.0981134   0.09000923]\n",
      "[ 0.09990699  0.09957483  0.0981134   0.09000924]\n",
      "[ 0.09990699  0.09957483  0.09811341  0.09000924]\n",
      "[ 0.09990699  0.09957484  0.09811341  0.09000925]\n",
      "[ 0.09990699  0.09957484  0.09811341  0.09000925]\n",
      "[ 0.09990699  0.09957484  0.09811342  0.09000926]\n",
      "[ 0.09990699  0.09957484  0.09811342  0.09000926]\n",
      "[ 0.09990699  0.09957484  0.09811342  0.09000926]\n",
      "[ 0.09990699  0.09957485  0.09811343  0.09000927]\n",
      "[ 0.099907    0.09957485  0.09811343  0.09000927]\n",
      "[ 0.099907    0.09957485  0.09811343  0.09000927]\n",
      "[ 0.099907    0.09957485  0.09811343  0.09000927]\n",
      "[ 0.099907    0.09957485  0.09811344  0.09000927]\n",
      "[ 0.099907    0.09957485  0.09811344  0.09000928]\n",
      "[ 0.099907    0.09957485  0.09811344  0.09000928]\n",
      "[ 0.099907    0.09957485  0.09811344  0.09000928]\n",
      "[ 0.099907    0.09957485  0.09811344  0.09000928]\n",
      "[ 0.099907    0.09957485  0.09811344  0.09000928]\n",
      "[ 0.099907    0.09957486  0.09811344  0.09000928]\n",
      "[ 0.099907    0.09957486  0.09811345  0.09000929]\n",
      "[ 0.099907    0.09957486  0.09811345  0.09000929]\n",
      "[ 0.099907    0.09957486  0.09811345  0.09000929]\n",
      "[ 0.099907    0.09957486  0.09811345  0.09000929]\n",
      "[ 0.099907    0.09957486  0.09811345  0.09000929]\n",
      "[ 0.099907    0.09957486  0.09811345  0.09000929]\n",
      "[ 0.099907    0.09957486  0.09811345  0.09000929]\n",
      "[ 0.099907    0.09957486  0.09811345  0.09000929]\n",
      "[ 0.099907    0.09957486  0.09811345  0.09000929]\n",
      "[ 0.099907    0.09957486  0.09811345  0.09000929]\n",
      "[ 0.099907    0.09957486  0.09811345  0.09000929]\n",
      "[ 0.099907    0.09957486  0.09811345  0.09000929]\n",
      "[ 0.099907    0.09957486  0.09811345  0.09000929]\n",
      "[ 0.099907    0.09957486  0.09811345  0.09000929]\n",
      "[ 0.099907    0.09957486  0.09811345  0.0900093 ]\n",
      "[ 0.099907    0.09957486  0.09811345  0.0900093 ]\n",
      "[ 0.099907    0.09957486  0.09811345  0.0900093 ]\n",
      "[ 0.099907    0.09957486  0.09811345  0.0900093 ]\n",
      "[ 0.099907    0.09957486  0.09811346  0.0900093 ]\n",
      "[ 0.099907    0.09957486  0.09811346  0.0900093 ]\n",
      "[ 0.099907    0.09957486  0.09811346  0.0900093 ]\n",
      "[ 0.099907    0.09957486  0.09811346  0.0900093 ]\n",
      "[ 0.099907    0.09957486  0.09811346  0.0900093 ]\n",
      "[ 0.099907    0.09957486  0.09811346  0.0900093 ]\n",
      "[ 0.099907    0.09957486  0.09811346  0.0900093 ]\n",
      "[ 0.099907    0.09957486  0.09811346  0.0900093 ]\n",
      "[ 0.099907    0.09957486  0.09811346  0.0900093 ]\n",
      "[ 0.099907    0.09957486  0.09811346  0.0900093 ]\n",
      "[ 0.099907    0.09957486  0.09811346  0.0900093 ]\n",
      "[ 0.099907    0.09957486  0.09811346  0.0900093 ]\n",
      "[ 0.099907    0.09957486  0.09811346  0.0900093 ]\n",
      "[ 0.099907    0.09957486  0.09811346  0.0900093 ]\n",
      "[ 0.099907    0.09957486  0.09811346  0.0900093 ]\n",
      "[ 0.099907    0.09957486  0.09811346  0.0900093 ]\n",
      "[ 0.099907    0.09957486  0.09811346  0.0900093 ]\n",
      "[ 0.099907    0.09957486  0.09811346  0.0900093 ]\n",
      "[ 0.099907    0.09957486  0.09811346  0.0900093 ]\n",
      "[ 0.099907    0.09957486  0.09811346  0.0900093 ]\n",
      "[ 0.099907    0.09957486  0.09811346  0.0900093 ]\n",
      "[ 0.099907    0.09957486  0.09811346  0.0900093 ]\n",
      "[ 0.099907    0.09957486  0.09811346  0.0900093 ]\n",
      "[ 0.099907    0.09957486  0.09811346  0.0900093 ]\n",
      "[ 0.099907    0.09957486  0.09811346  0.0900093 ]\n",
      "[ 0.099907    0.09957486  0.09811346  0.0900093 ]\n",
      "[ 0.099907    0.09957486  0.09811346  0.0900093 ]\n",
      "[ 0.099907    0.09957486  0.09811346  0.0900093 ]\n",
      "[ 0.099907    0.09957486  0.09811346  0.0900093 ]\n",
      "[ 0.099907    0.09957486  0.09811346  0.0900093 ]\n",
      "[ 0.099907    0.09957486  0.09811346  0.0900093 ]\n",
      "[ 0.099907    0.09957486  0.09811346  0.0900093 ]\n",
      "[ 0.099907    0.09957486  0.09811346  0.0900093 ]\n",
      "[ 0.099907    0.09957486  0.09811346  0.0900093 ]\n",
      "[ 0.099907    0.09957486  0.09811346  0.0900093 ]\n",
      "[ 0.099907    0.09957486  0.09811346  0.0900093 ]\n",
      "[ 0.099907    0.09957486  0.09811346  0.0900093 ]\n",
      "[ 0.099907    0.09957486  0.09811346  0.0900093 ]\n",
      "[ 0.099907    0.09957486  0.09811346  0.0900093 ]\n",
      "[ 0.099907    0.09957486  0.09811346  0.0900093 ]\n",
      "[ 0.099907    0.09957486  0.09811346  0.0900093 ]\n",
      "[ 0.099907    0.09957486  0.09811346  0.0900093 ]\n",
      "[ 0.099907    0.09957486  0.09811346  0.0900093 ]\n",
      "[ 0.099907    0.09957486  0.09811346  0.0900093 ]\n",
      "[ 0.099907    0.09957486  0.09811346  0.0900093 ]\n",
      "[ 0.099907    0.09957486  0.09811346  0.0900093 ]\n",
      "[ 0.099907    0.09957486  0.09811346  0.0900093 ]\n",
      "[ 0.099907    0.09957486  0.09811346  0.0900093 ]\n",
      "[ 0.099907    0.09957486  0.09811346  0.0900093 ]\n",
      "[ 0.099907    0.09957486  0.09811346  0.0900093 ]\n",
      "[ 0.099907    0.09957486  0.09811346  0.0900093 ]\n",
      "[ 0.099907    0.09957486  0.09811346  0.0900093 ]\n",
      "[ 0.099907    0.09957486  0.09811346  0.0900093 ]\n",
      "[ 0.099907    0.09957486  0.09811346  0.0900093 ]\n",
      "[ 0.099907    0.09957486  0.09811346  0.0900093 ]\n",
      "[ 0.099907    0.09957486  0.09811346  0.0900093 ]\n",
      "[ 0.099907    0.09957486  0.09811346  0.0900093 ]\n",
      "[ 0.099907    0.09957486  0.09811346  0.0900093 ]\n",
      "[ 0.099907    0.09957486  0.09811346  0.0900093 ]\n",
      "[ 0.099907    0.09957486  0.09811346  0.0900093 ]\n",
      "[ 0.099907    0.09957486  0.09811346  0.0900093 ]\n",
      "[ 0.099907    0.09957486  0.09811346  0.0900093 ]\n",
      "[ 0.099907    0.09957486  0.09811346  0.0900093 ]\n",
      "[ 0.099907    0.09957486  0.09811346  0.0900093 ]\n",
      "[ 0.099907    0.09957486  0.09811346  0.0900093 ]\n",
      "[ 0.099907    0.09957486  0.09811346  0.0900093 ]\n",
      "[ 0.099907    0.09957486  0.09811346  0.0900093 ]\n",
      "[ 0.099907    0.09957486  0.09811346  0.0900093 ]\n",
      "[ 0.099907    0.09957486  0.09811346  0.0900093 ]\n",
      "[ 0.099907    0.09957486  0.09811346  0.0900093 ]\n",
      "[ 0.099907    0.09957486  0.09811346  0.0900093 ]\n",
      "[ 0.099907    0.09957486  0.09811346  0.0900093 ]\n",
      "[ 0.099907    0.09957486  0.09811346  0.0900093 ]\n",
      "[ 0.099907    0.09957486  0.09811346  0.0900093 ]\n",
      "[ 0.099907    0.09957486  0.09811346  0.0900093 ]\n",
      "[ 0.099907    0.09957486  0.09811346  0.0900093 ]\n",
      "[ 0.099907    0.09957486  0.09811346  0.0900093 ]\n",
      "[ 0.099907    0.09957486  0.09811346  0.0900093 ]\n",
      "[ 0.099907    0.09957486  0.09811346  0.0900093 ]\n",
      "[ 0.099907    0.09957486  0.09811346  0.0900093 ]\n",
      "[ 0.099907    0.09957486  0.09811346  0.0900093 ]\n",
      "[ 0.099907    0.09957486  0.09811346  0.0900093 ]\n",
      "[ 0.099907    0.09957486  0.09811346  0.0900093 ]\n",
      "[ 0.099907    0.09957486  0.09811346  0.0900093 ]\n",
      "[ 0.099907    0.09957486  0.09811346  0.0900093 ]\n",
      "[ 0.099907    0.09957486  0.09811346  0.0900093 ]\n",
      "[ 0.099907    0.09957486  0.09811346  0.0900093 ]\n",
      "[ 0.099907    0.09957486  0.09811346  0.0900093 ]\n",
      "[ 0.099907    0.09957486  0.09811346  0.0900093 ]\n",
      "[ 0.099907    0.09957486  0.09811346  0.0900093 ]\n",
      "[ 0.099907    0.09957486  0.09811346  0.0900093 ]\n",
      "[ 0.099907    0.09957486  0.09811346  0.0900093 ]\n",
      "[ 0.099907    0.09957486  0.09811346  0.0900093 ]\n",
      "[ 0.099907    0.09957486  0.09811346  0.0900093 ]\n",
      "[ 0.099907    0.09957486  0.09811346  0.0900093 ]\n",
      "[ 0.099907    0.09957486  0.09811346  0.0900093 ]\n",
      "[ 0.099907    0.09957486  0.09811346  0.0900093 ]\n",
      "[ 0.099907    0.09957486  0.09811346  0.0900093 ]\n",
      "[ 0.099907    0.09957486  0.09811346  0.0900093 ]\n",
      "[ 0.099907    0.09957486  0.09811346  0.0900093 ]\n",
      "[ 0.099907    0.09957486  0.09811346  0.0900093 ]\n",
      "[ 0.099907    0.09957486  0.09811346  0.0900093 ]\n",
      "[ 0.099907    0.09957486  0.09811346  0.0900093 ]\n",
      "[ 0.099907    0.09957486  0.09811346  0.0900093 ]\n",
      "[ 0.099907    0.09957486  0.09811346  0.0900093 ]\n",
      "[ 0.099907    0.09957486  0.09811346  0.0900093 ]\n",
      "[ 0.099907    0.09957486  0.09811346  0.0900093 ]\n",
      "[ 0.099907    0.09957486  0.09811346  0.0900093 ]\n",
      "[ 0.099907    0.09957486  0.09811346  0.0900093 ]\n",
      "[ 0.099907    0.09957486  0.09811346  0.0900093 ]\n",
      "[ 0.099907    0.09957486  0.09811346  0.0900093 ]\n",
      "[ 0.099907    0.09957486  0.09811346  0.0900093 ]\n",
      "[ 0.099907    0.09957486  0.09811346  0.0900093 ]\n",
      "[ 0.099907    0.09957486  0.09811346  0.0900093 ]\n",
      "[ 0.099907    0.09957486  0.09811346  0.0900093 ]\n",
      "[ 0.099907    0.09957486  0.09811346  0.0900093 ]\n",
      "[ 0.099907    0.09957486  0.09811346  0.0900093 ]\n",
      "[ 0.099907    0.09957486  0.09811346  0.0900093 ]\n",
      "[ 0.099907    0.09957486  0.09811346  0.0900093 ]\n",
      "[ 0.099907    0.09957486  0.09811346  0.0900093 ]\n",
      "[ 0.099907    0.09957486  0.09811346  0.0900093 ]\n",
      "[ 0.099907    0.09957486  0.09811346  0.0900093 ]\n",
      "[ 0.099907    0.09957486  0.09811346  0.0900093 ]\n",
      "[ 0.099907    0.09957486  0.09811346  0.0900093 ]\n",
      "[ 0.099907    0.09957486  0.09811346  0.0900093 ]\n",
      "[ 0.099907    0.09957486  0.09811346  0.0900093 ]\n",
      "[ 0.099907    0.09957486  0.09811346  0.0900093 ]\n",
      "[ 0.099907    0.09957486  0.09811346  0.0900093 ]\n",
      "[ 0.099907    0.09957486  0.09811346  0.0900093 ]\n",
      "[ 0.099907    0.09957486  0.09811346  0.0900093 ]\n",
      "[ 0.099907    0.09957486  0.09811346  0.0900093 ]\n",
      "[ 0.099907    0.09957486  0.09811346  0.0900093 ]\n",
      "[ 0.099907    0.09957486  0.09811346  0.0900093 ]\n",
      "[ 0.099907    0.09957486  0.09811346  0.0900093 ]\n",
      "[ 0.099907    0.09957486  0.09811346  0.0900093 ]\n",
      "[ 0.099907    0.09957486  0.09811346  0.0900093 ]\n",
      "[ 0.099907    0.09957486  0.09811346  0.0900093 ]\n",
      "[ 0.099907    0.09957486  0.09811346  0.0900093 ]\n",
      "[ 0.099907    0.09957486  0.09811346  0.0900093 ]\n",
      "[ 0.099907    0.09957486  0.09811346  0.0900093 ]\n",
      "[ 0.099907    0.09957486  0.09811346  0.0900093 ]\n",
      "[ 0.099907    0.09957486  0.09811346  0.0900093 ]\n",
      "[ 0.099907    0.09957486  0.09811346  0.0900093 ]\n",
      "[ 0.099907    0.09957486  0.09811346  0.0900093 ]\n",
      "[ 0.099907    0.09957486  0.09811346  0.0900093 ]\n",
      "[ 0.099907    0.09957486  0.09811346  0.0900093 ]\n",
      "[ 0.099907    0.09957486  0.09811346  0.0900093 ]\n",
      "[ 0.099907    0.09957486  0.09811346  0.0900093 ]\n",
      "[ 0.099907    0.09957486  0.09811346  0.0900093 ]\n",
      "[ 0.099907    0.09957486  0.09811346  0.0900093 ]\n",
      "[ 0.099907    0.09957486  0.09811346  0.0900093 ]\n",
      "[ 0.099907    0.09957486  0.09811346  0.0900093 ]\n",
      "[ 0.099907    0.09957486  0.09811346  0.0900093 ]\n",
      "[ 0.099907    0.09957486  0.09811346  0.0900093 ]\n",
      "[ 0.099907    0.09957486  0.09811346  0.0900093 ]\n",
      "[ 0.099907    0.09957486  0.09811346  0.0900093 ]\n",
      "[ 0.099907    0.09957486  0.09811346  0.0900093 ]\n",
      "[ 0.099907    0.09957486  0.09811346  0.0900093 ]\n",
      "[ 0.099907    0.09957486  0.09811346  0.0900093 ]\n",
      "[ 0.099907    0.09957486  0.09811346  0.0900093 ]\n",
      "[ 0.099907    0.09957486  0.09811346  0.0900093 ]\n",
      "[ 0.099907    0.09957486  0.09811346  0.0900093 ]\n",
      "[ 0.099907    0.09957486  0.09811346  0.0900093 ]\n",
      "[ 0.099907    0.09957486  0.09811346  0.0900093 ]\n",
      "[ 0.099907    0.09957486  0.09811346  0.0900093 ]\n",
      "[ 0.099907    0.09957486  0.09811346  0.0900093 ]\n",
      "[ 0.099907    0.09957486  0.09811346  0.0900093 ]\n",
      "[ 0.099907    0.09957486  0.09811346  0.0900093 ]\n",
      "[ 0.099907    0.09957486  0.09811346  0.0900093 ]\n",
      "[ 0.099907    0.09957486  0.09811346  0.0900093 ]\n",
      "[ 0.099907    0.09957486  0.09811346  0.0900093 ]\n",
      "[ 0.099907    0.09957486  0.09811346  0.0900093 ]\n",
      "[ 0.099907    0.09957486  0.09811346  0.0900093 ]\n",
      "[ 0.099907    0.09957486  0.09811346  0.0900093 ]\n",
      "[ 0.099907    0.09957486  0.09811346  0.0900093 ]\n",
      "[ 0.099907    0.09957486  0.09811346  0.0900093 ]\n",
      "[ 0.099907    0.09957486  0.09811346  0.0900093 ]\n",
      "[ 0.099907    0.09957486  0.09811346  0.0900093 ]\n",
      "[ 0.099907    0.09957486  0.09811346  0.0900093 ]\n",
      "[ 0.099907    0.09957486  0.09811346  0.0900093 ]\n",
      "[ 0.099907    0.09957486  0.09811346  0.0900093 ]\n",
      "[ 0.099907    0.09957486  0.09811346  0.0900093 ]\n",
      "[ 0.099907    0.09957486  0.09811346  0.0900093 ]\n",
      "[ 0.099907    0.09957486  0.09811346  0.0900093 ]\n",
      "[ 0.099907    0.09957486  0.09811346  0.0900093 ]\n",
      "[ 0.099907    0.09957486  0.09811346  0.0900093 ]\n",
      "[ 0.099907    0.09957486  0.09811346  0.0900093 ]\n",
      "[ 0.099907    0.09957486  0.09811346  0.0900093 ]\n",
      "[ 0.099907    0.09957486  0.09811346  0.0900093 ]\n",
      "[ 0.099907    0.09957486  0.09811346  0.0900093 ]\n",
      "[ 0.099907    0.09957486  0.09811346  0.0900093 ]\n",
      "[ 0.099907    0.09957486  0.09811346  0.0900093 ]\n",
      "[ 0.099907    0.09957486  0.09811346  0.0900093 ]\n",
      "[ 0.099907    0.09957486  0.09811346  0.0900093 ]\n",
      "[ 0.099907    0.09957486  0.09811346  0.0900093 ]\n",
      "[ 0.099907    0.09957486  0.09811346  0.0900093 ]\n",
      "[ 0.099907    0.09957486  0.09811346  0.0900093 ]\n",
      "[ 0.099907    0.09957486  0.09811346  0.0900093 ]\n",
      "[ 0.099907    0.09957486  0.09811346  0.0900093 ]\n",
      "[ 0.099907    0.09957486  0.09811346  0.0900093 ]\n",
      "[ 0.099907    0.09957486  0.09811346  0.0900093 ]\n",
      "[ 0.099907    0.09957486  0.09811346  0.0900093 ]\n",
      "[ 0.099907    0.09957486  0.09811346  0.0900093 ]\n",
      "[ 0.099907    0.09957486  0.09811346  0.0900093 ]\n",
      "[ 0.099907    0.09957486  0.09811346  0.0900093 ]\n",
      "[ 0.099907    0.09957486  0.09811346  0.0900093 ]\n",
      "[ 0.099907    0.09957486  0.09811346  0.0900093 ]\n",
      "[ 0.099907    0.09957486  0.09811346  0.0900093 ]\n",
      "[ 0.099907    0.09957486  0.09811346  0.0900093 ]\n",
      "[ 0.099907    0.09957486  0.09811346  0.0900093 ]\n",
      "[ 0.099907    0.09957486  0.09811346  0.0900093 ]\n",
      "[ 0.099907    0.09957486  0.09811346  0.0900093 ]\n",
      "[ 0.099907    0.09957486  0.09811346  0.0900093 ]\n",
      "[ 0.099907    0.09957486  0.09811346  0.0900093 ]\n",
      "[ 0.099907    0.09957486  0.09811346  0.0900093 ]\n",
      "[ 0.099907    0.09957486  0.09811346  0.0900093 ]\n",
      "[ 0.099907    0.09957486  0.09811346  0.0900093 ]\n",
      "[ 0.099907    0.09957486  0.09811346  0.0900093 ]\n",
      "[ 0.099907    0.09957486  0.09811346  0.0900093 ]\n",
      "[ 0.099907    0.09957486  0.09811346  0.0900093 ]\n",
      "[ 0.099907    0.09957486  0.09811346  0.0900093 ]\n",
      "[ 0.099907    0.09957486  0.09811346  0.0900093 ]\n",
      "[ 0.099907    0.09957486  0.09811346  0.0900093 ]\n",
      "[ 0.099907    0.09957486  0.09811346  0.0900093 ]\n",
      "[ 0.099907    0.09957486  0.09811346  0.0900093 ]\n",
      "[ 0.099907    0.09957486  0.09811346  0.0900093 ]\n",
      "[ 0.099907    0.09957486  0.09811346  0.0900093 ]\n",
      "[ 0.099907    0.09957486  0.09811346  0.0900093 ]\n",
      "[ 0.099907    0.09957486  0.09811346  0.0900093 ]\n",
      "[ 0.099907    0.09957486  0.09811346  0.0900093 ]\n",
      "[ 0.099907    0.09957486  0.09811346  0.0900093 ]\n",
      "[ 0.099907    0.09957486  0.09811346  0.0900093 ]\n",
      "[ 0.099907    0.09957486  0.09811346  0.0900093 ]\n",
      "[ 0.099907    0.09957486  0.09811346  0.0900093 ]\n",
      "[ 0.099907    0.09957486  0.09811346  0.0900093 ]\n",
      "[ 0.099907    0.09957486  0.09811346  0.0900093 ]\n",
      "[ 0.099907    0.09957486  0.09811346  0.0900093 ]\n",
      "[ 0.099907    0.09957486  0.09811346  0.0900093 ]\n",
      "[ 0.099907    0.09957486  0.09811346  0.0900093 ]\n",
      "[ 0.099907    0.09957486  0.09811346  0.0900093 ]\n",
      "[ 0.099907    0.09957486  0.09811346  0.0900093 ]\n",
      "[ 0.099907    0.09957486  0.09811346  0.0900093 ]\n",
      "[ 0.099907    0.09957486  0.09811346  0.0900093 ]\n",
      "[ 0.099907    0.09957486  0.09811346  0.0900093 ]\n",
      "[ 0.099907    0.09957486  0.09811346  0.0900093 ]\n",
      "[ 0.099907    0.09957486  0.09811346  0.0900093 ]\n",
      "[ 0.099907    0.09957486  0.09811346  0.0900093 ]\n",
      "[ 0.099907    0.09957486  0.09811346  0.0900093 ]\n",
      "[ 0.099907    0.09957486  0.09811346  0.0900093 ]\n",
      "[ 0.099907    0.09957486  0.09811346  0.0900093 ]\n",
      "[ 0.099907    0.09957486  0.09811346  0.0900093 ]\n",
      "[ 0.099907    0.09957486  0.09811346  0.0900093 ]\n",
      "[ 0.099907    0.09957486  0.09811346  0.0900093 ]\n",
      "[ 0.099907    0.09957486  0.09811346  0.0900093 ]\n",
      "[ 0.099907    0.09957486  0.09811346  0.0900093 ]\n",
      "[ 0.099907    0.09957486  0.09811346  0.0900093 ]\n",
      "[ 0.099907    0.09957486  0.09811346  0.0900093 ]\n",
      "[ 0.099907    0.09957486  0.09811346  0.0900093 ]\n",
      "[ 0.099907    0.09957486  0.09811346  0.0900093 ]\n",
      "[ 0.099907    0.09957486  0.09811346  0.0900093 ]\n",
      "[ 0.099907    0.09957486  0.09811346  0.0900093 ]\n",
      "[ 0.099907    0.09957486  0.09811346  0.0900093 ]\n",
      "[ 0.099907    0.09957486  0.09811346  0.0900093 ]\n",
      "[ 0.099907    0.09957486  0.09811346  0.0900093 ]\n",
      "[ 0.099907    0.09957486  0.09811346  0.0900093 ]\n",
      "[ 0.099907    0.09957486  0.09811346  0.0900093 ]\n",
      "[ 0.099907    0.09957486  0.09811346  0.0900093 ]\n",
      "[ 0.099907    0.09957486  0.09811346  0.0900093 ]\n",
      "[ 0.099907    0.09957486  0.09811346  0.0900093 ]\n",
      "[ 0.099907    0.09957486  0.09811346  0.0900093 ]\n",
      "[ 0.099907    0.09957486  0.09811346  0.0900093 ]\n",
      "[ 0.099907    0.09957486  0.09811346  0.0900093 ]\n",
      "[ 0.099907    0.09957486  0.09811346  0.0900093 ]\n",
      "[ 0.099907    0.09957486  0.09811346  0.0900093 ]\n",
      "[ 0.099907    0.09957486  0.09811346  0.0900093 ]\n",
      "[ 0.099907    0.09957486  0.09811346  0.0900093 ]\n",
      "[ 0.099907    0.09957486  0.09811346  0.0900093 ]\n",
      "[ 0.099907    0.09957486  0.09811346  0.0900093 ]\n",
      "[ 0.099907    0.09957486  0.09811346  0.0900093 ]\n",
      "[ 0.099907    0.09957486  0.09811346  0.0900093 ]\n",
      "[ 0.099907    0.09957486  0.09811346  0.0900093 ]\n",
      "[ 0.099907    0.09957486  0.09811346  0.0900093 ]\n",
      "[ 0.099907    0.09957486  0.09811346  0.0900093 ]\n",
      "[ 0.099907    0.09957486  0.09811346  0.0900093 ]\n"
     ]
    }
   ],
   "source": [
    "for i in range(500):\n",
    "#     print x\n",
    "    print S.dot(x)\n",
    "    x = T.dot(x)"
   ]
  },
  {
   "cell_type": "code",
   "execution_count": 1268,
   "metadata": {
    "collapsed": true
   },
   "outputs": [],
   "source": [
    "x = T.dot(x)"
   ]
  },
  {
   "cell_type": "code",
   "execution_count": 1269,
   "metadata": {
    "collapsed": false
   },
   "outputs": [
    {
     "data": {
      "text/plain": [
       "array([ 0.02,  0.  ,  0.  ,  0.  ])"
      ]
     },
     "execution_count": 1269,
     "metadata": {},
     "output_type": "execute_result"
    }
   ],
   "source": [
    "S.dot(x)"
   ]
  },
  {
   "cell_type": "code",
   "execution_count": 1246,
   "metadata": {
    "collapsed": false
   },
   "outputs": [
    {
     "data": {
      "text/plain": [
       "matrix([[ -9.53352375e-01+0.j],\n",
       "        [ -9.53352375e-02+0.j],\n",
       "        [ -1.04868761e-01+0.j],\n",
       "        [ -9.53352375e-03+0.j],\n",
       "        [ -1.05822114e-01+0.j],\n",
       "        [ -1.04868761e-02+0.j],\n",
       "        [ -1.14402285e-02+0.j],\n",
       "        [ -9.53352375e-04+0.j],\n",
       "        [ -1.05917449e-01+0.j],\n",
       "        [ -1.05822114e-02+0.j],\n",
       "        [ -1.16308990e-02+0.j],\n",
       "        [ -1.04868761e-03+0.j],\n",
       "        [ -1.17262342e-02+0.j],\n",
       "        [ -1.14402285e-03+0.j],\n",
       "        [ -1.23935809e-03+0.j],\n",
       "        [ -9.53352375e-05+0.j],\n",
       "        [ -1.05926982e-01+0.j],\n",
       "        [ -1.05917449e-02+0.j],\n",
       "        [ -1.16499660e-02+0.j],\n",
       "        [ -1.05822114e-03+0.j],\n",
       "        [ -1.17548348e-02+0.j],\n",
       "        [ -1.16308990e-03+0.j],\n",
       "        [ -1.26795866e-03+0.j],\n",
       "        [ -1.04868761e-04+0.j],\n",
       "        [ -1.17643683e-02+0.j],\n",
       "        [ -1.17262342e-03+0.j],\n",
       "        [ -1.28702571e-03+0.j],\n",
       "        [ -1.14402285e-04+0.j],\n",
       "        [ -1.29655923e-03+0.j],\n",
       "        [ -1.23935809e-04+0.j],\n",
       "        [ -1.33469332e-04+0.j],\n",
       "        [ -9.53352375e-06+0.j],\n",
       "        [ -1.05927936e-01+0.j],\n",
       "        [ -1.05926982e-02+0.j],\n",
       "        [ -1.16518727e-02+0.j],\n",
       "        [ -1.05917449e-03+0.j],\n",
       "        [ -1.17576948e-02+0.j],\n",
       "        [ -1.16499660e-03+0.j],\n",
       "        [ -1.27081872e-03+0.j],\n",
       "        [ -1.05822114e-04+0.j],\n",
       "        [ -1.17681817e-02+0.j],\n",
       "        [ -1.17548348e-03+0.j],\n",
       "        [ -1.29179247e-03+0.j],\n",
       "        [ -1.16308990e-04+0.j],\n",
       "        [ -1.30227934e-03+0.j],\n",
       "        [ -1.26795866e-04+0.j],\n",
       "        [ -1.37282742e-04+0.j],\n",
       "        [ -1.04868761e-05+0.j],\n",
       "        [ -1.17691351e-02+0.j],\n",
       "        [ -1.17643683e-03+0.j],\n",
       "        [ -1.29369917e-03+0.j],\n",
       "        [ -1.17262342e-04+0.j],\n",
       "        [ -1.30513940e-03+0.j],\n",
       "        [ -1.28702571e-04+0.j],\n",
       "        [ -1.40142799e-04+0.j],\n",
       "        [ -1.14402285e-05+0.j],\n",
       "        [ -1.30609275e-03+0.j],\n",
       "        [ -1.29655923e-04+0.j],\n",
       "        [ -1.42049504e-04+0.j],\n",
       "        [ -1.23935809e-05+0.j],\n",
       "        [ -1.43002856e-04+0.j],\n",
       "        [ -1.33469332e-05+0.j],\n",
       "        [ -1.43002856e-05+0.j],\n",
       "        [ -9.53352375e-07+0.j],\n",
       "        [ -1.05928031e-01+0.j],\n",
       "        [ -1.05927936e-02+0.j],\n",
       "        [ -1.16520634e-02+0.j],\n",
       "        [ -1.05926982e-03+0.j],\n",
       "        [ -1.17579808e-02+0.j],\n",
       "        [ -1.16518727e-03+0.j],\n",
       "        [ -1.27110472e-03+0.j],\n",
       "        [ -1.05917449e-04+0.j],\n",
       "        [ -1.17685631e-02+0.j],\n",
       "        [ -1.17576948e-03+0.j],\n",
       "        [ -1.29226914e-03+0.j],\n",
       "        [ -1.16499660e-04+0.j],\n",
       "        [ -1.30285136e-03+0.j],\n",
       "        [ -1.27081872e-04+0.j],\n",
       "        [ -1.37664083e-04+0.j],\n",
       "        [ -1.05822114e-05+0.j],\n",
       "        [ -1.17696117e-02+0.j],\n",
       "        [ -1.17681817e-03+0.j],\n",
       "        [ -1.29436652e-03+0.j],\n",
       "        [ -1.17548348e-04+0.j],\n",
       "        [ -1.30599742e-03+0.j],\n",
       "        [ -1.29179247e-04+0.j],\n",
       "        [ -1.40810146e-04+0.j],\n",
       "        [ -1.16308990e-05+0.j],\n",
       "        [ -1.30704611e-03+0.j],\n",
       "        [ -1.30227934e-04+0.j],\n",
       "        [ -1.42907521e-04+0.j],\n",
       "        [ -1.26795866e-05+0.j],\n",
       "        [ -1.43956209e-04+0.j],\n",
       "        [ -1.37282742e-05+0.j],\n",
       "        [ -1.47769618e-05+0.j],\n",
       "        [ -1.04868761e-06+0.j],\n",
       "        [ -1.17697071e-02+0.j],\n",
       "        [ -1.17691351e-03+0.j],\n",
       "        [ -1.29455719e-03+0.j],\n",
       "        [ -1.17643683e-04+0.j],\n",
       "        [ -1.30628342e-03+0.j],\n",
       "        [ -1.29369917e-04+0.j],\n",
       "        [ -1.41096151e-04+0.j],\n",
       "        [ -1.17262342e-05+0.j],\n",
       "        [ -1.30742745e-03+0.j],\n",
       "        [ -1.30513940e-04+0.j],\n",
       "        [ -1.43384197e-04+0.j],\n",
       "        [ -1.28702571e-05+0.j],\n",
       "        [ -1.44528220e-04+0.j],\n",
       "        [ -1.40142799e-05+0.j],\n",
       "        [ -1.51583028e-05+0.j],\n",
       "        [ -1.14402285e-06+0.j],\n",
       "        [ -1.30752278e-03+0.j],\n",
       "        [ -1.30609275e-04+0.j],\n",
       "        [ -1.43574868e-04+0.j],\n",
       "        [ -1.29655923e-05+0.j],\n",
       "        [ -1.44814226e-04+0.j],\n",
       "        [ -1.42049504e-05+0.j],\n",
       "        [ -1.54443085e-05+0.j],\n",
       "        [ -1.23935809e-06+0.j],\n",
       "        [ -1.44909561e-04+0.j],\n",
       "        [ -1.43002856e-05+0.j],\n",
       "        [ -1.56349789e-05+0.j],\n",
       "        [ -1.33469332e-06+0.j],\n",
       "        [ -1.57303142e-05+0.j],\n",
       "        [ -1.43002856e-06+0.j],\n",
       "        [ -1.52536380e-06+0.j],\n",
       "        [ -9.53352375e-08+0.j],\n",
       "        [ -1.05928041e-01+0.j],\n",
       "        [ -1.05928031e-02+0.j],\n",
       "        [ -1.16520825e-02+0.j],\n",
       "        [ -1.05927936e-03+0.j],\n",
       "        [ -1.17580094e-02+0.j],\n",
       "        [ -1.16520634e-03+0.j],\n",
       "        [ -1.27113332e-03+0.j],\n",
       "        [ -1.05926982e-04+0.j],\n",
       "        [ -1.17686012e-02+0.j],\n",
       "        [ -1.17579808e-03+0.j],\n",
       "        [ -1.29231681e-03+0.j],\n",
       "        [ -1.16518727e-04+0.j],\n",
       "        [ -1.30290856e-03+0.j],\n",
       "        [ -1.27110472e-04+0.j],\n",
       "        [ -1.37702217e-04+0.j],\n",
       "        [ -1.05917449e-05+0.j],\n",
       "        [ -1.17696594e-02+0.j],\n",
       "        [ -1.17685631e-03+0.j],\n",
       "        [ -1.29443325e-03+0.j],\n",
       "        [ -1.17576948e-04+0.j],\n",
       "        [ -1.30608322e-03+0.j],\n",
       "        [ -1.29226914e-04+0.j],\n",
       "        [ -1.40876880e-04+0.j],\n",
       "        [ -1.16499660e-05+0.j],\n",
       "        [ -1.30714144e-03+0.j],\n",
       "        [ -1.30285136e-04+0.j],\n",
       "        [ -1.42993323e-04+0.j],\n",
       "        [ -1.27081872e-05+0.j],\n",
       "        [ -1.44051544e-04+0.j],\n",
       "        [ -1.37664083e-05+0.j],\n",
       "        [ -1.48246294e-05+0.j],\n",
       "        [ -1.05822114e-06+0.j],\n",
       "        [ -1.17697643e-02+0.j],\n",
       "        [ -1.17696117e-03+0.j],\n",
       "        [ -1.29464299e-03+0.j],\n",
       "        [ -1.17681817e-04+0.j],\n",
       "        [ -1.30639783e-03+0.j],\n",
       "        [ -1.29436652e-04+0.j],\n",
       "        [ -1.41191487e-04+0.j],\n",
       "        [ -1.17548348e-05+0.j],\n",
       "        [ -1.30756092e-03+0.j],\n",
       "        [ -1.30599742e-04+0.j],\n",
       "        [ -1.43517666e-04+0.j],\n",
       "        [ -1.29179247e-05+0.j],\n",
       "        [ -1.44680756e-04+0.j],\n",
       "        [ -1.40810146e-05+0.j],\n",
       "        [ -1.52441045e-05+0.j],\n",
       "        [ -1.16308990e-06+0.j],\n",
       "        [ -1.30766578e-03+0.j],\n",
       "        [ -1.30704611e-04+0.j],\n",
       "        [ -1.43727404e-04+0.j],\n",
       "        [ -1.30227934e-05+0.j],\n",
       "        [ -1.44995363e-04+0.j],\n",
       "        [ -1.42907521e-05+0.j],\n",
       "        [ -1.55587108e-05+0.j],\n",
       "        [ -1.26795866e-06+0.j],\n",
       "        [ -1.45100231e-04+0.j],\n",
       "        [ -1.43956209e-05+0.j],\n",
       "        [ -1.57684483e-05+0.j],\n",
       "        [ -1.37282742e-06+0.j],\n",
       "        [ -1.58733170e-05+0.j],\n",
       "        [ -1.47769618e-06+0.j],\n",
       "        [ -1.58256494e-06+0.j],\n",
       "        [ -1.04868761e-07+0.j],\n",
       "        [ -1.17697738e-02+0.j],\n",
       "        [ -1.17697071e-03+0.j],\n",
       "        [ -1.29466206e-03+0.j],\n",
       "        [ -1.17691351e-04+0.j],\n",
       "        [ -1.30642643e-03+0.j],\n",
       "        [ -1.29455719e-04+0.j],\n",
       "        [ -1.41220087e-04+0.j],\n",
       "        [ -1.17643683e-05+0.j],\n",
       "        [ -1.30759905e-03+0.j],\n",
       "        [ -1.30628342e-04+0.j],\n",
       "        [ -1.43565334e-04+0.j],\n",
       "        [ -1.29369917e-05+0.j],\n",
       "        [ -1.44737958e-04+0.j],\n",
       "        [ -1.41096151e-05+0.j],\n",
       "        [ -1.52822386e-05+0.j],\n",
       "        [ -1.17262342e-06+0.j],\n",
       "        [ -1.30771345e-03+0.j],\n",
       "        [ -1.30742745e-04+0.j],\n",
       "        [ -1.43794139e-04+0.j],\n",
       "        [ -1.30513940e-05+0.j],\n",
       "        [ -1.45081164e-04+0.j],\n",
       "        [ -1.43384197e-05+0.j],\n",
       "        [ -1.56254454e-05+0.j],\n",
       "        [ -1.28702571e-06+0.j],\n",
       "        [ -1.45195567e-04+0.j],\n",
       "        [ -1.44528220e-05+0.j],\n",
       "        [ -1.58542500e-05+0.j],\n",
       "        [ -1.40142799e-06+0.j],\n",
       "        [ -1.59686523e-05+0.j],\n",
       "        [ -1.51583028e-06+0.j],\n",
       "        [ -1.63023256e-06+0.j],\n",
       "        [ -1.14402285e-07+0.j],\n",
       "        [ -1.30772299e-03+0.j],\n",
       "        [ -1.30752278e-04+0.j],\n",
       "        [ -1.43813206e-04+0.j],\n",
       "        [ -1.30609275e-05+0.j],\n",
       "        [ -1.45109765e-04+0.j],\n",
       "        [ -1.43574868e-05+0.j],\n",
       "        [ -1.56540460e-05+0.j],\n",
       "        [ -1.29655923e-06+0.j],\n",
       "        [ -1.45233701e-04+0.j],\n",
       "        [ -1.44814226e-05+0.j],\n",
       "        [ -1.59019176e-05+0.j],\n",
       "        [ -1.42049504e-06+0.j],\n",
       "        [ -1.60258534e-05+0.j],\n",
       "        [ -1.54443085e-06+0.j],\n",
       "        [ -1.66836666e-06+0.j],\n",
       "        [ -1.23935809e-07+0.j],\n",
       "        [ -1.45243234e-04+0.j],\n",
       "        [ -1.44909561e-05+0.j],\n",
       "        [ -1.59209847e-05+0.j],\n",
       "        [ -1.43002856e-06+0.j],\n",
       "        [ -1.60544540e-05+0.j],\n",
       "        [ -1.56349789e-06+0.j],\n",
       "        [ -1.69696723e-06+0.j],\n",
       "        [ -1.33469332e-07+0.j],\n",
       "        [ -1.60639875e-05+0.j],\n",
       "        [ -1.57303142e-06+0.j],\n",
       "        [ -1.71603427e-06+0.j],\n",
       "        [ -1.43002856e-07+0.j],\n",
       "        [ -1.72556780e-06+0.j],\n",
       "        [ -1.52536380e-07+0.j],\n",
       "        [ -1.62069904e-07+0.j],\n",
       "        [ -9.53352375e-09+0.j]])"
      ]
     },
     "execution_count": 1246,
     "metadata": {},
     "output_type": "execute_result"
    }
   ],
   "source": [
    "v[:, i_eq]"
   ]
  },
  {
   "cell_type": "code",
   "execution_count": 1243,
   "metadata": {
    "collapsed": false
   },
   "outputs": [
    {
     "data": {
      "text/plain": [
       "<matplotlib.axes.AxesSubplot at 0x150a8a190>"
      ]
     },
     "execution_count": 1243,
     "metadata": {},
     "output_type": "execute_result"
    },
    {
     "data": {
      "image/png": "[encoded data removed]",
      "text/plain": [
       "<matplotlib.figure.Figure at 0x1506ff610>"
      ]
     },
     "metadata": {},
     "output_type": "display_data"
    }
   ],
   "source": [
    "proj_eig_v = pd.DataFrame(np.real(S.dot(v)))\n",
    "proj_eig_v = proj_eig_v / proj_eig_v.sum()\n",
    "proj_eig_v[i_eq].plot()"
   ]
  },
  {
   "cell_type": "code",
   "execution_count": 1145,
   "metadata": {
    "collapsed": false
   },
   "outputs": [
    {
     "name": "stdout",
     "output_type": "stream",
     "text": [
      "EIGENVALUES\n",
      "IDX  MAG       ANGLE\n",
      "14    1.0000    +0.000°\n",
      "17    0.9828    +0.000°\n",
      "28    0.9591    +0.719°\n",
      "29    0.9591    -0.719°\n",
      "51    0.9353    +2.094°\n",
      "52    0.9353    -2.094°\n",
      "53    0.9326    +0.000°\n",
      "15    0.9248    +12.477°\n",
      "16    0.9248    -12.477°\n",
      "58    0.9160    +4.032°\n",
      "59    0.9160    -4.032°\n",
      "26    0.9103    +10.858°\n",
      "27    0.9103    -10.858°\n",
      "81    0.9077    +1.411°\n",
      "82    0.9077    -1.411°\n",
      "54    0.9046    +6.335°\n",
      "55    0.9046    -6.335°\n",
      "37    0.9028    +8.717°\n",
      "38    0.9028    -8.717°\n",
      "91    0.8996    +0.000°\n",
      "89    0.8885    +3.402°\n",
      "90    0.8885    -3.402°\n",
      "39    0.8877    +10.225°\n",
      "40    0.8877    -10.225°\n",
      "102    0.8827    +0.000°\n",
      "87    0.8782    +5.748°\n",
      "88    0.8782    -5.748°\n",
      "64    0.8781    +8.135°\n",
      "65    0.8781    -8.135°\n",
      "123    0.8723    +1.504°\n",
      "124    0.8723    -1.504°\n",
      "129    0.8642    +2.010°\n",
      "130    0.8642    -2.010°\n",
      "100    0.8570    +6.751°\n",
      "101    0.8570    -6.751°\n",
      "60    0.8562    +10.797°\n",
      "61    0.8562    -10.797°\n",
      "125    0.8552    +4.372°\n",
      "126    0.8552    -4.372°\n",
      "137    0.8521    +3.642°\n",
      "138    0.8521    -3.642°\n",
      "151    0.8469    +0.000°\n",
      "152    0.8446    +0.000°\n",
      "94    0.8439    +8.661°\n",
      "95    0.8439    -8.661°\n",
      "121    0.8422    +6.149°\n",
      "122    0.8422    -6.149°\n",
      "161    0.8396    +2.364°\n",
      "162    0.8396    -2.364°\n",
      "163    0.8353    +2.391°\n",
      "164    0.8353    -2.391°\n",
      "175    0.8248    +2.170°\n",
      "176    0.8248    -2.170°\n",
      "127    0.8193    +7.261°\n",
      "128    0.8193    -7.261°\n",
      "72    0.8187    +12.373°\n",
      "73    0.8187    -12.373°\n",
      "159    0.8160    +4.721°\n",
      "160    0.8160    -4.721°\n",
      "167    0.8132    +4.696°\n",
      "168    0.8132    -4.696°\n",
      "198    0.8063    +0.820°\n",
      "199    0.8063    -0.820°\n",
      "200    0.8058    +0.000°\n",
      "103    0.8048    +10.111°\n",
      "104    0.8048    -10.111°\n",
      "145    0.8026    +7.408°\n",
      "146    0.8026    -7.408°\n",
      "201    0.7982    +2.569°\n",
      "202    0.7982    -2.569°\n",
      "219    0.7863    +1.474°\n",
      "220    0.7863    -1.474°\n",
      "207    0.7844    +3.156°\n",
      "208    0.7844    -3.156°\n",
      "62    0.7839    +14.817°\n",
      "63    0.7839    -14.817°\n",
      "169    0.7834    +6.827°\n",
      "170    0.7834    -6.827°\n",
      "179    0.7786    +6.626°\n",
      "180    0.7786    -6.626°\n",
      "203    0.7783    +4.170°\n",
      "204    0.7783    -4.170°\n",
      "149    0.7783    +8.657°\n",
      "150    0.7783    -8.657°\n",
      "192    0.7747    +5.916°\n",
      "193    0.7747    -5.916°\n",
      "98    0.7693    +12.437°\n",
      "99    0.7693    -12.437°\n",
      "143    0.7671    +9.547°\n",
      "144    0.7671    -9.547°\n",
      "229    0.7660    +0.000°\n",
      "235    0.7650    +0.846°\n",
      "236    0.7650    -0.846°\n",
      "43    0.7586    +17.986°\n",
      "44    0.7586    -17.986°\n",
      "237    0.7581    +1.896°\n",
      "238    0.7581    -1.896°\n",
      "227    0.7562    +3.617°\n",
      "228    0.7562    -3.617°\n",
      "8    0.7494    +24.854°\n",
      "9    0.7494    -24.854°\n",
      "209    0.7492    +5.065°\n",
      "210    0.7492    -5.065°\n",
      "18    0.7468    +21.510°\n",
      "19    0.7468    -21.510°\n",
      "239    0.7439    +2.468°\n",
      "240    0.7439    -2.468°\n",
      "74    0.7436    +15.512°\n",
      "75    0.7436    -15.512°\n",
      "135    0.7419    +10.962°\n",
      "136    0.7419    -10.962°\n",
      "109    0.7413    +12.453°\n",
      "110    0.7413    -12.453°\n",
      "181    0.7402    +8.260°\n",
      "182    0.7402    -8.260°\n",
      "188    0.7385    +8.034°\n",
      "189    0.7385    -8.034°\n",
      "221    0.7349    +5.388°\n",
      "222    0.7349    -5.388°\n",
      "41    0.7315    +18.967°\n",
      "42    0.7315    -18.967°\n",
      "241    0.7299    +2.661°\n",
      "242    0.7299    -2.661°\n",
      "252    0.7237    +0.219°\n",
      "253    0.7237    -0.219°\n",
      "255    0.7223    +0.000°\n",
      "223    0.7198    +5.628°\n",
      "224    0.7198    -5.628°\n",
      "254    0.7193    +0.000°\n",
      "96    0.7160    +14.053°\n",
      "97    0.7160    -14.053°\n",
      "243    0.7141    +2.959°\n",
      "244    0.7141    -2.959°\n",
      "141    0.7127    +10.961°\n",
      "142    0.7127    -10.961°\n",
      "233    0.7077    +4.466°\n",
      "234    0.7077    -4.466°\n",
      "56    0.7042    +17.538°\n",
      "57    0.7042    -17.538°\n",
      "153    0.7029    +10.672°\n",
      "154    0.7029    -10.672°\n",
      "196    0.6977    +7.607°\n",
      "197    0.6977    -7.607°\n",
      "250    0.6960    +2.691°\n",
      "251    0.6960    -2.691°\n",
      "190    0.6942    +8.490°\n",
      "191    0.6942    -8.490°\n",
      "183    0.6937    +8.994°\n",
      "184    0.6937    -8.994°\n",
      "211    0.6871    +5.881°\n",
      "212    0.6871    -5.881°\n",
      "248    0.6861    +1.906°\n",
      "249    0.6861    -1.906°\n",
      "246    0.6785    +1.200°\n",
      "247    0.6785    -1.200°\n",
      "107    0.6770    +13.923°\n",
      "108    0.6770    -13.923°\n",
      "225    0.6767    +5.074°\n",
      "226    0.6767    -5.074°\n",
      "245    0.6730    +0.000°\n",
      "147    0.6720    +10.697°\n",
      "148    0.6720    -10.697°\n",
      "68    0.6662    +17.571°\n",
      "69    0.6662    -17.571°\n",
      "231    0.6645    +3.247°\n",
      "232    0.6645    -3.247°\n",
      "213    0.6582    +4.896°\n",
      "214    0.6582    -4.896°\n",
      "133    0.6552    +11.671°\n",
      "134    0.6552    -11.671°\n",
      "185    0.6511    +8.117°\n",
      "186    0.6511    -8.117°\n",
      "230    0.6493    +0.000°\n",
      "177    0.6485    +8.345°\n",
      "178    0.6485    -8.345°\n",
      "215    0.6406    +3.319°\n",
      "216    0.6406    -3.319°\n",
      "217    0.6349    +2.101°\n",
      "218    0.6349    -2.101°\n",
      "83    0.6295    +15.265°\n",
      "84    0.6295    -15.265°\n",
      "205    0.6269    +1.327°\n",
      "206    0.6269    -1.327°\n",
      "194    0.6256    +5.601°\n",
      "195    0.6256    -5.601°\n",
      "115    0.6226    +11.772°\n",
      "116    0.6226    -11.772°\n",
      "47    0.6201    +19.249°\n",
      "48    0.6201    -19.249°\n",
      "173    0.6150    +6.453°\n",
      "174    0.6150    -6.453°\n",
      "171    0.6089    +6.482°\n",
      "172    0.6089    -6.482°\n",
      "92    0.6068    +13.958°\n",
      "93    0.6068    -13.958°\n",
      "139    0.5995    +8.995°\n",
      "140    0.5995    -8.995°\n",
      "117    0.5992    +10.315°\n",
      "118    0.5992    -10.315°\n",
      "187    0.5961    +0.000°\n",
      "165    0.5872    +3.696°\n",
      "166    0.5872    -3.696°\n",
      "155    0.5847    +3.463°\n",
      "156    0.5847    -3.463°\n",
      "49    0.5812    +18.051°\n",
      "50    0.5812    -18.051°\n",
      "157    0.5767    +0.299°\n",
      "158    0.5767    -0.299°\n",
      "131    0.5750    +7.359°\n",
      "132    0.5750    -7.359°\n",
      "22    0.5734    +22.508°\n",
      "23    0.5734    -22.508°\n",
      "77    0.5729    +14.218°\n",
      "78    0.5729    -14.218°\n",
      "113    0.5610    +7.220°\n",
      "114    0.5610    -7.220°\n",
      "85    0.5483    +11.235°\n",
      "86    0.5483    -11.235°\n",
      "119    0.5446    +1.236°\n",
      "120    0.5446    -1.236°\n",
      "20    0.5421    +22.260°\n",
      "21    0.5421    -22.260°\n",
      "6    0.5361    +27.221°\n",
      "7    0.5361    -27.221°\n",
      "111    0.5359    +2.843°\n",
      "112    0.5359    -2.843°\n",
      "105    0.5352    +5.370°\n",
      "106    0.5352    -5.370°\n",
      "35    0.5322    +18.109°\n",
      "36    0.5322    -18.109°\n",
      "2    0.5160    +32.893°\n",
      "3    0.5160    -32.893°\n",
      "79    0.5094    +6.718°\n",
      "80    0.5094    -6.718°\n",
      "70    0.5081    +9.424°\n",
      "71    0.5081    -9.424°\n",
      "45    0.5063    +15.007°\n",
      "46    0.5063    -15.007°\n",
      "76    0.4913    +0.000°\n",
      "66    0.4820    +4.610°\n",
      "67    0.4820    -4.610°\n",
      "30    0.4652    +13.330°\n",
      "31    0.4652    -13.330°\n",
      "33    0.4548    +9.127°\n",
      "34    0.4548    -9.127°\n",
      "32    0.4312    +0.000°\n",
      "24    0.4220    +5.351°\n",
      "25    0.4220    -5.351°\n",
      "12    0.4112    +13.541°\n",
      "13    0.4112    -13.541°\n",
      "10    0.3945    +10.701°\n",
      "11    0.3945    -10.701°\n",
      "4    0.3507    +16.180°\n",
      "5    0.3507    -16.180°\n",
      "0    0.2951    +22.113°\n",
      "1    0.2951    -22.113°\n"
     ]
    }
   ],
   "source": [
    "zzz = sorted(zip(range(len(l)), np.abs(l), np.angle(l, deg=True)), key=lambda x: -x[1])\n",
    "print \"EIGENVALUES\"\n",
    "print \"IDX  MAG       ANGLE\"\n",
    "for i, m, a in zzz:\n",
    "    print \"%s\" % i, \"   %.4f    %+.3f°\" % (m, a)"
   ]
  },
  {
   "cell_type": "code",
   "execution_count": 1146,
   "metadata": {
    "collapsed": false,
    "scrolled": true
   },
   "outputs": [
    {
     "name": "stdout",
     "output_type": "stream",
     "text": [
      "EIG: \t1.0000\t+0.0000°\n",
      "\n",
      "STATE       MAG       ANGLE\n",
      "00000000    0.0025\t+0.0000°\n",
      "00000001    0.0025\t+0.0000°\n",
      "00000010    0.0051\t+0.0000°\n",
      "00000011    0.0025\t+0.0000°\n",
      "00000100    0.0076\t+0.0000°\n",
      "00000101    0.0051\t+0.0000°\n",
      "00000110    0.0076\t+0.0000°\n",
      "00000111    0.0025\t+0.0000°\n",
      "00001000    0.0102\t+0.0000°\n",
      "00001001    0.0076\t+0.0000°\n",
      "00001010    0.0127\t+0.0000°\n",
      "00001011    0.0051\t+0.0000°\n",
      "00001100    0.0153\t+0.0000°\n",
      "00001101    0.0076\t+0.0000°\n",
      "00001110    0.0102\t+0.0000°\n",
      "00001111    0.0025\t+0.0000°\n",
      "00010000    0.0127\t+0.0000°\n",
      "00010001    0.0102\t+0.0000°\n",
      "00010010    0.0178\t+0.0000°\n",
      "00010011    0.0076\t+0.0000°\n",
      "00010100    0.0229\t+0.0000°\n",
      "00010101    0.0127\t+0.0000°\n",
      "00010110    0.0178\t+0.0000°\n",
      "00010111    0.0051\t+0.0000°\n",
      "00011000    0.0255\t+0.0000°\n",
      "00011001    0.0153\t+0.0000°\n",
      "00011010    0.0229\t+0.0000°\n",
      "00011011    0.0076\t+0.0000°\n",
      "00011100    0.0255\t+0.0000°\n",
      "00011101    0.0102\t+0.0000°\n",
      "00011110    0.0127\t+0.0000°\n",
      "00011111    0.0025\t+0.0000°\n",
      "00100000    0.0153\t+0.0000°\n",
      "00100001    0.0127\t+0.0000°\n",
      "00100010    0.0229\t+0.0000°\n",
      "00100011    0.0102\t+0.0000°\n",
      "00100100    0.0306\t+0.0000°\n",
      "00100101    0.0178\t+0.0000°\n",
      "00100110    0.0255\t+0.0000°\n",
      "00100111    0.0076\t+0.0000°\n",
      "00101000    0.0357\t+0.0000°\n",
      "00101001    0.0229\t+0.0000°\n",
      "00101010    0.0357\t+0.0000°\n",
      "00101011    0.0127\t+0.0000°\n",
      "00101100    0.0408\t+0.0000°\n",
      "00101101    0.0178\t+0.0000°\n",
      "00101110    0.0229\t+0.0000°\n",
      "00101111    0.0051\t+0.0000°\n",
      "00110000    0.0382\t+0.0000°\n",
      "00110001    0.0255\t+0.0000°\n",
      "00110010    0.0408\t+0.0000°\n",
      "00110011    0.0153\t+0.0000°\n",
      "00110100    0.0484\t+0.0000°\n",
      "00110101    0.0229\t+0.0000°\n",
      "00110110    0.0306\t+0.0000°\n",
      "00110111    0.0076\t+0.0000°\n",
      "00111000    0.0509\t+0.0000°\n",
      "00111001    0.0255\t+0.0000°\n",
      "00111010    0.0357\t+0.0000°\n",
      "00111011    0.0102\t+0.0000°\n",
      "00111100    0.0382\t+0.0000°\n",
      "00111101    0.0127\t+0.0000°\n",
      "00111110    0.0153\t+0.0000°\n",
      "00111111    0.0025\t+0.0000°\n",
      "01000000    0.0178\t+0.0000°\n",
      "01000001    0.0153\t+0.0000°\n",
      "01000010    0.0280\t+0.0000°\n",
      "01000011    0.0127\t+0.0000°\n",
      "01000100    0.0382\t+0.0000°\n",
      "01000101    0.0229\t+0.0000°\n",
      "01000110    0.0331\t+0.0000°\n",
      "01000111    0.0102\t+0.0000°\n",
      "01001000    0.0458\t+0.0000°\n",
      "01001001    0.0306\t+0.0000°\n",
      "01001010    0.0484\t+0.0000°\n",
      "01001011    0.0178\t+0.0000°\n",
      "01001100    0.0560\t+0.0000°\n",
      "01001101    0.0255\t+0.0000°\n",
      "01001110    0.0331\t+0.0000°\n",
      "01001111    0.0076\t+0.0000°\n",
      "01010000    0.0509\t+0.0000°\n",
      "01010001    0.0357\t+0.0000°\n",
      "01010010    0.0586\t+0.0000°\n",
      "01010011    0.0229\t+0.0000°\n",
      "01010100    0.0713\t+0.0000°\n",
      "01010101    0.0357\t+0.0000°\n",
      "01010110    0.0484\t+0.0000°\n",
      "01010111    0.0127\t+0.0000°\n",
      "01011000    0.0764\t+0.0000°\n",
      "01011001    0.0408\t+0.0000°\n",
      "01011010    0.0586\t+0.0000°\n",
      "01011011    0.0178\t+0.0000°\n",
      "01011100    0.0637\t+0.0000°\n",
      "01011101    0.0229\t+0.0000°\n",
      "01011110    0.0280\t+0.0000°\n",
      "01011111    0.0051\t+0.0000°\n",
      "01100000    0.0535\t+0.0000°\n",
      "01100001    0.0382\t+0.0000°\n",
      "01100010    0.0637\t+0.0000°\n",
      "01100011    0.0255\t+0.0000°\n",
      "01100100    0.0790\t+0.0000°\n",
      "01100101    0.0408\t+0.0000°\n",
      "01100110    0.0560\t+0.0000°\n",
      "01100111    0.0153\t+0.0000°\n",
      "01101000    0.0866\t+0.0000°\n",
      "01101001    0.0484\t+0.0000°\n",
      "01101010    0.0713\t+0.0000°\n",
      "01101011    0.0229\t+0.0000°\n",
      "01101100    0.0790\t+0.0000°\n",
      "01101101    0.0306\t+0.0000°\n",
      "01101110    0.0382\t+0.0000°\n",
      "01101111    0.0076\t+0.0000°\n",
      "01110000    0.0891\t+0.0000°\n",
      "01110001    0.0509\t+0.0000°\n",
      "01110010    0.0764\t+0.0000°\n",
      "01110011    0.0255\t+0.0000°\n",
      "01110100    0.0866\t+0.0000°\n",
      "01110101    0.0357\t+0.0000°\n",
      "01110110    0.0458\t+0.0000°\n",
      "01110111    0.0102\t+0.0000°\n",
      "01111000    0.0891\t+0.0000°\n",
      "01111001    0.0382\t+0.0000°\n",
      "01111010    0.0509\t+0.0000°\n",
      "01111011    0.0127\t+0.0000°\n",
      "01111100    0.0535\t+0.0000°\n",
      "01111101    0.0153\t+0.0000°\n",
      "01111110    0.0178\t+0.0000°\n",
      "01111111    0.0025\t+0.0000°\n",
      "10000000    0.0204\t+0.0000°\n",
      "10000001    0.0178\t+0.0000°\n",
      "10000010    0.0331\t+0.0000°\n",
      "10000011    0.0153\t+0.0000°\n",
      "10000100    0.0458\t+0.0000°\n",
      "10000101    0.0280\t+0.0000°\n",
      "10000110    0.0408\t+0.0000°\n",
      "10000111    0.0127\t+0.0000°\n",
      "10001000    0.0560\t+0.0000°\n",
      "10001001    0.0382\t+0.0000°\n",
      "10001010    0.0611\t+0.0000°\n",
      "10001011    0.0229\t+0.0000°\n",
      "10001100    0.0713\t+0.0000°\n",
      "10001101    0.0331\t+0.0000°\n",
      "10001110    0.0433\t+0.0000°\n",
      "10001111    0.0102\t+0.0000°\n",
      "10010000    0.0637\t+0.0000°\n",
      "10010001    0.0458\t+0.0000°\n",
      "10010010    0.0764\t+0.0000°\n",
      "10010011    0.0306\t+0.0000°\n",
      "10010100    0.0942\t+0.0000°\n",
      "10010101    0.0484\t+0.0000°\n",
      "10010110    0.0662\t+0.0000°\n",
      "10010111    0.0178\t+0.0000°\n",
      "10011000    0.1019\t+0.0000°\n",
      "10011001    0.0560\t+0.0000°\n",
      "10011010    0.0815\t+0.0000°\n",
      "10011011    0.0255\t+0.0000°\n",
      "10011100    0.0891\t+0.0000°\n",
      "10011101    0.0331\t+0.0000°\n",
      "10011110    0.0408\t+0.0000°\n",
      "10011111    0.0076\t+0.0000°\n",
      "10100000    0.0688\t+0.0000°\n",
      "10100001    0.0509\t+0.0000°\n",
      "10100010    0.0866\t+0.0000°\n",
      "10100011    0.0357\t+0.0000°\n",
      "10100100    0.1095\t+0.0000°\n",
      "10100101    0.0586\t+0.0000°\n",
      "10100110    0.0815\t+0.0000°\n",
      "10100111    0.0229\t+0.0000°\n",
      "10101000    0.1223\t+0.0000°\n",
      "10101001    0.0713\t+0.0000°\n",
      "10101010    0.1070\t+0.0000°\n",
      "10101011    0.0357\t+0.0000°\n",
      "10101100    0.1197\t+0.0000°\n",
      "10101101    0.0484\t+0.0000°\n",
      "10101110    0.0611\t+0.0000°\n",
      "10101111    0.0127\t+0.0000°\n",
      "10110000    0.1273\t+0.0000°\n",
      "10110001    0.0764\t+0.0000°\n",
      "10110010    0.1172\t+0.0000°\n",
      "10110011    0.0408\t+0.0000°\n",
      "10110100    0.1350\t+0.0000°\n",
      "10110101    0.0586\t+0.0000°\n",
      "10110110    0.0764\t+0.0000°\n",
      "10110111    0.0178\t+0.0000°\n",
      "10111000    0.1401\t+0.0000°\n",
      "10111001    0.0637\t+0.0000°\n",
      "10111010    0.0866\t+0.0000°\n",
      "10111011    0.0229\t+0.0000°\n",
      "10111100    0.0917\t+0.0000°\n",
      "10111101    0.0280\t+0.0000°\n",
      "10111110    0.0331\t+0.0000°\n",
      "10111111    0.0051\t+0.0000°\n",
      "11000000    0.0713\t+0.0000°\n",
      "11000001    0.0535\t+0.0000°\n",
      "11000010    0.0917\t+0.0000°\n",
      "11000011    0.0382\t+0.0000°\n",
      "11000100    0.1172\t+0.0000°\n",
      "11000101    0.0637\t+0.0000°\n",
      "11000110    0.0891\t+0.0000°\n",
      "11000111    0.0255\t+0.0000°\n",
      "11001000    0.1324\t+0.0000°\n",
      "11001001    0.0790\t+0.0000°\n",
      "11001010    0.1197\t+0.0000°\n",
      "11001011    0.0408\t+0.0000°\n",
      "11001100    0.1350\t+0.0000°\n",
      "11001101    0.0560\t+0.0000°\n",
      "11001110    0.0713\t+0.0000°\n",
      "11001111    0.0153\t+0.0000°\n",
      "11010000    0.1401\t+0.0000°\n",
      "11010001    0.0866\t+0.0000°\n",
      "11010010    0.1350\t+0.0000°\n",
      "11010011    0.0484\t+0.0000°\n",
      "11010100    0.1579\t+0.0000°\n",
      "11010101    0.0713\t+0.0000°\n",
      "11010110    0.0942\t+0.0000°\n",
      "11010111    0.0229\t+0.0000°\n",
      "11011000    0.1656\t+0.0000°\n",
      "11011001    0.0790\t+0.0000°\n",
      "11011010    0.1095\t+0.0000°\n",
      "11011011    0.0306\t+0.0000°\n",
      "11011100    0.1172\t+0.0000°\n",
      "11011101    0.0382\t+0.0000°\n",
      "11011110    0.0458\t+0.0000°\n",
      "11011111    0.0076\t+0.0000°\n",
      "11100000    0.1426\t+0.0000°\n",
      "11100001    0.0891\t+0.0000°\n",
      "11100010    0.1401\t+0.0000°\n",
      "11100011    0.0509\t+0.0000°\n",
      "11100100    0.1656\t+0.0000°\n",
      "11100101    0.0764\t+0.0000°\n",
      "11100110    0.1019\t+0.0000°\n",
      "11100111    0.0255\t+0.0000°\n",
      "11101000    0.1757\t+0.0000°\n",
      "11101001    0.0866\t+0.0000°\n",
      "11101010    0.1223\t+0.0000°\n",
      "11101011    0.0357\t+0.0000°\n",
      "11101100    0.1324\t+0.0000°\n",
      "11101101    0.0458\t+0.0000°\n",
      "11101110    0.0560\t+0.0000°\n",
      "11101111    0.0102\t+0.0000°\n",
      "11110000    0.1783\t+0.0000°\n",
      "11110001    0.0891\t+0.0000°\n",
      "11110010    0.1273\t+0.0000°\n",
      "11110011    0.0382\t+0.0000°\n",
      "11110100    0.1401\t+0.0000°\n",
      "11110101    0.0509\t+0.0000°\n",
      "11110110    0.0637\t+0.0000°\n",
      "11110111    0.0127\t+0.0000°\n",
      "11111000    0.1426\t+0.0000°\n",
      "11111001    0.0535\t+0.0000°\n",
      "11111010    0.0688\t+0.0000°\n",
      "11111011    0.0153\t+0.0000°\n",
      "11111100    0.0713\t+0.0000°\n",
      "11111101    0.0178\t+0.0000°\n",
      "11111110    0.0204\t+0.0000°\n",
      "11111111    0.0025\t+0.0000°\n"
     ]
    }
   ],
   "source": [
    "i = i_eq\n",
    "print \"EIG:\", \"\\t%.4f\\t%+.4f°\" % (np.abs(l[i]), np.angle(l[i], deg=True))\n",
    "print\n",
    "print \"STATE       MAG       ANGLE\"\n",
    "zzz = zip(p.enum_states(), np.array(v[:, i].transpose())[0].transpose())\n",
    "zzz = sorted(zzz, key=lambda x: np.angle(x[1]))\n",
    "\n",
    "for s, val in zzz:\n",
    "    if np.abs(val) > 1e-10:\n",
    "        print s, \"  \", \"%.4f\\t%+.4f°\" % (np.abs(val), np.angle(val, deg=True))"
   ]
  },
  {
   "cell_type": "code",
   "execution_count": 143,
   "metadata": {
    "collapsed": true
   },
   "outputs": [],
   "source": [
    "def proj_to_simplex(P, x):\n",
    "    px0 = P.dot(x)\n",
    "    if np.min(px0) < 0:\n",
    "        px0 = px0 - np.min(px0)\n",
    "    px0 = px0 / np.sum(px0)\n",
    "    return px0\n",
    "\n",
    "def eigs(v, x0, eps=1e-12):\n",
    "    eigs = sorted([(np.log(r), c) for r, c in zip(np.abs(l), np.abs(np.linalg.solve(v, x0))) if c > eps and np.log(r) < -eps], key=lambda x: -x[0])\n",
    "    return eigs\n",
    "\n",
    "def smallest_eig(v, x0, eps=1e-12):\n",
    "    eigs = sorted([(np.log(r), c) for r, c in zip(np.abs(l), np.abs(np.linalg.solve(v, x0))) if c > eps and np.log(r) < -eps], key=lambda x: -x[0])\n",
    "    smallest_eig = eigs[0][0]\n",
    "    return smallest_eig\n",
    "\n",
    "def biggest_eig(v, x0, eps=1e-12):\n",
    "    return sorted(eigs(v, x0), key=lambda x:-x[1])[0][0]"
   ]
  },
  {
   "cell_type": "code",
   "execution_count": 1148,
   "metadata": {
    "collapsed": false
   },
   "outputs": [
    {
     "name": "stdout",
     "output_type": "stream",
     "text": [
      "Pick just one state: 45\n",
      "Corresponding to sequence: 00101101\n"
     ]
    }
   ],
   "source": [
    "M = T.shape[0]\n",
    "x0 = np.zeros(M)\n",
    "x0[45] = 1 #\n",
    "print \"Pick just one state:\", np.argmax(x0)\n",
    "print \"Corresponding to sequence:\", State(S.dot(x0))"
   ]
  },
  {
   "cell_type": "code",
   "execution_count": 1149,
   "metadata": {
    "collapsed": false
   },
   "outputs": [],
   "source": [
    "vv = np.sum(V.todense(), axis=0)\n",
    "vv = np.matrix(vv)\n",
    "vv2 = np.diag(vv.transpose().dot(vv))\n",
    "vv2 = np.matrix(vv2).transpose()\n",
    "\n",
    "iters = 800\n",
    "R = np.zeros((iters, N))\n",
    "X = np.zeros((iters, M))\n",
    "\n",
    "exp_v = np.zeros(iters)\n",
    "var_v = np.zeros(iters)\n",
    "\n",
    "x = x0\n",
    "for i in range(iters):\n",
    "#     print \" \".join([\"%.4f\" % s for s in S.dot(x)])\n",
    "    \n",
    "    exp_v[i] = vv.dot(x)\n",
    "    var_v[i] = np.sqrt(max(vv2.transpose().dot(x) - exp_v[i]**2, 0))\n",
    "    R[i] = S.dot(x)\n",
    "    X[i] = x\n",
    "    \n",
    "    x = T.dot(x)"
   ]
  },
  {
   "cell_type": "code",
   "execution_count": 1150,
   "metadata": {
    "collapsed": false
   },
   "outputs": [
    {
     "data": {
      "image/png": "[encoded data removed]",
      "text/plain": [
       "<matplotlib.figure.Figure at 0x14d811810>"
      ]
     },
     "metadata": {},
     "output_type": "display_data"
    }
   ],
   "source": [
    "sns.heatmap(R);"
   ]
  },
  {
   "cell_type": "code",
   "execution_count": null,
   "metadata": {
    "collapsed": true
   },
   "outputs": [],
   "source": []
  },
  {
   "cell_type": "code",
   "execution_count": 645,
   "metadata": {
    "collapsed": false
   },
   "outputs": [],
   "source": [
    "Ss = (pd.DataFrame(X.transpose(), index=sp).reset_index().groupby('index').sum())"
   ]
  },
  {
   "cell_type": "code",
   "execution_count": 646,
   "metadata": {
    "collapsed": false
   },
   "outputs": [],
   "source": [
    "ms = (Ss.reset_index()['index'].values[:, None] * Ss).sum()\n",
    "vs = (Ss.reset_index()['index'].values[:, None]**2 * Ss).sum() - ms**2"
   ]
  },
  {
   "cell_type": "code",
   "execution_count": 648,
   "metadata": {
    "collapsed": false
   },
   "outputs": [
    {
     "data": {
      "text/plain": [
       "[<matplotlib.lines.Line2D at 0x11f47f0d0>]"
      ]
     },
     "execution_count": 648,
     "metadata": {},
     "output_type": "execute_result"
    },
    {
     "data": {
      "image/png": "[encoded data removed]",
      "text/plain": [
       "<matplotlib.figure.Figure at 0x11f9c5650>"
      ]
     },
     "metadata": {},
     "output_type": "display_data"
    }
   ],
   "source": [
    "plt.plot(ms)\n",
    "# plt.plot(np.sqrt(vs))"
   ]
  },
  {
   "cell_type": "code",
   "execution_count": 649,
   "metadata": {
    "collapsed": true
   },
   "outputs": [],
   "source": [
    "sp = np.sum(V.todense(), axis=1).transpose().tolist()[0]"
   ]
  },
  {
   "cell_type": "code",
   "execution_count": 650,
   "metadata": {
    "collapsed": false
   },
   "outputs": [
    {
     "data": {
      "text/plain": [
       "<matplotlib.axes.AxesSubplot at 0x11fa4c850>"
      ]
     },
     "execution_count": 650,
     "metadata": {},
     "output_type": "execute_result"
    },
    {
     "data": {
      "image/png": "[encoded data removed]",
      "text/plain": [
       "<matplotlib.figure.Figure at 0x11fd4f650>"
      ]
     },
     "metadata": {},
     "output_type": "display_data"
    }
   ],
   "source": [
    "eq_sp = pd.DataFrame(zip(sp, (v[:, i_eq] / v[:i, i_eq].sum()).transpose().tolist()[0]), columns=[\"S\", \"P\"]).groupby(\"S\").sum()\n",
    "eq_sp.plot(style=\"--o\")"
   ]
  },
  {
   "cell_type": "code",
   "execution_count": 659,
   "metadata": {
    "collapsed": false
   },
   "outputs": [
    {
     "data": {
      "text/html": [
       "<div>\n",
       "<table border=\"1\" class=\"dataframe\">\n",
       "  <thead>\n",
       "    <tr style=\"text-align: right;\">\n",
       "      <th></th>\n",
       "      <th>S</th>\n",
       "      <th>P</th>\n",
       "    </tr>\n",
       "  </thead>\n",
       "  <tbody>\n",
       "    <tr>\n",
       "      <th>0</th>\n",
       "      <td>0.111111</td>\n",
       "      <td>0.001851</td>\n",
       "    </tr>\n",
       "    <tr>\n",
       "      <th>1</th>\n",
       "      <td>0.222222</td>\n",
       "      <td>0.191691</td>\n",
       "    </tr>\n",
       "    <tr>\n",
       "      <th>2</th>\n",
       "      <td>0.333333</td>\n",
       "      <td>0.560880</td>\n",
       "    </tr>\n",
       "    <tr>\n",
       "      <th>3</th>\n",
       "      <td>0.444444</td>\n",
       "      <td>0.236940</td>\n",
       "    </tr>\n",
       "    <tr>\n",
       "      <th>4</th>\n",
       "      <td>0.555556</td>\n",
       "      <td>0.008638</td>\n",
       "    </tr>\n",
       "  </tbody>\n",
       "</table>\n",
       "</div>"
      ],
      "text/plain": [
       "          S         P\n",
       "0  0.111111  0.001851\n",
       "1  0.222222  0.191691\n",
       "2  0.333333  0.560880\n",
       "3  0.444444  0.236940\n",
       "4  0.555556  0.008638"
      ]
     },
     "execution_count": 659,
     "metadata": {},
     "output_type": "execute_result"
    }
   ],
   "source": [
    "eq_sp"
   ]
  },
  {
   "cell_type": "code",
   "execution_count": 654,
   "metadata": {
    "collapsed": false
   },
   "outputs": [
    {
     "data": {
      "text/plain": [
       "[<matplotlib.lines.Line2D at 0x120d08fd0>]"
      ]
     },
     "execution_count": 654,
     "metadata": {},
     "output_type": "execute_result"
    },
    {
     "data": {
      "image/png": "[encoded data removed]",
      "text/plain": [
       "<matplotlib.figure.Figure at 0x120e955d0>"
      ]
     },
     "metadata": {},
     "output_type": "display_data"
    }
   ],
   "source": [
    "plt.plot(R[-1])"
   ]
  },
  {
   "cell_type": "code",
   "execution_count": 655,
   "metadata": {
    "collapsed": false
   },
   "outputs": [
    {
     "data": {
      "text/plain": [
       "[<matplotlib.lines.Line2D at 0x120ce5b90>]"
      ]
     },
     "execution_count": 655,
     "metadata": {},
     "output_type": "execute_result"
    },
    {
     "data": {
      "image/png": "[encoded data removed]",
      "text/plain": [
       "<matplotlib.figure.Figure at 0x11fa5e3d0>"
      ]
     },
     "metadata": {},
     "output_type": "display_data"
    }
   ],
   "source": [
    "plt.plot(exp_v)\n",
    "plt.plot(exp_v + var_v)\n",
    "plt.plot(exp_v - var_v)"
   ]
  },
  {
   "cell_type": "code",
   "execution_count": 656,
   "metadata": {
    "collapsed": false
   },
   "outputs": [],
   "source": [
    "iters=800\n",
    "speed_paths = np.zeros((M, iters))\n",
    "j = 0\n",
    "for j in range(M):\n",
    "    x = np.zeros(M)\n",
    "    x[j] = 1\n",
    "    for i in range(iters):\n",
    "        speed_paths[j, i] = vv.dot(x)\n",
    "        x = T.dot(x)"
   ]
  },
  {
   "cell_type": "code",
   "execution_count": 657,
   "metadata": {
    "collapsed": false
   },
   "outputs": [
    {
     "data": {
      "image/png": "[encoded data removed]",
      "text/plain": [
       "<matplotlib.figure.Figure at 0x120d28510>"
      ]
     },
     "metadata": {},
     "output_type": "display_data"
    }
   ],
   "source": [
    "plt.plot(speed_paths.transpose()[:100]);\n",
    "# plt.ylim((0., .6));"
   ]
  },
  {
   "cell_type": "markdown",
   "metadata": {},
   "source": [
    "$$ {k-1 \\choose r} {n-k-1 \\choose r-1} + 2  {k-1 \\choose r-1} {n-k-1 \\choose r-1} +  {k-1 \\choose r-1} {n-k-1 \\choose r}$$\n",
    "\n",
    "For $k = n/2$"
   ]
  },
  {
   "cell_type": "markdown",
   "metadata": {},
   "source": [
    "$$ {n/2-1 \\choose r-1} \\left[{n/2-1 \\choose r}  + 2   {n/2-1 \\choose r-1} +   {n/2-1 \\choose r} \\right]$$\n",
    "$$ 2 {n/2-1 \\choose r-1} \\left[{n/2-1 \\choose r}  +  {n/2-1 \\choose r-1}  \\right]$$\n",
    "$$ 2 {n/2-1 \\choose r-1} {n/2 \\choose r} $$\n",
    "$$ 2 \\frac{(\\frac{n}{2} - 1)!}{(\\frac{n}{2} - r)! (r-1)!} \\frac{(\\frac{n}{2})!}{(\\frac{n}{2} - r)! r!} $$\n",
    "$$ \\frac{n}{r} {n/2-1 \\choose r-1}^2 $$\n",
    "$$ \\frac{n}{r} \\left(\\frac{n}{2} B\\left(\\frac{n}{2} - r + 1, r\\right)\\right)^{-2} $$\n",
    "$$ \\frac{4}{nr} \\left(\\left(\\frac{n - 2r}{n}\\right) B\\left(\\frac{n}{2} - r, r\\right)\\right)^{-2} $$\n",
    "$$ \\frac{4}{nr}\\frac{n^2}{(n - 2r)^2} \\left( B\\left(\\frac{n}{2} - r, r\\right)\\right)^{-2} $$"
   ]
  },
  {
   "cell_type": "markdown",
   "metadata": {},
   "source": [
    "\\begin{align*}\n",
    "    0 &= \\frac{\\partial}{\\partial r} {n/2-1 \\choose r-1} {n/2 \\choose r}\\\\\n",
    "    &= \\frac{\\partial}{\\partial r} \\frac{(\\frac{n}{2} - 1)!}{(\\frac{n}{2} - r)! (r-1)!} \\frac{(\\frac{n}{2})!}{(\\frac{n}{2} - r)! r!} \\\\\n",
    "    &= \\frac{n}{2r} \\left(\\frac{(\\frac{n}{2} - 1)!}{(\\frac{n}{2} - r)! (r-1)!}\\right)^2\n",
    "\\end{align*}"
   ]
  },
  {
   "cell_type": "code",
   "execution_count": 918,
   "metadata": {
    "collapsed": true
   },
   "outputs": [],
   "source": [
    "def count(N, k, R):\n",
    "    return ncr(k-1, R) * ncr(N-k-1, R-1) + 2 * ncr(k-1, R-1)* ncr(N - k-1, R-1) + ncr(k-1, R-1) * ncr(N - k - 1, R)\n",
    "\n",
    "@np.vectorize\n",
    "def prob(N, k, R):\n",
    "    return 1. * count(N, k, R) / ncr(N, k)\n",
    "\n",
    "def mid(N, R):\n",
    "    return 2 * ncr(N / 2 - 1, R-1) * ncr(N/2, R)"
   ]
  },
  {
   "cell_type": "code",
   "execution_count": 1225,
   "metadata": {
    "collapsed": false
   },
   "outputs": [
    {
     "data": {
      "image/png": "[encoded data removed]",
      "text/plain": [
       "<matplotlib.figure.Figure at 0x14e3d2450>"
      ]
     },
     "metadata": {},
     "output_type": "display_data"
    }
   ],
   "source": [
    "rr = dict()\n",
    "for NN in range(2, 100):\n",
    "    x, y = zip(*[(k, sum(prob(NN, k, range(k+1)) * range(k+1))) for k in range(0, NN+1)])\n",
    "    if NN == 7:\n",
    "        plt.plot(x, y)\n",
    "    rr[NN] = (np.max(y), max_speed(NN))"
   ]
  },
  {
   "cell_type": "code",
   "execution_count": 1258,
   "metadata": {
    "collapsed": false
   },
   "outputs": [
    {
     "data": {
      "image/png": "[encoded data removed]",
      "text/plain": [
       "<matplotlib.figure.Figure at 0x15120fc90>"
      ]
     },
     "metadata": {},
     "output_type": "display_data"
    }
   ],
   "source": [
    "rr = dict()\n",
    "for NN in range(2, 100):\n",
    "    x, y = zip(*[(k, sum(prob(NN, k, range(k+1)) * range(k+1))) for k in range(0, NN+1)])\n",
    "    if NN == 7:\n",
    "        plt.plot(x, y)\n",
    "    rr[NN] = (np.max(y) / NN, max_speed(NN))"
   ]
  },
  {
   "cell_type": "code",
   "execution_count": 1219,
   "metadata": {
    "collapsed": false
   },
   "outputs": [
    {
     "data": {
      "text/plain": [
       "3      1.0\n",
       "5      1.5\n",
       "7      2.0\n",
       "9      2.5\n",
       "11     3.0\n",
       "13     3.5\n",
       "15     4.0\n",
       "17     4.5\n",
       "19     5.0\n",
       "21     5.5\n",
       "23     6.0\n",
       "25     6.5\n",
       "27     7.0\n",
       "29     7.5\n",
       "31     8.0\n",
       "33     8.5\n",
       "35     9.0\n",
       "37     9.5\n",
       "39    10.0\n",
       "41    10.5\n",
       "43    11.0\n",
       "45    11.5\n",
       "47    12.0\n",
       "49    12.5\n",
       "51    13.0\n",
       "53    13.5\n",
       "55    14.0\n",
       "57    14.5\n",
       "59    15.0\n",
       "61    15.5\n",
       "63    16.0\n",
       "65    16.5\n",
       "67    17.0\n",
       "69    17.5\n",
       "71    18.0\n",
       "73    18.5\n",
       "75    19.0\n",
       "77    19.5\n",
       "79    20.0\n",
       "81    20.5\n",
       "83    21.0\n",
       "85    21.5\n",
       "87    22.0\n",
       "89    22.5\n",
       "91    23.0\n",
       "93    23.5\n",
       "95    24.0\n",
       "97    24.5\n",
       "99    25.0\n",
       "Name: 0, dtype: float64"
      ]
     },
     "execution_count": 1219,
     "metadata": {},
     "output_type": "execute_result"
    }
   ],
   "source": [
    "rrr[rrr.index.values % 2 == 1][0]"
   ]
  },
  {
   "cell_type": "code",
   "execution_count": null,
   "metadata": {
    "collapsed": false
   },
   "outputs": [],
   "source": []
  },
  {
   "cell_type": "code",
   "execution_count": 1259,
   "metadata": {
    "collapsed": false
   },
   "outputs": [
    {
     "data": {
      "text/plain": [
       "<matplotlib.axes.AxesSubplot at 0x151282710>"
      ]
     },
     "execution_count": 1259,
     "metadata": {},
     "output_type": "execute_result"
    },
    {
     "data": {
      "image/png": "[encoded data removed]",
      "text/plain": [
       "<matplotlib.figure.Figure at 0x151221350>"
      ]
     },
     "metadata": {},
     "output_type": "display_data"
    }
   ],
   "source": [
    "rrr = pd.DataFrame(rr).transpose()\n",
    "(rrr[0] - rrr[1]).plot()"
   ]
  },
  {
   "cell_type": "code",
   "execution_count": 1260,
   "metadata": {
    "collapsed": false
   },
   "outputs": [
    {
     "data": {
      "text/plain": [
       "<matplotlib.axes.AxesSubplot at 0x1518f6ad0>"
      ]
     },
     "execution_count": 1260,
     "metadata": {},
     "output_type": "execute_result"
    },
    {
     "data": {
      "image/png": "[encoded data removed]",
      "text/plain": [
       "<matplotlib.figure.Figure at 0x1511b7910>"
      ]
     },
     "metadata": {},
     "output_type": "display_data"
    }
   ],
   "source": [
    "rrr[0].plot()"
   ]
  },
  {
   "cell_type": "code",
   "execution_count": 1214,
   "metadata": {
    "collapsed": false
   },
   "outputs": [
    {
     "data": {
      "text/plain": [
       "3      1.0\n",
       "5      1.5\n",
       "7      2.0\n",
       "9      2.5\n",
       "11     3.0\n",
       "13     3.5\n",
       "15     4.0\n",
       "17     4.5\n",
       "19     5.0\n",
       "21     5.5\n",
       "23     6.0\n",
       "25     6.5\n",
       "27     7.0\n",
       "29     7.5\n",
       "31     8.0\n",
       "33     8.5\n",
       "35     9.0\n",
       "37     9.5\n",
       "39    10.0\n",
       "41    10.5\n",
       "43    11.0\n",
       "45    11.5\n",
       "47    12.0\n",
       "49    12.5\n",
       "51    13.0\n",
       "53    13.5\n",
       "55    14.0\n",
       "57    14.5\n",
       "59    15.0\n",
       "61    15.5\n",
       "63    16.0\n",
       "65    16.5\n",
       "67    17.0\n",
       "69    17.5\n",
       "71    18.0\n",
       "73    18.5\n",
       "75    19.0\n",
       "77    19.5\n",
       "79    20.0\n",
       "81    20.5\n",
       "83    21.0\n",
       "85    21.5\n",
       "87    22.0\n",
       "89    22.5\n",
       "91    23.0\n",
       "93    23.5\n",
       "95    24.0\n",
       "97    24.5\n",
       "99    25.0\n",
       "Name: 0, dtype: float64"
      ]
     },
     "execution_count": 1214,
     "metadata": {},
     "output_type": "execute_result"
    }
   ],
   "source": [
    "rrr[0][rrr.index.values %2 == 1]"
   ]
  },
  {
   "cell_type": "code",
   "execution_count": 1076,
   "metadata": {
    "collapsed": false
   },
   "outputs": [
    {
     "data": {
      "text/plain": [
       "1.0000000000000064"
      ]
     },
     "execution_count": 1076,
     "metadata": {},
     "output_type": "execute_result"
    },
    {
     "data": {
      "image/png": "[encoded data removed]",
      "text/plain": [
       "<matplotlib.figure.Figure at 0x14ad4ddd0>"
      ]
     },
     "metadata": {},
     "output_type": "display_data"
    }
   ],
   "source": [
    "NN = 100\n",
    "x, y = zip(*[(k, sum(prob(NN, k, range(k+1)) * range(k+1))) for k in range(0, NN+1)])\n",
    "plt.plot(x, y)\n",
    "plt.title(\"Expected Speed, N=%s\" % NN)\n",
    "plt.xlabel(\"K\");\n",
    "np.max(y)"
   ]
  },
  {
   "cell_type": "code",
   "execution_count": 1213,
   "metadata": {
    "collapsed": false
   },
   "outputs": [
    {
     "data": {
      "text/plain": [
       "1.5625"
      ]
     },
     "execution_count": 1213,
     "metadata": {},
     "output_type": "execute_result"
    }
   ],
   "source": [
    "max_speed(5)"
   ]
  },
  {
   "cell_type": "markdown",
   "metadata": {},
   "source": [
    "\n",
    "$$M =\\frac{N}{4} \\frac{N}{N-1}, ~~\\text{for }N\\text{ even}$$\n",
    "\n",
    "\n",
    "$$M = \\frac{N+1}{4}, ~~\\text{for }N\\text{ odd}$$"
   ]
  },
  {
   "cell_type": "code",
   "execution_count": 1222,
   "metadata": {
    "collapsed": true
   },
   "outputs": [],
   "source": [
    "@np.vectorize\n",
    "def max_speed(N):\n",
    "    if N % 2 == 0:\n",
    "        return N**2 / (4. * (N - 1.))\n",
    "    else:\n",
    "        return (N + 1.) / 4."
   ]
  },
  {
   "cell_type": "code",
   "execution_count": 1250,
   "metadata": {
    "collapsed": true
   },
   "outputs": [],
   "source": [
    "from speeds import max_speed"
   ]
  },
  {
   "cell_type": "code",
   "execution_count": null,
   "metadata": {
    "collapsed": true
   },
   "outputs": [],
   "source": []
  },
  {
   "cell_type": "code",
   "execution_count": 1253,
   "metadata": {
    "collapsed": false
   },
   "outputs": [
    {
     "data": {
      "text/plain": [
       "[<matplotlib.lines.Line2D at 0x1513d5810>]"
      ]
     },
     "execution_count": 1253,
     "metadata": {},
     "output_type": "execute_result"
    },
    {
     "data": {
      "image/png": "[encoded data removed]",
      "text/plain": [
       "<matplotlib.figure.Figure at 0x150dcbdd0>"
      ]
     },
     "metadata": {},
     "output_type": "display_data"
    }
   ],
   "source": [
    "N = np.array(range(1, 50))\n",
    "plt.plot(N, max_speed(N))"
   ]
  },
  {
   "cell_type": "code",
   "execution_count": 1059,
   "metadata": {
    "collapsed": false
   },
   "outputs": [
    {
     "data": {
      "image/png": "[encoded data removed]",
      "text/plain": [
       "<matplotlib.figure.Figure at 0x14a51aad0>"
      ]
     },
     "metadata": {},
     "output_type": "display_data"
    }
   ],
   "source": [
    "NN = 100\n",
    "for KK in range(1, NN):\n",
    "    pd.Series(dict([(1. * r/NN, 1. *prob(NN, KK, r)) for r in range(NN/2+2)])).plot(label=N, style=\"-\")\n",
    "plt.xlabel(\"R / N\")\n",
    "plt.title(\"Distribution of P(R | N, K) for Various K\");"
   ]
  },
  {
   "cell_type": "code",
   "execution_count": 1089,
   "metadata": {
    "collapsed": false
   },
   "outputs": [
    {
     "data": {
      "image/png": "[encoded data removed]",
      "text/plain": [
       "<matplotlib.figure.Figure at 0x14a49e910>"
      ]
     },
     "metadata": {},
     "output_type": "display_data"
    }
   ],
   "source": [
    "for N in [2, 6, 10, 14, 22, 30, 38, 50, 82, 150, 500, 1000]:\n",
    "    pd.Series(dict([(1. * r/N, 1. *mid(N, r) / ncr(N, N/2)) for r in range(N/2+2)])).plot(label=N, style=\"-\")\n",
    "# plt.legend()\n",
    "plt.xlabel(\"R / N\")\n",
    "plt.title(\"Distribution of P(R | N, K=N/2) for Various N\")\n",
    "plt.legend();"
   ]
  },
  {
   "cell_type": "code",
   "execution_count": 1168,
   "metadata": {
    "collapsed": true
   },
   "outputs": [],
   "source": [
    "import scipy.stats as stats"
   ]
  },
  {
   "cell_type": "code",
   "execution_count": 1169,
   "metadata": {
    "collapsed": false
   },
   "outputs": [
    {
     "data": {
      "text/plain": [
       "0.00013383022576488537"
      ]
     },
     "execution_count": 1169,
     "metadata": {},
     "output_type": "execute_result"
    }
   ],
   "source": [
    "stats.norm.pdf(4, 0, 1)"
   ]
  },
  {
   "cell_type": "code",
   "execution_count": 1248,
   "metadata": {
    "collapsed": false
   },
   "outputs": [
    {
     "name": "stdout",
     "output_type": "stream",
     "text": [
      "Mean: 0.252525252525\n",
      "Std: 0.0249987245874\n"
     ]
    },
    {
     "data": {
      "text/plain": [
       "[<matplotlib.lines.Line2D at 0x150fc0090>]"
      ]
     },
     "execution_count": 1248,
     "metadata": {},
     "output_type": "execute_result"
    },
    {
     "data": {
      "image/png": "[encoded data removed]",
      "text/plain": [
       "<matplotlib.figure.Figure at 0x1508a5d50>"
      ]
     },
     "metadata": {},
     "output_type": "display_data"
    }
   ],
   "source": [
    "N = 100\n",
    "vals = pd.Series(dict([(1. * r/N, 1. *mid(N, r) / ncr(N, N/2)) for r in range(N/2+2)]))\n",
    "vals = pd.DataFrame([vals.index, vals], index=['X', 'P']).transpose()\n",
    "m = (vals['X'] * vals['P']).sum()\n",
    "s = np.sqrt((vals['X']**2 * vals['P']).sum() - (vals['X'] * vals['P']).sum()**2)\n",
    "print \"Mean:\", m\n",
    "print \"Std:\", s\n",
    "plt.plot(vals['X'], np.log(vals['P']))\n",
    "plt.plot(vals['X'], np.log(stats.norm.pdf(vals['X'], m, s)))"
   ]
  },
  {
   "cell_type": "code",
   "execution_count": 1042,
   "metadata": {
    "collapsed": false
   },
   "outputs": [
    {
     "data": {
      "image/png": "[encoded data removed]",
      "text/plain": [
       "<matplotlib.figure.Figure at 0x1498b94d0>"
      ]
     },
     "metadata": {},
     "output_type": "display_data"
    }
   ],
   "source": [
    "KK = 50\n",
    "for N in range(KK, 550, 4):\n",
    "    pd.Series(dict([(1. * r/N, 1. *prob(N, KK, r)) for r in range(N/2+2)])).plot(label=N, style=\"-\")\n",
    "plt.xlabel(\"R / N\")\n",
    "plt.title(\"Distribution of P(R | N, K) for Various N\");"
   ]
  },
  {
   "cell_type": "code",
   "execution_count": 1041,
   "metadata": {
    "collapsed": false
   },
   "outputs": [
    {
     "data": {
      "text/plain": [
       "<matplotlib.text.Text at 0x14b2c0f10>"
      ]
     },
     "execution_count": 1041,
     "metadata": {},
     "output_type": "execute_result"
    },
    {
     "data": {
      "image/png": "[encoded data removed]",
      "text/plain": [
       "<matplotlib.figure.Figure at 0x14a700d10>"
      ]
     },
     "metadata": {},
     "output_type": "display_data"
    }
   ],
   "source": [
    "NN = 50\n",
    "for NN in range(2, 100):\n",
    "    x, m, var = zip(*[\n",
    "            (\n",
    "                1. * k/NN, \n",
    "                np.sum(np.array(range(NN)) * prob(NN, k, range(NN))) / NN,\n",
    "                np.sum(np.array(range(NN))**2 * prob(NN, k, range(NN))) / NN**2,\n",
    "            ) for k in range(NN+1)])\n",
    "#     plt.plot(x, m)\n",
    "    plt.plot(x, np.sqrt(np.array(var) - np.array(m)**2))\n",
    "plt.xlabel(\"K / N\")\n",
    "plt.title(\"Variance of P(R | N, K)\")"
   ]
  },
  {
   "cell_type": "code",
   "execution_count": 804,
   "metadata": {
    "collapsed": false
   },
   "outputs": [],
   "source": [
    "NN = 200\n",
    "oR_probs = pd.DataFrame([[1. * count(NN, zz, z) / ncr(NN, zz) for z in range(1, NN/2+1)] for zz in range(NN)]).transpose()"
   ]
  },
  {
   "cell_type": "code",
   "execution_count": 820,
   "metadata": {
    "collapsed": false
   },
   "outputs": [],
   "source": [
    "means = (oR_probs.index.values[:, None] * oR_probs).sum()\n",
    "stds = np.sqrt((oR_probs.index.values[:, None]**2 * oR_probs).sum())"
   ]
  },
  {
   "cell_type": "code",
   "execution_count": 822,
   "metadata": {
    "collapsed": false
   },
   "outputs": [
    {
     "data": {
      "text/plain": [
       "<matplotlib.axes.AxesSubplot at 0x1252ee7d0>"
      ]
     },
     "execution_count": 822,
     "metadata": {},
     "output_type": "execute_result"
    },
    {
     "data": {
      "image/png": "[encoded data removed]",
      "text/plain": [
       "<matplotlib.figure.Figure at 0x1255722d0>"
      ]
     },
     "metadata": {},
     "output_type": "display_data"
    }
   ],
   "source": [
    "(means-stds).plot()\n",
    "# stds.plot()"
   ]
  },
  {
   "cell_type": "code",
   "execution_count": 1565,
   "metadata": {
    "collapsed": true
   },
   "outputs": [],
   "source": [
    "p = BoundaryProcess(6)"
   ]
  },
  {
   "cell_type": "code",
   "execution_count": 1567,
   "metadata": {
    "collapsed": false
   },
   "outputs": [],
   "source": [
    "states = p.enum_states()"
   ]
  },
  {
   "cell_type": "code",
   "execution_count": null,
   "metadata": {
    "collapsed": true
   },
   "outputs": [],
   "source": [
    "s.num_open_to_right()"
   ]
  },
  {
   "cell_type": "code",
   "execution_count": 1572,
   "metadata": {
    "collapsed": false
   },
   "outputs": [],
   "source": [
    "s  = State('110')"
   ]
  },
  {
   "cell_type": "code",
   "execution_count": 1571,
   "metadata": {
    "collapsed": true
   },
   "outputs": [],
   "source": [
    "memo = dict()"
   ]
  },
  {
   "cell_type": "code",
   "execution_count": 1575,
   "metadata": {
    "collapsed": true
   },
   "outputs": [],
   "source": [
    "memo = dict()\n",
    "def find_cat(s):\n",
    "    state = State(s, cycle=False)\n",
    "    if state.num_open_to_right() == 0:\n",
    "        memo[s] = (0, 1)\n",
    "        return (0, 1)\n",
    "    else:\n",
    "        R = state.open_spots_to_right()\n",
    "        depth = 0\n",
    "        count = 0\n",
    "        for r in R:\n",
    "            d, c = find_cat(str(state.move_right(r)))\n",
    "            count += c\n",
    "            depth = max(depth, d + 1)\n",
    "        memo[s] = (depth, count)\n",
    "        return (depth, count)"
   ]
  },
  {
   "cell_type": "code",
   "execution_count": 1578,
   "metadata": {
    "collapsed": false
   },
   "outputs": [
    {
     "data": {
      "text/plain": [
       "'6x16'"
      ]
     },
     "execution_count": 1578,
     "metadata": {},
     "output_type": "execute_result"
    }
   ],
   "source": [
    "\"%sx%s\" % find_cat(\"101010\")"
   ]
  },
  {
   "cell_type": "code",
   "execution_count": 1579,
   "metadata": {
    "collapsed": false
   },
   "outputs": [
    {
     "data": {
      "text/plain": [
       "[('000000', '0x1'),\n",
       " ('000001', '0x1'),\n",
       " ('000010', '1x1'),\n",
       " ('000011', '0x1'),\n",
       " ('000100', '2x1'),\n",
       " ('000101', '1x1'),\n",
       " ('000110', '2x1'),\n",
       " ('000111', '0x1'),\n",
       " ('001000', '3x1'),\n",
       " ('001001', '2x1'),\n",
       " ('001010', '3x2'),\n",
       " ('001011', '1x1'),\n",
       " ('001100', '4x2'),\n",
       " ('001101', '2x1'),\n",
       " ('001110', '3x1'),\n",
       " ('001111', '0x1'),\n",
       " ('010000', '4x1'),\n",
       " ('010001', '3x1'),\n",
       " ('010010', '4x3'),\n",
       " ('010011', '2x1'),\n",
       " ('010100', '5x5'),\n",
       " ('010101', '3x2'),\n",
       " ('010110', '4x3'),\n",
       " ('010111', '1x1'),\n",
       " ('011000', '6x5'),\n",
       " ('011001', '4x2'),\n",
       " ('011010', '5x5'),\n",
       " ('011011', '2x1'),\n",
       " ('011100', '6x5'),\n",
       " ('011101', '3x1'),\n",
       " ('011110', '4x1'),\n",
       " ('011111', '0x1'),\n",
       " ('100000', '5x1'),\n",
       " ('100001', '4x1'),\n",
       " ('100010', '5x4'),\n",
       " ('100011', '3x1'),\n",
       " ('100100', '6x9'),\n",
       " ('100101', '4x3'),\n",
       " ('100110', '5x6'),\n",
       " ('100111', '2x1'),\n",
       " ('101000', '7x14'),\n",
       " ('101001', '5x5'),\n",
       " ('101010', '6x16'),\n",
       " ('101011', '3x2'),\n",
       " ('101100', '7x21'),\n",
       " ('101101', '4x3'),\n",
       " ('101110', '5x4'),\n",
       " ('101111', '1x1'),\n",
       " ('110000', '8x14'),\n",
       " ('110001', '6x5'),\n",
       " ('110010', '7x21'),\n",
       " ('110011', '4x2'),\n",
       " ('110100', '8x42'),\n",
       " ('110101', '5x5'),\n",
       " ('110110', '6x9'),\n",
       " ('110111', '2x1'),\n",
       " ('111000', '9x42'),\n",
       " ('111001', '6x5'),\n",
       " ('111010', '7x14'),\n",
       " ('111011', '3x1'),\n",
       " ('111100', '8x14'),\n",
       " ('111101', '4x1'),\n",
       " ('111110', '5x1'),\n",
       " ('111111', '0x1')]"
      ]
     },
     "execution_count": 1579,
     "metadata": {},
     "output_type": "execute_result"
    }
   ],
   "source": [
    "[(s, \"%sx%s\" % find_cat(s)) for s in states]"
   ]
  },
  {
   "cell_type": "code",
   "execution_count": 1580,
   "metadata": {
    "collapsed": true
   },
   "outputs": [],
   "source": [
    "strings = \"\"\"\n",
    "                             1 000000 0x1   \n",
    "                             1 000001 0x1   \n",
    "                           2*a 000010 1x1   \n",
    "                             1 000011 0x1   \n",
    "                     2*a^2 + a 000100 2x1   \n",
    "                           2*a 000101 1x1   \n",
    "                     2*a^2 + a 000110 2x1   \n",
    "                             1 000111 0x1   \n",
    "               2*a^3 + a^2 + a 001000 3x1   \n",
    "                     2*a^2 + a 001001 2x1   \n",
    "                 2*a^3 + 3*a^2 001010 3x2   \n",
    "                           2*a 001011 2x1   \n",
    "                 4*a^3 + 2*a^2 001100 4x2   \n",
    "                     2*a^2 + a 001101 2x1   \n",
    "               2*a^3 + a^2 + a 001110 3x1   \n",
    "                             1 001111 0x1   \n",
    "         2*a^4 + a^3 + a^2 + a 010000 4x1   \n",
    "               2*a^3 + a^2 + a 010001 3x1   \n",
    "         2*a^4 + 3*a^3 + 2*a^2 010010 4x3   \n",
    "                     2*a^2 + a 010011 2x1   \n",
    "           4*a^4 + 4*a^3 + a^2 010100 5x5   \n",
    "                 2*a^3 + 3*a^2 010101 3x2   \n",
    "         2*a^4 + 3*a^3 + 2*a^2 010110 4x3   \n",
    "                           2*a 010111 1x1   \n",
    "           6*a^4 + 3*a^3 + a^2 011000 6x5   \n",
    "                 4*a^3 + 2*a^2 011001 4x2   \n",
    "           4*a^4 + 4*a^3 + a^2 011010 5x5   \n",
    "                     2*a^2 + a 011011 2x1\n",
    "           6*a^4 + 3*a^3 + a^2 011100 6x5\n",
    "               2*a^3 + a^2 + a 011101 3x1\n",
    "         2*a^4 + a^3 + a^2 + a 011110 4x1\n",
    "                             1 011111 1x1\n",
    "   2*a^5 + a^4 + a^3 + a^2 + a 100000 5x1\n",
    "         2*a^4 + a^3 + a^2 + a 100001 4x1\n",
    " 2*a^5 + 3*a^4 + 2*a^3 + 2*a^2 100010 5x4\n",
    "               2*a^3 + a^2 + a 100011 3x1\n",
    "   4*a^5 + 4*a^4 + 3*a^3 + a^2 100100 6x9\n",
    "         2*a^4 + 3*a^3 + 2*a^2 100101 4x3\n",
    "   2*a^5 + 3*a^4 + 4*a^3 + a^2 100110 5x6\n",
    "                     2*a^2 + a 100111 2x1\n",
    "   6*a^5 + 5*a^4 + 2*a^3 + a^2 101000 7x14\n",
    "           4*a^4 + 4*a^3 + a^2 101001 5x5\n",
    "         4*a^5 + 6*a^4 + 4*a^3 101010 6x16\n",
    "                 2*a^3 + 3*a^2 101011 3x2\n",
    "         6*a^5 + 7*a^4 + 3*a^3 101100 7x27\n",
    "         2*a^4 + 3*a^3 + 2*a^2 101101 4x3\n",
    " 2*a^5 + 3*a^4 + 2*a^3 + 2*a^2 101110 5x4\n",
    "                           2*a 101111 1x1\n",
    "   8*a^5 + 4*a^4 + 2*a^3 + a^2 110000 8x14\n",
    "           6*a^4 + 3*a^3 + a^2 110001 6x5\n",
    "         6*a^5 + 7*a^4 + 3*a^3 110010 7x27\n",
    "                 4*a^3 + 2*a^2 110011 4x2\n",
    "        10*a^5 + 7*a^4 + 2*a^3 110100 8x54\n",
    "           4*a^4 + 4*a^3 + a^2 110101 5x5\n",
    "   4*a^5 + 4*a^4 + 3*a^3 + a^2 110110 6x9\n",
    "                     2*a^2 + a 110111 2x1\n",
    "        12*a^5 + 6*a^4 + 2*a^3 111000 9x54\n",
    "           6*a^4 + 3*a^3 + a^2 111001 6x5\n",
    "   6*a^5 + 5*a^4 + 2*a^3 + a^2 111010 7x14\n",
    "               2*a^3 + a^2 + a 111011 3x1\n",
    "   8*a^5 + 4*a^4 + 2*a^3 + a^2 111100 8x14\n",
    "         2*a^4 + a^3 + a^2 + a 111101 4x1\n",
    "   2*a^5 + a^4 + a^3 + a^2 + a 111110 5x1 \n",
    "                             1 111111 0x1\n",
    "\"\"\""
   ]
  },
  {
   "cell_type": "code",
   "execution_count": 1592,
   "metadata": {
    "collapsed": false
   },
   "outputs": [],
   "source": [
    "zz = [[z[:30].strip()] + z[30:].split() for z in strings.split(\"\\n\") if len(z) > 1]"
   ]
  },
  {
   "cell_type": "code",
   "execution_count": 1608,
   "metadata": {
    "collapsed": false
   },
   "outputs": [],
   "source": [
    "pairs = [(z[1], memo[z[1]], z[0]) for z in zz]"
   ]
  },
  {
   "cell_type": "code",
   "execution_count": 1609,
   "metadata": {
    "collapsed": false
   },
   "outputs": [
    {
     "data": {
      "text/plain": [
       "'0x1'"
      ]
     },
     "execution_count": 1609,
     "metadata": {},
     "output_type": "execute_result"
    }
   ],
   "source": [
    "zz[1][2]"
   ]
  },
  {
   "cell_type": "code",
   "execution_count": 1617,
   "metadata": {
    "collapsed": false
   },
   "outputs": [
    {
     "data": {
      "text/plain": [
       "{((0, 1), '1'),\n",
       " ((1, 1), '2*a'),\n",
       " ((2, 1), '2*a^2 + a'),\n",
       " ((3, 1), '2*a^3 + a^2 + a'),\n",
       " ((3, 2), '2*a^3 + 3*a^2'),\n",
       " ((4, 1), '2*a^4 + a^3 + a^2 + a'),\n",
       " ((4, 2), '4*a^3 + 2*a^2'),\n",
       " ((4, 3), '2*a^4 + 3*a^3 + 2*a^2'),\n",
       " ((5, 1), '2*a^5 + a^4 + a^3 + a^2 + a'),\n",
       " ((5, 4), '2*a^5 + 3*a^4 + 2*a^3 + 2*a^2'),\n",
       " ((5, 5), '4*a^4 + 4*a^3 + a^2'),\n",
       " ((5, 6), '2*a^5 + 3*a^4 + 4*a^3 + a^2'),\n",
       " ((6, 5), '6*a^4 + 3*a^3 + a^2'),\n",
       " ((6, 9), '4*a^5 + 4*a^4 + 3*a^3 + a^2'),\n",
       " ((6, 16), '4*a^5 + 6*a^4 + 4*a^3'),\n",
       " ((7, 14), '6*a^5 + 5*a^4 + 2*a^3 + a^2'),\n",
       " ((7, 21), '6*a^5 + 7*a^4 + 3*a^3'),\n",
       " ((8, 14), '8*a^5 + 4*a^4 + 2*a^3 + a^2'),\n",
       " ((8, 42), '10*a^5 + 7*a^4 + 2*a^3'),\n",
       " ((9, 42), '12*a^5 + 6*a^4 + 2*a^3')}"
      ]
     },
     "execution_count": 1617,
     "metadata": {},
     "output_type": "execute_result"
    }
   ],
   "source": [
    "set([(x[1], x[2]) for x in pairs])"
   ]
  },
  {
   "cell_type": "code",
   "execution_count": 1624,
   "metadata": {
    "collapsed": false
   },
   "outputs": [
    {
     "data": {
      "text/plain": [
       "[('010100', (5, 5), '4*a^4 + 4*a^3 + a^2'),\n",
       " ('011010', (5, 5), '4*a^4 + 4*a^3 + a^2'),\n",
       " ('101001', (5, 5), '4*a^4 + 4*a^3 + a^2'),\n",
       " ('110101', (5, 5), '4*a^4 + 4*a^3 + a^2')]"
      ]
     },
     "execution_count": 1624,
     "metadata": {},
     "output_type": "execute_result"
    }
   ],
   "source": [
    "[x for x in pairs if x[1] == (5, 5)]"
   ]
  },
  {
   "cell_type": "code",
   "execution_count": null,
   "metadata": {
    "collapsed": true
   },
   "outputs": [],
   "source": []
  },
  {
   "cell_type": "code",
   "execution_count": null,
   "metadata": {
    "collapsed": true
   },
   "outputs": [],
   "source": []
  }
 ],
 "metadata": {
  "kernelspec": {
   "display_name": "Python 2",
   "language": "python",
   "name": "python2"
  },
  "language_info": {
   "codemirror_mode": {
    "name": "ipython",
    "version": 2
   },
   "file_extension": ".py",
   "mimetype": "text/x-python",
   "name": "python",
   "nbconvert_exporter": "python",
   "pygments_lexer": "ipython2",
   "version": "2.7.10"
  }
 },
 "nbformat": 4,
 "nbformat_minor": 1
}
