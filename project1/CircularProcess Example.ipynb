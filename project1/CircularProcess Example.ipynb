{
 "cells": [
  {
   "cell_type": "code",
   "execution_count": 1,
   "metadata": {
    "collapsed": true
   },
   "outputs": [],
   "source": [
    "%matplotlib inline"
   ]
  },
  {
   "cell_type": "code",
   "execution_count": 2,
   "metadata": {
    "collapsed": false
   },
   "outputs": [],
   "source": [
    "import numpy as np\n",
    "import pandas as pd\n",
    "import asymmetric_processes\n",
    "from asymmetric_processes import CircleProcess, BoundaryProcess, State\n",
    "import matplotlib.pyplot as plt\n",
    "import seaborn as sns # comment out if you don't have installed"
   ]
  },
  {
   "cell_type": "code",
   "execution_count": 3,
   "metadata": {
    "collapsed": false
   },
   "outputs": [
    {
     "data": {
      "text/plain": [
       "<module 'asymmetric_processes' from 'asymmetric_processes.pyc'>"
      ]
     },
     "execution_count": 3,
     "metadata": {},
     "output_type": "execute_result"
    }
   ],
   "source": [
    "reload(asymmetric_processes)"
   ]
  },
  {
   "cell_type": "code",
   "execution_count": 4,
   "metadata": {
    "collapsed": true
   },
   "outputs": [],
   "source": [
    "import scipy.sparse as sparse"
   ]
  },
  {
   "cell_type": "markdown",
   "metadata": {},
   "source": [
    "# Intro to `State` and `CircleProcess`\n",
    "\n",
    "The `State` class helps find \"open spots to right\" and other information about a state. \n",
    "\n",
    "The `CircleProcess` class enumerates the possible states, and determines the state transitions"
   ]
  },
  {
   "cell_type": "code",
   "execution_count": 10,
   "metadata": {
    "collapsed": false
   },
   "outputs": [],
   "source": [
    "# New process object\n",
    "N = 5\n",
    "k = 2\n",
    "q = 0.\n",
    "p = CircleProcess(N, k, q)"
   ]
  },
  {
   "cell_type": "markdown",
   "metadata": {},
   "source": [
    "One thing `CircleProcess` does is map states into integers."
   ]
  },
  {
   "cell_type": "code",
   "execution_count": 11,
   "metadata": {
    "collapsed": false
   },
   "outputs": [
    {
     "name": "stdout",
     "output_type": "stream",
     "text": [
      "11100 : 0\n",
      "11010 : 1\n",
      "01110 : 6\n",
      "00111 : 9\n"
     ]
    }
   ],
   "source": [
    "print '11100', \":\", p.state_index('11100')\n",
    "print '11010', \":\", p.state_index('11010')\n",
    "print '01110', \":\", p.state_index('01110')\n",
    "print '00111', \":\", p.state_index('00111')"
   ]
  },
  {
   "cell_type": "code",
   "execution_count": 12,
   "metadata": {
    "collapsed": false
   },
   "outputs": [
    {
     "data": {
      "text/plain": [
       "{'00011': 9,\n",
       " '00101': 8,\n",
       " '00110': 7,\n",
       " '01001': 6,\n",
       " '01010': 5,\n",
       " '01100': 4,\n",
       " '10001': 3,\n",
       " '10010': 2,\n",
       " '10100': 1,\n",
       " '11000': 0}"
      ]
     },
     "execution_count": 12,
     "metadata": {},
     "output_type": "execute_result"
    }
   ],
   "source": [
    "all_states = p.enum_states()\n",
    "dict(zip(all_states, range(len(all_states))))"
   ]
  },
  {
   "cell_type": "markdown",
   "metadata": {},
   "source": [
    "It also runs simulations"
   ]
  },
  {
   "cell_type": "code",
   "execution_count": 13,
   "metadata": {
    "collapsed": false
   },
   "outputs": [
    {
     "data": {
      "text/plain": [
       "array([[ 1.,  1.,  0.,  0.,  0.],\n",
       "       [ 1.,  1.,  0.,  0.,  0.],\n",
       "       [ 1.,  1.,  0.,  0.,  0.],\n",
       "       [ 1.,  1.,  0.,  0.,  0.],\n",
       "       [ 1.,  0.,  1.,  0.,  0.],\n",
       "       [ 1.,  0.,  1.,  0.,  0.],\n",
       "       [ 1.,  0.,  0.,  1.,  0.],\n",
       "       [ 0.,  1.,  0.,  1.,  0.],\n",
       "       [ 0.,  1.,  0.,  1.,  0.],\n",
       "       [ 0.,  1.,  0.,  1.,  0.],\n",
       "       [ 0.,  1.,  0.,  1.,  0.],\n",
       "       [ 0.,  0.,  1.,  1.,  0.],\n",
       "       [ 0.,  0.,  1.,  1.,  0.],\n",
       "       [ 0.,  0.,  1.,  1.,  0.],\n",
       "       [ 0.,  0.,  1.,  1.,  0.],\n",
       "       [ 0.,  0.,  1.,  1.,  0.],\n",
       "       [ 0.,  0.,  1.,  1.,  0.],\n",
       "       [ 0.,  0.,  1.,  0.,  1.],\n",
       "       [ 0.,  0.,  1.,  0.,  1.],\n",
       "       [ 0.,  0.,  0.,  1.,  1.]])"
      ]
     },
     "execution_count": 13,
     "metadata": {},
     "output_type": "execute_result"
    }
   ],
   "source": [
    "# A single simulation\n",
    "sim = p.run_sim(20, [1, 1, 0, 0, 0])\n",
    "sim"
   ]
  },
  {
   "cell_type": "code",
   "execution_count": 17,
   "metadata": {
    "collapsed": false
   },
   "outputs": [],
   "source": [
    "# Many simulations, averaging over all to get distribution\n",
    "sim = p.run_sims(1000, 50, [1, 1, 0, 0, 0])\n",
    "dist = np.mean(sim, axis=0)"
   ]
  },
  {
   "cell_type": "code",
   "execution_count": 19,
   "metadata": {
    "collapsed": false
   },
   "outputs": [
    {
     "name": "stderr",
     "output_type": "stream",
     "text": [
      "/System/Library/Frameworks/Python.framework/Versions/2.7/Extras/lib/python/matplotlib/collections.py:548: FutureWarning: elementwise comparison failed; returning scalar instead, but in the future will perform elementwise comparison\n",
      "  if self._edgecolors == 'face':\n"
     ]
    },
    {
     "data": {
      "image/png": "[encoded data removed]",
      "text/plain": [
       "<matplotlib.figure.Figure at 0x10ebc1a90>"
      ]
     },
     "metadata": {},
     "output_type": "display_data"
    }
   ],
   "source": [
    "sns.heatmap(dist);"
   ]
  },
  {
   "cell_type": "markdown",
   "metadata": {},
   "source": [
    "# Transition Matrices and Exact Calculation\n",
    "\n",
    "As you can see above, we get some variance in the simulated distribution over time, and we can't make many analytical conclusions. \n",
    "\n",
    "Below we see how transitions are combined into transition matrix `T`."
   ]
  },
  {
   "cell_type": "code",
   "execution_count": 20,
   "metadata": {
    "collapsed": false
   },
   "outputs": [
    {
     "data": {
      "text/plain": [
       "{'11010': 0.2, '11100': 0.8}"
      ]
     },
     "execution_count": 20,
     "metadata": {},
     "output_type": "execute_result"
    }
   ],
   "source": [
    "p.transitions(State('11100'))"
   ]
  },
  {
   "cell_type": "code",
   "execution_count": 21,
   "metadata": {
    "collapsed": false
   },
   "outputs": [
    {
     "data": {
      "text/plain": [
       "{'01100': 0.2, '10010': 0.2, '10100': 0.6}"
      ]
     },
     "execution_count": 21,
     "metadata": {},
     "output_type": "execute_result"
    }
   ],
   "source": [
    "p.transitions(State('10100'))"
   ]
  },
  {
   "cell_type": "code",
   "execution_count": 22,
   "metadata": {
    "collapsed": false
   },
   "outputs": [
    {
     "data": {
      "text/plain": [
       "{'01001': 0.2, '10001': 0.8}"
      ]
     },
     "execution_count": 22,
     "metadata": {},
     "output_type": "execute_result"
    }
   ],
   "source": [
    "p.transitions(State('10001'))"
   ]
  },
  {
   "cell_type": "code",
   "execution_count": 24,
   "metadata": {
    "collapsed": false
   },
   "outputs": [],
   "source": [
    "S, T = p.matrices()"
   ]
  },
  {
   "cell_type": "code",
   "execution_count": 25,
   "metadata": {
    "collapsed": false
   },
   "outputs": [
    {
     "data": {
      "text/plain": [
       "array([[ 1.,  1.,  1.,  1.,  0.,  0.,  0.,  0.,  0.,  0.],\n",
       "       [ 1.,  0.,  0.,  0.,  1.,  1.,  1.,  0.,  0.,  0.],\n",
       "       [ 0.,  1.,  0.,  0.,  1.,  0.,  0.,  1.,  1.,  0.],\n",
       "       [ 0.,  0.,  1.,  0.,  0.,  1.,  0.,  1.,  0.,  1.],\n",
       "       [ 0.,  0.,  0.,  1.,  0.,  0.,  1.,  0.,  1.,  1.]])"
      ]
     },
     "execution_count": 25,
     "metadata": {},
     "output_type": "execute_result"
    }
   ],
   "source": [
    "S # N x M matrix of states"
   ]
  },
  {
   "cell_type": "code",
   "execution_count": 26,
   "metadata": {
    "collapsed": false
   },
   "outputs": [
    {
     "data": {
      "text/plain": [
       "matrix([[ 0.8,  0. ,  0. ,  0. ,  0. ,  0. ,  0.2,  0. ,  0. ,  0. ],\n",
       "        [ 0.2,  0.6,  0. ,  0. ,  0. ,  0. ,  0. ,  0. ,  0.2,  0. ],\n",
       "        [ 0. ,  0.2,  0.6,  0. ,  0. ,  0. ,  0. ,  0. ,  0. ,  0.2],\n",
       "        [ 0. ,  0. ,  0.2,  0.8,  0. ,  0. ,  0. ,  0. ,  0. ,  0. ],\n",
       "        [ 0. ,  0.2,  0. ,  0. ,  0.8,  0. ,  0. ,  0. ,  0. ,  0. ],\n",
       "        [ 0. ,  0. ,  0.2,  0. ,  0.2,  0.6,  0. ,  0. ,  0. ,  0. ],\n",
       "        [ 0. ,  0. ,  0. ,  0.2,  0. ,  0.2,  0.6,  0. ,  0. ,  0. ],\n",
       "        [ 0. ,  0. ,  0. ,  0. ,  0. ,  0.2,  0. ,  0.8,  0. ,  0. ],\n",
       "        [ 0. ,  0. ,  0. ,  0. ,  0. ,  0. ,  0.2,  0.2,  0.6,  0. ],\n",
       "        [ 0. ,  0. ,  0. ,  0. ,  0. ,  0. ,  0. ,  0. ,  0.2,  0.8]])"
      ]
     },
     "execution_count": 26,
     "metadata": {},
     "output_type": "execute_result"
    }
   ],
   "source": [
    "T.todense() # M x M matrix of transitions"
   ]
  },
  {
   "cell_type": "markdown",
   "metadata": {},
   "source": [
    "With this, propagate the probabilities exactly. "
   ]
  },
  {
   "cell_type": "code",
   "execution_count": 28,
   "metadata": {
    "collapsed": false
   },
   "outputs": [
    {
     "name": "stdout",
     "output_type": "stream",
     "text": [
      "Pick just one state: [ 1.  0.  0.  0.  0.  0.  0.  0.  0.  0.]\n",
      "Corresponding to sequence: 11000\n"
     ]
    }
   ],
   "source": [
    "M = T.shape[0]\n",
    "x = np.zeros(M)\n",
    "x[0] = 1\n",
    "print \"Pick just one state:\", x\n",
    "print \"Corresponding to sequence:\", State(S.dot(x))"
   ]
  },
  {
   "cell_type": "code",
   "execution_count": 29,
   "metadata": {
    "collapsed": false
   },
   "outputs": [
    {
     "name": "stdout",
     "output_type": "stream",
     "text": [
      "1.0000 1.0000 0.0000 0.0000 0.0000\n",
      "1.0000 0.8000 0.2000 0.0000 0.0000\n",
      "0.9600 0.6800 0.3200 0.0400 0.0000\n",
      "0.8960 0.6160 0.3840 0.0960 0.0080\n",
      "0.8192 0.5872 0.4128 0.1536 0.0272\n",
      "0.7382 0.5776 0.4224 0.2048 0.0570\n",
      "0.6598 0.5759 0.4237 0.2461 0.0944\n",
      "0.5889 0.5750 0.4234 0.2770 0.1358\n",
      "0.5283 0.5710 0.4244 0.2988 0.1775\n",
      "0.4796 0.5624 0.4277 0.3137 0.2166\n",
      "0.4426 0.5493 0.4329 0.3242 0.2511\n",
      "0.4162 0.5330 0.4387 0.3321 0.2800\n",
      "0.3988 0.5147 0.4443 0.3391 0.3031\n",
      "0.3884 0.4961 0.4485 0.3461 0.3209\n",
      "0.3830 0.4784 0.4510 0.3533 0.3342\n",
      "0.3811 0.4625 0.4514 0.3610 0.3440\n",
      "0.3812 0.4488 0.4500 0.3688 0.3513\n",
      "0.3823 0.4376 0.4470 0.3763 0.3569\n",
      "0.3837 0.4287 0.4429 0.3833 0.3615\n",
      "0.3850 0.4219 0.4382 0.3894 0.3655\n",
      "0.3860 0.4167 0.4333 0.3945 0.3694\n",
      "0.3868 0.4129 0.4286 0.3986 0.3731\n",
      "0.3874 0.4101 0.4242 0.4016 0.3767\n",
      "0.3879 0.4080 0.4203 0.4036 0.3802\n",
      "0.3884 0.4063 0.4170 0.4049 0.3835\n",
      "0.3889 0.4049 0.4142 0.4055 0.3865\n",
      "0.3895 0.4036 0.4120 0.4057 0.3892\n",
      "0.3902 0.4026 0.4101 0.4056 0.3915\n",
      "0.3910 0.4017 0.4086 0.4053 0.3935\n",
      "0.3919 0.4008 0.4073 0.4049 0.3951\n",
      "0.3928 0.4002 0.4063 0.4044 0.3964\n",
      "0.3937 0.3996 0.4054 0.4040 0.3974\n",
      "0.3945 0.3992 0.4045 0.4037 0.3981\n",
      "0.3953 0.3989 0.4038 0.4033 0.3987\n",
      "0.3960 0.3987 0.4032 0.4030 0.3991\n",
      "0.3967 0.3986 0.4026 0.4027 0.3995\n",
      "0.3972 0.3985 0.4021 0.4025 0.3997\n",
      "0.3977 0.3986 0.4016 0.4022 0.3999\n",
      "0.3981 0.3986 0.4013 0.4020 0.4000\n",
      "0.3984 0.3987 0.4010 0.4018 0.4001\n",
      "0.3987 0.3988 0.4007 0.4016 0.4002\n",
      "0.3989 0.3989 0.4005 0.4014 0.4003\n",
      "0.3991 0.3990 0.4003 0.4012 0.4003\n",
      "0.3993 0.3991 0.4002 0.4010 0.4004\n",
      "0.3994 0.3992 0.4001 0.4009 0.4004\n",
      "0.3995 0.3993 0.4000 0.4007 0.4004\n",
      "0.3996 0.3994 0.4000 0.4006 0.4004\n",
      "0.3997 0.3995 0.3999 0.4005 0.4004\n",
      "0.3998 0.3995 0.3999 0.4004 0.4003\n",
      "0.3998 0.3996 0.3999 0.4003 0.4003\n"
     ]
    }
   ],
   "source": [
    "iters = 50\n",
    "R = np.zeros((iters, N))\n",
    "for i in range(iters):\n",
    "    print \" \".join([\"%.4f\" % s for s in S.dot(x)])\n",
    "    R[i] = S.dot(x)\n",
    "    x = T.dot(x)"
   ]
  },
  {
   "cell_type": "code",
   "execution_count": 30,
   "metadata": {
    "collapsed": false
   },
   "outputs": [
    {
     "data": {
      "image/png": "[encoded data removed]",
      "text/plain": [
       "<matplotlib.figure.Figure at 0x112e96950>"
      ]
     },
     "metadata": {},
     "output_type": "display_data"
    }
   ],
   "source": [
    "sns.heatmap(R);"
   ]
  },
  {
   "cell_type": "markdown",
   "metadata": {},
   "source": [
    "# Eigenvalue Analysis\n",
    "\n",
    "By looking at eigenvalues/vectors of `T`, we can understand which patterns in distribution die away faster than others."
   ]
  },
  {
   "cell_type": "code",
   "execution_count": 31,
   "metadata": {
    "collapsed": false
   },
   "outputs": [],
   "source": [
    "l, v = np.linalg.eig(T.todense())"
   ]
  },
  {
   "cell_type": "markdown",
   "metadata": {},
   "source": [
    "There are 10 eigenvalues since there are 10 states. One of them is 1., with no imaginary part. This is the steady state. The others have imaginary parts, corresponding so some kind of oscillation at various frequencies. The magnitudes tell how quickly the eigenvector, or \"mode,\" decays."
   ]
  },
  {
   "cell_type": "code",
   "execution_count": 32,
   "metadata": {
    "collapsed": false
   },
   "outputs": [
    {
     "name": "stdout",
     "output_type": "stream",
     "text": [
      "EIGENVALUES\n",
      "IDX  MAG       ANGLE\n",
      "4    1.0000    +0.000°\n",
      "5    0.8604    +4.358°\n",
      "6    0.8604    -4.358°\n",
      "2    0.8107    +20.835°\n",
      "3    0.8107    -20.835°\n",
      "8    0.7109    +7.937°\n",
      "9    0.7109    -7.937°\n",
      "7    0.6000    +0.000°\n",
      "0    0.4220    +25.692°\n",
      "1    0.4220    -25.692°\n"
     ]
    }
   ],
   "source": [
    "zzz = sorted(zip(range(len(l)), np.abs(l), np.angle(l, deg=True)), key=lambda x: -x[1])\n",
    "print \"EIGENVALUES\"\n",
    "print \"IDX  MAG       ANGLE\"\n",
    "for i, m, a in zzz:\n",
    "    print \"%s\" % i, \"   %.4f    %+.3f°\" % (m, a)"
   ]
  },
  {
   "cell_type": "markdown",
   "metadata": {},
   "source": [
    "Below is the steady state. We can see all states are represented equally. The steady state is uniform probability over all. "
   ]
  },
  {
   "cell_type": "code",
   "execution_count": 33,
   "metadata": {
    "collapsed": false
   },
   "outputs": [
    {
     "name": "stdout",
     "output_type": "stream",
     "text": [
      "EIG: \t1.0000\t+0.0000°\n",
      "\n",
      "STATE   MAG       ANGLE\n",
      "11000 \t0.3162\t+180.000°\n",
      "10100 \t0.3162\t+180.000°\n",
      "10010 \t0.3162\t+180.000°\n",
      "10001 \t0.3162\t+180.000°\n",
      "01100 \t0.3162\t+180.000°\n",
      "01010 \t0.3162\t+180.000°\n",
      "01001 \t0.3162\t+180.000°\n",
      "00110 \t0.3162\t+180.000°\n",
      "00101 \t0.3162\t+180.000°\n",
      "00011 \t0.3162\t+180.000°\n"
     ]
    }
   ],
   "source": [
    "i = 4\n",
    "print \"EIG:\", \"\\t%.4f\\t%+.4f°\" % (np.abs(l[i]), np.angle(l[i], deg=True))\n",
    "print\n",
    "print \"STATE   MAG       ANGLE\"\n",
    "zzz = zip(p.enum_states(), np.array(v[:, i].transpose())[0].transpose())\n",
    "zzz = sorted(zzz, key=lambda x: np.angle(x[1]))\n",
    "for s, val in zzz:\n",
    "    print s, \"\\t\", \"%.4f\\t%+.3f°\" % (np.abs(val), np.angle(val, deg=True))"
   ]
  },
  {
   "cell_type": "markdown",
   "metadata": {},
   "source": [
    "The eigenvector below is the 2nd eigenvector, which decays the most slowly. Since it has an eigenvalue with imaginary part 4.3°, this eigenvector corresponding to looping through this sequence every ~60 iterations. \n",
    "\n",
    "This mode corresponds to the right 1 moving forward, then the left one moving 1 forward to catch up to it. This pattern COULD sustain itself forever (thats why its an eigenvector) but the probability will spread out and this pattern will decay quickly. "
   ]
  },
  {
   "cell_type": "code",
   "execution_count": 34,
   "metadata": {
    "collapsed": false
   },
   "outputs": [
    {
     "name": "stdout",
     "output_type": "stream",
     "text": [
      "EIG: \t0.8604\t-4.3578°\n",
      "\n",
      "STATE   MAG       ANGLE\n",
      "01100 \t0.4098\t-144.0000°\n",
      "01010 \t0.1790\t-120.4512°\n",
      "00110 \t0.4098\t-72.0000°\n",
      "00101 \t0.1790\t-48.4512°\n",
      "00011 \t0.4098\t-0.0000°\n",
      "10010 \t0.1790\t+23.5488°\n",
      "10001 \t0.4098\t+72.0000°\n",
      "01001 \t0.1790\t+95.5488°\n",
      "11000 \t0.4098\t+144.0000°\n",
      "10100 \t0.1790\t+167.5488°\n"
     ]
    }
   ],
   "source": [
    "i = 6\n",
    "print \"EIG:\", \"\\t%.4f\\t%+.4f°\" % (np.abs(l[i]), np.angle(l[i], deg=True))\n",
    "print\n",
    "print \"STATE   MAG       ANGLE\"\n",
    "zzz = zip(p.enum_states(), np.array(v[:, i].transpose())[0].transpose())\n",
    "zzz = sorted(zzz, key=lambda x: np.angle(x[1]))\n",
    "for s, val in zzz:\n",
    "    print s, \"\\t\", \"%.4f\\t%+.4f°\" % (np.abs(val), np.angle(val, deg=True))"
   ]
  },
  {
   "cell_type": "markdown",
   "metadata": {},
   "source": [
    "It's complex conjugate corresponds to rotating the opposite direction"
   ]
  },
  {
   "cell_type": "code",
   "execution_count": 35,
   "metadata": {
    "collapsed": false
   },
   "outputs": [
    {
     "name": "stdout",
     "output_type": "stream",
     "text": [
      "EIG: \t0.8604\t+4.3578°\n",
      "\n",
      "STATE   MAG       ANGLE\n",
      "10100 \t0.1790\t-167.5488°\n",
      "11000 \t0.4098\t-144.0000°\n",
      "01001 \t0.1790\t-95.5488°\n",
      "10001 \t0.4098\t-72.0000°\n",
      "10010 \t0.1790\t-23.5488°\n",
      "00011 \t0.4098\t+0.0000°\n",
      "00101 \t0.1790\t+48.4512°\n",
      "00110 \t0.4098\t+72.0000°\n",
      "01010 \t0.1790\t+120.4512°\n",
      "01100 \t0.4098\t+144.0000°\n"
     ]
    }
   ],
   "source": [
    "i = 5\n",
    "print \"EIG:\", \"\\t%.4f\\t%+.4f°\" % (np.abs(l[i]), np.angle(l[i], deg=True))\n",
    "print\n",
    "print \"STATE   MAG       ANGLE\"\n",
    "zzz = zip(p.enum_states(), np.array(v[:, i].transpose())[0].transpose())\n",
    "zzz = sorted(zzz, key=lambda x: np.angle(x[1]))\n",
    "for s, val in zzz:\n",
    "    print s, \"\\t\", \"%.4f\\t%+.4f°\" % (np.abs(val), np.angle(val, deg=True))"
   ]
  },
  {
   "cell_type": "markdown",
   "metadata": {},
   "source": [
    "The last eigenvector is not really intuitive, and it decays the most quickly. It alternates between the 1s being right next to each other, and the 1s being two apart as if both moved to the right and left respectively. A reminder that these eigenvectors shouldn't be taken super literally."
   ]
  },
  {
   "cell_type": "code",
   "execution_count": 36,
   "metadata": {
    "collapsed": false
   },
   "outputs": [
    {
     "name": "stdout",
     "output_type": "stream",
     "text": [
      "EIG: \t0.4220\t+25.6917°\n",
      "\n",
      "STATE   MAG       ANGLE\n",
      "01100 \t0.1790\t-156.4512°\n",
      "10010 \t0.4098\t-144.0000°\n",
      "00110 \t0.1790\t-84.4512°\n",
      "01001 \t0.4098\t-72.0000°\n",
      "00011 \t0.1790\t-12.4512°\n",
      "10100 \t0.4098\t+0.0000°\n",
      "10001 \t0.1790\t+59.5488°\n",
      "01010 \t0.4098\t+72.0000°\n",
      "11000 \t0.1790\t+131.5488°\n",
      "00101 \t0.4098\t+144.0000°\n"
     ]
    }
   ],
   "source": [
    "i = 0\n",
    "print \"EIG:\", \"\\t%.4f\\t%+.4f°\" % (np.abs(l[i]), np.angle(l[i], deg=True))\n",
    "print\n",
    "print \"STATE   MAG       ANGLE\"\n",
    "zzz = zip(p.enum_states(), np.array(v[:, i].transpose())[0].transpose())\n",
    "zzz = sorted(zzz, key=lambda x: np.angle(x[1]))\n",
    "for s, val in zzz:\n",
    "    print s, \"\\t\", \"%.4f\\t%+.4f°\" % (np.abs(val), np.angle(val, deg=True))"
   ]
  }
 ],
 "metadata": {
  "kernelspec": {
   "display_name": "Python 2",
   "language": "python",
   "name": "python2"
  },
  "language_info": {
   "codemirror_mode": {
    "name": "ipython",
    "version": 2
   },
   "file_extension": ".py",
   "mimetype": "text/x-python",
   "name": "python",
   "nbconvert_exporter": "python",
   "pygments_lexer": "ipython2",
   "version": "2.7.10"
  }
 },
 "nbformat": 4,
 "nbformat_minor": 1
}
