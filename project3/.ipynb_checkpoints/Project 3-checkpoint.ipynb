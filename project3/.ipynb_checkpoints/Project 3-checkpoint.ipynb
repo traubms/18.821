{
 "cells": [
  {
   "cell_type": "code",
   "execution_count": 1,
   "metadata": {
    "collapsed": true
   },
   "outputs": [],
   "source": [
    "%matplotlib inline"
   ]
  },
  {
   "cell_type": "code",
   "execution_count": 288,
   "metadata": {
    "collapsed": true
   },
   "outputs": [],
   "source": [
    "import numpy as np\n",
    "import pandas as pd\n",
    "import matplotlib.pyplot as plt\n",
    "import seaborn as sns"
   ]
  },
  {
   "cell_type": "code",
   "execution_count": 289,
   "metadata": {
    "collapsed": true
   },
   "outputs": [],
   "source": [
    "import geometry"
   ]
  },
  {
   "cell_type": "code",
   "execution_count": 290,
   "metadata": {
    "collapsed": false
   },
   "outputs": [
    {
     "ename": "SyntaxError",
     "evalue": "invalid syntax (<ipython-input-290-d40e2725ebb6>, line 1)",
     "output_type": "error",
     "traceback": [
      "\u001b[0;36m  File \u001b[0;32m\"<ipython-input-290-d40e2725ebb6>\"\u001b[0;36m, line \u001b[0;32m1\u001b[0m\n\u001b[0;31m    5.__rmul__\u001b[0m\n\u001b[0m             ^\u001b[0m\n\u001b[0;31mSyntaxError\u001b[0m\u001b[0;31m:\u001b[0m invalid syntax\n"
     ]
    }
   ],
   "source": [
    "5.__rmul__"
   ]
  },
  {
   "cell_type": "code",
   "execution_count": 370,
   "metadata": {
    "collapsed": false
   },
   "outputs": [
    {
     "data": {
      "text/plain": [
       "<module 'geometry' from 'geometry.py'>"
      ]
     },
     "execution_count": 370,
     "metadata": {},
     "output_type": "execute_result"
    }
   ],
   "source": [
    "reload(geometry)"
   ]
  },
  {
   "cell_type": "code",
   "execution_count": 371,
   "metadata": {
    "collapsed": true
   },
   "outputs": [],
   "source": [
    "from geometry import Point, Polygon, CircleList"
   ]
  },
  {
   "cell_type": "code",
   "execution_count": 372,
   "metadata": {
    "collapsed": false
   },
   "outputs": [],
   "source": [
    "angles = np.linspace(0, np.pi * 2, 6)[:-1]\n",
    "points = zip(np.cos(angles), np.sin(angles))"
   ]
  },
  {
   "cell_type": "code",
   "execution_count": 373,
   "metadata": {
    "collapsed": false
   },
   "outputs": [],
   "source": [
    "p = Polygon(points)"
   ]
  },
  {
   "cell_type": "code",
   "execution_count": 374,
   "metadata": {
    "collapsed": false
   },
   "outputs": [
    {
     "data": {
      "text/plain": [
       "[(1.0, 0.0),\n",
       " (0.30901699437494745, 0.95105651629515353),\n",
       " (-0.80901699437494734, 0.58778525229247325),\n",
       " (-0.80901699437494745, -0.58778525229247303),\n",
       " (0.30901699437494723, -0.95105651629515364)]"
      ]
     },
     "execution_count": 374,
     "metadata": {},
     "output_type": "execute_result"
    }
   ],
   "source": [
    "points"
   ]
  },
  {
   "cell_type": "code",
   "execution_count": 409,
   "metadata": {
    "collapsed": false
   },
   "outputs": [],
   "source": [
    "a1 = CircleList(p.angles())"
   ]
  },
  {
   "cell_type": "code",
   "execution_count": 413,
   "metadata": {
    "collapsed": true
   },
   "outputs": [],
   "source": [
    "a2 = CircleList(p.angles())"
   ]
  },
  {
   "cell_type": "code",
   "execution_count": 416,
   "metadata": {
    "collapsed": false
   },
   "outputs": [
    {
     "data": {
      "text/plain": [
       "False"
      ]
     },
     "execution_count": 416,
     "metadata": {},
     "output_type": "execute_result"
    }
   ],
   "source": [
    "a1.equals( a2 )"
   ]
  },
  {
   "cell_type": "code",
   "execution_count": 417,
   "metadata": {
    "collapsed": false
   },
   "outputs": [
    {
     "data": {
      "text/plain": [
       "([3.7699111843077491,\n",
       "  1.2566370614359113,\n",
       "  2.5132741228718363,\n",
       "  1.2566370614359208,\n",
       "  3.7699111843077548],\n",
       " [1.2566370614359106,\n",
       "  2.5132741228718376,\n",
       "  1.256637061435913,\n",
       "  3.7699111843077562,\n",
       "  3.7699111843077548])"
      ]
     },
     "execution_count": 417,
     "metadata": {},
     "output_type": "execute_result"
    }
   ],
   "source": [
    "a1, a2"
   ]
  },
  {
   "cell_type": "code",
   "execution_count": 412,
   "metadata": {
    "collapsed": false
   },
   "outputs": [
    {
     "name": "stdout",
     "output_type": "stream",
     "text": [
      "[ 1.25663706  2.51327412  1.25663706  3.76991118  3.76991118]\n"
     ]
    },
    {
     "data": {
      "image/png": "[encoded data removed]",
      "text/plain": [
       "<matplotlib.figure.Figure at 0x13a173a10>"
      ]
     },
     "metadata": {},
     "output_type": "display_data"
    }
   ],
   "source": [
    "p = p.flip(1)\n",
    "plt.figure(figsize=(5, 5))\n",
    "plt.plot(*p.lines())\n",
    "i = 0\n",
    "for point in p.points:\n",
    "    plt.text(point.x, point.y, i, color=\"red\")\n",
    "    i += 1\n",
    "plt.ylim(-2, 2)\n",
    "plt.xlim(-2, 2)\n",
    "print p.angles()"
   ]
  },
  {
   "cell_type": "code",
   "execution_count": 394,
   "metadata": {
    "collapsed": false
   },
   "outputs": [
    {
     "data": {
      "text/plain": [
       "1.25663706"
      ]
     },
     "execution_count": 394,
     "metadata": {},
     "output_type": "execute_result"
    }
   ],
   "source": [
    "2.51327412/2"
   ]
  },
  {
   "cell_type": "code",
   "execution_count": 309,
   "metadata": {
    "collapsed": false
   },
   "outputs": [
    {
     "name": "stdout",
     "output_type": "stream",
     "text": [
      "[0.9424777960769379, 2.199114857512855, 3.4557519189487724, 4.71238898038469, -0.3141592653589795]\n",
      "[ 2.19911486  3.45575192  4.71238898 -0.31415927  0.9424778 ]\n"
     ]
    },
    {
     "data": {
      "text/plain": [
       "0.0"
      ]
     },
     "execution_count": 309,
     "metadata": {},
     "output_type": "execute_result"
    }
   ],
   "source": [
    "p.angles().sum() - 2 * np.pi"
   ]
  },
  {
   "cell_type": "code",
   "execution_count": 377,
   "metadata": {
    "collapsed": false
   },
   "outputs": [
    {
     "data": {
      "text/plain": [
       "[<matplotlib.lines.Line2D at 0x12d1a33d0>]"
      ]
     },
     "execution_count": 377,
     "metadata": {},
     "output_type": "execute_result"
    },
    {
     "data": {
      "image/png": "[encoded data removed]",
      "text/plain": [
       "<matplotlib.figure.Figure at 0x1474c8510>"
      ]
     },
     "metadata": {},
     "output_type": "display_data"
    }
   ],
   "source": [
    "[ 5.02654825  2.51327412  1.25663706  1.25663706  2.51327412]"
   ]
  },
  {
   "cell_type": "code",
   "execution_count": 378,
   "metadata": {
    "collapsed": false
   },
   "outputs": [
    {
     "data": {
      "text/plain": [
       "array([ 1.25663706,  1.25663706,  2.51327412,  5.02654825,  2.51327412])"
      ]
     },
     "execution_count": 378,
     "metadata": {},
     "output_type": "execute_result"
    }
   ],
   "source": []
  },
  {
   "cell_type": "code",
   "execution_count": 369,
   "metadata": {
    "collapsed": false
   },
   "outputs": [
    {
     "data": {
      "text/plain": [
       "(2, 3, 4, 5)"
      ]
     },
     "execution_count": 369,
     "metadata": {},
     "output_type": "execute_result"
    }
   ],
   "source": [
    "(2,3) + (4,5)"
   ]
  },
  {
   "cell_type": "code",
   "execution_count": 295,
   "metadata": {
    "collapsed": false
   },
   "outputs": [],
   "source": [
    "l = CircleList([1,2,3])"
   ]
  },
  {
   "cell_type": "code",
   "execution_count": 249,
   "metadata": {
    "collapsed": false
   },
   "outputs": [
    {
     "name": "stdout",
     "output_type": "stream",
     "text": [
      "STARTING\n",
      "[1, 2, 3]\n"
     ]
    },
    {
     "data": {
      "text/plain": [
       "True"
      ]
     },
     "execution_count": 249,
     "metadata": {},
     "output_type": "execute_result"
    }
   ],
   "source": [
    "l.equals([2,3,1])"
   ]
  },
  {
   "cell_type": "code",
   "execution_count": 278,
   "metadata": {
    "collapsed": false
   },
   "outputs": [],
   "source": [
    "x = p.points[0]"
   ]
  },
  {
   "cell_type": "code",
   "execution_count": 281,
   "metadata": {
    "collapsed": false
   },
   "outputs": [
    {
     "data": {
      "text/plain": [
       "(1.38, -1.90)"
      ]
     },
     "execution_count": 281,
     "metadata": {},
     "output_type": "execute_result"
    }
   ],
   "source": [
    "2 * (p.points[0] - p.points[1])"
   ]
  },
  {
   "cell_type": "code",
   "execution_count": 217,
   "metadata": {
    "collapsed": false,
    "scrolled": true
   },
   "outputs": [
    {
     "data": {
      "image/png": "[encoded data removed]",
      "text/plain": [
       "<matplotlib.figure.Figure at 0x14531b350>"
      ]
     },
     "metadata": {},
     "output_type": "display_data"
    }
   ],
   "source": [
    "plt.figure(figsize=(5, 5))\n",
    "for i in range(1000):\n",
    "    r = np.random.random()\n",
    "    j = int(r *  len(p)) \n",
    "#     j = i % len(p) \n",
    "    p = p.flip(j)\n",
    "    x, y = p.scatter()\n",
    "\n",
    "    plt.scatter(x, y, alpha=.5)"
   ]
  },
  {
   "cell_type": "code",
   "execution_count": 58,
   "metadata": {
    "collapsed": false
   },
   "outputs": [],
   "source": [
    "memo = dict()\n",
    "def G(w, t):\n",
    "    if (w, t) in memo:\n",
    "        return memo[(w, t)]\n",
    "    if t == 0:\n",
    "        result = int(w==0)\n",
    "    elif t >= 2*w + 1:\n",
    "        result = 0\n",
    "    else:\n",
    "        result = .5 * G(w, t-1) + .5 * G(w-1, t-1)\n",
    "    memo[(w, t)] = result\n",
    "    return result"
   ]
  },
  {
   "cell_type": "code",
   "execution_count": 79,
   "metadata": {
    "collapsed": false
   },
   "outputs": [],
   "source": [
    "for i in range(400) :\n",
    "    G(100, i)"
   ]
  },
  {
   "cell_type": "code",
   "execution_count": 80,
   "metadata": {
    "collapsed": false
   },
   "outputs": [
    {
     "data": {
      "text/plain": [
       "{(379, 314): 0.0,\n",
       " (252, 36): 0.0,\n",
       " (289, 22): 0.0,\n",
       " (399, 242): 0.0,\n",
       " (181, 159): 0.0,\n",
       " (238, 115): 0.0,\n",
       " (261, 146): 0.0,\n",
       " (351, 304): 0.0,\n",
       " (208, 66): 0.0,\n",
       " (171, 86): 0.0,\n",
       " (157, 23): 0.0,\n",
       " (360, 157): 0.0,\n",
       " (323, 275): 0.0,\n",
       " (90, 42): 0.0,\n",
       " (400, 235): 0.0,\n",
       " (399, 78): 0.0,\n",
       " (369, 81): 0.0,\n",
       " (332, 35): 0.0,\n",
       " (9, 0): 0,\n",
       " (318, 26): 0.0,\n",
       " (265, 110): 0.0,\n",
       " (251, 85): 0.0,\n",
       " (214, 91): 0.0,\n",
       " (380, 311): 0.0,\n",
       " (237, 90): 0.0,\n",
       " (184, 26): 0.0,\n",
       " (366, 262): 0.0,\n",
       " (49, 52): 4.6127546227126e-12,\n",
       " (312, 241): 0.0,\n",
       " (170, 21): 0.0,\n",
       " (189, 157): 0.0,\n",
       " (119, 90): 0.0,\n",
       " (185, 101): 0.0,\n",
       " (191, 146): 0.0,\n",
       " (322, 248): 0.0,\n",
       " (392, 356): 0.0,\n",
       " (52, 17): 0.0,\n",
       " (345, 9): 0.0,\n",
       " (398, 61): 0.0,\n",
       " (265, 250): 0.0,\n",
       " (331, 106): 0.0,\n",
       " (294, 114): 0.0,\n",
       " (308, 211): 0.0,\n",
       " (354, 201): 0.0,\n",
       " (227, 45): 0.0,\n",
       " (264, 33): 0.0,\n",
       " (181, 75): 0.0,\n",
       " (213, 2): 0.0,\n",
       " (160, 114): 0.0,\n",
       " (309, 145): 0.0,\n",
       " (309, 134): 0.0,\n",
       " (365, 327): 0.0,\n",
       " (261, 216): 0.0,\n",
       " (95, 98): 4.649325294319182e-25,\n",
       " (351, 244): 0.0,\n",
       " (298, 256): 0.0,\n",
       " (230, 146): 0.0,\n",
       " (65, 11): 0.0,\n",
       " (374, 63): 0.0,\n",
       " (76, 151): 0.0016781981694014968,\n",
       " (284, 211): 0.0,\n",
       " (161, 57): 0.0,\n",
       " (344, 126): 0.0,\n",
       " (307, 114): 0.0,\n",
       " (65, 90): 5.827740010595589e-06,\n",
       " (240, 63): 0.0,\n",
       " (293, 11): 0.0,\n",
       " (332, 233): 0.0,\n",
       " (167, 81): 0.0,\n",
       " (226, 126): 0.0,\n",
       " (189, 106): 0.0,\n",
       " (29, 44): 0.00653448117463995,\n",
       " (355, 350): 0.0,\n",
       " (249, 199): 0.0,\n",
       " (122, 63): 0.0,\n",
       " (175, 43): 0.0,\n",
       " (287, 253): 0.0,\n",
       " (341, 287): 0.0,\n",
       " (145, 12): 0.0,\n",
       " (364, 144): 0.0,\n",
       " (94, 57): 0.0,\n",
       " (131, 49): 0.0,\n",
       " (387, 91): 0.0,\n",
       " (373, 110): 0.0,\n",
       " (320, 22): 0.0,\n",
       " (13, 13): 0.0001220703125,\n",
       " (306, 25): 0.0,\n",
       " (269, 99): 0.0,\n",
       " (255, 78): 0.0,\n",
       " (202, 70): 0.0,\n",
       " (191, 166): 0.0,\n",
       " (145, 123): 0.0,\n",
       " (28, 10): 0.0,\n",
       " (188, 21): 0.0,\n",
       " (143, 36): 0.0,\n",
       " (301, 274): 0.0,\n",
       " (84, 102): 7.043629878986045e-12,\n",
       " (377, 212): 0.0,\n",
       " (107, 79): 0.0,\n",
       " (70, 81): 4.237553951187038e-12,\n",
       " (388, 240): 0.0,\n",
       " (400, 109): 0.0,\n",
       " (309, 204): 0.0,\n",
       " (93, 144): 6.345183626193662e-05,\n",
       " (40, 4): 0.0,\n",
       " (349, 6): 0.0,\n",
       " (386, 48): 0.0,\n",
       " (335, 87): 0.0,\n",
       " (282, 65): 0.0,\n",
       " (358, 220): 0.0,\n",
       " (231, 38): 0.0,\n",
       " (268, 44): 0.0,\n",
       " (328, 287): 0.0,\n",
       " (201, 23): 0.0,\n",
       " (164, 109): 0.0,\n",
       " (383, 379): 0.0,\n",
       " (224, 208): 0.0,\n",
       " (97, 70): 0.0,\n",
       " (242, 161): 0.0,\n",
       " (316, 288): 0.0,\n",
       " (86, 123): 1.9686441578284195e-06,\n",
       " (83, 23): 0.0,\n",
       " (376, 11): 0.0,\n",
       " (339, 129): 0.0,\n",
       " (327, 294): 0.0,\n",
       " (69, 40): 0.0,\n",
       " (362, 34): 0.0,\n",
       " (272, 198): 0.0,\n",
       " (139, 129): 0.0,\n",
       " (274, 174): 0.0,\n",
       " (348, 113): 0.0,\n",
       " (311, 127): 0.0,\n",
       " (371, 272): 0.0,\n",
       " (244, 2): 0.0,\n",
       " (281, 56): 0.0,\n",
       " (32, 39): 2.2043084754841402e-05,\n",
       " (100, 199): 0.00111581146552983,\n",
       " (230, 117): 0.0,\n",
       " (177, 127): 0.0,\n",
       " (237, 87): 0.0,\n",
       " (253, 204): 0.0,\n",
       " (392, 152): 0.0,\n",
       " (163, 60): 0.0,\n",
       " (345, 181): 0.0,\n",
       " (96, 9): 0.0,\n",
       " (352, 227): 0.0,\n",
       " (218, 173): 0.0,\n",
       " (266, 182): 0.0,\n",
       " (391, 84): 0.0,\n",
       " (361, 123): 0.0,\n",
       " (324, 9): 0.0,\n",
       " (388, 186): 0.0,\n",
       " (310, 44): 0.0,\n",
       " (257, 80): 0.0,\n",
       " (341, 219): 0.0,\n",
       " (333, 197): 0.0,\n",
       " (206, 109): 0.0,\n",
       " (258, 217): 0.0,\n",
       " (372, 285): 0.0,\n",
       " (319, 310): 0.0,\n",
       " (176, 0): 0,\n",
       " (358, 280): 0.0,\n",
       " (125, 99): 0.0,\n",
       " (72, 113): 0.000459779805555617,\n",
       " (381, 217): 0.0,\n",
       " (294, 206): 0.0,\n",
       " (58, 44): 0.0,\n",
       " (367, 26): 0.0,\n",
       " (247, 79): 0.0,\n",
       " (55, 105): 0.00739678777639741,\n",
       " (81, 133): 0.0010686780009918507,\n",
       " (44, 15): 0.0,\n",
       " (337, 19): 0.0,\n",
       " (390, 39): 0.0,\n",
       " (196, 146): 0.0,\n",
       " (360, 332): 0.0,\n",
       " (323, 64): 0.0,\n",
       " (286, 84): 0.0,\n",
       " (306, 35): 0.0,\n",
       " (346, 227): 0.0,\n",
       " (219, 19): 0.0,\n",
       " (256, 7): 0.0,\n",
       " (274, 228): 0.0,\n",
       " (32, 17): 0.0,\n",
       " (205, 28): 0.0,\n",
       " (152, 88): 0.0,\n",
       " (228, 195): 0.0,\n",
       " (101, 91): 0.0,\n",
       " (100, 137): 1.4193736310522738e-08,\n",
       " (394, 189): 0.0,\n",
       " (193, 133): 0.0,\n",
       " (87, 24): 0.0,\n",
       " (380, 6): 0.0,\n",
       " (343, 242): 0.0,\n",
       " (318, 192): 0.0,\n",
       " (366, 81): 0.0,\n",
       " (313, 75): 0.0,\n",
       " (276, 185): 0.0,\n",
       " (336, 100): 0.0,\n",
       " (299, 104): 0.0,\n",
       " (232, 21): 0.0,\n",
       " (285, 53): 0.0,\n",
       " (271, 239): 0.0,\n",
       " (218, 72): 0.0,\n",
       " (181, 68): 0.0,\n",
       " (298, 238): 0.0,\n",
       " (241, 217): 0.0,\n",
       " (114, 41): 0.0,\n",
       " (341, 161): 0.0,\n",
       " (333, 265): 0.0,\n",
       " (100, 20): 0.0,\n",
       " (63, 96): 0.00035216823111801755,\n",
       " (356, 254): 0.0,\n",
       " (393, 76): 0.0,\n",
       " (245, 198): 0.0,\n",
       " (379, 183): 0.0,\n",
       " (342, 57): 0.0,\n",
       " (289, 163): 0.0,\n",
       " (365, 120): 0.0,\n",
       " (312, 124): 0.0,\n",
       " (275, 112): 0.0,\n",
       " (321, 135): 0.0,\n",
       " (298, 51): 0.0,\n",
       " (261, 77): 0.0,\n",
       " (109, 69): 0.0,\n",
       " (247, 116): 0.0,\n",
       " (194, 96): 0.0,\n",
       " (180, 51): 0.0,\n",
       " (33, 47): 0.0014279558964602757,\n",
       " (113, 112): 0.0,\n",
       " (37, 48): 5.703698658976464e-05,\n",
       " (369, 206): 0.0,\n",
       " (161, 129): 0.0,\n",
       " (62, 32): 0.0,\n",
       " (62, 59): 0.0,\n",
       " (355, 15): 0.0,\n",
       " (392, 3): 0.0,\n",
       " (378, 372): 0.0,\n",
       " (341, 96): 0.0,\n",
       " (288, 84): 0.0,\n",
       " (28, 22): 0.0,\n",
       " (217, 154): 0.0,\n",
       " (327, 77): 0.0,\n",
       " (274, 91): 0.0,\n",
       " (350, 246): 0.0,\n",
       " (223, 12): 0.0,\n",
       " (260, 26): 0.0,\n",
       " (83, 121): 8.07984690369332e-06,\n",
       " (320, 293): 0.0,\n",
       " (193, 41): 0.0,\n",
       " (156, 91): 0.0,\n",
       " (375, 321): 0.0,\n",
       " (89, 104): 1.9602076396503543e-14,\n",
       " (398, 136): 0.0,\n",
       " (298, 148): 0.0,\n",
       " (368, 17): 0.0,\n",
       " (331, 231): 0.0,\n",
       " (251, 249): 0.0,\n",
       " (250, 174): 0.0,\n",
       " (354, 92): 0.0,\n",
       " (317, 72): 0.0,\n",
       " (264, 172): 0.0,\n",
       " (377, 293): 0.0,\n",
       " (250, 29): 0.0,\n",
       " (303, 21): 0.0,\n",
       " (363, 278): 0.0,\n",
       " (236, 24): 0.0,\n",
       " (273, 34): 0.0,\n",
       " (283, 232): 0.0,\n",
       " (57, 55): 0.0,\n",
       " (222, 95): 0.0,\n",
       " (169, 81): 0.0,\n",
       " (247, 219): 0.0,\n",
       " (245, 230): 0.0,\n",
       " (118, 28): 0.0,\n",
       " (155, 2): 0.0,\n",
       " (87, 69): 0.0,\n",
       " (88, 95): 2.5700398916021823e-19,\n",
       " (51, 85): 0.00550443535134156,\n",
       " (344, 201): 0.0,\n",
       " (397, 65): 0.0,\n",
       " (7, 5): 0.0,\n",
       " (205, 164): 0.0,\n",
       " (383, 168): 0.0,\n",
       " (330, 36): 0.0,\n",
       " (293, 176): 0.0,\n",
       " (184, 174): 0.0,\n",
       " (353, 141): 0.0,\n",
       " (316, 119): 0.0,\n",
       " (279, 125): 0.0,\n",
       " (249, 76): 0.0,\n",
       " (212, 64): 0.0,\n",
       " (235, 97): 0.0,\n",
       " (198, 119): 0.0,\n",
       " (307, 158): 0.0,\n",
       " (364, 267): 0.0,\n",
       " (311, 268): 0.0,\n",
       " (168, 38): 0.0,\n",
       " (350, 306): 0.0,\n",
       " (117, 77): 0.0,\n",
       " (144, 92): 0.0,\n",
       " (373, 243): 0.0,\n",
       " (283, 279): 0.0,\n",
       " (389, 282): 0.0,\n",
       " (393, 387): 0.0,\n",
       " (359, 0): 0,\n",
       " (396, 14): 0.0,\n",
       " (270, 191): 0.0,\n",
       " (329, 117): 0.0,\n",
       " (292, 79): 0.0,\n",
       " (295, 284): 0.0,\n",
       " (352, 306): 0.0,\n",
       " (225, 36): 0.0,\n",
       " (278, 46): 0.0,\n",
       " (248, 131): 0.0,\n",
       " (391, 261): 0.0,\n",
       " (174, 111): 0.0,\n",
       " (340, 339): 0.0,\n",
       " (320, 318): 0.0,\n",
       " (197, 54): 0.0,\n",
       " (144, 78): 0.0,\n",
       " (283, 162): 0.0,\n",
       " (130, 17): 0.0,\n",
       " (386, 135): 0.0,\n",
       " (236, 165): 0.0,\n",
       " (79, 54): 0.0,\n",
       " (372, 44): 0.0,\n",
       " (335, 216): 0.0,\n",
       " (199, 51): 0.0,\n",
       " (358, 75): 0.0,\n",
       " (305, 93): 0.0,\n",
       " (268, 167): 0.0,\n",
       " (254, 8): 0.0,\n",
       " (291, 30): 0.0,\n",
       " (376, 361): 0.0,\n",
       " (224, 107): 0.0,\n",
       " (187, 81): 0.0,\n",
       " (207, 132): 0.0,\n",
       " (210, 82): 0.0,\n",
       " (173, 94): 0.0,\n",
       " (376, 150): 0.0,\n",
       " (339, 266): 0.0,\n",
       " (106, 3): 0.0,\n",
       " (159, 31): 0.0,\n",
       " (325, 291): 0.0,\n",
       " (217, 170): 0.0,\n",
       " (55, 94): 0.006435041111722262,\n",
       " (348, 196): 0.0,\n",
       " (385, 118): 0.0,\n",
       " (371, 157): 0.0,\n",
       " (334, 19): 0.0,\n",
       " (281, 133): 0.0,\n",
       " (387, 189): 0.0,\n",
       " (357, 146): 0.0,\n",
       " (304, 98): 0.0,\n",
       " (267, 118): 0.0,\n",
       " (85, 29): 0.0,\n",
       " (253, 65): 0.0,\n",
       " (200, 83): 0.0,\n",
       " (238, 235): 0.0,\n",
       " (382, 319): 0.0,\n",
       " (213, 200): 0.0,\n",
       " (239, 146): 0.0,\n",
       " (186, 10): 0.0,\n",
       " (149, 134): 0.0,\n",
       " (240, 197): 0.0,\n",
       " (299, 268): 0.0,\n",
       " (198, 137): 0.0,\n",
       " (172, 41): 0.0,\n",
       " (105, 90): 0.0,\n",
       " (68, 106): 0.0004893793238617509,\n",
       " (361, 224): 0.0,\n",
       " (230, 218): 0.0,\n",
       " (183, 183): 8.156630584998156e-56,\n",
       " (54, 13): 0.0,\n",
       " (347, 53): 0.0,\n",
       " (384, 57): 0.0,\n",
       " (370, 366): 0.0,\n",
       " (333, 122): 0.0,\n",
       " (280, 122): 0.0,\n",
       " (100, 347): 0,\n",
       " (229, 57): 0.0,\n",
       " (266, 53): 0.0,\n",
       " (32, 59): 0.015266399648636079,\n",
       " (252, 142): 0.0,\n",
       " (215, 122): 0.0,\n",
       " (162, 98): 0.0,\n",
       " (381, 366): 0.0,\n",
       " (111, 69): 0.0,\n",
       " (148, 49): 0.0,\n",
       " (367, 175): 0.0,\n",
       " (314, 281): 0.0,\n",
       " (81, 114): 1.4538052563868014e-06,\n",
       " (134, 4): 0.0,\n",
       " (390, 146): 0.0,\n",
       " (67, 35): 0.0,\n",
       " (360, 55): 0.0,\n",
       " (323, 205): 0.0,\n",
       " (200, 179): 0.0,\n",
       " (346, 118): 0.0,\n",
       " (309, 98): 0.0,\n",
       " (256, 146): 0.0,\n",
       " (369, 319): 0.0,\n",
       " (242, 7): 0.0,\n",
       " (295, 19): 0.0,\n",
       " (228, 118): 0.0,\n",
       " (191, 66): 0.0,\n",
       " (387, 231): 0.0,\n",
       " (357, 342): 0.0,\n",
       " (394, 288): 0.0,\n",
       " (124, 39): 0.0,\n",
       " (340, 160): 0.0,\n",
       " (380, 153): 0.0,\n",
       " (316, 304): 0.0,\n",
       " (57, 106): 0.008893596918082185,\n",
       " (213, 158): 0.0,\n",
       " (313, 208): 0.0,\n",
       " (80, 69): 0.0,\n",
       " (43, 75): 0.011266063659309714,\n",
       " (336, 223): 0.0,\n",
       " (389, 107): 0.0,\n",
       " (375, 150): 0.0,\n",
       " (322, 30): 0.0,\n",
       " (285, 138): 0.0,\n",
       " (320, 130): 0.0,\n",
       " (308, 93): 0.0,\n",
       " (271, 75): 0.0,\n",
       " (241, 86): 0.0,\n",
       " (204, 94): 0.0,\n",
       " (400, 277): 0.0,\n",
       " (190, 25): 0.0,\n",
       " (87, 143): 0.0008387684176679672,\n",
       " (356, 353): 0.0,\n",
       " (393, 249): 0.0,\n",
       " (123, 86): 0.0,\n",
       " (86, 94): 5.103195256903835e-18,\n",
       " (342, 180): 0.0,\n",
       " (316, 252): 0.0,\n",
       " (56, 29): 0.0,\n",
       " (365, 237): 0.0,\n",
       " (275, 253): 0.0,\n",
       " (312, 312): 1.1985091468012028e-94,\n",
       " (42, 16): 0.0,\n",
       " (351, 46): 0.0,\n",
       " (388, 36): 0.0,\n",
       " (238, 215): 0.0,\n",
       " (321, 79): 0.0,\n",
       " (284, 117): 0.0,\n",
       " (343, 274): 0.0,\n",
       " (217, 14): 0.0,\n",
       " (270, 0): 0,\n",
       " (296, 198): 0.0,\n",
       " (240, 153): 0.0,\n",
       " (203, 111): 0.0,\n",
       " (166, 113): 0.0,\n",
       " (84, 128): 6.204435298999192e-05,\n",
       " (332, 329): 0.0,\n",
       " (99, 46): 0.0,\n",
       " (136, 36): 0.0,\n",
       " (355, 184): 0.0,\n",
       " (300, 278): 0.0,\n",
       " (297, 147): 0.0,\n",
       " (378, 251): 0.0,\n",
       " (288, 239): 0.0,\n",
       " (340, 234): 0.0,\n",
       " (71, 44): 0.0,\n",
       " (364, 58): 0.0,\n",
       " (327, 198): 0.0,\n",
       " (202, 170): 0.0,\n",
       " (350, 125): 0.0,\n",
       " (297, 119): 0.0,\n",
       " (260, 141): 0.0,\n",
       " (82, 58): 0.0,\n",
       " (246, 50): 0.0,\n",
       " (283, 36): 0.0,\n",
       " (216, 65): 0.0,\n",
       " (269, 201): 0.0,\n",
       " (320, 220): 0.0,\n",
       " (112, 50): 0.0,\n",
       " (165, 8): 0.0,\n",
       " (368, 140): 0.0,\n",
       " (331, 272): 0.0,\n",
       " (98, 125): 3.135973980011718e-11,\n",
       " (61, 103): 0.004417008937945305,\n",
       " (317, 221): 0.0,\n",
       " (47, 52): 5.169720207476303e-10,\n",
       " (340, 34): 0.0,\n",
       " (273, 215): 0.0,\n",
       " (363, 131): 0.0,\n",
       " (326, 21): 0.0,\n",
       " (316, 182): 0.0,\n",
       " (349, 172): 0.0,\n",
       " (296, 72): 0.0,\n",
       " (259, 92): 0.0,\n",
       " (245, 107): 0.0,\n",
       " (192, 105): 0.0,\n",
       " (374, 257): 0.0,\n",
       " (231, 136): 0.0,\n",
       " (178, 20): 0.0,\n",
       " (141, 96): 0.0,\n",
       " (179, 147): 0.0,\n",
       " (397, 246): 0.0,\n",
       " (127, 75): 0.0,\n",
       " (229, 171): 0.0,\n",
       " (330, 171): 0.0,\n",
       " (97, 172): 0.0035066704184467676,\n",
       " (60, 16): 0.0,\n",
       " (353, 26): 0.0,\n",
       " (225, 172): 0.0,\n",
       " (279, 246): 0.0,\n",
       " (376, 357): 0.0,\n",
       " (339, 91): 0.0,\n",
       " (302, 77): 0.0,\n",
       " (297, 217): 0.0,\n",
       " (291, 173): 0.0,\n",
       " (362, 344): 0.0,\n",
       " (325, 84): 0.0,\n",
       " (272, 96): 0.0,\n",
       " (221, 3): 0.0,\n",
       " (258, 15): 0.0,\n",
       " (244, 164): 0.0,\n",
       " (207, 80): 0.0,\n",
       " (154, 76): 0.0,\n",
       " (282, 175): 0.0,\n",
       " (140, 47): 0.0,\n",
       " (359, 181): 0.0,\n",
       " (306, 259): 0.0,\n",
       " (73, 20): 0.0,\n",
       " (382, 238): 0.0,\n",
       " (292, 242): 0.0,\n",
       " (201, 163): 0.0,\n",
       " (352, 77): 0.0,\n",
       " (315, 51): 0.0,\n",
       " (248, 14): 0.0,\n",
       " (301, 124): 0.0,\n",
       " (33, 17): 0.0,\n",
       " (361, 273): 0.0,\n",
       " (234, 33): 0.0,\n",
       " (287, 57): 0.0,\n",
       " (220, 76): 0.0,\n",
       " (183, 120): 0.0,\n",
       " (349, 272): 0.0,\n",
       " (386, 282): 0.0,\n",
       " (116, 13): 0.0,\n",
       " (153, 61): 0.0,\n",
       " (372, 183): 0.0,\n",
       " (396, 155): 0.0,\n",
       " (269, 233): 0.0,\n",
       " (395, 72): 0.0,\n",
       " (258, 251): 0.0,\n",
       " (35, 33): 0.0,\n",
       " (328, 53): 0.0,\n",
       " (222, 184): 0.0,\n",
       " (314, 104): 0.0,\n",
       " (277, 100): 0.0,\n",
       " (84, 28): 0.0,\n",
       " (337, 185): 0.0,\n",
       " (300, 75): 0.0,\n",
       " (263, 81): 0.0,\n",
       " (302, 207): 0.0,\n",
       " (233, 120): 0.0,\n",
       " (196, 116): 0.0,\n",
       " (159, 128): 0.0,\n",
       " (329, 200): 0.0,\n",
       " (219, 189): 0.0,\n",
       " (182, 35): 0.0,\n",
       " (129, 85): 0.0,\n",
       " (385, 195): 0.0,\n",
       " (39, 67): 0.01192160253276532,\n",
       " (78, 112): 6.479019786119587e-06,\n",
       " (334, 158): 0.0,\n",
       " (281, 274): 0.0,\n",
       " (48, 3): 0.0,\n",
       " (357, 7): 0.0,\n",
       " (394, 19): 0.0,\n",
       " (267, 227): 0.0,\n",
       " (307, 191): 0.0,\n",
       " (343, 84): 0.0,\n",
       " (290, 64): 0.0,\n",
       " (239, 39): 0.0,\n",
       " (276, 19): 0.0,\n",
       " (336, 270): 0.0,\n",
       " (209, 16): 0.0,\n",
       " (262, 26): 0.0,\n",
       " (175, 87): 0.0,\n",
       " (326, 177): 0.0,\n",
       " (195, 69): 0.0,\n",
       " (158, 91): 0.0,\n",
       " (278, 147): 0.0,\n",
       " (91, 20): 0.0,\n",
       " (128, 26): 0.0,\n",
       " (347, 142): 0.0,\n",
       " (77, 25): 0.0,\n",
       " (370, 229): 0.0,\n",
       " (280, 197): 0.0,\n",
       " (356, 80): 0.0,\n",
       " (319, 44): 0.0,\n",
       " (306, 207): 0.0,\n",
       " (379, 273): 0.0,\n",
       " (252, 1): 0.0,\n",
       " (289, 9): 0.0,\n",
       " (238, 84): 0.0,\n",
       " (185, 72): 0.0,\n",
       " (208, 103): 0.0,\n",
       " (171, 109): 0.0,\n",
       " (192, 184): 0.0,\n",
       " (259, 248): 0.0,\n",
       " (275, 263): 0.0,\n",
       " (104, 24): 0.0,\n",
       " (157, 50): 0.0,\n",
       " (360, 162): 0.0,\n",
       " (390, 260): 0.0,\n",
       " (90, 87): 0.0,\n",
       " (329, 182): 0.0,\n",
       " (399, 117): 0.0,\n",
       " (39, 50): 2.4053168905524558e-05,\n",
       " (332, 56): 0.0,\n",
       " (64, 64): 5.421010862427522e-20,\n",
       " (318, 127): 0.0,\n",
       " (265, 113): 0.0,\n",
       " (251, 72): 0.0,\n",
       " (214, 60): 0.0,\n",
       " (380, 300): 0.0,\n",
       " (325, 156): 0.0,\n",
       " (274, 129): 0.0,\n",
       " (147, 117): 0.0,\n",
       " (366, 363): 0.0,\n",
       " (268, 262): 0.0,\n",
       " (223, 166): 0.0,\n",
       " (170, 62): 0.0,\n",
       " (133, 74): 0.0,\n",
       " (389, 208): 0.0,\n",
       " (119, 113): 0.0,\n",
       " (66, 127): 0.0057390267407593995,\n",
       " (326, 239): 0.0,\n",
       " (322, 149): 0.0,\n",
       " (89, 134): 2.3170759314569046e-05,\n",
       " (52, 62): 1.8915499041443143e-08,\n",
       " (345, 44): 0.0,\n",
       " (398, 38): 0.0,\n",
       " (271, 220): 0.0,\n",
       " (331, 65): 0.0,\n",
       " (294, 87): 0.0,\n",
       " (176, 168): 0.0,\n",
       " (354, 290): 0.0,\n",
       " (227, 48): 0.0,\n",
       " (264, 6): 0.0,\n",
       " (64, 117): 0.008132065538017062,\n",
       " (393, 358): 0.0,\n",
       " (306, 133): 0.0,\n",
       " (160, 87): 0.0,\n",
       " (338, 316): 0.0,\n",
       " (199, 78): 0.0,\n",
       " (146, 86): 0.0,\n",
       " (365, 354): 0.0,\n",
       " (211, 182): 0.0,\n",
       " (95, 9): 0.0,\n",
       " (132, 5): 0.0,\n",
       " (351, 147): 0.0,\n",
       " (65, 46): 0.0,\n",
       " (374, 208): 0.0,\n",
       " (284, 200): 0.0,\n",
       " (344, 99): 0.0,\n",
       " (307, 25): 0.0,\n",
       " (255, 250): 0.0,\n",
       " (328, 240): 0.0,\n",
       " (240, 20): 0.0,\n",
       " (293, 22): 0.0,\n",
       " (207, 152): 0.0,\n",
       " (276, 269): 0.0,\n",
       " (226, 91): 0.0,\n",
       " (189, 69): 0.0,\n",
       " (355, 293): 0.0,\n",
       " (164, 152): 0.0,\n",
       " (122, 24): 0.0,\n",
       " (175, 22): 0.0,\n",
       " (287, 245): 0.0,\n",
       " (268, 259): 0.0,\n",
       " (108, 27): 0.0,\n",
       " (145, 39): 0.0,\n",
       " (364, 173): 0.0,\n",
       " (235, 204): 0.0,\n",
       " (94, 66): 0.0,\n",
       " (277, 260): 0.0,\n",
       " (387, 126): 0.0,\n",
       " (11, 2): 0.0,\n",
       " (27, 7): 0.0,\n",
       " (320, 11): 0.0,\n",
       " (315, 177): 0.0,\n",
       " (83, 132): 0.0003565809678098847,\n",
       " (306, 114): 0.0,\n",
       " (269, 126): 0.0,\n",
       " (188, 161): 0.0,\n",
       " (255, 85): 0.0,\n",
       " (202, 35): 0.0,\n",
       " (188, 114): 0.0,\n",
       " (151, 126): 0.0,\n",
       " (121, 81): 0.0,\n",
       " (285, 263): 0.0,\n",
       " (377, 63): 0.0,\n",
       " (107, 98): 0.0,\n",
       " (338, 242): 0.0,\n",
       " (201, 167): 0.0,\n",
       " (400, 2): 0.0,\n",
       " (93, 139): 1.1068997477453323e-05,\n",
       " (63, 48): 0.0,\n",
       " (349, 33): 0.0,\n",
       " (386, 45): 0.0,\n",
       " (259, 201): 0.0,\n",
       " (335, 114): 0.0,\n",
       " (282, 106): 0.0,\n",
       " (207, 179): 0.0,\n",
       " (231, 61): 0.0,\n",
       " (268, 9): 0.0,\n",
       " (44, 80): 0.011973567548154165,\n",
       " (334, 304): 0.0,\n",
       " (201, 122): 0.0,\n",
       " (164, 74): 0.0,\n",
       " (383, 326): 0.0,\n",
       " (97, 57): 0.0,\n",
       " (150, 45): 0.0,\n",
       " (316, 285): 0.0,\n",
       " (173, 132): 0.0,\n",
       " (339, 228): 0.0,\n",
       " (290, 134): 0.0,\n",
       " (362, 207): 0.0,\n",
       " (272, 219): 0.0,\n",
       " (348, 110): 0.0,\n",
       " (311, 26): 0.0,\n",
       " (371, 311): 0.0,\n",
       " (244, 47): 0.0,\n",
       " (281, 35): 0.0,\n",
       " (230, 78): 0.0,\n",
       " (177, 82): 0.0,\n",
       " (396, 308): 0.0,\n",
       " (126, 15): 0.0,\n",
       " (163, 3): 0.0,\n",
       " (305, 30): 0.0,\n",
       " (59, 82): 1.6908278615411515e-05,\n",
       " (352, 216): 0.0,\n",
       " (82, 81): 0.0,\n",
       " (45, 91): 0,\n",
       " (391, 115): 0.0,\n",
       " (98, 196): 0.0005749404791394171,\n",
       " (221, 167): 0.0,\n",
       " (309, 276): 0.0,\n",
       " (324, 22): 0.0,\n",
       " (248, 214): 0.0,\n",
       " (36, 19): 0.0,\n",
       " (310, 65): 0.0,\n",
       " (257, 75): 0.0,\n",
       " (69, 135): 0.0037893083104623406,\n",
       " (391, 182): 0.0,\n",
       " (310, 307): 0.0,\n",
       " (206, 22): 0.0,\n",
       " (372, 314): 0.0,\n",
       " (319, 285): 0.0,\n",
       " (176, 101): 0.0,\n",
       " (139, 107): 0.0,\n",
       " (125, 94): 0.0,\n",
       " (392, 309): 0.0,\n",
       " (381, 52): 0.0,\n",
       " (217, 181): 0.0,\n",
       " (58, 9): 0.0,\n",
       " (367, 1): 0.0,\n",
       " (314, 255): 0.0,\n",
       " (48, 64): 1.7835556014774703e-05,\n",
       " (81, 152): 0.006249673255770811,\n",
       " (44, 36): 0.0,\n",
       " (337, 54): 0.0,\n",
       " (390, 56): 0.0,\n",
       " (263, 202): 0.0,\n",
       " (360, 337): 0.0,\n",
       " (323, 103): 0.0,\n",
       " (286, 121): 0.0,\n",
       " (346, 268): 0.0,\n",
       " (219, 54): 0.0,\n",
       " (256, 60): 0.0,\n",
       " (74, 85): 4.706150356962029e-13,\n",
       " (385, 344): 0.0,\n",
       " (205, 119): 0.0,\n",
       " (152, 125): 0.0,\n",
       " (277, 144): 0.0,\n",
       " (293, 267): 0.0,\n",
       " (101, 38): 0.0,\n",
       " (138, 48): 0.0,\n",
       " (394, 134): 0.0,\n",
       " (87, 119): 9.624011275637268e-08,\n",
       " (343, 233): 0.0,\n",
       " (366, 186): 0.0,\n",
       " (313, 46): 0.0,\n",
       " (395, 214): 0.0,\n",
       " (336, 121): 0.0,\n",
       " (299, 15): 0.0,\n",
       " (232, 58): 0.0,\n",
       " (285, 80): 0.0,\n",
       " (265, 234): 0.0,\n",
       " (218, 117): 0.0,\n",
       " (338, 94): 0.0,\n",
       " (347, 283): 0.0,\n",
       " (114, 2): 0.0,\n",
       " (167, 12): 0.0,\n",
       " (391, 232): 0.0,\n",
       " (100, 113): 3.221253526760671e-18,\n",
       " (328, 179): 0.0,\n",
       " (356, 219): 0.0,\n",
       " (393, 87): 0.0,\n",
       " (257, 251): 0.0,\n",
       " (379, 170): 0.0,\n",
       " (342, 18): 0.0,\n",
       " (289, 134): 0.0,\n",
       " (312, 97): 0.0,\n",
       " (275, 87): 0.0,\n",
       " (296, 288): 0.0,\n",
       " (351, 320): 0.0,\n",
       " (298, 92): 0.0,\n",
       " (261, 104): 0.0,\n",
       " (324, 157): 0.0,\n",
       " (194, 29): 0.0,\n",
       " (389, 317): 0.0,\n",
       " (180, 88): 0.0,\n",
       " (143, 84): 0.0,\n",
       " (305, 141): 0.0,\n",
       " (76, 89): 1.8880230084829266e-12,\n",
       " (369, 33): 0.0,\n",
       " (136, 72): 0.0,\n",
       " (355, 18): 0.0,\n",
       " (392, 104): 0.0,\n",
       " (66, 129): 0.004043471989393208,\n",
       " (304, 247): 0.0,\n",
       " (378, 337): 0.0,\n",
       " (341, 75): 0.0,\n",
       " (288, 73): 0.0,\n",
       " (77, 153): 0.001645925127682237,\n",
       " (327, 104): 0.0,\n",
       " (274, 116): 0.0,\n",
       " (384, 346): 0.0,\n",
       " (223, 43): 0.0,\n",
       " (260, 39): 0.0,\n",
       " (337, 315): 0.0,\n",
       " (257, 204): 0.0,\n",
       " (193, 76): 0.0,\n",
       " (156, 112): 0.0,\n",
       " (300, 201): 0.0,\n",
       " (89, 19): 0.0,\n",
       " (142, 7): 0.0,\n",
       " (343, 334): 0.0,\n",
       " (398, 173): 0.0,\n",
       " (248, 106): 0.0,\n",
       " (75, 96): 7.146354040213397e-09,\n",
       " (331, 250): 0.0,\n",
       " (126, 42): 0.0,\n",
       " (98, 195): 0.0011498809582788341,\n",
       " (301, 160): 0.0,\n",
       " (354, 185): 0.0,\n",
       " (317, 35): 0.0,\n",
       " (264, 177): 0.0,\n",
       " (328, 253): 0.0,\n",
       " (377, 264): 0.0,\n",
       " (250, 6): 0.0,\n",
       " (303, 112): 0.0,\n",
       " (206, 153): 0.0,\n",
       " (363, 301): 0.0,\n",
       " (236, 53): 0.0,\n",
       " (273, 69): 0.0,\n",
       " (79, 149): 0.0062258698803361115,\n",
       " (246, 133): 0.0,\n",
       " (222, 96): 0.0,\n",
       " (169, 116): 0.0,\n",
       " (286, 268): 0.0,\n",
       " (388, 274): 0.0,\n",
       " (118, 49): 0.0,\n",
       " (155, 57): 0.0,\n",
       " (324, 199): 0.0,\n",
       " (88, 68): 0.0,\n",
       " (344, 238): 0.0,\n",
       " (397, 92): 0.0,\n",
       " (383, 183): 0.0,\n",
       " (330, 1): 0.0,\n",
       " (293, 155): 0.0,\n",
       " (353, 352): 0.0,\n",
       " (316, 108): 0.0,\n",
       " (279, 88): 0.0,\n",
       " (187, 162): 0.0,\n",
       " (249, 183): 0.0,\n",
       " (212, 45): 0.0,\n",
       " (181, 23): 0.0,\n",
       " (198, 8): 0.0,\n",
       " (206, 182): 0.0,\n",
       " (364, 288): 0.0,\n",
       " (311, 299): 0.0,\n",
       " (168, 75): 0.0,\n",
       " (384, 276): 0.0,\n",
       " (350, 343): 0.0,\n",
       " (305, 248): 0.0,\n",
       " (117, 104): 0.0,\n",
       " (82, 52): 0.0,\n",
       " (373, 30): 0.0,\n",
       " (183, 156): 0.0,\n",
       " (283, 266): 0.0,\n",
       " (92, 177): 0.004489063871804949,\n",
       " (50, 19): 0.0,\n",
       " (359, 31): 0.0,\n",
       " (396, 107): 0.0,\n",
       " (343, 256): 0.0,\n",
       " (329, 88): 0.0,\n",
       " (292, 84): 0.0,\n",
       " (352, 279): 0.0,\n",
       " (225, 31): 0.0,\n",
       " (278, 3): 0.0,\n",
       " (301, 214): 0.0,\n",
       " (338, 278): 0.0,\n",
       " (211, 92): 0.0,\n",
       " (174, 80): 0.0,\n",
       " (214, 129): 0.0,\n",
       " (197, 81): 0.0,\n",
       " (144, 99): 0.0,\n",
       " (261, 200): 0.0,\n",
       " (165, 149): 0.0,\n",
       " (93, 0): 0,\n",
       " (130, 10): 0.0,\n",
       " (386, 160): 0.0,\n",
       " (286, 186): 0.0,\n",
       " (335, 199): 0.0,\n",
       " (358, 172): 0.0,\n",
       " (305, 48): 0.0,\n",
       " (268, 188): 0.0,\n",
       " (291, 101): 0.0,\n",
       " (332, 166): 0.0,\n",
       " (224, 64): 0.0,\n",
       " (187, 52): 0.0,\n",
       " (266, 216): 0.0,\n",
       " (120, 17): 0.0,\n",
       " (173, 121): 0.0,\n",
       " (376, 123): 0.0,\n",
       " (230, 153): 0.0,\n",
       " (159, 58): 0.0,\n",
       " (92, 79): 0.0,\n",
       " (300, 270): 0.0,\n",
       " (348, 225): 0.0,\n",
       " (385, 105): 0.0,\n",
       " (384, 174): 0.0,\n",
       " (371, 128): 0.0,\n",
       " (334, 52): 0.0,\n",
       " (281, 168): 0.0,\n",
       " (299, 241): 0.0,\n",
       " (304, 71): 0.0,\n",
       " (267, 77): 0.0,\n",
       " (210, 183): 0.0,\n",
       " (253, 188): 0.0,\n",
       " (200, 56): 0.0,\n",
       " (163, 140): 0.0,\n",
       " (382, 256): 0.0,\n",
       " (186, 119): 0.0,\n",
       " (149, 97): 0.0,\n",
       " (290, 194): 0.0,\n",
       " (172, 70): 0.0,\n",
       " (135, 82): 0.0,\n",
       " (243, 123): 0.0,\n",
       " (374, 358): 0.0,\n",
       " (203, 128): 0.0,\n",
       " (361, 11): 0.0,\n",
       " (205, 145): 0.0,\n",
       " (54, 38): 0.0,\n",
       " (347, 40): 0.0,\n",
       " (384, 94): 0.0,\n",
       " (370, 331): 0.0,\n",
       " (333, 85): 0.0,\n",
       " (280, 31): 0.0,\n",
       " (286, 224): 0.0,\n",
       " (229, 4): 0.0,\n",
       " (266, 30): 0.0,\n",
       " (395, 382): 0.0,\n",
       " (302, 137): 0.0,\n",
       " (162, 95): 0.0,\n",
       " (381, 329): 0.0,\n",
       " (111, 32): 0.0,\n",
       " (148, 30): 0.0,\n",
       " (367, 138): 0.0,\n",
       " (314, 258): 0.0,\n",
       " (81, 21): 0.0,\n",
       " (134, 25): 0.0,\n",
       " (266, 142): 0.0,\n",
       " (390, 183): 0.0,\n",
       " (397, 393): 0.0,\n",
       " (309, 257): 0.0,\n",
       " (323, 208): 0.0,\n",
       " (346, 147): 0.0,\n",
       " (309, 13): 0.0,\n",
       " (256, 183): 0.0,\n",
       " (369, 274): 0.0,\n",
       " (387, 387): 3.1724272966445615e-117,\n",
       " (295, 110): 0.0,\n",
       " (310, 250): 0.0,\n",
       " (228, 83): 0.0,\n",
       " (191, 41): 0.0,\n",
       " (357, 305): 0.0,\n",
       " (394, 269): 0.0,\n",
       " (124, 28): 0.0,\n",
       " (161, 14): 0.0,\n",
       " ...}"
      ]
     },
     "execution_count": 80,
     "metadata": {},
     "output_type": "execute_result"
    }
   ],
   "source": [
    "memo"
   ]
  },
  {
   "cell_type": "code",
   "execution_count": 86,
   "metadata": {
    "collapsed": false
   },
   "outputs": [],
   "source": [
    "t, p = zip(*sorted([(t, memo[(w, t)] * (2*w - t + 1)) for w, t in memo if w == 100], key=lambda x: x[0]))"
   ]
  },
  {
   "cell_type": "code",
   "execution_count": 87,
   "metadata": {
    "collapsed": false
   },
   "outputs": [
    {
     "data": {
      "text/plain": [
       "[<matplotlib.lines.Line2D at 0x10a90d0d0>]"
      ]
     },
     "execution_count": 87,
     "metadata": {},
     "output_type": "execute_result"
    },
    {
     "data": {
      "image/png": "[encoded data removed]",
      "text/plain": [
       "<matplotlib.figure.Figure at 0x109891d50>"
      ]
     },
     "metadata": {},
     "output_type": "display_data"
    }
   ],
   "source": [
    "plt.plot(t, np.log(p))"
   ]
  },
  {
   "cell_type": "code",
   "execution_count": 88,
   "metadata": {
    "collapsed": false
   },
   "outputs": [
    {
     "data": {
      "text/plain": [
       "[<matplotlib.lines.Line2D at 0x109cae3d0>]"
      ]
     },
     "execution_count": 88,
     "metadata": {},
     "output_type": "execute_result"
    },
    {
     "data": {
      "image/png": "[encoded data removed]",
      "text/plain": [
       "<matplotlib.figure.Figure at 0x10a8f5310>"
      ]
     },
     "metadata": {},
     "output_type": "display_data"
    }
   ],
   "source": [
    "plt.plot(t, p)"
   ]
  },
  {
   "cell_type": "code",
   "execution_count": null,
   "metadata": {
    "collapsed": true
   },
   "outputs": [],
   "source": [
    "queue = [(0, 0)]\n",
    "count = 0\n",
    "while count < 1000:\n",
    "    count += 1\n",
    "    "
   ]
  },
  {
   "cell_type": "code",
   "execution_count": 89,
   "metadata": {
    "collapsed": true
   },
   "outputs": [],
   "source": [
    "def P(w, t):\n",
    "    return G(w, t) * (2*w - t + 1)"
   ]
  },
  {
   "cell_type": "code",
   "execution_count": 109,
   "metadata": {
    "collapsed": false
   },
   "outputs": [
    {
     "data": {
      "image/png": "[encoded data removed]",
      "text/plain": [
       "<matplotlib.figure.Figure at 0x109a9b450>"
      ]
     },
     "metadata": {},
     "output_type": "display_data"
    }
   ],
   "source": [
    "for j in [10, 20, 30, 40, 50, 60, 70, 80, 90, 100]:\n",
    "    plt.plot([P(x, j) for x in range(j)])\n"
   ]
  },
  {
   "cell_type": "code",
   "execution_count": 181,
   "metadata": {
    "collapsed": false
   },
   "outputs": [],
   "source": [
    "A = 10\n",
    "B = 10\n",
    "ps = np.zeros((A, B))\n",
    "for i in range(A):\n",
    "    for j in range(B):\n",
    "        ps[i, j] = P(i, j)"
   ]
  },
  {
   "cell_type": "code",
   "execution_count": 175,
   "metadata": {
    "collapsed": false
   },
   "outputs": [
    {
     "data": {
      "text/plain": [
       "array([ 1.        ,  0.5       ,  0.5       ,  0.375     ,  0.375     ,\n",
       "        0.3125    ,  0.3125    ,  0.2734375 ,  0.2734375 ,  0.24609375])"
      ]
     },
     "execution_count": 175,
     "metadata": {},
     "output_type": "execute_result"
    }
   ],
   "source": [
    "ps.sum(axis=0)"
   ]
  },
  {
   "cell_type": "code",
   "execution_count": 179,
   "metadata": {
    "collapsed": false
   },
   "outputs": [
    {
     "data": {
      "text/plain": [
       "[<matplotlib.lines.Line2D at 0x139ceca90>]"
      ]
     },
     "execution_count": 179,
     "metadata": {},
     "output_type": "execute_result"
    },
    {
     "data": {
      "image/png": "[encoded data removed]",
      "text/plain": [
       "<matplotlib.figure.Figure at 0x139cecb50>"
      ]
     },
     "metadata": {},
     "output_type": "display_data"
    }
   ],
   "source": [
    "plt.plot(ms)\n",
    "plt.plot(var)"
   ]
  },
  {
   "cell_type": "code",
   "execution_count": 173,
   "metadata": {
    "collapsed": false
   },
   "outputs": [
    {
     "data": {
      "text/plain": [
       "[<matplotlib.lines.Line2D at 0x1354bde10>]"
      ]
     },
     "execution_count": 173,
     "metadata": {},
     "output_type": "execute_result"
    },
    {
     "data": {
      "image/png": "[encoded data removed]",
      "text/plain": [
       "<matplotlib.figure.Figure at 0x1355ce9d0>"
      ]
     },
     "metadata": {},
     "output_type": "display_data"
    }
   ],
   "source": [
    "plt.plot(np.log(ms[1:] - ms[:-1] - (ms[1:] - ms[:-1])[-1] + .005))"
   ]
  },
  {
   "cell_type": "code",
   "execution_count": 164,
   "metadata": {
    "collapsed": false
   },
   "outputs": [
    {
     "data": {
      "text/plain": [
       "[<matplotlib.lines.Line2D at 0x129c29090>]"
      ]
     },
     "execution_count": 164,
     "metadata": {},
     "output_type": "execute_result"
    },
    {
     "data": {
      "image/png": "[encoded data removed]",
      "text/plain": [
       "<matplotlib.figure.Figure at 0x1188b4890>"
      ]
     },
     "metadata": {},
     "output_type": "display_data"
    }
   ],
   "source": [
    "ms = (ps.transpose() * np.arange(A)).sum(axis=1)\n",
    "msq = (ps.transpose() * np.arange(A)**2).sum(axis=1)\n",
    "var = msq - ms**2\n",
    "# plt.plot(ms)\n",
    "plt.plot(var[1:] - var[:-1])\n",
    "# plt.plot(ms / var)"
   ]
  },
  {
   "cell_type": "code",
   "execution_count": 182,
   "metadata": {
    "collapsed": false
   },
   "outputs": [
    {
     "data": {
      "text/plain": [
       "<matplotlib.axes.AxesSubplot at 0x139d4c310>"
      ]
     },
     "execution_count": 182,
     "metadata": {},
     "output_type": "execute_result"
    },
    {
     "data": {
      "image/png": "[encoded data removed]",
      "text/plain": [
       "<matplotlib.figure.Figure at 0x139e47890>"
      ]
     },
     "metadata": {},
     "output_type": "display_data"
    }
   ],
   "source": [
    "plt.figure(figsize=(10, 10))\n",
    "sns.heatmap(ps.transpose(), annot=True, cbar=False)"
   ]
  },
  {
   "cell_type": "code",
   "execution_count": null,
   "metadata": {
    "collapsed": true
   },
   "outputs": [],
   "source": []
  }
 ],
 "metadata": {
  "kernelspec": {
   "display_name": "Python 2",
   "language": "python",
   "name": "python2"
  },
  "language_info": {
   "codemirror_mode": {
    "name": "ipython",
    "version": 2
   },
   "file_extension": ".py",
   "mimetype": "text/x-python",
   "name": "python",
   "nbconvert_exporter": "python",
   "pygments_lexer": "ipython2",
   "version": "2.7.10"
  }
 },
 "nbformat": 4,
 "nbformat_minor": 1
}
